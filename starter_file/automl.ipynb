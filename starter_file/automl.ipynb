{
  "cells": [
    {
      "cell_type": "markdown",
      "source": [
        "# Automated ML\n",
        "\n",
        "TODO: Import Dependencies. In the cell below, import all the dependencies that you will need to complete the project."
      ],
      "metadata": {}
    },
    {
      "cell_type": "code",
      "source": [
        "from azureml.core import Workspace, Experiment\n",
        "from azureml.core.compute import ComputeTarget, AmlCompute\n",
        "from azureml.core.compute_target import ComputeTargetException\n",
        "from azureml.widgets import RunDetails\n",
        "from azureml.train.hyperdrive.run import PrimaryMetricGoal\n",
        "import os\n",
        "import joblib\n",
        "from azureml.core.dataset import Dataset\n",
        "from azureml.train.automl import AutoMLConfig\n",
        "from azureml.core.model import Model\n",
        "from azureml.core.webservice import AciWebservice\n",
        "from azureml.core.environment import Environment\n",
        "from azureml.core.model import InferenceConfig\n",
        "import requests\n",
        "import json\n",
        "import sklearn\n",
        "from azureml.automl.runtime.onnx_convert import OnnxConverter\n",
        "import pandas as pd\n",
        "from pandas import DataFrame"
      ],
      "outputs": [],
      "execution_count": 1,
      "metadata": {
        "gather": {
          "logged": 1610461127214
        },
        "jupyter": {
          "outputs_hidden": false,
          "source_hidden": false
        },
        "nteract": {
          "transient": {
            "deleting": false
          }
        }
      }
    },
    {
      "cell_type": "markdown",
      "source": [
        "## Dataset\n",
        "\n",
        "### Overview\n",
        "TODO: In this markdown cell, give an overview of the dataset you are using. Also mention the task you will be performing.\n",
        "\n",
        "\n",
        "TODO: Get data. In the cell below, write code to access the data you will be using in this project. Remember that the dataset needs to be external."
      ],
      "metadata": {}
    },
    {
      "cell_type": "code",
      "source": [
        "ws = Workspace.from_config()\n",
        "\n",
        "# choose a name for experiment\n",
        "experiment_name = 'Heart-Disease-Predection'\n",
        "\n",
        "experiment=Experiment(ws, experiment_name)"
      ],
      "outputs": [],
      "execution_count": 2,
      "metadata": {
        "gather": {
          "logged": 1610461137183
        },
        "jupyter": {
          "outputs_hidden": false,
          "source_hidden": false
        },
        "nteract": {
          "transient": {
            "deleting": false
          }
        }
      }
    },
    {
      "cell_type": "code",
      "source": [
        "#Creating Compute\n",
        "from azureml.core.compute import ComputeTarget, AmlCompute\n",
        "from azureml.core.compute_target import ComputeTargetException\n",
        "#Create compute cluster\n",
        "\n",
        "\n",
        "# choose a name for your cluster\n",
        "cluster_name= \"cpu-cluster\"\n",
        "\n",
        "try:\n",
        "    compute_target = ComputeTarget(workspace=ws , name=cluster_name)\n",
        "    print('Found existing compute target')\n",
        "except ComputeTargetException:\n",
        "    print('Creating a new compute target ...')\n",
        "    compute_config = AmlCompute.provisioning_configuration(vm_size='Standard_D2_V2' , max_nodes=4)\n",
        "    #create the cluster\n",
        "    cpu_cluster=ComputeTarget.create(ws,cluster_name,compute_config)\n",
        "    print('cpu-cluster has been created')\n"
      ],
      "outputs": [
        {
          "output_type": "stream",
          "name": "stdout",
          "text": [
            "Found existing compute target\n"
          ]
        }
      ],
      "execution_count": 3,
      "metadata": {
        "gather": {
          "logged": 1610461141487
        }
      }
    },
    {
      "cell_type": "code",
      "source": [
        "#Try to load the dataset from the Workspace. Otherwise, create it from the file\r\n",
        "# NOTE: update the key to match the dataset name\r\n",
        "found = False\r\n",
        "key = \"Heart Failure Dataset\"\r\n",
        "\r\n",
        "if key in ws.datasets.keys(): \r\n",
        "        found = True\r\n",
        "        dataset = ws.datasets[key] \r\n",
        "        print(\"Found\")\r\n",
        "\r\n",
        "if not found:\r\n",
        "        # Create AML Dataset and register it into Workspace\r\n",
        "        example_data = 'https://raw.githubusercontent.com/BMUHAMMDI/nd00333-capstone/master/starter_file/heart_failure_clinical_records_dataset.csv'\r\n",
        "        dataset = Dataset.Tabular.from_delimited_files(example_data)        \r\n",
        "        #Register Dataset in Workspace\r\n",
        "        dataset = dataset.register(workspace=ws,\r\n",
        "                                   name=key,\r\n",
        "                                   description=description_text)\r\n",
        "\r\n",
        "\r\n",
        "df = dataset.to_pandas_dataframe()\r\n",
        "df.describe()"
      ],
      "outputs": [
        {
          "output_type": "stream",
          "name": "stdout",
          "text": [
            "Found\n"
          ]
        },
        {
          "output_type": "execute_result",
          "execution_count": 4,
          "data": {
            "text/plain": "         age  anaemia  creatinine_phosphokinase  diabetes  ejection_fraction  \\\ncount 299.00   299.00                    299.00    299.00             299.00   \nmean   60.83     0.43                    581.84      0.42              38.08   \nstd    11.89     0.50                    970.29      0.49              11.83   \nmin    40.00     0.00                     23.00      0.00              14.00   \n25%    51.00     0.00                    116.50      0.00              30.00   \n50%    60.00     0.00                    250.00      0.00              38.00   \n75%    70.00     1.00                    582.00      1.00              45.00   \nmax    95.00     1.00                   7861.00      1.00              80.00   \n\n       high_blood_pressure  platelets  serum_creatinine  serum_sodium    sex  \\\ncount               299.00     299.00            299.00        299.00 299.00   \nmean                  0.35  263358.03              1.39        136.63   0.65   \nstd                   0.48   97804.24              1.03          4.41   0.48   \nmin                   0.00   25100.00              0.50        113.00   0.00   \n25%                   0.00  212500.00              0.90        134.00   0.00   \n50%                   0.00  262000.00              1.10        137.00   1.00   \n75%                   1.00  303500.00              1.40        140.00   1.00   \nmax                   1.00  850000.00              9.40        148.00   1.00   \n\n       smoking   time  DEATH_EVENT  \ncount   299.00 299.00       299.00  \nmean      0.32 130.26         0.32  \nstd       0.47  77.61         0.47  \nmin       0.00   4.00         0.00  \n25%       0.00  73.00         0.00  \n50%       0.00 115.00         0.00  \n75%       1.00 203.00         1.00  \nmax       1.00 285.00         1.00  ",
            "text/html": "<div>\n<style scoped>\n    .dataframe tbody tr th:only-of-type {\n        vertical-align: middle;\n    }\n\n    .dataframe tbody tr th {\n        vertical-align: top;\n    }\n\n    .dataframe thead th {\n        text-align: right;\n    }\n</style>\n<table border=\"1\" class=\"dataframe\">\n  <thead>\n    <tr style=\"text-align: right;\">\n      <th></th>\n      <th>age</th>\n      <th>anaemia</th>\n      <th>creatinine_phosphokinase</th>\n      <th>diabetes</th>\n      <th>ejection_fraction</th>\n      <th>high_blood_pressure</th>\n      <th>platelets</th>\n      <th>serum_creatinine</th>\n      <th>serum_sodium</th>\n      <th>sex</th>\n      <th>smoking</th>\n      <th>time</th>\n      <th>DEATH_EVENT</th>\n    </tr>\n  </thead>\n  <tbody>\n    <tr>\n      <th>count</th>\n      <td>299.00</td>\n      <td>299.00</td>\n      <td>299.00</td>\n      <td>299.00</td>\n      <td>299.00</td>\n      <td>299.00</td>\n      <td>299.00</td>\n      <td>299.00</td>\n      <td>299.00</td>\n      <td>299.00</td>\n      <td>299.00</td>\n      <td>299.00</td>\n      <td>299.00</td>\n    </tr>\n    <tr>\n      <th>mean</th>\n      <td>60.83</td>\n      <td>0.43</td>\n      <td>581.84</td>\n      <td>0.42</td>\n      <td>38.08</td>\n      <td>0.35</td>\n      <td>263358.03</td>\n      <td>1.39</td>\n      <td>136.63</td>\n      <td>0.65</td>\n      <td>0.32</td>\n      <td>130.26</td>\n      <td>0.32</td>\n    </tr>\n    <tr>\n      <th>std</th>\n      <td>11.89</td>\n      <td>0.50</td>\n      <td>970.29</td>\n      <td>0.49</td>\n      <td>11.83</td>\n      <td>0.48</td>\n      <td>97804.24</td>\n      <td>1.03</td>\n      <td>4.41</td>\n      <td>0.48</td>\n      <td>0.47</td>\n      <td>77.61</td>\n      <td>0.47</td>\n    </tr>\n    <tr>\n      <th>min</th>\n      <td>40.00</td>\n      <td>0.00</td>\n      <td>23.00</td>\n      <td>0.00</td>\n      <td>14.00</td>\n      <td>0.00</td>\n      <td>25100.00</td>\n      <td>0.50</td>\n      <td>113.00</td>\n      <td>0.00</td>\n      <td>0.00</td>\n      <td>4.00</td>\n      <td>0.00</td>\n    </tr>\n    <tr>\n      <th>25%</th>\n      <td>51.00</td>\n      <td>0.00</td>\n      <td>116.50</td>\n      <td>0.00</td>\n      <td>30.00</td>\n      <td>0.00</td>\n      <td>212500.00</td>\n      <td>0.90</td>\n      <td>134.00</td>\n      <td>0.00</td>\n      <td>0.00</td>\n      <td>73.00</td>\n      <td>0.00</td>\n    </tr>\n    <tr>\n      <th>50%</th>\n      <td>60.00</td>\n      <td>0.00</td>\n      <td>250.00</td>\n      <td>0.00</td>\n      <td>38.00</td>\n      <td>0.00</td>\n      <td>262000.00</td>\n      <td>1.10</td>\n      <td>137.00</td>\n      <td>1.00</td>\n      <td>0.00</td>\n      <td>115.00</td>\n      <td>0.00</td>\n    </tr>\n    <tr>\n      <th>75%</th>\n      <td>70.00</td>\n      <td>1.00</td>\n      <td>582.00</td>\n      <td>1.00</td>\n      <td>45.00</td>\n      <td>1.00</td>\n      <td>303500.00</td>\n      <td>1.40</td>\n      <td>140.00</td>\n      <td>1.00</td>\n      <td>1.00</td>\n      <td>203.00</td>\n      <td>1.00</td>\n    </tr>\n    <tr>\n      <th>max</th>\n      <td>95.00</td>\n      <td>1.00</td>\n      <td>7861.00</td>\n      <td>1.00</td>\n      <td>80.00</td>\n      <td>1.00</td>\n      <td>850000.00</td>\n      <td>9.40</td>\n      <td>148.00</td>\n      <td>1.00</td>\n      <td>1.00</td>\n      <td>285.00</td>\n      <td>1.00</td>\n    </tr>\n  </tbody>\n</table>\n</div>"
          },
          "metadata": {}
        }
      ],
      "execution_count": 4,
      "metadata": {
        "collapsed": true,
        "jupyter": {
          "source_hidden": false,
          "outputs_hidden": false
        },
        "nteract": {
          "transient": {
            "deleting": false
          }
        },
        "gather": {
          "logged": 1610461152530
        }
      }
    },
    {
      "cell_type": "code",
      "source": [
        "from sklearn.model_selection import train_test_split\r\n",
        "\r\n",
        "training_data, test_data = train_test_split(df, test_size=0.20,train_size=0.80)"
      ],
      "outputs": [],
      "execution_count": 5,
      "metadata": {
        "gather": {
          "logged": 1610461163705
        }
      }
    },
    {
      "cell_type": "markdown",
      "source": [
        "## AutoML Configuration\n",
        "\n",
        "TODO: Explain why you chose the automl settings and cofiguration you used below."
      ],
      "metadata": {}
    },
    {
      "cell_type": "code",
      "source": [
        "from azureml.data.dataset_factory import TabularDatasetFactory\r\n",
        "if not os.path.isdir(\"data\"):\r\n",
        "    os.mkdir(\"data\")\r\n",
        "\r\n",
        "pd.DataFrame(training_data).to_csv(\"data/train_data.csv\")\r\n",
        "ds=ws.get_default_datastore()\r\n",
        "ds.upload(src_dir='./data', target_path='HeartDataset', overwrite=True,show_progress=True)\r\n",
        "train_data=TabularDatasetFactory.from_delimited_files(path=ds.path('HeartDataset/train_data.csv'))"
      ],
      "outputs": [
        {
          "output_type": "stream",
          "name": "stdout",
          "text": [
            "Uploading an estimated of 1 files\n",
            "Uploading ./data/train_data.csv\n",
            "Uploaded ./data/train_data.csv, 1 files out of an estimated total of 1\n",
            "Uploaded 1 files\n"
          ]
        }
      ],
      "execution_count": 7,
      "metadata": {
        "collapsed": true,
        "jupyter": {
          "source_hidden": false,
          "outputs_hidden": false
        },
        "nteract": {
          "transient": {
            "deleting": false
          }
        },
        "gather": {
          "logged": 1610461296733
        }
      }
    },
    {
      "cell_type": "code",
      "source": [
        "# TODO: Put your automl settings here\n",
        "automl_settings = {\"experiment_timeout_minutes\": 25,\n",
        "                    \"max_concurrent_iterations\": 4,\n",
        "                    \"n_cross_validations\": 5,\n",
        "                     \"training_data\" :train_data,\n",
        "                    \"primary_metric\": 'accuracy',\n",
        "                    \"iterations\": 10,\n",
        "                        \n",
        "}\n",
        "\n",
        "# TODO: Put your automl config here\n",
        "automl_config = AutoMLConfig(  \n",
        "    task='classification',\n",
        "    compute_target='cpu-cluster',\n",
        "    label_column_name ='DEATH_EVENT',\n",
        "    enable_onnx_compatible_models=True,\n",
        "    **automl_settings\n",
        ")"
      ],
      "outputs": [],
      "execution_count": 8,
      "metadata": {
        "gather": {
          "logged": 1610461308738
        },
        "jupyter": {
          "outputs_hidden": false,
          "source_hidden": false
        },
        "nteract": {
          "transient": {
            "deleting": false
          }
        }
      }
    },
    {
      "cell_type": "code",
      "source": [
        "# TODO: Submit your experiment\n",
        "remote_run = experiment.submit(config=automl_config, show_output=True)"
      ],
      "outputs": [
        {
          "output_type": "stream",
          "name": "stdout",
          "text": [
            "Running on remote.\n",
            "No run_configuration provided, running on cpu-cluster with default configuration\n",
            "Running on remote compute: cpu-cluster\n",
            "Parent Run ID: AutoML_f58a8166-7ca0-40fd-9abb-738d30eebcdc\n",
            "\n",
            "Current status: FeaturesGeneration. Generating features for the dataset.\n",
            "Current status: DatasetCrossValidationSplit. Generating individually featurized CV splits.\n",
            "Current status: ModelSelection. Beginning model selection.\n",
            "\n",
            "****************************************************************************************************\n",
            "DATA GUARDRAILS: \n",
            "\n",
            "TYPE:         Class balancing detection\n",
            "STATUS:       PASSED\n",
            "DESCRIPTION:  Your inputs were analyzed, and all classes are balanced in your training data.\n",
            "              Learn more about imbalanced data: https://aka.ms/AutomatedMLImbalancedData\n",
            "\n",
            "****************************************************************************************************\n",
            "\n",
            "TYPE:         High cardinality feature detection\n",
            "STATUS:       PASSED\n",
            "DESCRIPTION:  Your inputs were analyzed, and no high cardinality features were detected.\n",
            "              Learn more about high cardinality feature handling: https://aka.ms/AutomatedMLFeaturization\n",
            "\n",
            "****************************************************************************************************\n",
            "\n",
            "****************************************************************************************************\n",
            "ITERATION: The iteration being evaluated.\n",
            "PIPELINE: A summary description of the pipeline being evaluated.\n",
            "DURATION: Time taken for the current iteration.\n",
            "METRIC: The result of computing score on the fitted pipeline.\n",
            "BEST: The best observed score thus far.\n",
            "****************************************************************************************************\n",
            "\n",
            " ITERATION   PIPELINE                                       DURATION      METRIC      BEST\n",
            "         0   MaxAbsScaler LightGBM                          0:00:51       0.8119    0.8119\n",
            "         3   MinMaxScaler RandomForest                      0:00:50       0.8455    0.8455\n",
            "         4   MinMaxScaler RandomForest                      0:00:47       0.8580    0.8580\n",
            "         1   MaxAbsScaler XGBoostClassifier                 0:01:10       0.8412    0.8580\n",
            "         2   MinMaxScaler RandomForest                      0:00:54       0.8455    0.8580\n",
            "         5   StandardScalerWrapper LightGBM                 0:00:46       0.8496    0.8580\n",
            "         6   MinMaxScaler SVM                               0:00:46       0.7284    0.8580\n",
            "         7   SparseNormalizer XGBoostClassifier             0:00:43       0.8368    0.8580\n",
            "         8   SparseNormalizer XGBoostClassifier             0:00:50       0.8243    0.8580\n",
            "         9    VotingEnsemble                                0:01:01       0.8747    0.8747\n"
          ]
        }
      ],
      "execution_count": 9,
      "metadata": {
        "gather": {
          "logged": 1610462011174
        },
        "jupyter": {
          "outputs_hidden": false,
          "source_hidden": false
        },
        "nteract": {
          "transient": {
            "deleting": false
          }
        }
      }
    },
    {
      "cell_type": "markdown",
      "source": [
        "## Run Details\n",
        "\n",
        "OPTIONAL: Write about the different models trained and their performance. Why do you think some models did better than others?\n",
        "\n",
        "TODO: In the cell below, use the `RunDetails` widget to show the different experiments."
      ],
      "metadata": {}
    },
    {
      "cell_type": "code",
      "source": [
        "RunDetails(remote_run).show()"
      ],
      "outputs": [
        {
          "output_type": "display_data",
          "data": {
            "text/plain": "_AutoMLWidget(widget_settings={'childWidgetDisplay': 'popup', 'send_telemetry': False, 'log_level': 'INFO', 's…",
            "application/vnd.jupyter.widget-view+json": {
              "version_major": 2,
              "version_minor": 0,
              "model_id": "da7dc860cbcb497b91cd25b9345a7345"
            }
          },
          "metadata": {}
        },
        {
          "output_type": "display_data",
          "data": {
            "application/aml.mini.widget.v1": "{\"status\": \"Completed\", \"workbench_run_details_uri\": \"https://ml.azure.com/experiments/Heart-Disease-Predection/runs/AutoML_f58a8166-7ca0-40fd-9abb-738d30eebcdc?wsid=/subscriptions/aa7cf8e8-d23f-4bce-a7b9-1f0b4e0ac8ee/resourcegroups/aml-quickstarts-134451/workspaces/quick-starts-ws-134451\", \"run_id\": \"AutoML_f58a8166-7ca0-40fd-9abb-738d30eebcdc\", \"run_properties\": {\"run_id\": \"AutoML_f58a8166-7ca0-40fd-9abb-738d30eebcdc\", \"created_utc\": \"2021-01-12T14:22:01.011422Z\", \"properties\": {\"num_iterations\": \"10\", \"training_type\": \"TrainFull\", \"acquisition_function\": \"EI\", \"primary_metric\": \"accuracy\", \"train_split\": \"0\", \"acquisition_parameter\": \"0\", \"num_cross_validation\": \"5\", \"target\": \"cpu-cluster\", \"AMLSettingsJsonString\": \"{\\\"path\\\":null,\\\"name\\\":\\\"Heart-Disease-Predection\\\",\\\"subscription_id\\\":\\\"aa7cf8e8-d23f-4bce-a7b9-1f0b4e0ac8ee\\\",\\\"resource_group\\\":\\\"aml-quickstarts-134451\\\",\\\"workspace_name\\\":\\\"quick-starts-ws-134451\\\",\\\"region\\\":\\\"southcentralus\\\",\\\"compute_target\\\":\\\"cpu-cluster\\\",\\\"spark_service\\\":null,\\\"azure_service\\\":\\\"remote\\\",\\\"many_models\\\":false,\\\"pipeline_fetch_max_batch_size\\\":1,\\\"iterations\\\":10,\\\"primary_metric\\\":\\\"accuracy\\\",\\\"task_type\\\":\\\"classification\\\",\\\"data_script\\\":null,\\\"validation_size\\\":0.0,\\\"n_cross_validations\\\":5,\\\"y_min\\\":null,\\\"y_max\\\":null,\\\"num_classes\\\":null,\\\"featurization\\\":\\\"auto\\\",\\\"_ignore_package_version_incompatibilities\\\":false,\\\"is_timeseries\\\":false,\\\"max_cores_per_iteration\\\":1,\\\"max_concurrent_iterations\\\":4,\\\"iteration_timeout_minutes\\\":null,\\\"mem_in_mb\\\":null,\\\"enforce_time_on_windows\\\":false,\\\"experiment_timeout_minutes\\\":25,\\\"experiment_exit_score\\\":null,\\\"whitelist_models\\\":null,\\\"blacklist_algos\\\":[\\\"TensorFlowLinearClassifier\\\",\\\"TensorFlowDNN\\\"],\\\"supported_models\\\":[\\\"ExtremeRandomTrees\\\",\\\"XGBoostClassifier\\\",\\\"SVM\\\",\\\"RandomForest\\\",\\\"LightGBM\\\",\\\"SGD\\\",\\\"KNN\\\",\\\"GradientBoosting\\\",\\\"TensorFlowDNN\\\",\\\"AveragedPerceptronClassifier\\\",\\\"TensorFlowLinearClassifier\\\",\\\"MultinomialNaiveBayes\\\",\\\"LogisticRegression\\\",\\\"BernoulliNaiveBayes\\\",\\\"DecisionTree\\\",\\\"LinearSVM\\\"],\\\"auto_blacklist\\\":true,\\\"blacklist_samples_reached\\\":false,\\\"exclude_nan_labels\\\":true,\\\"verbosity\\\":20,\\\"_debug_log\\\":\\\"azureml_automl.log\\\",\\\"show_warnings\\\":false,\\\"model_explainability\\\":true,\\\"service_url\\\":null,\\\"sdk_url\\\":null,\\\"sdk_packages\\\":null,\\\"enable_onnx_compatible_models\\\":true,\\\"enable_split_onnx_featurizer_estimator_models\\\":false,\\\"vm_type\\\":\\\"STANDARD_D2_V2\\\",\\\"telemetry_verbosity\\\":20,\\\"send_telemetry\\\":true,\\\"enable_dnn\\\":false,\\\"scenario\\\":\\\"SDK-1.13.0\\\",\\\"environment_label\\\":null,\\\"force_text_dnn\\\":false,\\\"enable_feature_sweeping\\\":false,\\\"enable_early_stopping\\\":false,\\\"early_stopping_n_iters\\\":10,\\\"metrics\\\":null,\\\"enable_ensembling\\\":true,\\\"enable_stack_ensembling\\\":false,\\\"ensemble_iterations\\\":10,\\\"enable_tf\\\":false,\\\"enable_subsampling\\\":false,\\\"subsample_seed\\\":null,\\\"enable_nimbusml\\\":false,\\\"enable_streaming\\\":false,\\\"force_streaming\\\":false,\\\"track_child_runs\\\":true,\\\"allowed_private_models\\\":[],\\\"label_column_name\\\":\\\"DEATH_EVENT\\\",\\\"weight_column_name\\\":null,\\\"cv_split_column_names\\\":null,\\\"enable_local_managed\\\":false,\\\"_local_managed_run_id\\\":null,\\\"cost_mode\\\":1,\\\"lag_length\\\":0,\\\"metric_operation\\\":\\\"maximize\\\",\\\"preprocess\\\":true}\", \"DataPrepJsonString\": \"{\\\\\\\"training_data\\\\\\\": \\\\\\\"{\\\\\\\\\\\\\\\"blocks\\\\\\\\\\\\\\\": [{\\\\\\\\\\\\\\\"id\\\\\\\\\\\\\\\": \\\\\\\\\\\\\\\"31c8a24b-8690-42c0-8837-292b265f603b\\\\\\\\\\\\\\\", \\\\\\\\\\\\\\\"type\\\\\\\\\\\\\\\": \\\\\\\\\\\\\\\"Microsoft.DPrep.GetDatastoreFilesBlock\\\\\\\\\\\\\\\", \\\\\\\\\\\\\\\"arguments\\\\\\\\\\\\\\\": {\\\\\\\\\\\\\\\"datastores\\\\\\\\\\\\\\\": [{\\\\\\\\\\\\\\\"datastoreName\\\\\\\\\\\\\\\": \\\\\\\\\\\\\\\"workspaceblobstore\\\\\\\\\\\\\\\", \\\\\\\\\\\\\\\"path\\\\\\\\\\\\\\\": \\\\\\\\\\\\\\\"HeartDataset/train_data.csv\\\\\\\\\\\\\\\", \\\\\\\\\\\\\\\"resourceGroup\\\\\\\\\\\\\\\": \\\\\\\\\\\\\\\"aml-quickstarts-134451\\\\\\\\\\\\\\\", \\\\\\\\\\\\\\\"subscription\\\\\\\\\\\\\\\": \\\\\\\\\\\\\\\"aa7cf8e8-d23f-4bce-a7b9-1f0b4e0ac8ee\\\\\\\\\\\\\\\", \\\\\\\\\\\\\\\"workspaceName\\\\\\\\\\\\\\\": \\\\\\\\\\\\\\\"quick-starts-ws-134451\\\\\\\\\\\\\\\"}]}, \\\\\\\\\\\\\\\"localData\\\\\\\\\\\\\\\": {}, \\\\\\\\\\\\\\\"isEnabled\\\\\\\\\\\\\\\": true, \\\\\\\\\\\\\\\"name\\\\\\\\\\\\\\\": null, \\\\\\\\\\\\\\\"annotation\\\\\\\\\\\\\\\": null}, {\\\\\\\\\\\\\\\"id\\\\\\\\\\\\\\\": \\\\\\\\\\\\\\\"0db5ee39-44e0-4ad3-8d04-72174a3767fb\\\\\\\\\\\\\\\", \\\\\\\\\\\\\\\"type\\\\\\\\\\\\\\\": \\\\\\\\\\\\\\\"Microsoft.DPrep.ParseDelimitedBlock\\\\\\\\\\\\\\\", \\\\\\\\\\\\\\\"arguments\\\\\\\\\\\\\\\": {\\\\\\\\\\\\\\\"columnHeadersMode\\\\\\\\\\\\\\\": 3, \\\\\\\\\\\\\\\"fileEncoding\\\\\\\\\\\\\\\": 0, \\\\\\\\\\\\\\\"handleQuotedLineBreaks\\\\\\\\\\\\\\\": false, \\\\\\\\\\\\\\\"preview\\\\\\\\\\\\\\\": false, \\\\\\\\\\\\\\\"separator\\\\\\\\\\\\\\\": \\\\\\\\\\\\\\\",\\\\\\\\\\\\\\\", \\\\\\\\\\\\\\\"skipRows\\\\\\\\\\\\\\\": 0, \\\\\\\\\\\\\\\"skipRowsMode\\\\\\\\\\\\\\\": 0}, \\\\\\\\\\\\\\\"localData\\\\\\\\\\\\\\\": {}, \\\\\\\\\\\\\\\"isEnabled\\\\\\\\\\\\\\\": true, \\\\\\\\\\\\\\\"name\\\\\\\\\\\\\\\": null, \\\\\\\\\\\\\\\"annotation\\\\\\\\\\\\\\\": null}, {\\\\\\\\\\\\\\\"id\\\\\\\\\\\\\\\": \\\\\\\\\\\\\\\"bd5e27f5-6e25-465c-87bf-73cdd92a3061\\\\\\\\\\\\\\\", \\\\\\\\\\\\\\\"type\\\\\\\\\\\\\\\": \\\\\\\\\\\\\\\"Microsoft.DPrep.DropColumnsBlock\\\\\\\\\\\\\\\", \\\\\\\\\\\\\\\"arguments\\\\\\\\\\\\\\\": {\\\\\\\\\\\\\\\"columns\\\\\\\\\\\\\\\": {\\\\\\\\\\\\\\\"type\\\\\\\\\\\\\\\": 0, \\\\\\\\\\\\\\\"details\\\\\\\\\\\\\\\": {\\\\\\\\\\\\\\\"selectedColumns\\\\\\\\\\\\\\\": [\\\\\\\\\\\\\\\"Path\\\\\\\\\\\\\\\"]}}}, \\\\\\\\\\\\\\\"localData\\\\\\\\\\\\\\\": {}, \\\\\\\\\\\\\\\"isEnabled\\\\\\\\\\\\\\\": true, \\\\\\\\\\\\\\\"name\\\\\\\\\\\\\\\": null, \\\\\\\\\\\\\\\"annotation\\\\\\\\\\\\\\\": null}, {\\\\\\\\\\\\\\\"id\\\\\\\\\\\\\\\": \\\\\\\\\\\\\\\"79a23317-f64b-4b01-a738-e33f799a2ac3\\\\\\\\\\\\\\\", \\\\\\\\\\\\\\\"type\\\\\\\\\\\\\\\": \\\\\\\\\\\\\\\"Microsoft.DPrep.SetColumnTypesBlock\\\\\\\\\\\\\\\", \\\\\\\\\\\\\\\"arguments\\\\\\\\\\\\\\\": {\\\\\\\\\\\\\\\"columnConversion\\\\\\\\\\\\\\\": [{\\\\\\\\\\\\\\\"column\\\\\\\\\\\\\\\": {\\\\\\\\\\\\\\\"type\\\\\\\\\\\\\\\": 2, \\\\\\\\\\\\\\\"details\\\\\\\\\\\\\\\": {\\\\\\\\\\\\\\\"selectedColumn\\\\\\\\\\\\\\\": \\\\\\\\\\\\\\\"Column1\\\\\\\\\\\\\\\"}}, \\\\\\\\\\\\\\\"typeProperty\\\\\\\\\\\\\\\": 2}, {\\\\\\\\\\\\\\\"column\\\\\\\\\\\\\\\": {\\\\\\\\\\\\\\\"type\\\\\\\\\\\\\\\": 2, \\\\\\\\\\\\\\\"details\\\\\\\\\\\\\\\": {\\\\\\\\\\\\\\\"selectedColumn\\\\\\\\\\\\\\\": \\\\\\\\\\\\\\\"age\\\\\\\\\\\\\\\"}}, \\\\\\\\\\\\\\\"typeProperty\\\\\\\\\\\\\\\": 3}, {\\\\\\\\\\\\\\\"column\\\\\\\\\\\\\\\": {\\\\\\\\\\\\\\\"type\\\\\\\\\\\\\\\": 2, \\\\\\\\\\\\\\\"details\\\\\\\\\\\\\\\": {\\\\\\\\\\\\\\\"selectedColumn\\\\\\\\\\\\\\\": \\\\\\\\\\\\\\\"anaemia\\\\\\\\\\\\\\\"}}, \\\\\\\\\\\\\\\"typeProperty\\\\\\\\\\\\\\\": 2}, {\\\\\\\\\\\\\\\"column\\\\\\\\\\\\\\\": {\\\\\\\\\\\\\\\"type\\\\\\\\\\\\\\\": 2, \\\\\\\\\\\\\\\"details\\\\\\\\\\\\\\\": {\\\\\\\\\\\\\\\"selectedColumn\\\\\\\\\\\\\\\": \\\\\\\\\\\\\\\"creatinine_phosphokinase\\\\\\\\\\\\\\\"}}, \\\\\\\\\\\\\\\"typeProperty\\\\\\\\\\\\\\\": 2}, {\\\\\\\\\\\\\\\"column\\\\\\\\\\\\\\\": {\\\\\\\\\\\\\\\"type\\\\\\\\\\\\\\\": 2, \\\\\\\\\\\\\\\"details\\\\\\\\\\\\\\\": {\\\\\\\\\\\\\\\"selectedColumn\\\\\\\\\\\\\\\": \\\\\\\\\\\\\\\"diabetes\\\\\\\\\\\\\\\"}}, \\\\\\\\\\\\\\\"typeProperty\\\\\\\\\\\\\\\": 2}, {\\\\\\\\\\\\\\\"column\\\\\\\\\\\\\\\": {\\\\\\\\\\\\\\\"type\\\\\\\\\\\\\\\": 2, \\\\\\\\\\\\\\\"details\\\\\\\\\\\\\\\": {\\\\\\\\\\\\\\\"selectedColumn\\\\\\\\\\\\\\\": \\\\\\\\\\\\\\\"ejection_fraction\\\\\\\\\\\\\\\"}}, \\\\\\\\\\\\\\\"typeProperty\\\\\\\\\\\\\\\": 2}, {\\\\\\\\\\\\\\\"column\\\\\\\\\\\\\\\": {\\\\\\\\\\\\\\\"type\\\\\\\\\\\\\\\": 2, \\\\\\\\\\\\\\\"details\\\\\\\\\\\\\\\": {\\\\\\\\\\\\\\\"selectedColumn\\\\\\\\\\\\\\\": \\\\\\\\\\\\\\\"high_blood_pressure\\\\\\\\\\\\\\\"}}, \\\\\\\\\\\\\\\"typeProperty\\\\\\\\\\\\\\\": 2}, {\\\\\\\\\\\\\\\"column\\\\\\\\\\\\\\\": {\\\\\\\\\\\\\\\"type\\\\\\\\\\\\\\\": 2, \\\\\\\\\\\\\\\"details\\\\\\\\\\\\\\\": {\\\\\\\\\\\\\\\"selectedColumn\\\\\\\\\\\\\\\": \\\\\\\\\\\\\\\"platelets\\\\\\\\\\\\\\\"}}, \\\\\\\\\\\\\\\"typeProperty\\\\\\\\\\\\\\\": 3}, {\\\\\\\\\\\\\\\"column\\\\\\\\\\\\\\\": {\\\\\\\\\\\\\\\"type\\\\\\\\\\\\\\\": 2, \\\\\\\\\\\\\\\"details\\\\\\\\\\\\\\\": {\\\\\\\\\\\\\\\"selectedColumn\\\\\\\\\\\\\\\": \\\\\\\\\\\\\\\"serum_creatinine\\\\\\\\\\\\\\\"}}, \\\\\\\\\\\\\\\"typeProperty\\\\\\\\\\\\\\\": 3}, {\\\\\\\\\\\\\\\"column\\\\\\\\\\\\\\\": {\\\\\\\\\\\\\\\"type\\\\\\\\\\\\\\\": 2, \\\\\\\\\\\\\\\"details\\\\\\\\\\\\\\\": {\\\\\\\\\\\\\\\"selectedColumn\\\\\\\\\\\\\\\": \\\\\\\\\\\\\\\"serum_sodium\\\\\\\\\\\\\\\"}}, \\\\\\\\\\\\\\\"typeProperty\\\\\\\\\\\\\\\": 2}, {\\\\\\\\\\\\\\\"column\\\\\\\\\\\\\\\": {\\\\\\\\\\\\\\\"type\\\\\\\\\\\\\\\": 2, \\\\\\\\\\\\\\\"details\\\\\\\\\\\\\\\": {\\\\\\\\\\\\\\\"selectedColumn\\\\\\\\\\\\\\\": \\\\\\\\\\\\\\\"sex\\\\\\\\\\\\\\\"}}, \\\\\\\\\\\\\\\"typeProperty\\\\\\\\\\\\\\\": 2}, {\\\\\\\\\\\\\\\"column\\\\\\\\\\\\\\\": {\\\\\\\\\\\\\\\"type\\\\\\\\\\\\\\\": 2, \\\\\\\\\\\\\\\"details\\\\\\\\\\\\\\\": {\\\\\\\\\\\\\\\"selectedColumn\\\\\\\\\\\\\\\": \\\\\\\\\\\\\\\"smoking\\\\\\\\\\\\\\\"}}, \\\\\\\\\\\\\\\"typeProperty\\\\\\\\\\\\\\\": 2}, {\\\\\\\\\\\\\\\"column\\\\\\\\\\\\\\\": {\\\\\\\\\\\\\\\"type\\\\\\\\\\\\\\\": 2, \\\\\\\\\\\\\\\"details\\\\\\\\\\\\\\\": {\\\\\\\\\\\\\\\"selectedColumn\\\\\\\\\\\\\\\": \\\\\\\\\\\\\\\"time\\\\\\\\\\\\\\\"}}, \\\\\\\\\\\\\\\"typeProperty\\\\\\\\\\\\\\\": 2}, {\\\\\\\\\\\\\\\"column\\\\\\\\\\\\\\\": {\\\\\\\\\\\\\\\"type\\\\\\\\\\\\\\\": 2, \\\\\\\\\\\\\\\"details\\\\\\\\\\\\\\\": {\\\\\\\\\\\\\\\"selectedColumn\\\\\\\\\\\\\\\": \\\\\\\\\\\\\\\"DEATH_EVENT\\\\\\\\\\\\\\\"}}, \\\\\\\\\\\\\\\"typeProperty\\\\\\\\\\\\\\\": 2}]}, \\\\\\\\\\\\\\\"localData\\\\\\\\\\\\\\\": {}, \\\\\\\\\\\\\\\"isEnabled\\\\\\\\\\\\\\\": true, \\\\\\\\\\\\\\\"name\\\\\\\\\\\\\\\": null, \\\\\\\\\\\\\\\"annotation\\\\\\\\\\\\\\\": null}], \\\\\\\\\\\\\\\"inspectors\\\\\\\\\\\\\\\": [], \\\\\\\\\\\\\\\"meta\\\\\\\\\\\\\\\": {\\\\\\\\\\\\\\\"savedDatasetId\\\\\\\\\\\\\\\": \\\\\\\\\\\\\\\"556b5bce-c87b-45ac-9b68-910981931d03\\\\\\\\\\\\\\\", \\\\\\\\\\\\\\\"datasetType\\\\\\\\\\\\\\\": \\\\\\\\\\\\\\\"tabular\\\\\\\\\\\\\\\", \\\\\\\\\\\\\\\"subscriptionId\\\\\\\\\\\\\\\": \\\\\\\\\\\\\\\"aa7cf8e8-d23f-4bce-a7b9-1f0b4e0ac8ee\\\\\\\\\\\\\\\", \\\\\\\\\\\\\\\"workspaceId\\\\\\\\\\\\\\\": \\\\\\\\\\\\\\\"c401055c-1b42-4598-93b9-347033974b1c\\\\\\\\\\\\\\\", \\\\\\\\\\\\\\\"workspaceLocation\\\\\\\\\\\\\\\": \\\\\\\\\\\\\\\"southcentralus\\\\\\\\\\\\\\\"}}\\\\\\\", \\\\\\\"activities\\\\\\\": 0}\", \"EnableSubsampling\": \"False\", \"runTemplate\": \"AutoML\", \"azureml.runsource\": \"automl\", \"display_task_type\": \"classification\", \"dependencies_versions\": \"{\\\"azureml-widgets\\\": \\\"1.19.0\\\", \\\"azureml-train\\\": \\\"1.19.0\\\", \\\"azureml-train-restclients-hyperdrive\\\": \\\"1.19.0\\\", \\\"azureml-train-core\\\": \\\"1.19.0\\\", \\\"azureml-train-automl\\\": \\\"1.19.0\\\", \\\"azureml-train-automl-runtime\\\": \\\"1.19.0\\\", \\\"azureml-train-automl-client\\\": \\\"1.19.0\\\", \\\"azureml-tensorboard\\\": \\\"1.19.0\\\", \\\"azureml-telemetry\\\": \\\"1.19.0\\\", \\\"azureml-sdk\\\": \\\"1.19.0\\\", \\\"azureml-samples\\\": \\\"0+unknown\\\", \\\"azureml-pipeline\\\": \\\"1.19.0\\\", \\\"azureml-pipeline-steps\\\": \\\"1.19.0\\\", \\\"azureml-pipeline-core\\\": \\\"1.19.0\\\", \\\"azureml-opendatasets\\\": \\\"1.19.0\\\", \\\"azureml-model-management-sdk\\\": \\\"1.0.1b6.post1\\\", \\\"azureml-mlflow\\\": \\\"1.19.0\\\", \\\"azureml-interpret\\\": \\\"1.19.0\\\", \\\"azureml-explain-model\\\": \\\"1.19.0\\\", \\\"azureml-defaults\\\": \\\"1.19.0\\\", \\\"azureml-dataset-runtime\\\": \\\"1.19.0\\\", \\\"azureml-dataprep\\\": \\\"2.6.1\\\", \\\"azureml-dataprep-rslex\\\": \\\"1.4.0\\\", \\\"azureml-dataprep-native\\\": \\\"26.0.0\\\", \\\"azureml-datadrift\\\": \\\"1.19.0\\\", \\\"azureml-core\\\": \\\"1.19.0\\\", \\\"azureml-contrib-services\\\": \\\"1.19.0\\\", \\\"azureml-contrib-server\\\": \\\"1.19.0\\\", \\\"azureml-contrib-reinforcementlearning\\\": \\\"1.19.0\\\", \\\"azureml-contrib-pipeline-steps\\\": \\\"1.19.0\\\", \\\"azureml-contrib-notebook\\\": \\\"1.19.0\\\", \\\"azureml-contrib-interpret\\\": \\\"1.19.0\\\", \\\"azureml-contrib-gbdt\\\": \\\"1.19.0\\\", \\\"azureml-contrib-fairness\\\": \\\"1.19.0\\\", \\\"azureml-contrib-dataset\\\": \\\"1.19.0\\\", \\\"azureml-cli-common\\\": \\\"1.19.0\\\", \\\"azureml-automl-runtime\\\": \\\"1.19.0\\\", \\\"azureml-automl-core\\\": \\\"1.19.0\\\", \\\"azureml-accel-models\\\": \\\"1.19.0\\\"}\", \"_aml_system_scenario_identification\": \"Remote.Parent\", \"ClientType\": \"SDK\", \"environment_cpu_name\": \"AzureML-AutoML\", \"environment_cpu_label\": \"prod\", \"environment_gpu_name\": \"AzureML-AutoML-GPU\", \"environment_gpu_label\": \"prod\", \"root_attribution\": \"automl\", \"attribution\": \"AutoML\", \"Orchestrator\": \"AutoML\", \"CancelUri\": \"https://southcentralus.experiments.azureml.net/jasmine/v1.0/subscriptions/aa7cf8e8-d23f-4bce-a7b9-1f0b4e0ac8ee/resourceGroups/aml-quickstarts-134451/providers/Microsoft.MachineLearningServices/workspaces/quick-starts-ws-134451/experimentids/bee7587e-6b3f-49fa-8eea-303a66de9f94/cancel/AutoML_f58a8166-7ca0-40fd-9abb-738d30eebcdc\", \"ClientSdkVersion\": \"1.19.0\", \"snapshotId\": \"00000000-0000-0000-0000-000000000000\", \"SetupRunId\": \"AutoML_f58a8166-7ca0-40fd-9abb-738d30eebcdc_setup\", \"SetupRunContainerId\": \"dcid.AutoML_f58a8166-7ca0-40fd-9abb-738d30eebcdc_setup\", \"FeaturizationRunJsonPath\": \"featurizer_container.json\", \"FeaturizationRunId\": \"AutoML_f58a8166-7ca0-40fd-9abb-738d30eebcdc_featurize\", \"ProblemInfoJsonString\": \"{\\\"dataset_num_categorical\\\": 0, \\\"is_sparse\\\": false, \\\"subsampling\\\": false, \\\"dataset_classes\\\": 2, \\\"dataset_features\\\": 13, \\\"dataset_samples\\\": 239, \\\"single_frequency_class_detected\\\": false}\", \"ModelExplainRunId\": \"AutoML_f58a8166-7ca0-40fd-9abb-738d30eebcdc_ModelExplain\"}, \"tags\": {\"model_explain_run\": \"best_run\", \"_aml_system_azureml.automlComponent\": \"AutoML\", \"pipeline_id\": \"\", \"score\": \"\", \"predicted_cost\": \"\", \"fit_time\": \"\", \"training_percent\": \"\", \"iteration\": \"\", \"run_preprocessor\": \"\", \"run_algorithm\": \"\", \"automl_best_child_run_id\": \"AutoML_f58a8166-7ca0-40fd-9abb-738d30eebcdc_9\", \"model_explain_best_run_child_id\": \"AutoML_f58a8166-7ca0-40fd-9abb-738d30eebcdc_9\"}, \"end_time_utc\": \"2021-01-12T14:33:20.973912Z\", \"status\": \"Completed\", \"log_files\": {}, \"log_groups\": [], \"run_duration\": \"0:11:19\"}, \"child_runs\": [{\"run_id\": \"AutoML_f58a8166-7ca0-40fd-9abb-738d30eebcdc_0\", \"run_number\": 33, \"metric\": null, \"status\": \"Completed\", \"run_type\": \"azureml.scriptrun\", \"training_percent\": \"100\", \"start_time\": \"2021-01-12T14:27:43.782089Z\", \"end_time\": \"2021-01-12T14:28:34.403001Z\", \"created_time\": \"2021-01-12T14:27:33.358044Z\", \"created_time_dt\": \"2021-01-12T14:27:33.358044Z\", \"duration\": \"0:01:01\", \"iteration\": \"0\", \"goal\": \"accuracy_max\", \"run_name\": \"MaxAbsScaler, LightGBM\", \"run_properties\": \"copy=True\", \"primary_metric\": 0.81187943, \"best_metric\": 0.81187943}, {\"run_id\": \"AutoML_f58a8166-7ca0-40fd-9abb-738d30eebcdc_3\", \"run_number\": 34, \"metric\": null, \"status\": \"Completed\", \"run_type\": \"azureml.scriptrun\", \"training_percent\": \"100\", \"start_time\": \"2021-01-12T14:28:37.915217Z\", \"end_time\": \"2021-01-12T14:29:28.102165Z\", \"created_time\": \"2021-01-12T14:27:33.499835Z\", \"created_time_dt\": \"2021-01-12T14:27:33.499835Z\", \"duration\": \"0:01:54\", \"iteration\": \"3\", \"goal\": \"accuracy_max\", \"run_name\": \"MinMaxScaler, RandomForest\", \"run_properties\": \"copy=True, feature_range=(0, 1\", \"primary_metric\": 0.84547872, \"best_metric\": 0.84547872}, {\"run_id\": \"AutoML_f58a8166-7ca0-40fd-9abb-738d30eebcdc_2\", \"run_number\": 35, \"metric\": null, \"status\": \"Completed\", \"run_type\": \"azureml.scriptrun\", \"training_percent\": \"100\", \"start_time\": \"2021-01-12T14:29:25.920567Z\", \"end_time\": \"2021-01-12T14:30:20.366579Z\", \"created_time\": \"2021-01-12T14:27:33.513565Z\", \"created_time_dt\": \"2021-01-12T14:27:33.513565Z\", \"duration\": \"0:02:46\", \"iteration\": \"2\", \"goal\": \"accuracy_max\", \"run_name\": \"MinMaxScaler, RandomForest\", \"run_properties\": \"copy=True, feature_range=(0, 1\", \"primary_metric\": 0.84547872, \"best_metric\": 0.84547872}, {\"run_id\": \"AutoML_f58a8166-7ca0-40fd-9abb-738d30eebcdc_1\", \"run_number\": 36, \"metric\": null, \"status\": \"Completed\", \"run_type\": \"azureml.scriptrun\", \"training_percent\": \"100\", \"start_time\": \"2021-01-12T14:29:18.21822Z\", \"end_time\": \"2021-01-12T14:30:27.992937Z\", \"created_time\": \"2021-01-12T14:27:33.582727Z\", \"created_time_dt\": \"2021-01-12T14:27:33.582727Z\", \"duration\": \"0:02:54\", \"iteration\": \"1\", \"goal\": \"accuracy_max\", \"run_name\": \"MaxAbsScaler, XGBoostClassifier\", \"run_properties\": \"copy=True\", \"primary_metric\": 0.8412234, \"best_metric\": 0.8412234}, {\"run_id\": \"AutoML_f58a8166-7ca0-40fd-9abb-738d30eebcdc_4\", \"run_number\": 37, \"metric\": null, \"status\": \"Completed\", \"run_type\": \"azureml.scriptrun\", \"training_percent\": \"100\", \"start_time\": \"2021-01-12T14:29:29.271395Z\", \"end_time\": \"2021-01-12T14:30:16.623168Z\", \"created_time\": \"2021-01-12T14:28:36.231382Z\", \"created_time_dt\": \"2021-01-12T14:28:36.231382Z\", \"duration\": \"0:01:40\", \"iteration\": \"4\", \"goal\": \"accuracy_max\", \"run_name\": \"MinMaxScaler, RandomForest\", \"run_properties\": \"copy=True, feature_range=(0, 1\", \"primary_metric\": 0.85797872, \"best_metric\": 0.85797872}, {\"run_id\": \"AutoML_f58a8166-7ca0-40fd-9abb-738d30eebcdc_5\", \"run_number\": 39, \"metric\": null, \"status\": \"Completed\", \"run_type\": \"azureml.scriptrun\", \"training_percent\": \"100\", \"start_time\": \"2021-01-12T14:30:20.770039Z\", \"end_time\": \"2021-01-12T14:31:06.548511Z\", \"created_time\": \"2021-01-12T14:29:31.55515Z\", \"created_time_dt\": \"2021-01-12T14:29:31.55515Z\", \"duration\": \"0:01:34\", \"iteration\": \"5\", \"goal\": \"accuracy_max\", \"run_name\": \"StandardScalerWrapper, LightGBM\", \"run_properties\": \"<azureml.automl.runtime.shared.model_wrappers.StandardScalerWrapper object at 0x7f3e0903e438\", \"primary_metric\": 0.84964539, \"best_metric\": 0.85797872}, {\"run_id\": \"AutoML_f58a8166-7ca0-40fd-9abb-738d30eebcdc_6\", \"run_number\": 40, \"metric\": null, \"status\": \"Completed\", \"run_type\": \"azureml.scriptrun\", \"training_percent\": \"100\", \"start_time\": \"2021-01-12T14:30:32.731776Z\", \"end_time\": \"2021-01-12T14:31:18.623828Z\", \"created_time\": \"2021-01-12T14:30:19.194456Z\", \"created_time_dt\": \"2021-01-12T14:30:19.194456Z\", \"duration\": \"0:00:59\", \"iteration\": \"6\", \"goal\": \"accuracy_max\", \"run_name\": \"MinMaxScaler, SVM\", \"run_properties\": \"copy=True, feature_range=(0, 1\", \"primary_metric\": 0.72836879, \"best_metric\": 0.85797872}, {\"run_id\": \"AutoML_f58a8166-7ca0-40fd-9abb-738d30eebcdc_7\", \"run_number\": 41, \"metric\": null, \"status\": \"Completed\", \"run_type\": \"azureml.scriptrun\", \"training_percent\": \"100\", \"start_time\": \"2021-01-12T14:30:38.780705Z\", \"end_time\": \"2021-01-12T14:31:21.887201Z\", \"created_time\": \"2021-01-12T14:30:23.764433Z\", \"created_time_dt\": \"2021-01-12T14:30:23.764433Z\", \"duration\": \"0:00:58\", \"iteration\": \"7\", \"goal\": \"accuracy_max\", \"run_name\": \"SparseNormalizer, XGBoostClassifier\", \"run_properties\": \"<azureml.automl.runtime.shared.model_wrappers.SparseNormalizer object at 0x7f7d4008f710\", \"primary_metric\": 0.83679078, \"best_metric\": 0.85797872}, {\"run_id\": \"AutoML_f58a8166-7ca0-40fd-9abb-738d30eebcdc_8\", \"run_number\": 42, \"metric\": null, \"status\": \"Completed\", \"run_type\": \"azureml.scriptrun\", \"training_percent\": \"100\", \"start_time\": \"2021-01-12T14:31:08.309032Z\", \"end_time\": \"2021-01-12T14:31:58.033889Z\", \"created_time\": \"2021-01-12T14:30:30.356639Z\", \"created_time_dt\": \"2021-01-12T14:30:30.356639Z\", \"duration\": \"0:01:27\", \"iteration\": \"8\", \"goal\": \"accuracy_max\", \"run_name\": \"SparseNormalizer, XGBoostClassifier\", \"run_properties\": \"<azureml.automl.runtime.shared.model_wrappers.SparseNormalizer object at 0x7fcfa27fd2e8\", \"primary_metric\": 0.82429078, \"best_metric\": 0.85797872}, {\"run_id\": \"AutoML_f58a8166-7ca0-40fd-9abb-738d30eebcdc_9\", \"run_number\": 44, \"metric\": null, \"status\": \"Completed\", \"run_type\": \"azureml.scriptrun\", \"training_percent\": \"100\", \"start_time\": \"2021-01-12T14:32:12.130841Z\", \"end_time\": \"2021-01-12T14:33:12.996632Z\", \"created_time\": \"2021-01-12T14:31:59.45433Z\", \"created_time_dt\": \"2021-01-12T14:31:59.45433Z\", \"duration\": \"0:01:13\", \"iteration\": \"9\", \"goal\": \"accuracy_max\", \"run_name\": \"VotingEnsemble\", \"run_properties\": \"classification_labels=None,\\n                              estimators=[('4',\\n                                           Pipeline(memory=None,\\n                                                    steps=[('minmaxscaler',\\n                                                            MinMaxScaler(copy=True,\\n                                                                         feature_range=(0,\\n                                                                                        1\", \"primary_metric\": 0.87473404, \"best_metric\": 0.87473404}], \"children_metrics\": {\"categories\": [0], \"series\": {\"matthews_correlation\": [{\"categories\": [\"0\", \"1\", \"2\", \"3\", \"4\", \"5\", \"6\", \"7\", \"8\", \"9\"], \"mode\": \"markers\", \"name\": \"matthews_correlation\", \"stepped\": false, \"type\": \"scatter\", \"data\": [0.5624598789313197, 0.6333905493883556, 0.6445719112491936, 0.641401008303203, 0.6754098027828664, 0.6490417524267241, 0.3113064341725989, 0.612551502360506, 0.5796577541384325, 0.7138922329367846]}, {\"categories\": [\"0\", \"1\", \"2\", \"3\", \"4\", \"5\", \"6\", \"7\", \"8\", \"9\"], \"mode\": \"lines\", \"name\": \"matthews_correlation_max\", \"stepped\": true, \"type\": \"scatter\", \"data\": [0.5624598789313197, 0.6333905493883556, 0.6445719112491936, 0.6445719112491936, 0.6754098027828664, 0.6754098027828664, 0.6754098027828664, 0.6754098027828664, 0.6754098027828664, 0.7138922329367846]}], \"precision_score_micro\": [{\"categories\": [\"0\", \"1\", \"2\", \"3\", \"4\", \"5\", \"6\", \"7\", \"8\", \"9\"], \"mode\": \"markers\", \"name\": \"precision_score_micro\", \"stepped\": false, \"type\": \"scatter\", \"data\": [0.8118794326241134, 0.841223404255319, 0.8454787234042553, 0.8454787234042553, 0.8579787234042552, 0.849645390070922, 0.7283687943262411, 0.8367907801418439, 0.824290780141844, 0.8747340425531915]}, {\"categories\": [\"0\", \"1\", \"2\", \"3\", \"4\", \"5\", \"6\", \"7\", \"8\", \"9\"], \"mode\": \"lines\", \"name\": \"precision_score_micro_max\", \"stepped\": true, \"type\": \"scatter\", \"data\": [0.8118794326241134, 0.841223404255319, 0.8454787234042553, 0.8454787234042553, 0.8579787234042552, 0.8579787234042552, 0.8579787234042552, 0.8579787234042552, 0.8579787234042552, 0.8747340425531915]}], \"average_precision_score_weighted\": [{\"categories\": [\"0\", \"1\", \"2\", \"3\", \"4\", \"5\", \"6\", \"7\", \"8\", \"9\"], \"mode\": \"markers\", \"name\": \"average_precision_score_weighted\", \"stepped\": false, \"type\": \"scatter\", \"data\": [0.8919277004799622, 0.9020323586923604, 0.9077011123287697, 0.9151517992700844, 0.920981711464076, 0.8694676599938267, 0.8054319658721921, 0.8903675758266576, 0.8950672514075814, 0.9172045172017402]}, {\"categories\": [\"0\", \"1\", \"2\", \"3\", \"4\", \"5\", \"6\", \"7\", \"8\", \"9\"], \"mode\": \"lines\", \"name\": \"average_precision_score_weighted_max\", \"stepped\": true, \"type\": \"scatter\", \"data\": [0.8919277004799622, 0.9020323586923604, 0.9077011123287697, 0.9151517992700844, 0.920981711464076, 0.920981711464076, 0.920981711464076, 0.920981711464076, 0.920981711464076, 0.920981711464076]}], \"average_precision_score_macro\": [{\"categories\": [\"0\", \"1\", \"2\", \"3\", \"4\", \"5\", \"6\", \"7\", \"8\", \"9\"], \"mode\": \"markers\", \"name\": \"average_precision_score_macro\", \"stepped\": false, \"type\": \"scatter\", \"data\": [0.858875946779694, 0.8700494234282324, 0.8766827541186162, 0.8891549988924533, 0.8939324665328773, 0.8333844849999152, 0.749895861047398, 0.8600352471578165, 0.8659762782138877, 0.8897726452458489]}, {\"categories\": [\"0\", \"1\", \"2\", \"3\", \"4\", \"5\", \"6\", \"7\", \"8\", \"9\"], \"mode\": \"lines\", \"name\": \"average_precision_score_macro_max\", \"stepped\": true, \"type\": \"scatter\", \"data\": [0.858875946779694, 0.8700494234282324, 0.8766827541186162, 0.8891549988924533, 0.8939324665328773, 0.8939324665328773, 0.8939324665328773, 0.8939324665328773, 0.8939324665328773, 0.8939324665328773]}], \"AUC_weighted\": [{\"categories\": [\"0\", \"1\", \"2\", \"3\", \"4\", \"5\", \"6\", \"7\", \"8\", \"9\"], \"mode\": \"markers\", \"name\": \"AUC_weighted\", \"stepped\": false, \"type\": \"scatter\", \"data\": [0.8832610093408642, 0.8991283512517632, 0.9093638215961265, 0.9111863002244126, 0.9231832001341983, 0.8828238479690386, 0.7660684975748497, 0.8833977348677893, 0.8871389444347703, 0.9203646310542861]}, {\"categories\": [\"0\", \"1\", \"2\", \"3\", \"4\", \"5\", \"6\", \"7\", \"8\", \"9\"], \"mode\": \"lines\", \"name\": \"AUC_weighted_max\", \"stepped\": true, \"type\": \"scatter\", \"data\": [0.8832610093408642, 0.8991283512517632, 0.9093638215961265, 0.9111863002244126, 0.9231832001341983, 0.9231832001341983, 0.9231832001341983, 0.9231832001341983, 0.9231832001341983, 0.9231832001341983]}], \"norm_macro_recall\": [{\"categories\": [\"0\", \"1\", \"2\", \"3\", \"4\", \"5\", \"6\", \"7\", \"8\", \"9\"], \"mode\": \"markers\", \"name\": \"norm_macro_recall\", \"stepped\": false, \"type\": \"scatter\", \"data\": [0.5489488566621054, 0.6185651914508539, 0.6286568620688403, 0.620706683592346, 0.6550050732446376, 0.5972383796884705, 0.2882724709766452, 0.592313266160816, 0.5450033731521934, 0.6939025421421066]}, {\"categories\": [\"0\", \"1\", \"2\", \"3\", \"4\", \"5\", \"6\", \"7\", \"8\", \"9\"], \"mode\": \"lines\", \"name\": \"norm_macro_recall_max\", \"stepped\": true, \"type\": \"scatter\", \"data\": [0.5489488566621054, 0.6185651914508539, 0.6286568620688403, 0.6286568620688403, 0.6550050732446376, 0.6550050732446376, 0.6550050732446376, 0.6550050732446376, 0.6550050732446376, 0.6939025421421066]}], \"AUC_macro\": [{\"categories\": [\"0\", \"1\", \"2\", \"3\", \"4\", \"5\", \"6\", \"7\", \"8\", \"9\"], \"mode\": \"markers\", \"name\": \"AUC_macro\", \"stepped\": false, \"type\": \"scatter\", \"data\": [0.8832610093408642, 0.8991283512517632, 0.9093638215961265, 0.9111863002244128, 0.9231832001341983, 0.8828238479690386, 0.7660684975748497, 0.8833977348677893, 0.8871389444347703, 0.9203646310542861]}, {\"categories\": [\"0\", \"1\", \"2\", \"3\", \"4\", \"5\", \"6\", \"7\", \"8\", \"9\"], \"mode\": \"lines\", \"name\": \"AUC_macro_max\", \"stepped\": true, \"type\": \"scatter\", \"data\": [0.8832610093408642, 0.8991283512517632, 0.9093638215961265, 0.9111863002244128, 0.9231832001341983, 0.9231832001341983, 0.9231832001341983, 0.9231832001341983, 0.9231832001341983, 0.9231832001341983]}], \"balanced_accuracy\": [{\"categories\": [\"0\", \"1\", \"2\", \"3\", \"4\", \"5\", \"6\", \"7\", \"8\", \"9\"], \"mode\": \"markers\", \"name\": \"balanced_accuracy\", \"stepped\": false, \"type\": \"scatter\", \"data\": [0.7744744283310527, 0.809282595725427, 0.8143284310344201, 0.810353341796173, 0.8275025366223188, 0.7986191898442352, 0.6395208508729381, 0.7961566330804081, 0.7725016865760967, 0.8469512710710534]}, {\"categories\": [\"0\", \"1\", \"2\", \"3\", \"4\", \"5\", \"6\", \"7\", \"8\", \"9\"], \"mode\": \"lines\", \"name\": \"balanced_accuracy_max\", \"stepped\": true, \"type\": \"scatter\", \"data\": [0.7744744283310527, 0.809282595725427, 0.8143284310344201, 0.8143284310344201, 0.8275025366223188, 0.8275025366223188, 0.8275025366223188, 0.8275025366223188, 0.8275025366223188, 0.8469512710710534]}], \"log_loss\": [{\"categories\": [\"0\", \"1\", \"2\", \"3\", \"4\", \"5\", \"6\", \"7\", \"8\", \"9\"], \"mode\": \"markers\", \"name\": \"log_loss\", \"stepped\": false, \"type\": \"scatter\", \"data\": [0.4935037846076943, 0.3971769301675177, 0.3818928252392499, 0.3608459451047657, 0.35782295238121203, 0.43640732520892955, 0.5515304792831679, 0.4034261098092015, 0.4357863800286627, 0.35487074562059534]}, {\"categories\": [\"0\", \"1\", \"2\", \"3\", \"4\", \"5\", \"6\", \"7\", \"8\", \"9\"], \"mode\": \"lines\", \"name\": \"log_loss_min\", \"stepped\": true, \"type\": \"scatter\", \"data\": [0.4935037846076943, 0.3971769301675177, 0.3818928252392499, 0.3608459451047657, 0.35782295238121203, 0.35782295238121203, 0.35782295238121203, 0.35782295238121203, 0.35782295238121203, 0.35487074562059534]}], \"AUC_micro\": [{\"categories\": [\"0\", \"1\", \"2\", \"3\", \"4\", \"5\", \"6\", \"7\", \"8\", \"9\"], \"mode\": \"markers\", \"name\": \"AUC_micro\", \"stepped\": false, \"type\": \"scatter\", \"data\": [0.892606634475127, 0.9067335411322368, 0.9085275357124892, 0.9165463020597556, 0.9176822405814595, 0.8891241559151954, 0.8057740627043408, 0.8954198968236005, 0.893023882727227, 0.9204488189100146]}, {\"categories\": [\"0\", \"1\", \"2\", \"3\", \"4\", \"5\", \"6\", \"7\", \"8\", \"9\"], \"mode\": \"lines\", \"name\": \"AUC_micro_max\", \"stepped\": true, \"type\": \"scatter\", \"data\": [0.892606634475127, 0.9067335411322368, 0.9085275357124892, 0.9165463020597556, 0.9176822405814595, 0.9176822405814595, 0.9176822405814595, 0.9176822405814595, 0.9176822405814595, 0.9204488189100146]}], \"f1_score_micro\": [{\"categories\": [\"0\", \"1\", \"2\", \"3\", \"4\", \"5\", \"6\", \"7\", \"8\", \"9\"], \"mode\": \"markers\", \"name\": \"f1_score_micro\", \"stepped\": false, \"type\": \"scatter\", \"data\": [0.8118794326241133, 0.841223404255319, 0.8454787234042552, 0.8454787234042553, 0.8579787234042552, 0.849645390070922, 0.7283687943262411, 0.8367907801418439, 0.824290780141844, 0.8747340425531915]}, {\"categories\": [\"0\", \"1\", \"2\", \"3\", \"4\", \"5\", \"6\", \"7\", \"8\", \"9\"], \"mode\": \"lines\", \"name\": \"f1_score_micro_max\", \"stepped\": true, \"type\": \"scatter\", \"data\": [0.8118794326241133, 0.841223404255319, 0.8454787234042552, 0.8454787234042553, 0.8579787234042552, 0.8579787234042552, 0.8579787234042552, 0.8579787234042552, 0.8579787234042552, 0.8747340425531915]}], \"f1_score_macro\": [{\"categories\": [\"0\", \"1\", \"2\", \"3\", \"4\", \"5\", \"6\", \"7\", \"8\", \"9\"], \"mode\": \"markers\", \"name\": \"f1_score_macro\", \"stepped\": false, \"type\": \"scatter\", \"data\": [0.7713227219314176, 0.8092671026348224, 0.8157945526695526, 0.8132758146652523, 0.8295721148342116, 0.8115511148796694, 0.6396265394228569, 0.7976067333422183, 0.7796904599052432, 0.8506575765528612]}, {\"categories\": [\"0\", \"1\", \"2\", \"3\", \"4\", \"5\", \"6\", \"7\", \"8\", \"9\"], \"mode\": \"lines\", \"name\": \"f1_score_macro_max\", \"stepped\": true, \"type\": \"scatter\", \"data\": [0.7713227219314176, 0.8092671026348224, 0.8157945526695526, 0.8157945526695526, 0.8295721148342116, 0.8295721148342116, 0.8295721148342116, 0.8295721148342116, 0.8295721148342116, 0.8506575765528612]}], \"recall_score_weighted\": [{\"categories\": [\"0\", \"1\", \"2\", \"3\", \"4\", \"5\", \"6\", \"7\", \"8\", \"9\"], \"mode\": \"markers\", \"name\": \"recall_score_weighted\", \"stepped\": false, \"type\": \"scatter\", \"data\": [0.8118794326241134, 0.841223404255319, 0.8454787234042553, 0.8454787234042553, 0.8579787234042552, 0.849645390070922, 0.7283687943262411, 0.8367907801418439, 0.824290780141844, 0.8747340425531915]}, {\"categories\": [\"0\", \"1\", \"2\", \"3\", \"4\", \"5\", \"6\", \"7\", \"8\", \"9\"], \"mode\": \"lines\", \"name\": \"recall_score_weighted_max\", \"stepped\": true, \"type\": \"scatter\", \"data\": [0.8118794326241134, 0.841223404255319, 0.8454787234042553, 0.8454787234042553, 0.8579787234042552, 0.8579787234042552, 0.8579787234042552, 0.8579787234042552, 0.8579787234042552, 0.8747340425531915]}], \"weighted_accuracy\": [{\"categories\": [\"0\", \"1\", \"2\", \"3\", \"4\", \"5\", \"6\", \"7\", \"8\", \"9\"], \"mode\": \"markers\", \"name\": \"weighted_accuracy\", \"stepped\": false, \"type\": \"scatter\", \"data\": [0.839614995333504, 0.8643579258864662, 0.8670857513413137, 0.8714216755364832, 0.8803698577069611, 0.8850869556225538, 0.7903781120612114, 0.8645188446465195, 0.8603598542193371, 0.8950521023898199]}, {\"categories\": [\"0\", \"1\", \"2\", \"3\", \"4\", \"5\", \"6\", \"7\", \"8\", \"9\"], \"mode\": \"lines\", \"name\": \"weighted_accuracy_max\", \"stepped\": true, \"type\": \"scatter\", \"data\": [0.839614995333504, 0.8643579258864662, 0.8670857513413137, 0.8714216755364832, 0.8803698577069611, 0.8850869556225538, 0.8850869556225538, 0.8850869556225538, 0.8850869556225538, 0.8950521023898199]}], \"f1_score_weighted\": [{\"categories\": [\"0\", \"1\", \"2\", \"3\", \"4\", \"5\", \"6\", \"7\", \"8\", \"9\"], \"mode\": \"markers\", \"name\": \"f1_score_weighted\", \"stepped\": false, \"type\": \"scatter\", \"data\": [0.8078653883889777, 0.8378522526667312, 0.8442526654910297, 0.841016260660691, 0.8558398408231648, 0.8418598123907438, 0.709014836517144, 0.8326935308129558, 0.8171903230777193, 0.8728098833457463]}, {\"categories\": [\"0\", \"1\", \"2\", \"3\", \"4\", \"5\", \"6\", \"7\", \"8\", \"9\"], \"mode\": \"lines\", \"name\": \"f1_score_weighted_max\", \"stepped\": true, \"type\": \"scatter\", \"data\": [0.8078653883889777, 0.8378522526667312, 0.8442526654910297, 0.8442526654910297, 0.8558398408231648, 0.8558398408231648, 0.8558398408231648, 0.8558398408231648, 0.8558398408231648, 0.8728098833457463]}], \"precision_score_macro\": [{\"categories\": [\"0\", \"1\", \"2\", \"3\", \"4\", \"5\", \"6\", \"7\", \"8\", \"9\"], \"mode\": \"markers\", \"name\": \"precision_score_macro\", \"stepped\": false, \"type\": \"scatter\", \"data\": [0.790074780397361, 0.8257810237411757, 0.8315525084896283, 0.8326422751422753, 0.8496721896721897, 0.8550765377979757, 0.6762789987789988, 0.8206019797292591, 0.8115373231729042, 0.8682541491709573]}, {\"categories\": [\"0\", \"1\", \"2\", \"3\", \"4\", \"5\", \"6\", \"7\", \"8\", \"9\"], \"mode\": \"lines\", \"name\": \"precision_score_macro_max\", \"stepped\": true, \"type\": \"scatter\", \"data\": [0.790074780397361, 0.8257810237411757, 0.8315525084896283, 0.8326422751422753, 0.8496721896721897, 0.8550765377979757, 0.8550765377979757, 0.8550765377979757, 0.8550765377979757, 0.8682541491709573]}], \"precision_score_weighted\": [{\"categories\": [\"0\", \"1\", \"2\", \"3\", \"4\", \"5\", \"6\", \"7\", \"8\", \"9\"], \"mode\": \"markers\", \"name\": \"precision_score_weighted\", \"stepped\": false, \"type\": \"scatter\", \"data\": [0.8224004259658706, 0.8478476812047757, 0.8542804510191772, 0.8502144349750731, 0.8683676706283089, 0.8571443675917838, 0.7184455074082733, 0.8425597617169786, 0.8272370853739333, 0.8823219537499511]}, {\"categories\": [\"0\", \"1\", \"2\", \"3\", \"4\", \"5\", \"6\", \"7\", \"8\", \"9\"], \"mode\": \"lines\", \"name\": \"precision_score_weighted_max\", \"stepped\": true, \"type\": \"scatter\", \"data\": [0.8224004259658706, 0.8478476812047757, 0.8542804510191772, 0.8542804510191772, 0.8683676706283089, 0.8683676706283089, 0.8683676706283089, 0.8683676706283089, 0.8683676706283089, 0.8823219537499511]}], \"accuracy\": [{\"categories\": [\"0\", \"1\", \"2\", \"3\", \"4\", \"5\", \"6\", \"7\", \"8\", \"9\"], \"mode\": \"markers\", \"name\": \"accuracy\", \"stepped\": false, \"type\": \"scatter\", \"data\": [0.8118794326241134, 0.841223404255319, 0.8454787234042553, 0.8454787234042553, 0.8579787234042552, 0.849645390070922, 0.7283687943262411, 0.8367907801418439, 0.824290780141844, 0.8747340425531915]}, {\"categories\": [\"0\", \"1\", \"2\", \"3\", \"4\", \"5\", \"6\", \"7\", \"8\", \"9\"], \"mode\": \"lines\", \"name\": \"accuracy_max\", \"stepped\": true, \"type\": \"scatter\", \"data\": [0.8118794326241134, 0.841223404255319, 0.8454787234042553, 0.8454787234042553, 0.8579787234042552, 0.8579787234042552, 0.8579787234042552, 0.8579787234042552, 0.8579787234042552, 0.8747340425531915]}], \"recall_score_macro\": [{\"categories\": [\"0\", \"1\", \"2\", \"3\", \"4\", \"5\", \"6\", \"7\", \"8\", \"9\"], \"mode\": \"markers\", \"name\": \"recall_score_macro\", \"stepped\": false, \"type\": \"scatter\", \"data\": [0.7744744283310527, 0.809282595725427, 0.8143284310344201, 0.810353341796173, 0.8275025366223188, 0.7986191898442352, 0.6395208508729381, 0.7961566330804081, 0.7725016865760967, 0.8469512710710534]}, {\"categories\": [\"0\", \"1\", \"2\", \"3\", \"4\", \"5\", \"6\", \"7\", \"8\", \"9\"], \"mode\": \"lines\", \"name\": \"recall_score_macro_max\", \"stepped\": true, \"type\": \"scatter\", \"data\": [0.7744744283310527, 0.809282595725427, 0.8143284310344201, 0.8143284310344201, 0.8275025366223188, 0.8275025366223188, 0.8275025366223188, 0.8275025366223188, 0.8275025366223188, 0.8469512710710534]}], \"recall_score_micro\": [{\"categories\": [\"0\", \"1\", \"2\", \"3\", \"4\", \"5\", \"6\", \"7\", \"8\", \"9\"], \"mode\": \"markers\", \"name\": \"recall_score_micro\", \"stepped\": false, \"type\": \"scatter\", \"data\": [0.8118794326241134, 0.841223404255319, 0.8454787234042553, 0.8454787234042553, 0.8579787234042552, 0.849645390070922, 0.7283687943262411, 0.8367907801418439, 0.824290780141844, 0.8747340425531915]}, {\"categories\": [\"0\", \"1\", \"2\", \"3\", \"4\", \"5\", \"6\", \"7\", \"8\", \"9\"], \"mode\": \"lines\", \"name\": \"recall_score_micro_max\", \"stepped\": true, \"type\": \"scatter\", \"data\": [0.8118794326241134, 0.841223404255319, 0.8454787234042553, 0.8454787234042553, 0.8579787234042552, 0.8579787234042552, 0.8579787234042552, 0.8579787234042552, 0.8579787234042552, 0.8747340425531915]}], \"average_precision_score_micro\": [{\"categories\": [\"0\", \"1\", \"2\", \"3\", \"4\", \"5\", \"6\", \"7\", \"8\", \"9\"], \"mode\": \"markers\", \"name\": \"average_precision_score_micro\", \"stepped\": false, \"type\": \"scatter\", \"data\": [0.8945006673699607, 0.907300466548115, 0.9075423253947648, 0.9178038289341041, 0.9144234420959576, 0.8788097978948939, 0.8182051884269141, 0.8930636178507629, 0.8941520079266698, 0.921927754326507]}, {\"categories\": [\"0\", \"1\", \"2\", \"3\", \"4\", \"5\", \"6\", \"7\", \"8\", \"9\"], \"mode\": \"lines\", \"name\": \"average_precision_score_micro_max\", \"stepped\": true, \"type\": \"scatter\", \"data\": [0.8945006673699607, 0.907300466548115, 0.9075423253947648, 0.9178038289341041, 0.9178038289341041, 0.9178038289341041, 0.9178038289341041, 0.9178038289341041, 0.9178038289341041, 0.921927754326507]}]}, \"metricName\": null, \"primaryMetricName\": \"accuracy\", \"showLegend\": false}, \"run_metrics\": [{\"name\": \"experiment_status\", \"run_id\": \"AutoML_f58a8166-7ca0-40fd-9abb-738d30eebcdc\", \"categories\": [0, 1, 2, 3, 4, 5, 6, 7, 8, 9, 10, 11, 12, 13], \"series\": [{\"data\": [\"DatasetEvaluation\", \"FeaturesGeneration\", \"DatasetFeaturization\", \"DatasetFeaturizationCompleted\", \"DatasetCrossValidationSplit\", \"ModelSelection\", \"BestRunExplainModel\", \"ModelExplanationDataSetSetup\", \"PickSurrogateModel\", \"EngineeredFeatureExplanations\", \"EngineeredFeatureExplanations\", \"RawFeaturesExplanations\", \"RawFeaturesExplanations\", \"BestRunExplainModel\"]}]}, {\"name\": \"experiment_status_description\", \"run_id\": \"AutoML_f58a8166-7ca0-40fd-9abb-738d30eebcdc\", \"categories\": [0, 1, 2, 3, 4, 5, 6, 7, 8, 9, 10, 11, 12, 13], \"series\": [{\"data\": [\"Gathering dataset statistics.\", \"Generating features for the dataset.\", \"Beginning to fit featurizers and featurize the dataset.\", \"Completed fit featurizers and featurizing the dataset.\", \"Generating individually featurized CV splits.\", \"Beginning model selection.\", \"Best run model explanations started\", \"Model explanations data setup completed\", \"Choosing LightGBM as the surrogate model for explanations\", \"Computation of engineered features started\", \"Computation of engineered features completed\", \"Computation of raw features started\", \"Computation of raw features completed\", \"Best run model explanations completed\"]}]}, {\"name\": \"accuracy\", \"run_id\": \"AutoML_f58a8166-7ca0-40fd-9abb-738d30eebcdc\", \"categories\": [0], \"series\": [{\"data\": [0.8747340425531915]}]}, {\"name\": \"recall_score_weighted\", \"run_id\": \"AutoML_f58a8166-7ca0-40fd-9abb-738d30eebcdc\", \"categories\": [0], \"series\": [{\"data\": [0.8747340425531915]}]}, {\"name\": \"AUC_macro\", \"run_id\": \"AutoML_f58a8166-7ca0-40fd-9abb-738d30eebcdc\", \"categories\": [0], \"series\": [{\"data\": [0.9203646310542861]}]}, {\"name\": \"precision_score_micro\", \"run_id\": \"AutoML_f58a8166-7ca0-40fd-9abb-738d30eebcdc\", \"categories\": [0], \"series\": [{\"data\": [0.8747340425531915]}]}, {\"name\": \"f1_score_weighted\", \"run_id\": \"AutoML_f58a8166-7ca0-40fd-9abb-738d30eebcdc\", \"categories\": [0], \"series\": [{\"data\": [0.8728098833457463]}]}, {\"name\": \"f1_score_micro\", \"run_id\": \"AutoML_f58a8166-7ca0-40fd-9abb-738d30eebcdc\", \"categories\": [0], \"series\": [{\"data\": [0.8747340425531915]}]}, {\"name\": \"precision_score_weighted\", \"run_id\": \"AutoML_f58a8166-7ca0-40fd-9abb-738d30eebcdc\", \"categories\": [0], \"series\": [{\"data\": [0.8823219537499511]}]}, {\"name\": \"balanced_accuracy\", \"run_id\": \"AutoML_f58a8166-7ca0-40fd-9abb-738d30eebcdc\", \"categories\": [0], \"series\": [{\"data\": [0.8469512710710534]}]}, {\"name\": \"norm_macro_recall\", \"run_id\": \"AutoML_f58a8166-7ca0-40fd-9abb-738d30eebcdc\", \"categories\": [0], \"series\": [{\"data\": [0.6939025421421066]}]}, {\"name\": \"f1_score_macro\", \"run_id\": \"AutoML_f58a8166-7ca0-40fd-9abb-738d30eebcdc\", \"categories\": [0], \"series\": [{\"data\": [0.8506575765528612]}]}, {\"name\": \"recall_score_micro\", \"run_id\": \"AutoML_f58a8166-7ca0-40fd-9abb-738d30eebcdc\", \"categories\": [0], \"series\": [{\"data\": [0.8747340425531915]}]}, {\"name\": \"recall_score_macro\", \"run_id\": \"AutoML_f58a8166-7ca0-40fd-9abb-738d30eebcdc\", \"categories\": [0], \"series\": [{\"data\": [0.8469512710710534]}]}, {\"name\": \"weighted_accuracy\", \"run_id\": \"AutoML_f58a8166-7ca0-40fd-9abb-738d30eebcdc\", \"categories\": [0], \"series\": [{\"data\": [0.8950521023898199]}]}, {\"name\": \"average_precision_score_macro\", \"run_id\": \"AutoML_f58a8166-7ca0-40fd-9abb-738d30eebcdc\", \"categories\": [0], \"series\": [{\"data\": [0.8897726452458489]}]}, {\"name\": \"matthews_correlation\", \"run_id\": \"AutoML_f58a8166-7ca0-40fd-9abb-738d30eebcdc\", \"categories\": [0], \"series\": [{\"data\": [0.7138922329367846]}]}, {\"name\": \"precision_score_macro\", \"run_id\": \"AutoML_f58a8166-7ca0-40fd-9abb-738d30eebcdc\", \"categories\": [0], \"series\": [{\"data\": [0.8682541491709573]}]}, {\"name\": \"average_precision_score_weighted\", \"run_id\": \"AutoML_f58a8166-7ca0-40fd-9abb-738d30eebcdc\", \"categories\": [0], \"series\": [{\"data\": [0.9172045172017402]}]}, {\"name\": \"log_loss\", \"run_id\": \"AutoML_f58a8166-7ca0-40fd-9abb-738d30eebcdc\", \"categories\": [0], \"series\": [{\"data\": [0.35487074562059534]}]}, {\"name\": \"average_precision_score_micro\", \"run_id\": \"AutoML_f58a8166-7ca0-40fd-9abb-738d30eebcdc\", \"categories\": [0], \"series\": [{\"data\": [0.921927754326507]}]}, {\"name\": \"AUC_micro\", \"run_id\": \"AutoML_f58a8166-7ca0-40fd-9abb-738d30eebcdc\", \"categories\": [0], \"series\": [{\"data\": [0.9204488189100146]}]}, {\"name\": \"AUC_weighted\", \"run_id\": \"AutoML_f58a8166-7ca0-40fd-9abb-738d30eebcdc\", \"categories\": [0], \"series\": [{\"data\": [0.9203646310542861]}]}], \"run_logs\": \"\\nRun is completed.\", \"graph\": {}, \"widget_settings\": {\"childWidgetDisplay\": \"popup\", \"send_telemetry\": false, \"log_level\": \"INFO\", \"sdk_version\": \"1.19.0\"}, \"loading\": false}"
          },
          "metadata": {}
        }
      ],
      "execution_count": 10,
      "metadata": {
        "gather": {
          "logged": 1610462497751
        },
        "jupyter": {
          "outputs_hidden": false,
          "source_hidden": false
        },
        "nteract": {
          "transient": {
            "deleting": false
          }
        }
      }
    },
    {
      "cell_type": "markdown",
      "source": [
        "## Best Model\n",
        "\n",
        "TODO: In the cell below, get the best model from the automl experiments and display all the properties of the model.\n",
        "\n"
      ],
      "metadata": {}
    },
    {
      "cell_type": "code",
      "source": [
        "best_automl_run,fitted_model = remote_run.get_output()"
      ],
      "outputs": [],
      "execution_count": 11,
      "metadata": {
        "gather": {
          "logged": 1610462517186
        },
        "jupyter": {
          "outputs_hidden": false,
          "source_hidden": false
        },
        "nteract": {
          "transient": {
            "deleting": false
          }
        }
      }
    },
    {
      "cell_type": "code",
      "source": [
        "best_automl_run"
      ],
      "outputs": [
        {
          "output_type": "execute_result",
          "execution_count": 12,
          "data": {
            "text/plain": "Run(Experiment: Heart-Disease-Predection,\nId: AutoML_f58a8166-7ca0-40fd-9abb-738d30eebcdc_9,\nType: azureml.scriptrun,\nStatus: Completed)",
            "text/html": "<table style=\"width:100%\"><tr><th>Experiment</th><th>Id</th><th>Type</th><th>Status</th><th>Details Page</th><th>Docs Page</th></tr><tr><td>Heart-Disease-Predection</td><td>AutoML_f58a8166-7ca0-40fd-9abb-738d30eebcdc_9</td><td>azureml.scriptrun</td><td>Completed</td><td><a href=\"https://ml.azure.com/experiments/Heart-Disease-Predection/runs/AutoML_f58a8166-7ca0-40fd-9abb-738d30eebcdc_9?wsid=/subscriptions/aa7cf8e8-d23f-4bce-a7b9-1f0b4e0ac8ee/resourcegroups/aml-quickstarts-134451/workspaces/quick-starts-ws-134451\" target=\"_blank\" rel=\"noopener\">Link to Azure Machine Learning studio</a></td><td><a href=\"https://docs.microsoft.com/en-us/python/api/azureml-core/azureml.core.run.Run?view=azure-ml-py\" target=\"_blank\" rel=\"noopener\">Link to Documentation</a></td></tr></table>"
          },
          "metadata": {}
        }
      ],
      "execution_count": 12,
      "metadata": {
        "collapsed": true,
        "jupyter": {
          "source_hidden": false,
          "outputs_hidden": false
        },
        "nteract": {
          "transient": {
            "deleting": false
          }
        },
        "gather": {
          "logged": 1610462523325
        }
      }
    },
    {
      "cell_type": "code",
      "source": [
        "best_automl_run.get_metrics()"
      ],
      "outputs": [
        {
          "output_type": "execute_result",
          "execution_count": 13,
          "data": {
            "text/plain": "{'AUC_micro': 0.9204488189100146,\n 'AUC_weighted': 0.9203646310542861,\n 'average_precision_score_macro': 0.8897726452458489,\n 'matthews_correlation': 0.7138922329367846,\n 'AUC_macro': 0.9203646310542861,\n 'f1_score_micro': 0.8747340425531915,\n 'precision_score_micro': 0.8747340425531915,\n 'accuracy': 0.8747340425531915,\n 'recall_score_micro': 0.8747340425531915,\n 'precision_score_macro': 0.8682541491709573,\n 'balanced_accuracy': 0.8469512710710534,\n 'recall_score_weighted': 0.8747340425531915,\n 'weighted_accuracy': 0.8950521023898199,\n 'average_precision_score_micro': 0.921927754326507,\n 'recall_score_macro': 0.8469512710710534,\n 'f1_score_weighted': 0.8728098833457463,\n 'log_loss': 0.35487074562059534,\n 'norm_macro_recall': 0.6939025421421066,\n 'average_precision_score_weighted': 0.9172045172017402,\n 'f1_score_macro': 0.8506575765528612,\n 'precision_score_weighted': 0.8823219537499511,\n 'accuracy_table': 'aml://artifactId/ExperimentRun/dcid.AutoML_f58a8166-7ca0-40fd-9abb-738d30eebcdc_9/accuracy_table',\n 'confusion_matrix': 'aml://artifactId/ExperimentRun/dcid.AutoML_f58a8166-7ca0-40fd-9abb-738d30eebcdc_9/confusion_matrix'}"
          },
          "metadata": {}
        }
      ],
      "execution_count": 13,
      "metadata": {
        "collapsed": true,
        "jupyter": {
          "source_hidden": false,
          "outputs_hidden": false
        },
        "nteract": {
          "transient": {
            "deleting": false
          }
        },
        "gather": {
          "logged": 1610462533022
        }
      }
    },
    {
      "cell_type": "code",
      "source": [
        "#TODO: Save the best model\r\n",
        "best_automl_run,onnx_model =remote_run.get_output(return_onnx_model=True)\r\n",
        "OnnxConverter.save_onnx_model(onnx_model,file_path=\"./automl_model.onnx\")"
      ],
      "outputs": [],
      "execution_count": 14,
      "metadata": {
        "gather": {
          "logged": 1610301045557
        },
        "jupyter": {
          "outputs_hidden": false,
          "source_hidden": false
        },
        "nteract": {
          "transient": {
            "deleting": false
          }
        }
      }
    },
    {
      "cell_type": "markdown",
      "source": [
        "## Model Deployment\n",
        "\n",
        "Remember you have to deploy only one of the two models you trained.. Perform the steps in the rest of this notebook only if you wish to deploy this model.\n",
        "\n",
        "TODO: In the cell below, register the model, create an inference config and deploy the model as a web service."
      ],
      "metadata": {}
    },
    {
      "cell_type": "code",
      "source": [
        "#Register the best automl model,\r\n",
        "automl_model =remote_run.register_model(model_name = 'automl_best_model')"
      ],
      "outputs": [],
      "execution_count": 15,
      "metadata": {
        "gather": {
          "logged": 1610462553722
        },
        "jupyter": {
          "outputs_hidden": false,
          "source_hidden": false
        },
        "nteract": {
          "transient": {
            "deleting": false
          }
        }
      }
    },
    {
      "cell_type": "code",
      "source": [
        "script_file_name ='inference/sscore.py'\r\n",
        "best_automl_run.download_file('outputs/scoring_file_v_1_0_0.py','inference/sscore.py')"
      ],
      "outputs": [],
      "execution_count": 16,
      "metadata": {
        "collapsed": true,
        "jupyter": {
          "source_hidden": false,
          "outputs_hidden": false
        },
        "nteract": {
          "transient": {
            "deleting": false
          }
        },
        "gather": {
          "logged": 1610462559891
        }
      }
    },
    {
      "cell_type": "code",
      "source": [
        "inference_config = InferenceConfig(entry_script=script_file_name, environment=best_automl_run.get_environment())"
      ],
      "outputs": [],
      "execution_count": 17,
      "metadata": {
        "collapsed": true,
        "jupyter": {
          "source_hidden": false,
          "outputs_hidden": false
        },
        "nteract": {
          "transient": {
            "deleting": false
          }
        },
        "gather": {
          "logged": 1610462564236
        }
      }
    },
    {
      "cell_type": "code",
      "source": [
        "\r\n",
        "#Local Deployment\r\n",
        "from azureml.core.webservice import LocalWebservice\r\n",
        "local_config = LocalWebservice.deploy_configuration(port=9001)\r\n",
        "local_service = Model.deploy(ws, \"test\", [automl_model], inference_config, local_config)\r\n",
        "local_service.wait_for_deployment(show_output=True)\r\n",
        "\r\n",
        "#Set up the deployment_config as webservice\r\n",
        "aci_config = AciWebservice.deploy_configuration(cpu_cores=1, memory_gb=1, enable_app_insights=True)\r\n",
        "\r\n",
        "#Deploy the model\r\n",
        "service = Model.deploy(\r\n",
        "    workspace = ws,\r\n",
        "    name = \"heart-failure-model\",\r\n",
        "    models = [automl_model],\r\n",
        "    inference_config = inference_config,\r\n",
        "    deployment_config = aci_config, overwrite=True)\r\n",
        "\r\n",
        "#wait until deployment is complete\r\n",
        "service.wait_for_deployment(show_output = True)"
      ],
      "outputs": [
        {
          "output_type": "stream",
          "name": "stdout",
          "text": [
            "Downloading model automl_best_model:1 to /tmp/azureml_fs3bs7u2/automl_best_model/1\n",
            "Generating Docker build context.\n",
            "Package creation Succeeded\n",
            "Logging into Docker registry viennaglobal.azurecr.io\n",
            "Logging into Docker registry viennaglobal.azurecr.io\n",
            "Building Docker image from Dockerfile...\n",
            "Step 1/5 : FROM viennaglobal.azurecr.io/azureml/azureml_4f3cee89203e005745d1830c04fe722a\n",
            " ---> c354c32ff2d1\n",
            "Step 2/5 : COPY azureml-app /var/azureml-app\n",
            " ---> 62cf59afc481\n",
            "Step 3/5 : RUN mkdir -p '/var/azureml-app' && echo eyJhY2NvdW50Q29udGV4dCI6eyJzdWJzY3JpcHRpb25JZCI6ImFhN2NmOGU4LWQyM2YtNGJjZS1hN2I5LTFmMGI0ZTBhYzhlZSIsInJlc291cmNlR3JvdXBOYW1lIjoiYW1sLXF1aWNrc3RhcnRzLTEzNDQ1MSIsImFjY291bnROYW1lIjoicXVpY2stc3RhcnRzLXdzLTEzNDQ1MSIsIndvcmtzcGFjZUlkIjoiYzQwMTA1NWMtMWI0Mi00NTk4LTkzYjktMzQ3MDMzOTc0YjFjIn0sIm1vZGVscyI6e30sIm1vZGVsc0luZm8iOnt9fQ== | base64 --decode > /var/azureml-app/model_config_map.json\n",
            " ---> Running in c79e70c9d49e\n",
            " ---> 26ffd4e0f5a5\n",
            "Step 4/5 : RUN mv '/var/azureml-app/tmpmsxnfudx.py' /var/azureml-app/main.py\n",
            " ---> Running in da0b7d46c0e0\n",
            " ---> 2a06463bbee2\n",
            "Step 5/5 : CMD [\"runsvdir\",\"/var/runit\"]\n",
            " ---> Running in 946a491049bb\n",
            " ---> 208fe3e59e5b\n",
            "Successfully built 208fe3e59e5b\n",
            "Successfully tagged test:latest\n",
            "Container has been successfully cleaned up.\n",
            "Image sha256:85469ad8835cba401c598f5a58bd28a5fa6869f633931b2ef723f2ea22377a95 successfully removed.\n",
            "Starting Docker container...\n",
            "Docker container running.\n",
            "Checking container health...\n",
            "Local webservice is running at http://localhost:9001\n",
            "Tips: You can try get_logs(): https://aka.ms/debugimage#dockerlog or local deployment: https://aka.ms/debugimage#debug-locally to debug if deployment takes longer than 10 minutes.\n",
            "Running................................\n",
            "Succeeded\n",
            "ACI service creation operation finished, operation \"Succeeded\"\n"
          ]
        }
      ],
      "execution_count": 30,
      "metadata": {
        "collapsed": true,
        "jupyter": {
          "source_hidden": false,
          "outputs_hidden": false
        },
        "nteract": {
          "transient": {
            "deleting": false
          }
        },
        "gather": {
          "logged": 1610463987444
        }
      }
    },
    {
      "cell_type": "markdown",
      "source": [
        "TODO: In the cell below, send a request to the web service you deployed to test it."
      ],
      "metadata": {
        "collapsed": true,
        "gather": {
          "logged": 1598431657736
        },
        "jupyter": {
          "outputs_hidden": false,
          "source_hidden": false
        },
        "nteract": {
          "transient": {
            "deleting": false
          }
        }
      }
    },
    {
      "cell_type": "code",
      "source": [
        "pd.DataFrame(test_data).to_csv(\"data/test_ds.csv\")\r\n",
        "test_ds=pd.read_csv(\"data/test_ds.csv\")\r\n",
        "#test_ds.drop(test_ds.columns[0],axis=1,inplace=True)\r\n",
        "#test_ds.drop(test_ds.columns[12],axis=1,inplace=True)\r\n",
        "test_ds"
      ],
      "outputs": [
        {
          "output_type": "execute_result",
          "execution_count": 31,
          "data": {
            "text/plain": "    Unnamed: 0   age  anaemia  creatinine_phosphokinase  diabetes  \\\n0          247 64.00        0                       143         0   \n1           79 55.00        0                       336         0   \n2          204 78.00        1                        64         0   \n3           25 80.00        0                       148         1   \n4          163 50.00        1                      2334         1   \n5          234 53.00        1                       582         0   \n6          283 65.00        0                      1688         0   \n7          179 55.00        0                       835         0   \n8           31 85.00        0                        23         0   \n9           98 60.00        1                       156         1   \n10         256 65.00        0                       326         0   \n11         173 50.00        1                       115         0   \n12         201 45.00        0                       308         1   \n13         148 75.00        1                       582         0   \n14         134 81.00        0                      4540         0   \n15         260 55.00        0                        66         0   \n16          84 59.00        1                       280         1   \n17          15 82.00        1                       379         0   \n18         271 51.00        0                       582         1   \n19         249 53.00        0                       207         1   \n20         136 65.00        1                        59         1   \n21         180 40.00        0                       478         1   \n22          19 48.00        1                       582         1   \n23          13 50.00        1                       168         0   \n24          59 72.00        0                       364         1   \n25         125 43.00        1                       358         0   \n26         118 65.00        1                       113         1   \n27          85 51.00        0                        78         0   \n28         127 58.00        1                       200         1   \n29         265 50.00        1                       298         0   \n30          57 60.00        1                       607         0   \n31         133 63.00        0                       193         0   \n32         119 86.00        0                       582         0   \n33         195 77.00        1                       418         0   \n34          92 42.00        0                       582         0   \n35         198 50.00        1                       582         1   \n36          72 85.00        0                      5882         0   \n37          93 60.00        1                       154         0   \n38          11 62.00        0                       231         0   \n39         242 40.00        0                        90         0   \n40         137 68.00        1                       646         0   \n41         101 75.00        0                       582         0   \n42          95 58.00        1                       133         0   \n43           3 50.00        1                       111         0   \n44          78 75.00        1                       203         1   \n45         108 63.00        0                       936         0   \n46         210 70.00        0                       212         1   \n47         264 61.00        0                       582         1   \n48         183 75.00        0                        99         0   \n49         105 72.00        1                       328         0   \n50          20 65.00        1                        52         0   \n51         282 42.00        0                        64         0   \n52         213 48.00        1                       131         1   \n53          41 50.00        0                       124         1   \n54         110 85.00        0                       129         0   \n55           2 65.00        0                       146         0   \n56         257 58.00        0                       132         1   \n57           1 55.00        0                      7861         0   \n58         214 65.00        1                       135         0   \n59          35 69.00        0                       582         1   \n\n    ejection_fraction  high_blood_pressure  platelets  serum_creatinine  \\\n0                  25                    0  246000.00              2.40   \n1                  45                    1  324000.00              0.90   \n2                  40                    0  277000.00              0.70   \n3                  38                    0  149000.00              1.90   \n4                  35                    0   75000.00              0.90   \n5                  45                    0  305000.00              1.10   \n6                  38                    0  263358.03              1.10   \n7                  40                    0  279000.00              0.70   \n8                  45                    0  360000.00              3.00   \n9                  25                    1  318000.00              1.20   \n10                 38                    0  294000.00              1.70   \n11                 20                    0  189000.00              0.80   \n12                 60                    1  377000.00              1.00   \n13                 30                    0  225000.00              1.83   \n14                 35                    0  231000.00              1.18   \n15                 40                    0  203000.00              1.00   \n16                 25                    1  302000.00              1.00   \n17                 50                    0   47000.00              1.30   \n18                 40                    0  221000.00              0.90   \n19                 40                    0  223000.00              1.20   \n20                 60                    0  172000.00              0.90   \n21                 30                    0  303000.00              0.90   \n22                 55                    0   87000.00              1.90   \n23                 38                    1  276000.00              1.10   \n24                 20                    1  254000.00              1.30   \n25                 50                    0  237000.00              1.30   \n26                 60                    1  203000.00              0.90   \n27                 50                    0  406000.00              0.70   \n28                 60                    0  300000.00              0.80   \n29                 35                    0  362000.00              0.90   \n30                 40                    0  216000.00              0.60   \n31                 60                    1  295000.00              1.30   \n32                 38                    0  263358.03              1.83   \n33                 45                    0  223000.00              1.80   \n34                 60                    0  263358.03              1.18   \n35                 20                    1  279000.00              1.00   \n36                 35                    0  243000.00              1.00   \n37                 25                    0  210000.00              1.70   \n38                 25                    1  253000.00              0.90   \n39                 35                    0  255000.00              1.10   \n40                 25                    0  305000.00              2.10   \n41                 45                    1  263358.03              1.18   \n42                 60                    1  219000.00              1.00   \n43                 20                    0  210000.00              1.90   \n44                 38                    1  283000.00              0.60   \n45                 38                    0  304000.00              1.10   \n46                 17                    1  389000.00              1.00   \n47                 38                    0  147000.00              1.20   \n48                 38                    1  224000.00              2.50   \n49                 30                    1  621000.00              1.70   \n50                 25                    1  276000.00              1.30   \n51                 30                    0  215000.00              3.80   \n52                 30                    1  244000.00              1.60   \n53                 30                    1  153000.00              1.20   \n54                 60                    0  306000.00              1.20   \n55                 20                    0  162000.00              1.30   \n56                 38                    1  253000.00              1.00   \n57                 38                    0  263358.03              1.10   \n58                 35                    1  290000.00              0.80   \n59                 35                    0  228000.00              3.50   \n\n    serum_sodium  sex  smoking  time  DEATH_EVENT  \n0            135    1        0   214            0  \n1            140    0        0    74            0  \n2            137    1        1   187            0  \n3            144    1        1    23            1  \n4            142    0        0   126            1  \n5            137    1        1   209            0  \n6            138    1        1   250            0  \n7            140    1        1   147            0  \n8            132    1        0    28            1  \n9            137    0        0    85            0  \n10           139    0        0   220            0  \n11           139    1        0   146            0  \n12           136    1        0   186            0  \n13           134    1        0   113            1  \n14           137    1        1   107            0  \n15           138    1        0   233            0  \n16           141    0        0    78            1  \n17           136    1        0    13            1  \n18           134    0        0   244            0  \n19           130    0        0   214            0  \n20           137    0        0   107            0  \n21           136    1        0   148            0  \n22           121    0        0    15            1  \n23           137    1        0    11            1  \n24           136    1        1    59            1  \n25           135    0        0    97            0  \n26           140    0        0    94            0  \n27           140    1        0    79            0  \n28           137    0        0   104            0  \n29           140    1        1   240            0  \n30           138    1        1    54            0  \n31           145    1        1   107            0  \n32           134    0        0    95            1  \n33           145    1        0   180            1  \n34           137    0        0    82            0  \n35           134    0        0   186            0  \n36           132    1        1    72            1  \n37           135    1        0    82            1  \n38           140    1        1    10            1  \n39           136    1        1   212            0  \n40           130    1        0   108            0  \n41           137    1        0    87            0  \n42           141    1        0    83            0  \n43           137    1        0     7            1  \n44           131    1        1    74            0  \n45           133    1        1    88            0  \n46           136    1        1   188            0  \n47           141    1        0   237            0  \n48           134    1        0   162            1  \n49           138    0        1    88            1  \n50           137    0        0    16            0  \n51           128    1        1   250            0  \n52           130    0        0   193            1  \n53           136    0        1    32            1  \n54           132    1        1    90            1  \n55           129    1        1     7            1  \n56           139    1        0   230            0  \n57           136    1        0     6            1  \n58           134    1        0   194            0  \n59           134    1        0    30            1  ",
            "text/html": "<div>\n<style scoped>\n    .dataframe tbody tr th:only-of-type {\n        vertical-align: middle;\n    }\n\n    .dataframe tbody tr th {\n        vertical-align: top;\n    }\n\n    .dataframe thead th {\n        text-align: right;\n    }\n</style>\n<table border=\"1\" class=\"dataframe\">\n  <thead>\n    <tr style=\"text-align: right;\">\n      <th></th>\n      <th>Unnamed: 0</th>\n      <th>age</th>\n      <th>anaemia</th>\n      <th>creatinine_phosphokinase</th>\n      <th>diabetes</th>\n      <th>ejection_fraction</th>\n      <th>high_blood_pressure</th>\n      <th>platelets</th>\n      <th>serum_creatinine</th>\n      <th>serum_sodium</th>\n      <th>sex</th>\n      <th>smoking</th>\n      <th>time</th>\n      <th>DEATH_EVENT</th>\n    </tr>\n  </thead>\n  <tbody>\n    <tr>\n      <th>0</th>\n      <td>247</td>\n      <td>64.00</td>\n      <td>0</td>\n      <td>143</td>\n      <td>0</td>\n      <td>25</td>\n      <td>0</td>\n      <td>246000.00</td>\n      <td>2.40</td>\n      <td>135</td>\n      <td>1</td>\n      <td>0</td>\n      <td>214</td>\n      <td>0</td>\n    </tr>\n    <tr>\n      <th>1</th>\n      <td>79</td>\n      <td>55.00</td>\n      <td>0</td>\n      <td>336</td>\n      <td>0</td>\n      <td>45</td>\n      <td>1</td>\n      <td>324000.00</td>\n      <td>0.90</td>\n      <td>140</td>\n      <td>0</td>\n      <td>0</td>\n      <td>74</td>\n      <td>0</td>\n    </tr>\n    <tr>\n      <th>2</th>\n      <td>204</td>\n      <td>78.00</td>\n      <td>1</td>\n      <td>64</td>\n      <td>0</td>\n      <td>40</td>\n      <td>0</td>\n      <td>277000.00</td>\n      <td>0.70</td>\n      <td>137</td>\n      <td>1</td>\n      <td>1</td>\n      <td>187</td>\n      <td>0</td>\n    </tr>\n    <tr>\n      <th>3</th>\n      <td>25</td>\n      <td>80.00</td>\n      <td>0</td>\n      <td>148</td>\n      <td>1</td>\n      <td>38</td>\n      <td>0</td>\n      <td>149000.00</td>\n      <td>1.90</td>\n      <td>144</td>\n      <td>1</td>\n      <td>1</td>\n      <td>23</td>\n      <td>1</td>\n    </tr>\n    <tr>\n      <th>4</th>\n      <td>163</td>\n      <td>50.00</td>\n      <td>1</td>\n      <td>2334</td>\n      <td>1</td>\n      <td>35</td>\n      <td>0</td>\n      <td>75000.00</td>\n      <td>0.90</td>\n      <td>142</td>\n      <td>0</td>\n      <td>0</td>\n      <td>126</td>\n      <td>1</td>\n    </tr>\n    <tr>\n      <th>5</th>\n      <td>234</td>\n      <td>53.00</td>\n      <td>1</td>\n      <td>582</td>\n      <td>0</td>\n      <td>45</td>\n      <td>0</td>\n      <td>305000.00</td>\n      <td>1.10</td>\n      <td>137</td>\n      <td>1</td>\n      <td>1</td>\n      <td>209</td>\n      <td>0</td>\n    </tr>\n    <tr>\n      <th>6</th>\n      <td>283</td>\n      <td>65.00</td>\n      <td>0</td>\n      <td>1688</td>\n      <td>0</td>\n      <td>38</td>\n      <td>0</td>\n      <td>263358.03</td>\n      <td>1.10</td>\n      <td>138</td>\n      <td>1</td>\n      <td>1</td>\n      <td>250</td>\n      <td>0</td>\n    </tr>\n    <tr>\n      <th>7</th>\n      <td>179</td>\n      <td>55.00</td>\n      <td>0</td>\n      <td>835</td>\n      <td>0</td>\n      <td>40</td>\n      <td>0</td>\n      <td>279000.00</td>\n      <td>0.70</td>\n      <td>140</td>\n      <td>1</td>\n      <td>1</td>\n      <td>147</td>\n      <td>0</td>\n    </tr>\n    <tr>\n      <th>8</th>\n      <td>31</td>\n      <td>85.00</td>\n      <td>0</td>\n      <td>23</td>\n      <td>0</td>\n      <td>45</td>\n      <td>0</td>\n      <td>360000.00</td>\n      <td>3.00</td>\n      <td>132</td>\n      <td>1</td>\n      <td>0</td>\n      <td>28</td>\n      <td>1</td>\n    </tr>\n    <tr>\n      <th>9</th>\n      <td>98</td>\n      <td>60.00</td>\n      <td>1</td>\n      <td>156</td>\n      <td>1</td>\n      <td>25</td>\n      <td>1</td>\n      <td>318000.00</td>\n      <td>1.20</td>\n      <td>137</td>\n      <td>0</td>\n      <td>0</td>\n      <td>85</td>\n      <td>0</td>\n    </tr>\n    <tr>\n      <th>10</th>\n      <td>256</td>\n      <td>65.00</td>\n      <td>0</td>\n      <td>326</td>\n      <td>0</td>\n      <td>38</td>\n      <td>0</td>\n      <td>294000.00</td>\n      <td>1.70</td>\n      <td>139</td>\n      <td>0</td>\n      <td>0</td>\n      <td>220</td>\n      <td>0</td>\n    </tr>\n    <tr>\n      <th>11</th>\n      <td>173</td>\n      <td>50.00</td>\n      <td>1</td>\n      <td>115</td>\n      <td>0</td>\n      <td>20</td>\n      <td>0</td>\n      <td>189000.00</td>\n      <td>0.80</td>\n      <td>139</td>\n      <td>1</td>\n      <td>0</td>\n      <td>146</td>\n      <td>0</td>\n    </tr>\n    <tr>\n      <th>12</th>\n      <td>201</td>\n      <td>45.00</td>\n      <td>0</td>\n      <td>308</td>\n      <td>1</td>\n      <td>60</td>\n      <td>1</td>\n      <td>377000.00</td>\n      <td>1.00</td>\n      <td>136</td>\n      <td>1</td>\n      <td>0</td>\n      <td>186</td>\n      <td>0</td>\n    </tr>\n    <tr>\n      <th>13</th>\n      <td>148</td>\n      <td>75.00</td>\n      <td>1</td>\n      <td>582</td>\n      <td>0</td>\n      <td>30</td>\n      <td>0</td>\n      <td>225000.00</td>\n      <td>1.83</td>\n      <td>134</td>\n      <td>1</td>\n      <td>0</td>\n      <td>113</td>\n      <td>1</td>\n    </tr>\n    <tr>\n      <th>14</th>\n      <td>134</td>\n      <td>81.00</td>\n      <td>0</td>\n      <td>4540</td>\n      <td>0</td>\n      <td>35</td>\n      <td>0</td>\n      <td>231000.00</td>\n      <td>1.18</td>\n      <td>137</td>\n      <td>1</td>\n      <td>1</td>\n      <td>107</td>\n      <td>0</td>\n    </tr>\n    <tr>\n      <th>15</th>\n      <td>260</td>\n      <td>55.00</td>\n      <td>0</td>\n      <td>66</td>\n      <td>0</td>\n      <td>40</td>\n      <td>0</td>\n      <td>203000.00</td>\n      <td>1.00</td>\n      <td>138</td>\n      <td>1</td>\n      <td>0</td>\n      <td>233</td>\n      <td>0</td>\n    </tr>\n    <tr>\n      <th>16</th>\n      <td>84</td>\n      <td>59.00</td>\n      <td>1</td>\n      <td>280</td>\n      <td>1</td>\n      <td>25</td>\n      <td>1</td>\n      <td>302000.00</td>\n      <td>1.00</td>\n      <td>141</td>\n      <td>0</td>\n      <td>0</td>\n      <td>78</td>\n      <td>1</td>\n    </tr>\n    <tr>\n      <th>17</th>\n      <td>15</td>\n      <td>82.00</td>\n      <td>1</td>\n      <td>379</td>\n      <td>0</td>\n      <td>50</td>\n      <td>0</td>\n      <td>47000.00</td>\n      <td>1.30</td>\n      <td>136</td>\n      <td>1</td>\n      <td>0</td>\n      <td>13</td>\n      <td>1</td>\n    </tr>\n    <tr>\n      <th>18</th>\n      <td>271</td>\n      <td>51.00</td>\n      <td>0</td>\n      <td>582</td>\n      <td>1</td>\n      <td>40</td>\n      <td>0</td>\n      <td>221000.00</td>\n      <td>0.90</td>\n      <td>134</td>\n      <td>0</td>\n      <td>0</td>\n      <td>244</td>\n      <td>0</td>\n    </tr>\n    <tr>\n      <th>19</th>\n      <td>249</td>\n      <td>53.00</td>\n      <td>0</td>\n      <td>207</td>\n      <td>1</td>\n      <td>40</td>\n      <td>0</td>\n      <td>223000.00</td>\n      <td>1.20</td>\n      <td>130</td>\n      <td>0</td>\n      <td>0</td>\n      <td>214</td>\n      <td>0</td>\n    </tr>\n    <tr>\n      <th>20</th>\n      <td>136</td>\n      <td>65.00</td>\n      <td>1</td>\n      <td>59</td>\n      <td>1</td>\n      <td>60</td>\n      <td>0</td>\n      <td>172000.00</td>\n      <td>0.90</td>\n      <td>137</td>\n      <td>0</td>\n      <td>0</td>\n      <td>107</td>\n      <td>0</td>\n    </tr>\n    <tr>\n      <th>21</th>\n      <td>180</td>\n      <td>40.00</td>\n      <td>0</td>\n      <td>478</td>\n      <td>1</td>\n      <td>30</td>\n      <td>0</td>\n      <td>303000.00</td>\n      <td>0.90</td>\n      <td>136</td>\n      <td>1</td>\n      <td>0</td>\n      <td>148</td>\n      <td>0</td>\n    </tr>\n    <tr>\n      <th>22</th>\n      <td>19</td>\n      <td>48.00</td>\n      <td>1</td>\n      <td>582</td>\n      <td>1</td>\n      <td>55</td>\n      <td>0</td>\n      <td>87000.00</td>\n      <td>1.90</td>\n      <td>121</td>\n      <td>0</td>\n      <td>0</td>\n      <td>15</td>\n      <td>1</td>\n    </tr>\n    <tr>\n      <th>23</th>\n      <td>13</td>\n      <td>50.00</td>\n      <td>1</td>\n      <td>168</td>\n      <td>0</td>\n      <td>38</td>\n      <td>1</td>\n      <td>276000.00</td>\n      <td>1.10</td>\n      <td>137</td>\n      <td>1</td>\n      <td>0</td>\n      <td>11</td>\n      <td>1</td>\n    </tr>\n    <tr>\n      <th>24</th>\n      <td>59</td>\n      <td>72.00</td>\n      <td>0</td>\n      <td>364</td>\n      <td>1</td>\n      <td>20</td>\n      <td>1</td>\n      <td>254000.00</td>\n      <td>1.30</td>\n      <td>136</td>\n      <td>1</td>\n      <td>1</td>\n      <td>59</td>\n      <td>1</td>\n    </tr>\n    <tr>\n      <th>25</th>\n      <td>125</td>\n      <td>43.00</td>\n      <td>1</td>\n      <td>358</td>\n      <td>0</td>\n      <td>50</td>\n      <td>0</td>\n      <td>237000.00</td>\n      <td>1.30</td>\n      <td>135</td>\n      <td>0</td>\n      <td>0</td>\n      <td>97</td>\n      <td>0</td>\n    </tr>\n    <tr>\n      <th>26</th>\n      <td>118</td>\n      <td>65.00</td>\n      <td>1</td>\n      <td>113</td>\n      <td>1</td>\n      <td>60</td>\n      <td>1</td>\n      <td>203000.00</td>\n      <td>0.90</td>\n      <td>140</td>\n      <td>0</td>\n      <td>0</td>\n      <td>94</td>\n      <td>0</td>\n    </tr>\n    <tr>\n      <th>27</th>\n      <td>85</td>\n      <td>51.00</td>\n      <td>0</td>\n      <td>78</td>\n      <td>0</td>\n      <td>50</td>\n      <td>0</td>\n      <td>406000.00</td>\n      <td>0.70</td>\n      <td>140</td>\n      <td>1</td>\n      <td>0</td>\n      <td>79</td>\n      <td>0</td>\n    </tr>\n    <tr>\n      <th>28</th>\n      <td>127</td>\n      <td>58.00</td>\n      <td>1</td>\n      <td>200</td>\n      <td>1</td>\n      <td>60</td>\n      <td>0</td>\n      <td>300000.00</td>\n      <td>0.80</td>\n      <td>137</td>\n      <td>0</td>\n      <td>0</td>\n      <td>104</td>\n      <td>0</td>\n    </tr>\n    <tr>\n      <th>29</th>\n      <td>265</td>\n      <td>50.00</td>\n      <td>1</td>\n      <td>298</td>\n      <td>0</td>\n      <td>35</td>\n      <td>0</td>\n      <td>362000.00</td>\n      <td>0.90</td>\n      <td>140</td>\n      <td>1</td>\n      <td>1</td>\n      <td>240</td>\n      <td>0</td>\n    </tr>\n    <tr>\n      <th>30</th>\n      <td>57</td>\n      <td>60.00</td>\n      <td>1</td>\n      <td>607</td>\n      <td>0</td>\n      <td>40</td>\n      <td>0</td>\n      <td>216000.00</td>\n      <td>0.60</td>\n      <td>138</td>\n      <td>1</td>\n      <td>1</td>\n      <td>54</td>\n      <td>0</td>\n    </tr>\n    <tr>\n      <th>31</th>\n      <td>133</td>\n      <td>63.00</td>\n      <td>0</td>\n      <td>193</td>\n      <td>0</td>\n      <td>60</td>\n      <td>1</td>\n      <td>295000.00</td>\n      <td>1.30</td>\n      <td>145</td>\n      <td>1</td>\n      <td>1</td>\n      <td>107</td>\n      <td>0</td>\n    </tr>\n    <tr>\n      <th>32</th>\n      <td>119</td>\n      <td>86.00</td>\n      <td>0</td>\n      <td>582</td>\n      <td>0</td>\n      <td>38</td>\n      <td>0</td>\n      <td>263358.03</td>\n      <td>1.83</td>\n      <td>134</td>\n      <td>0</td>\n      <td>0</td>\n      <td>95</td>\n      <td>1</td>\n    </tr>\n    <tr>\n      <th>33</th>\n      <td>195</td>\n      <td>77.00</td>\n      <td>1</td>\n      <td>418</td>\n      <td>0</td>\n      <td>45</td>\n      <td>0</td>\n      <td>223000.00</td>\n      <td>1.80</td>\n      <td>145</td>\n      <td>1</td>\n      <td>0</td>\n      <td>180</td>\n      <td>1</td>\n    </tr>\n    <tr>\n      <th>34</th>\n      <td>92</td>\n      <td>42.00</td>\n      <td>0</td>\n      <td>582</td>\n      <td>0</td>\n      <td>60</td>\n      <td>0</td>\n      <td>263358.03</td>\n      <td>1.18</td>\n      <td>137</td>\n      <td>0</td>\n      <td>0</td>\n      <td>82</td>\n      <td>0</td>\n    </tr>\n    <tr>\n      <th>35</th>\n      <td>198</td>\n      <td>50.00</td>\n      <td>1</td>\n      <td>582</td>\n      <td>1</td>\n      <td>20</td>\n      <td>1</td>\n      <td>279000.00</td>\n      <td>1.00</td>\n      <td>134</td>\n      <td>0</td>\n      <td>0</td>\n      <td>186</td>\n      <td>0</td>\n    </tr>\n    <tr>\n      <th>36</th>\n      <td>72</td>\n      <td>85.00</td>\n      <td>0</td>\n      <td>5882</td>\n      <td>0</td>\n      <td>35</td>\n      <td>0</td>\n      <td>243000.00</td>\n      <td>1.00</td>\n      <td>132</td>\n      <td>1</td>\n      <td>1</td>\n      <td>72</td>\n      <td>1</td>\n    </tr>\n    <tr>\n      <th>37</th>\n      <td>93</td>\n      <td>60.00</td>\n      <td>1</td>\n      <td>154</td>\n      <td>0</td>\n      <td>25</td>\n      <td>0</td>\n      <td>210000.00</td>\n      <td>1.70</td>\n      <td>135</td>\n      <td>1</td>\n      <td>0</td>\n      <td>82</td>\n      <td>1</td>\n    </tr>\n    <tr>\n      <th>38</th>\n      <td>11</td>\n      <td>62.00</td>\n      <td>0</td>\n      <td>231</td>\n      <td>0</td>\n      <td>25</td>\n      <td>1</td>\n      <td>253000.00</td>\n      <td>0.90</td>\n      <td>140</td>\n      <td>1</td>\n      <td>1</td>\n      <td>10</td>\n      <td>1</td>\n    </tr>\n    <tr>\n      <th>39</th>\n      <td>242</td>\n      <td>40.00</td>\n      <td>0</td>\n      <td>90</td>\n      <td>0</td>\n      <td>35</td>\n      <td>0</td>\n      <td>255000.00</td>\n      <td>1.10</td>\n      <td>136</td>\n      <td>1</td>\n      <td>1</td>\n      <td>212</td>\n      <td>0</td>\n    </tr>\n    <tr>\n      <th>40</th>\n      <td>137</td>\n      <td>68.00</td>\n      <td>1</td>\n      <td>646</td>\n      <td>0</td>\n      <td>25</td>\n      <td>0</td>\n      <td>305000.00</td>\n      <td>2.10</td>\n      <td>130</td>\n      <td>1</td>\n      <td>0</td>\n      <td>108</td>\n      <td>0</td>\n    </tr>\n    <tr>\n      <th>41</th>\n      <td>101</td>\n      <td>75.00</td>\n      <td>0</td>\n      <td>582</td>\n      <td>0</td>\n      <td>45</td>\n      <td>1</td>\n      <td>263358.03</td>\n      <td>1.18</td>\n      <td>137</td>\n      <td>1</td>\n      <td>0</td>\n      <td>87</td>\n      <td>0</td>\n    </tr>\n    <tr>\n      <th>42</th>\n      <td>95</td>\n      <td>58.00</td>\n      <td>1</td>\n      <td>133</td>\n      <td>0</td>\n      <td>60</td>\n      <td>1</td>\n      <td>219000.00</td>\n      <td>1.00</td>\n      <td>141</td>\n      <td>1</td>\n      <td>0</td>\n      <td>83</td>\n      <td>0</td>\n    </tr>\n    <tr>\n      <th>43</th>\n      <td>3</td>\n      <td>50.00</td>\n      <td>1</td>\n      <td>111</td>\n      <td>0</td>\n      <td>20</td>\n      <td>0</td>\n      <td>210000.00</td>\n      <td>1.90</td>\n      <td>137</td>\n      <td>1</td>\n      <td>0</td>\n      <td>7</td>\n      <td>1</td>\n    </tr>\n    <tr>\n      <th>44</th>\n      <td>78</td>\n      <td>75.00</td>\n      <td>1</td>\n      <td>203</td>\n      <td>1</td>\n      <td>38</td>\n      <td>1</td>\n      <td>283000.00</td>\n      <td>0.60</td>\n      <td>131</td>\n      <td>1</td>\n      <td>1</td>\n      <td>74</td>\n      <td>0</td>\n    </tr>\n    <tr>\n      <th>45</th>\n      <td>108</td>\n      <td>63.00</td>\n      <td>0</td>\n      <td>936</td>\n      <td>0</td>\n      <td>38</td>\n      <td>0</td>\n      <td>304000.00</td>\n      <td>1.10</td>\n      <td>133</td>\n      <td>1</td>\n      <td>1</td>\n      <td>88</td>\n      <td>0</td>\n    </tr>\n    <tr>\n      <th>46</th>\n      <td>210</td>\n      <td>70.00</td>\n      <td>0</td>\n      <td>212</td>\n      <td>1</td>\n      <td>17</td>\n      <td>1</td>\n      <td>389000.00</td>\n      <td>1.00</td>\n      <td>136</td>\n      <td>1</td>\n      <td>1</td>\n      <td>188</td>\n      <td>0</td>\n    </tr>\n    <tr>\n      <th>47</th>\n      <td>264</td>\n      <td>61.00</td>\n      <td>0</td>\n      <td>582</td>\n      <td>1</td>\n      <td>38</td>\n      <td>0</td>\n      <td>147000.00</td>\n      <td>1.20</td>\n      <td>141</td>\n      <td>1</td>\n      <td>0</td>\n      <td>237</td>\n      <td>0</td>\n    </tr>\n    <tr>\n      <th>48</th>\n      <td>183</td>\n      <td>75.00</td>\n      <td>0</td>\n      <td>99</td>\n      <td>0</td>\n      <td>38</td>\n      <td>1</td>\n      <td>224000.00</td>\n      <td>2.50</td>\n      <td>134</td>\n      <td>1</td>\n      <td>0</td>\n      <td>162</td>\n      <td>1</td>\n    </tr>\n    <tr>\n      <th>49</th>\n      <td>105</td>\n      <td>72.00</td>\n      <td>1</td>\n      <td>328</td>\n      <td>0</td>\n      <td>30</td>\n      <td>1</td>\n      <td>621000.00</td>\n      <td>1.70</td>\n      <td>138</td>\n      <td>0</td>\n      <td>1</td>\n      <td>88</td>\n      <td>1</td>\n    </tr>\n    <tr>\n      <th>50</th>\n      <td>20</td>\n      <td>65.00</td>\n      <td>1</td>\n      <td>52</td>\n      <td>0</td>\n      <td>25</td>\n      <td>1</td>\n      <td>276000.00</td>\n      <td>1.30</td>\n      <td>137</td>\n      <td>0</td>\n      <td>0</td>\n      <td>16</td>\n      <td>0</td>\n    </tr>\n    <tr>\n      <th>51</th>\n      <td>282</td>\n      <td>42.00</td>\n      <td>0</td>\n      <td>64</td>\n      <td>0</td>\n      <td>30</td>\n      <td>0</td>\n      <td>215000.00</td>\n      <td>3.80</td>\n      <td>128</td>\n      <td>1</td>\n      <td>1</td>\n      <td>250</td>\n      <td>0</td>\n    </tr>\n    <tr>\n      <th>52</th>\n      <td>213</td>\n      <td>48.00</td>\n      <td>1</td>\n      <td>131</td>\n      <td>1</td>\n      <td>30</td>\n      <td>1</td>\n      <td>244000.00</td>\n      <td>1.60</td>\n      <td>130</td>\n      <td>0</td>\n      <td>0</td>\n      <td>193</td>\n      <td>1</td>\n    </tr>\n    <tr>\n      <th>53</th>\n      <td>41</td>\n      <td>50.00</td>\n      <td>0</td>\n      <td>124</td>\n      <td>1</td>\n      <td>30</td>\n      <td>1</td>\n      <td>153000.00</td>\n      <td>1.20</td>\n      <td>136</td>\n      <td>0</td>\n      <td>1</td>\n      <td>32</td>\n      <td>1</td>\n    </tr>\n    <tr>\n      <th>54</th>\n      <td>110</td>\n      <td>85.00</td>\n      <td>0</td>\n      <td>129</td>\n      <td>0</td>\n      <td>60</td>\n      <td>0</td>\n      <td>306000.00</td>\n      <td>1.20</td>\n      <td>132</td>\n      <td>1</td>\n      <td>1</td>\n      <td>90</td>\n      <td>1</td>\n    </tr>\n    <tr>\n      <th>55</th>\n      <td>2</td>\n      <td>65.00</td>\n      <td>0</td>\n      <td>146</td>\n      <td>0</td>\n      <td>20</td>\n      <td>0</td>\n      <td>162000.00</td>\n      <td>1.30</td>\n      <td>129</td>\n      <td>1</td>\n      <td>1</td>\n      <td>7</td>\n      <td>1</td>\n    </tr>\n    <tr>\n      <th>56</th>\n      <td>257</td>\n      <td>58.00</td>\n      <td>0</td>\n      <td>132</td>\n      <td>1</td>\n      <td>38</td>\n      <td>1</td>\n      <td>253000.00</td>\n      <td>1.00</td>\n      <td>139</td>\n      <td>1</td>\n      <td>0</td>\n      <td>230</td>\n      <td>0</td>\n    </tr>\n    <tr>\n      <th>57</th>\n      <td>1</td>\n      <td>55.00</td>\n      <td>0</td>\n      <td>7861</td>\n      <td>0</td>\n      <td>38</td>\n      <td>0</td>\n      <td>263358.03</td>\n      <td>1.10</td>\n      <td>136</td>\n      <td>1</td>\n      <td>0</td>\n      <td>6</td>\n      <td>1</td>\n    </tr>\n    <tr>\n      <th>58</th>\n      <td>214</td>\n      <td>65.00</td>\n      <td>1</td>\n      <td>135</td>\n      <td>0</td>\n      <td>35</td>\n      <td>1</td>\n      <td>290000.00</td>\n      <td>0.80</td>\n      <td>134</td>\n      <td>1</td>\n      <td>0</td>\n      <td>194</td>\n      <td>0</td>\n    </tr>\n    <tr>\n      <th>59</th>\n      <td>35</td>\n      <td>69.00</td>\n      <td>0</td>\n      <td>582</td>\n      <td>1</td>\n      <td>35</td>\n      <td>0</td>\n      <td>228000.00</td>\n      <td>3.50</td>\n      <td>134</td>\n      <td>1</td>\n      <td>0</td>\n      <td>30</td>\n      <td>1</td>\n    </tr>\n  </tbody>\n</table>\n</div>"
          },
          "metadata": {}
        }
      ],
      "execution_count": 31,
      "metadata": {
        "collapsed": true,
        "jupyter": {
          "source_hidden": false,
          "outputs_hidden": false
        },
        "nteract": {
          "transient": {
            "deleting": false
          }
        },
        "gather": {
          "logged": 1610464091203
        }
      }
    },
    {
      "cell_type": "code",
      "source": [
        "data= test_ds[0:3].to_json(orient=\"table\", index=False)\r\n",
        "test_sample=json.dumps(json.loads(data)[\"data\"],indent=4)\r\n",
        "output=service.run(test_sample)\r\n",
        "print(output)"
      ],
      "outputs": [
        {
          "output_type": "stream",
          "name": "stderr",
          "text": [
            "ERROR:azureml.core.webservice.aci:Received bad response from service. More information can be found by calling `.get_logs()` on the webservice object.\n",
            "Response Code: 502\n",
            "Headers: {'Connection': 'keep-alive', 'Content-Length': '68', 'Content-Type': 'text/html; charset=utf-8', 'Date': 'Tue, 12 Jan 2021 15:28:09 GMT', 'Server': 'nginx/1.10.3 (Ubuntu)', 'X-Ms-Request-Id': '01c5c44f-74ad-440c-bda2-936f91f92edc', 'X-Ms-Run-Function-Failed': 'True'}\n",
            "Content: b'FunctionWrapper object argument after ** must be a mapping, not list'\n",
            "\n"
          ]
        },
        {
          "output_type": "error",
          "ename": "WebserviceException",
          "evalue": "WebserviceException:\n\tMessage: Received bad response from service. More information can be found by calling `.get_logs()` on the webservice object.\nResponse Code: 502\nHeaders: {'Connection': 'keep-alive', 'Content-Length': '68', 'Content-Type': 'text/html; charset=utf-8', 'Date': 'Tue, 12 Jan 2021 15:28:09 GMT', 'Server': 'nginx/1.10.3 (Ubuntu)', 'X-Ms-Request-Id': '01c5c44f-74ad-440c-bda2-936f91f92edc', 'X-Ms-Run-Function-Failed': 'True'}\nContent: b'FunctionWrapper object argument after ** must be a mapping, not list'\n\tInnerException None\n\tErrorResponse \n{\n    \"error\": {\n        \"message\": \"Received bad response from service. More information can be found by calling `.get_logs()` on the webservice object.\\nResponse Code: 502\\nHeaders: {'Connection': 'keep-alive', 'Content-Length': '68', 'Content-Type': 'text/html; charset=utf-8', 'Date': 'Tue, 12 Jan 2021 15:28:09 GMT', 'Server': 'nginx/1.10.3 (Ubuntu)', 'X-Ms-Request-Id': '01c5c44f-74ad-440c-bda2-936f91f92edc', 'X-Ms-Run-Function-Failed': 'True'}\\nContent: b'FunctionWrapper object argument after ** must be a mapping, not list'\"\n    }\n}",
          "traceback": [
            "\u001b[0;31m---------------------------------------------------------------------------\u001b[0m",
            "\u001b[0;31mWebserviceException\u001b[0m                       Traceback (most recent call last)",
            "\u001b[0;32m<ipython-input-39-5fbccf246947>\u001b[0m in \u001b[0;36m<module>\u001b[0;34m\u001b[0m\n\u001b[1;32m      1\u001b[0m \u001b[0mdata\u001b[0m\u001b[0;34m=\u001b[0m \u001b[0mtest_ds\u001b[0m\u001b[0;34m[\u001b[0m\u001b[0;36m0\u001b[0m\u001b[0;34m:\u001b[0m\u001b[0;36m3\u001b[0m\u001b[0;34m]\u001b[0m\u001b[0;34m.\u001b[0m\u001b[0mto_json\u001b[0m\u001b[0;34m(\u001b[0m\u001b[0morient\u001b[0m\u001b[0;34m=\u001b[0m\u001b[0;34m\"table\"\u001b[0m\u001b[0;34m,\u001b[0m \u001b[0mindex\u001b[0m\u001b[0;34m=\u001b[0m\u001b[0;32mFalse\u001b[0m\u001b[0;34m)\u001b[0m\u001b[0;34m\u001b[0m\u001b[0;34m\u001b[0m\u001b[0m\n\u001b[1;32m      2\u001b[0m \u001b[0mtest_sample\u001b[0m\u001b[0;34m=\u001b[0m\u001b[0mjson\u001b[0m\u001b[0;34m.\u001b[0m\u001b[0mdumps\u001b[0m\u001b[0;34m(\u001b[0m\u001b[0mjson\u001b[0m\u001b[0;34m.\u001b[0m\u001b[0mloads\u001b[0m\u001b[0;34m(\u001b[0m\u001b[0mdata\u001b[0m\u001b[0;34m)\u001b[0m\u001b[0;34m[\u001b[0m\u001b[0;34m\"data\"\u001b[0m\u001b[0;34m]\u001b[0m\u001b[0;34m,\u001b[0m\u001b[0mindent\u001b[0m\u001b[0;34m=\u001b[0m\u001b[0;36m4\u001b[0m\u001b[0;34m)\u001b[0m\u001b[0;34m\u001b[0m\u001b[0;34m\u001b[0m\u001b[0m\n\u001b[0;32m----> 3\u001b[0;31m \u001b[0moutput\u001b[0m\u001b[0;34m=\u001b[0m\u001b[0mservice\u001b[0m\u001b[0;34m.\u001b[0m\u001b[0mrun\u001b[0m\u001b[0;34m(\u001b[0m\u001b[0mtest_sample\u001b[0m\u001b[0;34m)\u001b[0m\u001b[0;34m\u001b[0m\u001b[0;34m\u001b[0m\u001b[0m\n\u001b[0m\u001b[1;32m      4\u001b[0m \u001b[0mprint\u001b[0m\u001b[0;34m(\u001b[0m\u001b[0moutput\u001b[0m\u001b[0;34m)\u001b[0m\u001b[0;34m\u001b[0m\u001b[0;34m\u001b[0m\u001b[0m\n",
            "\u001b[0;32m/anaconda/envs/azureml_py36/lib/python3.6/site-packages/azureml/core/webservice/aci.py\u001b[0m in \u001b[0;36mrun\u001b[0;34m(self, input_data)\u001b[0m\n\u001b[1;32m    403\u001b[0m                                       \u001b[0;34m'Headers: {}\\n'\u001b[0m\u001b[0;34m\u001b[0m\u001b[0;34m\u001b[0m\u001b[0m\n\u001b[1;32m    404\u001b[0m                                       \u001b[0;34m'Content: {}'\u001b[0m\u001b[0;34m.\u001b[0m\u001b[0mformat\u001b[0m\u001b[0;34m(\u001b[0m\u001b[0mresp\u001b[0m\u001b[0;34m.\u001b[0m\u001b[0mstatus_code\u001b[0m\u001b[0;34m,\u001b[0m \u001b[0mresp\u001b[0m\u001b[0;34m.\u001b[0m\u001b[0mheaders\u001b[0m\u001b[0;34m,\u001b[0m \u001b[0mresp\u001b[0m\u001b[0;34m.\u001b[0m\u001b[0mcontent\u001b[0m\u001b[0;34m)\u001b[0m\u001b[0;34m,\u001b[0m\u001b[0;34m\u001b[0m\u001b[0;34m\u001b[0m\u001b[0m\n\u001b[0;32m--> 405\u001b[0;31m                                       logger=module_logger)\n\u001b[0m\u001b[1;32m    406\u001b[0m \u001b[0;34m\u001b[0m\u001b[0m\n\u001b[1;32m    407\u001b[0m     def update(self, image=None, tags=None, properties=None, description=None, auth_enabled=None, ssl_enabled=None,\n",
            "\u001b[0;31mWebserviceException\u001b[0m: WebserviceException:\n\tMessage: Received bad response from service. More information can be found by calling `.get_logs()` on the webservice object.\nResponse Code: 502\nHeaders: {'Connection': 'keep-alive', 'Content-Length': '68', 'Content-Type': 'text/html; charset=utf-8', 'Date': 'Tue, 12 Jan 2021 15:28:09 GMT', 'Server': 'nginx/1.10.3 (Ubuntu)', 'X-Ms-Request-Id': '01c5c44f-74ad-440c-bda2-936f91f92edc', 'X-Ms-Run-Function-Failed': 'True'}\nContent: b'FunctionWrapper object argument after ** must be a mapping, not list'\n\tInnerException None\n\tErrorResponse \n{\n    \"error\": {\n        \"message\": \"Received bad response from service. More information can be found by calling `.get_logs()` on the webservice object.\\nResponse Code: 502\\nHeaders: {'Connection': 'keep-alive', 'Content-Length': '68', 'Content-Type': 'text/html; charset=utf-8', 'Date': 'Tue, 12 Jan 2021 15:28:09 GMT', 'Server': 'nginx/1.10.3 (Ubuntu)', 'X-Ms-Request-Id': '01c5c44f-74ad-440c-bda2-936f91f92edc', 'X-Ms-Run-Function-Failed': 'True'}\\nContent: b'FunctionWrapper object argument after ** must be a mapping, not list'\"\n    }\n}"
          ]
        }
      ],
      "execution_count": 39,
      "metadata": {
        "collapsed": true,
        "jupyter": {
          "source_hidden": false,
          "outputs_hidden": false
        },
        "nteract": {
          "transient": {
            "deleting": false
          }
        },
        "gather": {
          "logged": 1610307994044
        }
      }
    },
    {
      "cell_type": "markdown",
      "source": [
        "TODO: In the cell below, print the logs of the web service and delete the service"
      ],
      "metadata": {
        "collapsed": true,
        "gather": {
          "logged": 1598432765711
        },
        "jupyter": {
          "outputs_hidden": false,
          "source_hidden": false
        },
        "nteract": {
          "transient": {
            "deleting": false
          }
        }
      }
    },
    {
      "cell_type": "code",
      "source": [
        "#Print the webservice logs\r\n",
        "print(service.get_logs())"
      ],
      "outputs": [
        {
          "output_type": "stream",
          "name": "stdout",
          "text": [
            "2021-01-12T15:05:58,523384000+00:00 - iot-server/run \n",
            "2021-01-12T15:05:58,537106000+00:00 - gunicorn/run \n",
            "2021-01-12T15:05:58,542058400+00:00 - rsyslog/run \n",
            "2021-01-12T15:05:58,579883400+00:00 - nginx/run \n",
            "/usr/sbin/nginx: /azureml-envs/azureml_8eff28b157f42edcd2424a5aae6c8074/lib/libcrypto.so.1.0.0: no version information available (required by /usr/sbin/nginx)\n",
            "/usr/sbin/nginx: /azureml-envs/azureml_8eff28b157f42edcd2424a5aae6c8074/lib/libcrypto.so.1.0.0: no version information available (required by /usr/sbin/nginx)\n",
            "/usr/sbin/nginx: /azureml-envs/azureml_8eff28b157f42edcd2424a5aae6c8074/lib/libssl.so.1.0.0: no version information available (required by /usr/sbin/nginx)\n",
            "/usr/sbin/nginx: /azureml-envs/azureml_8eff28b157f42edcd2424a5aae6c8074/lib/libssl.so.1.0.0: no version information available (required by /usr/sbin/nginx)\n",
            "/usr/sbin/nginx: /azureml-envs/azureml_8eff28b157f42edcd2424a5aae6c8074/lib/libssl.so.1.0.0: no version information available (required by /usr/sbin/nginx)\n",
            "rsyslogd: /azureml-envs/azureml_8eff28b157f42edcd2424a5aae6c8074/lib/libuuid.so.1: no version information available (required by rsyslogd)\n",
            "EdgeHubConnectionString and IOTEDGE_IOTHUBHOSTNAME are not set. Exiting...\n",
            "2021-01-12T15:06:00,660966300+00:00 - iot-server/finish 1 0\n",
            "2021-01-12T15:06:00,672030000+00:00 - Exit code 1 is normal. Not restarting iot-server.\n",
            "Starting gunicorn 19.9.0\n",
            "Listening at: http://127.0.0.1:31311 (67)\n",
            "Using worker: sync\n",
            "worker timeout is set to 300\n",
            "Booting worker with pid: 98\n",
            "SPARK_HOME not set. Skipping PySpark Initialization.\n",
            "Generating new fontManager, this may take some time...\n",
            "Initializing logger\n",
            "2021-01-12 15:06:06,987 | root | INFO | Starting up app insights client\n",
            "Starting up app insights client\n",
            "2021-01-12 15:06:06,988 | root | INFO | Starting up request id generator\n",
            "Starting up request id generator\n",
            "2021-01-12 15:06:06,989 | root | INFO | Starting up app insight hooks\n",
            "Starting up app insight hooks\n",
            "2021-01-12 15:06:06,989 | root | INFO | Invoking user's init function\n",
            "Invoking user's init function\n",
            "2021-01-12 15:06:16,593 | root | INFO | Users's init has completed successfully\n",
            "Users's init has completed successfully\n",
            "2021-01-12 15:06:16,604 | root | INFO | Skipping middleware: dbg_model_info as it's not enabled.\n",
            "Skipping middleware: dbg_model_info as it's not enabled.\n",
            "2021-01-12 15:06:16,604 | root | INFO | Skipping middleware: dbg_resource_usage as it's not enabled.\n",
            "Skipping middleware: dbg_resource_usage as it's not enabled.\n",
            "2021-01-12 15:06:16,607 | root | INFO | Scoring timeout is found from os.environ: 60000 ms\n",
            "Scoring timeout is found from os.environ: 60000 ms\n",
            "2021-01-12 15:06:23,620 | root | INFO | 200\n",
            "200\n",
            "127.0.0.1 - - [12/Jan/2021:15:06:23 +0000] \"GET /swagger.json HTTP/1.0\" 200 2935 \"-\" \"Go-http-client/1.1\"\n",
            "2021-01-12 15:06:26,826 | root | INFO | 200\n",
            "200\n",
            "127.0.0.1 - - [12/Jan/2021:15:06:26 +0000] \"GET /swagger.json HTTP/1.0\" 200 2935 \"-\" \"Go-http-client/1.1\"\n",
            "2021-01-12 15:07:12,356 | root | INFO | 200\n",
            "200\n",
            "127.0.0.1 - - [12/Jan/2021:15:07:12 +0000] \"GET /swagger.json HTTP/1.0\" 200 2935 \"-\" \"Go-http-client/1.1\"\n",
            "2021-01-12 15:07:12,621 | root | INFO | 200\n",
            "200\n",
            "127.0.0.1 - - [12/Jan/2021:15:07:12 +0000] \"GET /swagger.json HTTP/1.0\" 200 2935 \"-\" \"Go-http-client/1.1\"\n",
            "2021-01-12 15:08:20,597 | root | INFO | Validation Request Content-Type\n",
            "Validation Request Content-Type\n",
            "2021-01-12 15:08:20,598 | root | INFO | \tHost: localhost:5001\n",
            "\tHost: localhost:5001\n",
            "2021-01-12 15:08:20,598 | root | INFO | \tX-Real-Ip: 127.0.0.1\n",
            "\tX-Real-Ip: 127.0.0.1\n",
            "2021-01-12 15:08:20,599 | root | INFO | \tX-Forwarded-For: 127.0.0.1\n",
            "\tX-Forwarded-For: 127.0.0.1\n",
            "2021-01-12 15:08:20,599 | root | INFO | \tX-Forwarded-Proto: http\n",
            "\tX-Forwarded-Proto: http\n",
            "2021-01-12 15:08:20,599 | root | INFO | \tConnection: close\n",
            "\tConnection: close\n",
            "2021-01-12 15:08:20,599 | root | INFO | \tContent-Length: 1558\n",
            "\tContent-Length: 1558\n",
            "2021-01-12 15:08:20,599 | root | INFO | \tUser-Agent: python-requests/2.25.0\n",
            "\tUser-Agent: python-requests/2.25.0\n",
            "2021-01-12 15:08:20,599 | root | INFO | \tAccept: application/json\n",
            "\tAccept: application/json\n",
            "2021-01-12 15:08:20,600 | root | INFO | \tAccept-Encoding: gzip, deflate\n",
            "\tAccept-Encoding: gzip, deflate\n",
            "2021-01-12 15:08:20,600 | root | INFO | \tContent-Type: application/json\n",
            "\tContent-Type: application/json\n",
            "2021-01-12 15:08:20,600 | root | INFO | \tX-Ms-Request-Id: 2c125848-2c66-48a6-9cbe-e7c26bc778ec\n",
            "\tX-Ms-Request-Id: 2c125848-2c66-48a6-9cbe-e7c26bc778ec\n",
            "2021-01-12 15:08:20,600 | root | INFO | Scoring Timer is set to 60.0 seconds\n",
            "Scoring Timer is set to 60.0 seconds\n",
            "2021-01-12 15:08:20,618 | root | ERROR | Encountered Exception: Traceback (most recent call last):\n",
            "  File \"/var/azureml-server/app.py\", line 239, in run_scoring\n",
            "    response = invoke_user_with_timer(service_input, request_headers)\n",
            "  File \"/var/azureml-server/app.py\", line 309, in invoke_user_with_timer\n",
            "    result = user_main.run(**params)\n",
            "  File \"/azureml-envs/azureml_8eff28b157f42edcd2424a5aae6c8074/lib/python3.6/site-packages/wrapt/wrappers.py\", line 564, in __call__\n",
            "    args, kwargs)\n",
            "  File \"/azureml-envs/azureml_8eff28b157f42edcd2424a5aae6c8074/lib/python3.6/site-packages/inference_schema/schema_decorators.py\", line 57, in decorator_input\n",
            "    kwargs[param_name] = _deserialize_input_argument(kwargs[param_name], param_type, param_name)\n",
            "  File \"/azureml-envs/azureml_8eff28b157f42edcd2424a5aae6c8074/lib/python3.6/site-packages/inference_schema/schema_decorators.py\", line 285, in _deserialize_input_argument\n",
            "    input_data = param_type.deserialize_input(input_data)\n",
            "  File \"/azureml-envs/azureml_8eff28b157f42edcd2424a5aae6c8074/lib/python3.6/site-packages/inference_schema/parameter_types/pandas_parameter_type.py\", line 53, in deserialize_input\n",
            "    raise Exception(\"Error, unable to convert input of type {} into Pandas Dataframe\".format(type(input_data)))\n",
            "Exception: Error, unable to convert input of type <class 'str'> into Pandas Dataframe\n",
            "\n",
            "During handling of the above exception, another exception occurred:\n",
            "\n",
            "Traceback (most recent call last):\n",
            "  File \"/azureml-envs/azureml_8eff28b157f42edcd2424a5aae6c8074/lib/python3.6/site-packages/flask/app.py\", line 1832, in full_dispatch_request\n",
            "    rv = self.dispatch_request()\n",
            "  File \"/azureml-envs/azureml_8eff28b157f42edcd2424a5aae6c8074/lib/python3.6/site-packages/flask/app.py\", line 1818, in dispatch_request\n",
            "    return self.view_functions[rule.endpoint](**req.view_args)\n",
            "  File \"/var/azureml-server/app.py\", line 142, in score_realtime\n",
            "    return run_scoring(service_input, request.headers, request.environ.get('REQUEST_ID', '00000000-0000-0000-0000-000000000000'))\n",
            "  File \"/var/azureml-server/app.py\", line 252, in run_scoring\n",
            "    raise RunFunctionException(str(exc))\n",
            "run_function_exception.RunFunctionException\n",
            "\n",
            "Encountered Exception: Traceback (most recent call last):\n",
            "  File \"/var/azureml-server/app.py\", line 239, in run_scoring\n",
            "    response = invoke_user_with_timer(service_input, request_headers)\n",
            "  File \"/var/azureml-server/app.py\", line 309, in invoke_user_with_timer\n",
            "    result = user_main.run(**params)\n",
            "  File \"/azureml-envs/azureml_8eff28b157f42edcd2424a5aae6c8074/lib/python3.6/site-packages/wrapt/wrappers.py\", line 564, in __call__\n",
            "    args, kwargs)\n",
            "  File \"/azureml-envs/azureml_8eff28b157f42edcd2424a5aae6c8074/lib/python3.6/site-packages/inference_schema/schema_decorators.py\", line 57, in decorator_input\n",
            "    kwargs[param_name] = _deserialize_input_argument(kwargs[param_name], param_type, param_name)\n",
            "  File \"/azureml-envs/azureml_8eff28b157f42edcd2424a5aae6c8074/lib/python3.6/site-packages/inference_schema/schema_decorators.py\", line 285, in _deserialize_input_argument\n",
            "    input_data = param_type.deserialize_input(input_data)\n",
            "  File \"/azureml-envs/azureml_8eff28b157f42edcd2424a5aae6c8074/lib/python3.6/site-packages/inference_schema/parameter_types/pandas_parameter_type.py\", line 53, in deserialize_input\n",
            "    raise Exception(\"Error, unable to convert input of type {} into Pandas Dataframe\".format(type(input_data)))\n",
            "Exception: Error, unable to convert input of type <class 'str'> into Pandas Dataframe\n",
            "\n",
            "During handling of the above exception, another exception occurred:\n",
            "\n",
            "Traceback (most recent call last):\n",
            "  File \"/azureml-envs/azureml_8eff28b157f42edcd2424a5aae6c8074/lib/python3.6/site-packages/flask/app.py\", line 1832, in full_dispatch_request\n",
            "    rv = self.dispatch_request()\n",
            "  File \"/azureml-envs/azureml_8eff28b157f42edcd2424a5aae6c8074/lib/python3.6/site-packages/flask/app.py\", line 1818, in dispatch_request\n",
            "    return self.view_functions[rule.endpoint](**req.view_args)\n",
            "  File \"/var/azureml-server/app.py\", line 142, in score_realtime\n",
            "    return run_scoring(service_input, request.headers, request.environ.get('REQUEST_ID', '00000000-0000-0000-0000-000000000000'))\n",
            "  File \"/var/azureml-server/app.py\", line 252, in run_scoring\n",
            "    raise RunFunctionException(str(exc))\n",
            "run_function_exception.RunFunctionException\n",
            "\n",
            "2021-01-12 15:08:20,619 | root | INFO | 500\n",
            "500\n",
            "127.0.0.1 - - [12/Jan/2021:15:08:20 +0000] \"POST /score HTTP/1.0\" 500 74 \"-\" \"python-requests/2.25.0\"\n",
            "2021-01-12 15:08:20,654 | root | INFO | Validation Request Content-Type\n",
            "Validation Request Content-Type\n",
            "2021-01-12 15:08:20,655 | root | INFO | \tHost: localhost:5001\n",
            "\tHost: localhost:5001\n",
            "2021-01-12 15:08:20,656 | root | INFO | \tX-Real-Ip: 127.0.0.1\n",
            "\tX-Real-Ip: 127.0.0.1\n",
            "2021-01-12 15:08:20,656 | root | INFO | \tX-Forwarded-For: 127.0.0.1\n",
            "\tX-Forwarded-For: 127.0.0.1\n",
            "2021-01-12 15:08:20,657 | root | INFO | \tX-Forwarded-Proto: http\n",
            "\tX-Forwarded-Proto: http\n",
            "2021-01-12 15:08:20,657 | root | INFO | \tConnection: close\n",
            "\tConnection: close\n",
            "2021-01-12 15:08:20,658 | root | INFO | \tContent-Length: 1558\n",
            "\tContent-Length: 1558\n",
            "2021-01-12 15:08:20,658 | root | INFO | \tUser-Agent: python-requests/2.25.0\n",
            "\tUser-Agent: python-requests/2.25.0\n",
            "2021-01-12 15:08:20,659 | root | INFO | \tAccept: application/json\n",
            "\tAccept: application/json\n",
            "2021-01-12 15:08:20,659 | root | INFO | \tAccept-Encoding: gzip, deflate\n",
            "\tAccept-Encoding: gzip, deflate\n",
            "2021-01-12 15:08:20,659 | root | INFO | \tContent-Type: application/json\n",
            "\tContent-Type: application/json\n",
            "2021-01-12 15:08:20,659 | root | INFO | \tX-Ms-Request-Id: 96b9692f-9f9a-475e-a31c-dd445feadd96\n",
            "\tX-Ms-Request-Id: 96b9692f-9f9a-475e-a31c-dd445feadd96\n",
            "2021-01-12 15:08:20,670 | root | INFO | Scoring Timer is set to 60.0 seconds\n",
            "Scoring Timer is set to 60.0 seconds\n",
            "2021-01-12 15:08:20,671 | root | ERROR | Encountered Exception: Traceback (most recent call last):\n",
            "  File \"/var/azureml-server/app.py\", line 239, in run_scoring\n",
            "    response = invoke_user_with_timer(service_input, request_headers)\n",
            "  File \"/var/azureml-server/app.py\", line 309, in invoke_user_with_timer\n",
            "    result = user_main.run(**params)\n",
            "  File \"/azureml-envs/azureml_8eff28b157f42edcd2424a5aae6c8074/lib/python3.6/site-packages/wrapt/wrappers.py\", line 564, in __call__\n",
            "    args, kwargs)\n",
            "  File \"/azureml-envs/azureml_8eff28b157f42edcd2424a5aae6c8074/lib/python3.6/site-packages/inference_schema/schema_decorators.py\", line 57, in decorator_input\n",
            "    kwargs[param_name] = _deserialize_input_argument(kwargs[param_name], param_type, param_name)\n",
            "  File \"/azureml-envs/azureml_8eff28b157f42edcd2424a5aae6c8074/lib/python3.6/site-packages/inference_schema/schema_decorators.py\", line 285, in _deserialize_input_argument\n",
            "    input_data = param_type.deserialize_input(input_data)\n",
            "  File \"/azureml-envs/azureml_8eff28b157f42edcd2424a5aae6c8074/lib/python3.6/site-packages/inference_schema/parameter_types/pandas_parameter_type.py\", line 53, in deserialize_input\n",
            "    raise Exception(\"Error, unable to convert input of type {} into Pandas Dataframe\".format(type(input_data)))\n",
            "Exception: Error, unable to convert input of type <class 'str'> into Pandas Dataframe\n",
            "\n",
            "During handling of the above exception, another exception occurred:\n",
            "\n",
            "Traceback (most recent call last):\n",
            "  File \"/azureml-envs/azureml_8eff28b157f42edcd2424a5aae6c8074/lib/python3.6/site-packages/flask/app.py\", line 1832, in full_dispatch_request\n",
            "    rv = self.dispatch_request()\n",
            "  File \"/azureml-envs/azureml_8eff28b157f42edcd2424a5aae6c8074/lib/python3.6/site-packages/flask/app.py\", line 1818, in dispatch_request\n",
            "    return self.view_functions[rule.endpoint](**req.view_args)\n",
            "  File \"/var/azureml-server/app.py\", line 142, in score_realtime\n",
            "    return run_scoring(service_input, request.headers, request.environ.get('REQUEST_ID', '00000000-0000-0000-0000-000000000000'))\n",
            "  File \"/var/azureml-server/app.py\", line 252, in run_scoring\n",
            "    raise RunFunctionException(str(exc))\n",
            "run_function_exception.RunFunctionException\n",
            "\n",
            "Encountered Exception: Traceback (most recent call last):\n",
            "  File \"/var/azureml-server/app.py\", line 239, in run_scoring\n",
            "    response = invoke_user_with_timer(service_input, request_headers)\n",
            "  File \"/var/azureml-server/app.py\", line 309, in invoke_user_with_timer\n",
            "    result = user_main.run(**params)\n",
            "  File \"/azureml-envs/azureml_8eff28b157f42edcd2424a5aae6c8074/lib/python3.6/site-packages/wrapt/wrappers.py\", line 564, in __call__\n",
            "    args, kwargs)\n",
            "  File \"/azureml-envs/azureml_8eff28b157f42edcd2424a5aae6c8074/lib/python3.6/site-packages/inference_schema/schema_decorators.py\", line 57, in decorator_input\n",
            "    kwargs[param_name] = _deserialize_input_argument(kwargs[param_name], param_type, param_name)\n",
            "  File \"/azureml-envs/azureml_8eff28b157f42edcd2424a5aae6c8074/lib/python3.6/site-packages/inference_schema/schema_decorators.py\", line 285, in _deserialize_input_argument\n",
            "    input_data = param_type.deserialize_input(input_data)\n",
            "  File \"/azureml-envs/azureml_8eff28b157f42edcd2424a5aae6c8074/lib/python3.6/site-packages/inference_schema/parameter_types/pandas_parameter_type.py\", line 53, in deserialize_input\n",
            "    raise Exception(\"Error, unable to convert input of type {} into Pandas Dataframe\".format(type(input_data)))\n",
            "Exception: Error, unable to convert input of type <class 'str'> into Pandas Dataframe\n",
            "\n",
            "During handling of the above exception, another exception occurred:\n",
            "\n",
            "Traceback (most recent call last):\n",
            "  File \"/azureml-envs/azureml_8eff28b157f42edcd2424a5aae6c8074/lib/python3.6/site-packages/flask/app.py\", line 1832, in full_dispatch_request\n",
            "    rv = self.dispatch_request()\n",
            "  File \"/azureml-envs/azureml_8eff28b157f42edcd2424a5aae6c8074/lib/python3.6/site-packages/flask/app.py\", line 1818, in dispatch_request\n",
            "    return self.view_functions[rule.endpoint](**req.view_args)\n",
            "  File \"/var/azureml-server/app.py\", line 142, in score_realtime\n",
            "    return run_scoring(service_input, request.headers, request.environ.get('REQUEST_ID', '00000000-0000-0000-0000-000000000000'))\n",
            "  File \"/var/azureml-server/app.py\", line 252, in run_scoring\n",
            "    raise RunFunctionException(str(exc))\n",
            "run_function_exception.RunFunctionException\n",
            "\n",
            "2021-01-12 15:08:20,673 | root | INFO | 500\n",
            "500\n",
            "127.0.0.1 - - [12/Jan/2021:15:08:20 +0000] \"POST /score HTTP/1.0\" 500 74 \"-\" \"python-requests/2.25.0\"\n",
            "2021-01-12 15:08:21,685 | root | INFO | Validation Request Content-Type\n",
            "Validation Request Content-Type\n",
            "2021-01-12 15:08:21,692 | root | INFO | \tHost: localhost:5001\n",
            "\tHost: localhost:5001\n",
            "2021-01-12 15:08:21,692 | root | INFO | \tX-Real-Ip: 127.0.0.1\n",
            "\tX-Real-Ip: 127.0.0.1\n",
            "2021-01-12 15:08:21,692 | root | INFO | \tX-Forwarded-For: 127.0.0.1\n",
            "\tX-Forwarded-For: 127.0.0.1\n",
            "2021-01-12 15:08:21,693 | root | INFO | \tX-Forwarded-Proto: http\n",
            "\tX-Forwarded-Proto: http\n",
            "2021-01-12 15:08:21,693 | root | INFO | \tConnection: close\n",
            "\tConnection: close\n",
            "2021-01-12 15:08:21,694 | root | INFO | \tContent-Length: 1558\n",
            "\tContent-Length: 1558\n",
            "2021-01-12 15:08:21,694 | root | INFO | \tUser-Agent: python-requests/2.25.0\n",
            "\tUser-Agent: python-requests/2.25.0\n",
            "2021-01-12 15:08:21,695 | root | INFO | \tAccept: application/json\n",
            "\tAccept: application/json\n",
            "2021-01-12 15:08:21,695 | root | INFO | \tAccept-Encoding: gzip, deflate\n",
            "\tAccept-Encoding: gzip, deflate\n",
            "2021-01-12 15:08:21,696 | root | INFO | \tContent-Type: application/json\n",
            "\tContent-Type: application/json\n",
            "2021-01-12 15:08:21,697 | root | INFO | \tX-Ms-Request-Id: 5c4ae524-a87b-4d8c-a3f7-985fb8caeee8\n",
            "\tX-Ms-Request-Id: 5c4ae524-a87b-4d8c-a3f7-985fb8caeee8\n",
            "2021-01-12 15:08:21,697 | root | INFO | Scoring Timer is set to 60.0 seconds\n",
            "Scoring Timer is set to 60.0 seconds\n",
            "2021-01-12 15:08:21,698 | root | ERROR | Encountered Exception: Traceback (most recent call last):\n",
            "  File \"/var/azureml-server/app.py\", line 239, in run_scoring\n",
            "    response = invoke_user_with_timer(service_input, request_headers)\n",
            "  File \"/var/azureml-server/app.py\", line 309, in invoke_user_with_timer\n",
            "    result = user_main.run(**params)\n",
            "  File \"/azureml-envs/azureml_8eff28b157f42edcd2424a5aae6c8074/lib/python3.6/site-packages/wrapt/wrappers.py\", line 564, in __call__\n",
            "    args, kwargs)\n",
            "  File \"/azureml-envs/azureml_8eff28b157f42edcd2424a5aae6c8074/lib/python3.6/site-packages/inference_schema/schema_decorators.py\", line 57, in decorator_input\n",
            "    kwargs[param_name] = _deserialize_input_argument(kwargs[param_name], param_type, param_name)\n",
            "  File \"/azureml-envs/azureml_8eff28b157f42edcd2424a5aae6c8074/lib/python3.6/site-packages/inference_schema/schema_decorators.py\", line 285, in _deserialize_input_argument\n",
            "    input_data = param_type.deserialize_input(input_data)\n",
            "  File \"/azureml-envs/azureml_8eff28b157f42edcd2424a5aae6c8074/lib/python3.6/site-packages/inference_schema/parameter_types/pandas_parameter_type.py\", line 53, in deserialize_input\n",
            "    raise Exception(\"Error, unable to convert input of type {} into Pandas Dataframe\".format(type(input_data)))\n",
            "Exception: Error, unable to convert input of type <class 'str'> into Pandas Dataframe\n",
            "\n",
            "During handling of the above exception, another exception occurred:\n",
            "\n",
            "Traceback (most recent call last):\n",
            "  File \"/azureml-envs/azureml_8eff28b157f42edcd2424a5aae6c8074/lib/python3.6/site-packages/flask/app.py\", line 1832, in full_dispatch_request\n",
            "    rv = self.dispatch_request()\n",
            "  File \"/azureml-envs/azureml_8eff28b157f42edcd2424a5aae6c8074/lib/python3.6/site-packages/flask/app.py\", line 1818, in dispatch_request\n",
            "    return self.view_functions[rule.endpoint](**req.view_args)\n",
            "  File \"/var/azureml-server/app.py\", line 142, in score_realtime\n",
            "    return run_scoring(service_input, request.headers, request.environ.get('REQUEST_ID', '00000000-0000-0000-0000-000000000000'))\n",
            "  File \"/var/azureml-server/app.py\", line 252, in run_scoring\n",
            "    raise RunFunctionException(str(exc))\n",
            "run_function_exception.RunFunctionException\n",
            "\n",
            "Encountered Exception: Traceback (most recent call last):\n",
            "  File \"/var/azureml-server/app.py\", line 239, in run_scoring\n",
            "    response = invoke_user_with_timer(service_input, request_headers)\n",
            "  File \"/var/azureml-server/app.py\", line 309, in invoke_user_with_timer\n",
            "    result = user_main.run(**params)\n",
            "  File \"/azureml-envs/azureml_8eff28b157f42edcd2424a5aae6c8074/lib/python3.6/site-packages/wrapt/wrappers.py\", line 564, in __call__\n",
            "    args, kwargs)\n",
            "  File \"/azureml-envs/azureml_8eff28b157f42edcd2424a5aae6c8074/lib/python3.6/site-packages/inference_schema/schema_decorators.py\", line 57, in decorator_input\n",
            "    kwargs[param_name] = _deserialize_input_argument(kwargs[param_name], param_type, param_name)\n",
            "  File \"/azureml-envs/azureml_8eff28b157f42edcd2424a5aae6c8074/lib/python3.6/site-packages/inference_schema/schema_decorators.py\", line 285, in _deserialize_input_argument\n",
            "    input_data = param_type.deserialize_input(input_data)\n",
            "  File \"/azureml-envs/azureml_8eff28b157f42edcd2424a5aae6c8074/lib/python3.6/site-packages/inference_schema/parameter_types/pandas_parameter_type.py\", line 53, in deserialize_input\n",
            "    raise Exception(\"Error, unable to convert input of type {} into Pandas Dataframe\".format(type(input_data)))\n",
            "Exception: Error, unable to convert input of type <class 'str'> into Pandas Dataframe\n",
            "\n",
            "During handling of the above exception, another exception occurred:\n",
            "\n",
            "Traceback (most recent call last):\n",
            "  File \"/azureml-envs/azureml_8eff28b157f42edcd2424a5aae6c8074/lib/python3.6/site-packages/flask/app.py\", line 1832, in full_dispatch_request\n",
            "    rv = self.dispatch_request()\n",
            "  File \"/azureml-envs/azureml_8eff28b157f42edcd2424a5aae6c8074/lib/python3.6/site-packages/flask/app.py\", line 1818, in dispatch_request\n",
            "    return self.view_functions[rule.endpoint](**req.view_args)\n",
            "  File \"/var/azureml-server/app.py\", line 142, in score_realtime\n",
            "    return run_scoring(service_input, request.headers, request.environ.get('REQUEST_ID', '00000000-0000-0000-0000-000000000000'))\n",
            "  File \"/var/azureml-server/app.py\", line 252, in run_scoring\n",
            "    raise RunFunctionException(str(exc))\n",
            "run_function_exception.RunFunctionException\n",
            "\n",
            "2021-01-12 15:08:21,698 | root | INFO | 500\n",
            "500\n",
            "127.0.0.1 - - [12/Jan/2021:15:08:21 +0000] \"POST /score HTTP/1.0\" 500 74 \"-\" \"python-requests/2.25.0\"\n",
            "2021-01-12 15:08:23,708 | root | INFO | Validation Request Content-Type\n",
            "Validation Request Content-Type\n",
            "2021-01-12 15:08:23,709 | root | INFO | \tHost: localhost:5001\n",
            "\tHost: localhost:5001\n",
            "2021-01-12 15:08:23,709 | root | INFO | \tX-Real-Ip: 127.0.0.1\n",
            "\tX-Real-Ip: 127.0.0.1\n",
            "2021-01-12 15:08:23,710 | root | INFO | \tX-Forwarded-For: 127.0.0.1\n",
            "\tX-Forwarded-For: 127.0.0.1\n",
            "2021-01-12 15:08:23,710 | root | INFO | \tX-Forwarded-Proto: http\n",
            "\tX-Forwarded-Proto: http\n",
            "2021-01-12 15:08:23,710 | root | INFO | \tConnection: close\n",
            "\tConnection: close\n",
            "2021-01-12 15:08:23,710 | root | INFO | \tContent-Length: 1558\n",
            "\tContent-Length: 1558\n",
            "2021-01-12 15:08:23,710 | root | INFO | \tUser-Agent: python-requests/2.25.0\n",
            "\tUser-Agent: python-requests/2.25.0\n",
            "2021-01-12 15:08:23,711 | root | INFO | \tAccept: application/json\n",
            "\tAccept: application/json\n",
            "2021-01-12 15:08:23,712 | root | INFO | \tAccept-Encoding: gzip, deflate\n",
            "\tAccept-Encoding: gzip, deflate\n",
            "2021-01-12 15:08:23,712 | root | INFO | \tContent-Type: application/json\n",
            "\tContent-Type: application/json\n",
            "2021-01-12 15:08:23,713 | root | INFO | \tX-Ms-Request-Id: c0480885-d11a-460d-ba8b-23c8a7fb4d1b\n",
            "\tX-Ms-Request-Id: c0480885-d11a-460d-ba8b-23c8a7fb4d1b\n",
            "2021-01-12 15:08:23,714 | root | INFO | Scoring Timer is set to 60.0 seconds\n",
            "Scoring Timer is set to 60.0 seconds\n",
            "2021-01-12 15:08:23,715 | root | ERROR | Encountered Exception: Traceback (most recent call last):\n",
            "  File \"/var/azureml-server/app.py\", line 239, in run_scoring\n",
            "    response = invoke_user_with_timer(service_input, request_headers)\n",
            "  File \"/var/azureml-server/app.py\", line 309, in invoke_user_with_timer\n",
            "    result = user_main.run(**params)\n",
            "  File \"/azureml-envs/azureml_8eff28b157f42edcd2424a5aae6c8074/lib/python3.6/site-packages/wrapt/wrappers.py\", line 564, in __call__\n",
            "    args, kwargs)\n",
            "  File \"/azureml-envs/azureml_8eff28b157f42edcd2424a5aae6c8074/lib/python3.6/site-packages/inference_schema/schema_decorators.py\", line 57, in decorator_input\n",
            "    kwargs[param_name] = _deserialize_input_argument(kwargs[param_name], param_type, param_name)\n",
            "  File \"/azureml-envs/azureml_8eff28b157f42edcd2424a5aae6c8074/lib/python3.6/site-packages/inference_schema/schema_decorators.py\", line 285, in _deserialize_input_argument\n",
            "    input_data = param_type.deserialize_input(input_data)\n",
            "  File \"/azureml-envs/azureml_8eff28b157f42edcd2424a5aae6c8074/lib/python3.6/site-packages/inference_schema/parameter_types/pandas_parameter_type.py\", line 53, in deserialize_input\n",
            "    raise Exception(\"Error, unable to convert input of type {} into Pandas Dataframe\".format(type(input_data)))\n",
            "Exception: Error, unable to convert input of type <class 'str'> into Pandas Dataframe\n",
            "\n",
            "During handling of the above exception, another exception occurred:\n",
            "\n",
            "Traceback (most recent call last):\n",
            "  File \"/azureml-envs/azureml_8eff28b157f42edcd2424a5aae6c8074/lib/python3.6/site-packages/flask/app.py\", line 1832, in full_dispatch_request\n",
            "    rv = self.dispatch_request()\n",
            "  File \"/azureml-envs/azureml_8eff28b157f42edcd2424a5aae6c8074/lib/python3.6/site-packages/flask/app.py\", line 1818, in dispatch_request\n",
            "    return self.view_functions[rule.endpoint](**req.view_args)\n",
            "  File \"/var/azureml-server/app.py\", line 142, in score_realtime\n",
            "    return run_scoring(service_input, request.headers, request.environ.get('REQUEST_ID', '00000000-0000-0000-0000-000000000000'))\n",
            "  File \"/var/azureml-server/app.py\", line 252, in run_scoring\n",
            "    raise RunFunctionException(str(exc))\n",
            "run_function_exception.RunFunctionException\n",
            "\n",
            "Encountered Exception: Traceback (most recent call last):\n",
            "  File \"/var/azureml-server/app.py\", line 239, in run_scoring\n",
            "    response = invoke_user_with_timer(service_input, request_headers)\n",
            "  File \"/var/azureml-server/app.py\", line 309, in invoke_user_with_timer\n",
            "    result = user_main.run(**params)\n",
            "  File \"/azureml-envs/azureml_8eff28b157f42edcd2424a5aae6c8074/lib/python3.6/site-packages/wrapt/wrappers.py\", line 564, in __call__\n",
            "    args, kwargs)\n",
            "  File \"/azureml-envs/azureml_8eff28b157f42edcd2424a5aae6c8074/lib/python3.6/site-packages/inference_schema/schema_decorators.py\", line 57, in decorator_input\n",
            "    kwargs[param_name] = _deserialize_input_argument(kwargs[param_name], param_type, param_name)\n",
            "  File \"/azureml-envs/azureml_8eff28b157f42edcd2424a5aae6c8074/lib/python3.6/site-packages/inference_schema/schema_decorators.py\", line 285, in _deserialize_input_argument\n",
            "    input_data = param_type.deserialize_input(input_data)\n",
            "  File \"/azureml-envs/azureml_8eff28b157f42edcd2424a5aae6c8074/lib/python3.6/site-packages/inference_schema/parameter_types/pandas_parameter_type.py\", line 53, in deserialize_input\n",
            "    raise Exception(\"Error, unable to convert input of type {} into Pandas Dataframe\".format(type(input_data)))\n",
            "Exception: Error, unable to convert input of type <class 'str'> into Pandas Dataframe\n",
            "\n",
            "During handling of the above exception, another exception occurred:\n",
            "\n",
            "Traceback (most recent call last):\n",
            "  File \"/azureml-envs/azureml_8eff28b157f42edcd2424a5aae6c8074/lib/python3.6/site-packages/flask/app.py\", line 1832, in full_dispatch_request\n",
            "    rv = self.dispatch_request()\n",
            "  File \"/azureml-envs/azureml_8eff28b157f42edcd2424a5aae6c8074/lib/python3.6/site-packages/flask/app.py\", line 1818, in dispatch_request\n",
            "    return self.view_functions[rule.endpoint](**req.view_args)\n",
            "  File \"/var/azureml-server/app.py\", line 142, in score_realtime\n",
            "    return run_scoring(service_input, request.headers, request.environ.get('REQUEST_ID', '00000000-0000-0000-0000-000000000000'))\n",
            "  File \"/var/azureml-server/app.py\", line 252, in run_scoring\n",
            "    raise RunFunctionException(str(exc))\n",
            "run_function_exception.RunFunctionException\n",
            "\n",
            "2021-01-12 15:08:23,715 | root | INFO | 500\n",
            "500\n",
            "127.0.0.1 - - [12/Jan/2021:15:08:23 +0000] \"POST /score HTTP/1.0\" 500 74 \"-\" \"python-requests/2.25.0\"\n",
            "Exception in worker process\n",
            "Traceback (most recent call last):\n",
            "  File \"/azureml-envs/azureml_8eff28b157f42edcd2424a5aae6c8074/lib/python3.6/site-packages/gunicorn/arbiter.py\", line 583, in spawn_worker\n",
            "    worker.init_process()\n",
            "  File \"/azureml-envs/azureml_8eff28b157f42edcd2424a5aae6c8074/lib/python3.6/site-packages/gunicorn/workers/base.py\", line 134, in init_process\n",
            "    self.run()\n",
            "  File \"/azureml-envs/azureml_8eff28b157f42edcd2424a5aae6c8074/lib/python3.6/site-packages/gunicorn/workers/sync.py\", line 124, in run\n",
            "    self.run_for_one(timeout)\n",
            "  File \"/azureml-envs/azureml_8eff28b157f42edcd2424a5aae6c8074/lib/python3.6/site-packages/gunicorn/workers/sync.py\", line 83, in run_for_one\n",
            "    self.wait(timeout)\n",
            "  File \"/azureml-envs/azureml_8eff28b157f42edcd2424a5aae6c8074/lib/python3.6/site-packages/gunicorn/workers/sync.py\", line 35, in wait\n",
            "    ret = select.select(self.wait_fds, [], [], timeout)\n",
            "  File \"/var/azureml-server/app.py\", line 279, in alarm_handler\n",
            "    raise TimeoutException(error_message)\n",
            "timeout_exception.TimeoutException\n",
            "Worker exiting (pid: 98)\n",
            "worker timeout is set to 300\n",
            "Booting worker with pid: 173\n",
            "SPARK_HOME not set. Skipping PySpark Initialization.\n",
            "Initializing logger\n",
            "2021-01-12 15:09:26,662 | root | INFO | Starting up app insights client\n",
            "Starting up app insights client\n",
            "2021-01-12 15:09:26,663 | root | INFO | Starting up request id generator\n",
            "Starting up request id generator\n",
            "2021-01-12 15:09:26,664 | root | INFO | Starting up app insight hooks\n",
            "Starting up app insight hooks\n",
            "2021-01-12 15:09:26,664 | root | INFO | Invoking user's init function\n",
            "Invoking user's init function\n",
            "2021-01-12 15:09:29,442 | root | INFO | Users's init has completed successfully\n",
            "Users's init has completed successfully\n",
            "2021-01-12 15:09:29,445 | root | INFO | Skipping middleware: dbg_model_info as it's not enabled.\n",
            "Skipping middleware: dbg_model_info as it's not enabled.\n",
            "2021-01-12 15:09:29,445 | root | INFO | Skipping middleware: dbg_resource_usage as it's not enabled.\n",
            "Skipping middleware: dbg_resource_usage as it's not enabled.\n",
            "2021-01-12 15:09:29,448 | root | INFO | Scoring timeout is found from os.environ: 60000 ms\n",
            "Scoring timeout is found from os.environ: 60000 ms\n",
            "2021-01-12 15:15:27,720 | root | INFO | 200\n",
            "200\n",
            "127.0.0.1 - - [12/Jan/2021:15:15:27 +0000] \"GET /swagger.json HTTP/1.0\" 200 2935 \"-\" \"Go-http-client/1.1\"\n",
            "2021-01-12 15:15:28,183 | root | INFO | 200\n",
            "200\n",
            "127.0.0.1 - - [12/Jan/2021:15:15:28 +0000] \"GET /swagger.json HTTP/1.0\" 200 2935 \"-\" \"Go-http-client/1.1\"\n",
            "2021-01-12 15:16:09,065 | root | INFO | Validation Request Content-Type\n",
            "Validation Request Content-Type\n",
            "2021-01-12 15:16:09,066 | root | INFO | \tHost: localhost:5001\n",
            "\tHost: localhost:5001\n",
            "2021-01-12 15:16:09,066 | root | INFO | \tX-Real-Ip: 127.0.0.1\n",
            "\tX-Real-Ip: 127.0.0.1\n",
            "2021-01-12 15:16:09,069 | root | INFO | \tX-Forwarded-For: 127.0.0.1\n",
            "\tX-Forwarded-For: 127.0.0.1\n",
            "2021-01-12 15:16:09,070 | root | INFO | \tX-Forwarded-Proto: http\n",
            "\tX-Forwarded-Proto: http\n",
            "2021-01-12 15:16:09,070 | root | INFO | \tConnection: close\n",
            "\tConnection: close\n",
            "2021-01-12 15:16:09,071 | root | INFO | \tContent-Length: 238\n",
            "\tContent-Length: 238\n",
            "2021-01-12 15:16:09,072 | root | INFO | \tUser-Agent: python-requests/2.25.0\n",
            "\tUser-Agent: python-requests/2.25.0\n",
            "2021-01-12 15:16:09,072 | root | INFO | \tAccept: */*\n",
            "\tAccept: */*\n",
            "2021-01-12 15:16:09,073 | root | INFO | \tAccept-Encoding: gzip, deflate\n",
            "\tAccept-Encoding: gzip, deflate\n",
            "2021-01-12 15:16:09,073 | root | INFO | \tContent-Type: application/json\n",
            "\tContent-Type: application/json\n",
            "2021-01-12 15:16:09,075 | root | INFO | \tX-Ms-Request-Id: 436fb3e2-c232-438b-b2fe-f86ddcc5e8cf\n",
            "\tX-Ms-Request-Id: 436fb3e2-c232-438b-b2fe-f86ddcc5e8cf\n",
            "2021-01-12 15:16:09,076 | root | INFO | Scoring Timer is set to 60.0 seconds\n",
            "Scoring Timer is set to 60.0 seconds\n",
            "2021-01-12 15:16:09,122 | root | ERROR | Encountered Exception: Traceback (most recent call last):\n",
            "  File \"/var/azureml-server/app.py\", line 239, in run_scoring\n",
            "    response = invoke_user_with_timer(service_input, request_headers)\n",
            "  File \"/var/azureml-server/app.py\", line 309, in invoke_user_with_timer\n",
            "    result = user_main.run(**params)\n",
            "  File \"/azureml-envs/azureml_8eff28b157f42edcd2424a5aae6c8074/lib/python3.6/site-packages/wrapt/wrappers.py\", line 564, in __call__\n",
            "    args, kwargs)\n",
            "  File \"/azureml-envs/azureml_8eff28b157f42edcd2424a5aae6c8074/lib/python3.6/site-packages/inference_schema/schema_decorators.py\", line 57, in decorator_input\n",
            "    kwargs[param_name] = _deserialize_input_argument(kwargs[param_name], param_type, param_name)\n",
            "  File \"/azureml-envs/azureml_8eff28b157f42edcd2424a5aae6c8074/lib/python3.6/site-packages/inference_schema/schema_decorators.py\", line 285, in _deserialize_input_argument\n",
            "    input_data = param_type.deserialize_input(input_data)\n",
            "  File \"/azureml-envs/azureml_8eff28b157f42edcd2424a5aae6c8074/lib/python3.6/site-packages/inference_schema/parameter_types/pandas_parameter_type.py\", line 79, in deserialize_input\n",
            "    data_frame.shape[dim], dim, expected_shape[dim]))\n",
            "ValueError: Invalid input data frame: data frame has size 12 on dimension #1, while expected value is 13\n",
            "\n",
            "During handling of the above exception, another exception occurred:\n",
            "\n",
            "Traceback (most recent call last):\n",
            "  File \"/azureml-envs/azureml_8eff28b157f42edcd2424a5aae6c8074/lib/python3.6/site-packages/flask/app.py\", line 1832, in full_dispatch_request\n",
            "    rv = self.dispatch_request()\n",
            "  File \"/azureml-envs/azureml_8eff28b157f42edcd2424a5aae6c8074/lib/python3.6/site-packages/flask/app.py\", line 1818, in dispatch_request\n",
            "    return self.view_functions[rule.endpoint](**req.view_args)\n",
            "  File \"/var/azureml-server/app.py\", line 142, in score_realtime\n",
            "    return run_scoring(service_input, request.headers, request.environ.get('REQUEST_ID', '00000000-0000-0000-0000-000000000000'))\n",
            "  File \"/var/azureml-server/app.py\", line 252, in run_scoring\n",
            "    raise RunFunctionException(str(exc))\n",
            "run_function_exception.RunFunctionException\n",
            "\n",
            "Encountered Exception: Traceback (most recent call last):\n",
            "  File \"/var/azureml-server/app.py\", line 239, in run_scoring\n",
            "    response = invoke_user_with_timer(service_input, request_headers)\n",
            "  File \"/var/azureml-server/app.py\", line 309, in invoke_user_with_timer\n",
            "    result = user_main.run(**params)\n",
            "  File \"/azureml-envs/azureml_8eff28b157f42edcd2424a5aae6c8074/lib/python3.6/site-packages/wrapt/wrappers.py\", line 564, in __call__\n",
            "    args, kwargs)\n",
            "  File \"/azureml-envs/azureml_8eff28b157f42edcd2424a5aae6c8074/lib/python3.6/site-packages/inference_schema/schema_decorators.py\", line 57, in decorator_input\n",
            "    kwargs[param_name] = _deserialize_input_argument(kwargs[param_name], param_type, param_name)\n",
            "  File \"/azureml-envs/azureml_8eff28b157f42edcd2424a5aae6c8074/lib/python3.6/site-packages/inference_schema/schema_decorators.py\", line 285, in _deserialize_input_argument\n",
            "    input_data = param_type.deserialize_input(input_data)\n",
            "  File \"/azureml-envs/azureml_8eff28b157f42edcd2424a5aae6c8074/lib/python3.6/site-packages/inference_schema/parameter_types/pandas_parameter_type.py\", line 79, in deserialize_input\n",
            "    data_frame.shape[dim], dim, expected_shape[dim]))\n",
            "ValueError: Invalid input data frame: data frame has size 12 on dimension #1, while expected value is 13\n",
            "\n",
            "During handling of the above exception, another exception occurred:\n",
            "\n",
            "Traceback (most recent call last):\n",
            "  File \"/azureml-envs/azureml_8eff28b157f42edcd2424a5aae6c8074/lib/python3.6/site-packages/flask/app.py\", line 1832, in full_dispatch_request\n",
            "    rv = self.dispatch_request()\n",
            "  File \"/azureml-envs/azureml_8eff28b157f42edcd2424a5aae6c8074/lib/python3.6/site-packages/flask/app.py\", line 1818, in dispatch_request\n",
            "    return self.view_functions[rule.endpoint](**req.view_args)\n",
            "  File \"/var/azureml-server/app.py\", line 142, in score_realtime\n",
            "    return run_scoring(service_input, request.headers, request.environ.get('REQUEST_ID', '00000000-0000-0000-0000-000000000000'))\n",
            "  File \"/var/azureml-server/app.py\", line 252, in run_scoring\n",
            "    raise RunFunctionException(str(exc))\n",
            "run_function_exception.RunFunctionException\n",
            "\n",
            "2021-01-12 15:16:09,127 | root | INFO | 500\n",
            "500\n",
            "127.0.0.1 - - [12/Jan/2021:15:16:09 +0000] \"POST /score HTTP/1.0\" 500 92 \"-\" \"python-requests/2.25.0\"\n",
            "2021-01-12 15:16:32,921 | root | INFO | 200\n",
            "200\n",
            "127.0.0.1 - - [12/Jan/2021:15:16:32 +0000] \"GET /swagger.json HTTP/1.0\" 200 2935 \"-\" \"Go-http-client/1.1\"\n",
            "2021-01-12 15:16:33,268 | root | INFO | 200\n",
            "200\n",
            "127.0.0.1 - - [12/Jan/2021:15:16:33 +0000] \"GET /swagger.json HTTP/1.0\" 200 2935 \"-\" \"Go-http-client/1.1\"\n",
            "Exception in worker process\n",
            "Traceback (most recent call last):\n",
            "  File \"/azureml-envs/azureml_8eff28b157f42edcd2424a5aae6c8074/lib/python3.6/site-packages/gunicorn/arbiter.py\", line 583, in spawn_worker\n",
            "    worker.init_process()\n",
            "  File \"/azureml-envs/azureml_8eff28b157f42edcd2424a5aae6c8074/lib/python3.6/site-packages/gunicorn/workers/base.py\", line 134, in init_process\n",
            "    self.run()\n",
            "  File \"/azureml-envs/azureml_8eff28b157f42edcd2424a5aae6c8074/lib/python3.6/site-packages/gunicorn/workers/sync.py\", line 124, in run\n",
            "    self.run_for_one(timeout)\n",
            "  File \"/azureml-envs/azureml_8eff28b157f42edcd2424a5aae6c8074/lib/python3.6/site-packages/gunicorn/workers/sync.py\", line 83, in run_for_one\n",
            "    self.wait(timeout)\n",
            "  File \"/azureml-envs/azureml_8eff28b157f42edcd2424a5aae6c8074/lib/python3.6/site-packages/gunicorn/workers/sync.py\", line 35, in wait\n",
            "    ret = select.select(self.wait_fds, [], [], timeout)\n",
            "  File \"/var/azureml-server/app.py\", line 279, in alarm_handler\n",
            "    raise TimeoutException(error_message)\n",
            "timeout_exception.TimeoutException\n",
            "Worker exiting (pid: 173)\n",
            "worker timeout is set to 300\n",
            "Booting worker with pid: 304\n",
            "SPARK_HOME not set. Skipping PySpark Initialization.\n",
            "Initializing logger\n",
            "2021-01-12 15:17:11,406 | root | INFO | Starting up app insights client\n",
            "Starting up app insights client\n",
            "2021-01-12 15:17:11,407 | root | INFO | Starting up request id generator\n",
            "Starting up request id generator\n",
            "2021-01-12 15:17:11,407 | root | INFO | Starting up app insight hooks\n",
            "Starting up app insight hooks\n",
            "2021-01-12 15:17:11,408 | root | INFO | Invoking user's init function\n",
            "Invoking user's init function\n",
            "2021-01-12 15:17:14,197 | root | INFO | Users's init has completed successfully\n",
            "Users's init has completed successfully\n",
            "2021-01-12 15:17:14,205 | root | INFO | Skipping middleware: dbg_model_info as it's not enabled.\n",
            "Skipping middleware: dbg_model_info as it's not enabled.\n",
            "2021-01-12 15:17:14,207 | root | INFO | Skipping middleware: dbg_resource_usage as it's not enabled.\n",
            "Skipping middleware: dbg_resource_usage as it's not enabled.\n",
            "2021-01-12 15:17:14,213 | root | INFO | Scoring timeout is found from os.environ: 60000 ms\n",
            "Scoring timeout is found from os.environ: 60000 ms\n",
            "2021-01-12 15:17:14,226 | root | INFO | Validation Request Content-Type\n",
            "Validation Request Content-Type\n",
            "2021-01-12 15:17:14,228 | root | INFO | \tHost: localhost:5001\n",
            "\tHost: localhost:5001\n",
            "2021-01-12 15:17:14,229 | root | INFO | \tX-Real-Ip: 127.0.0.1\n",
            "\tX-Real-Ip: 127.0.0.1\n",
            "2021-01-12 15:17:14,229 | root | INFO | \tX-Forwarded-For: 127.0.0.1\n",
            "\tX-Forwarded-For: 127.0.0.1\n",
            "2021-01-12 15:17:14,230 | root | INFO | \tX-Forwarded-Proto: http\n",
            "\tX-Forwarded-Proto: http\n",
            "2021-01-12 15:17:14,233 | root | INFO | \tConnection: close\n",
            "\tConnection: close\n",
            "2021-01-12 15:17:14,234 | root | INFO | \tContent-Length: 238\n",
            "\tContent-Length: 238\n",
            "2021-01-12 15:17:14,235 | root | INFO | \tUser-Agent: python-requests/2.25.0\n",
            "\tUser-Agent: python-requests/2.25.0\n",
            "2021-01-12 15:17:14,236 | root | INFO | \tAccept: */*\n",
            "\tAccept: */*\n",
            "2021-01-12 15:17:14,253 | root | INFO | \tAccept-Encoding: gzip, deflate\n",
            "\tAccept-Encoding: gzip, deflate\n",
            "2021-01-12 15:17:14,253 | root | INFO | \tContent-Type: application/json\n",
            "\tContent-Type: application/json\n",
            "2021-01-12 15:17:14,253 | root | INFO | \tX-Ms-Request-Id: 1c76eb07-d1d5-403a-86de-18fa6054edfb\n",
            "\tX-Ms-Request-Id: 1c76eb07-d1d5-403a-86de-18fa6054edfb\n",
            "2021-01-12 15:17:14,254 | root | INFO | Scoring Timer is set to 60.0 seconds\n",
            "Scoring Timer is set to 60.0 seconds\n",
            "2021-01-12 15:17:14,290 | root | ERROR | Encountered Exception: Traceback (most recent call last):\n",
            "  File \"/var/azureml-server/app.py\", line 239, in run_scoring\n",
            "    response = invoke_user_with_timer(service_input, request_headers)\n",
            "  File \"/var/azureml-server/app.py\", line 309, in invoke_user_with_timer\n",
            "    result = user_main.run(**params)\n",
            "  File \"/azureml-envs/azureml_8eff28b157f42edcd2424a5aae6c8074/lib/python3.6/site-packages/wrapt/wrappers.py\", line 564, in __call__\n",
            "    args, kwargs)\n",
            "  File \"/azureml-envs/azureml_8eff28b157f42edcd2424a5aae6c8074/lib/python3.6/site-packages/inference_schema/schema_decorators.py\", line 57, in decorator_input\n",
            "    kwargs[param_name] = _deserialize_input_argument(kwargs[param_name], param_type, param_name)\n",
            "  File \"/azureml-envs/azureml_8eff28b157f42edcd2424a5aae6c8074/lib/python3.6/site-packages/inference_schema/schema_decorators.py\", line 285, in _deserialize_input_argument\n",
            "    input_data = param_type.deserialize_input(input_data)\n",
            "  File \"/azureml-envs/azureml_8eff28b157f42edcd2424a5aae6c8074/lib/python3.6/site-packages/inference_schema/parameter_types/pandas_parameter_type.py\", line 79, in deserialize_input\n",
            "    data_frame.shape[dim], dim, expected_shape[dim]))\n",
            "ValueError: Invalid input data frame: data frame has size 12 on dimension #1, while expected value is 13\n",
            "\n",
            "During handling of the above exception, another exception occurred:\n",
            "\n",
            "Traceback (most recent call last):\n",
            "  File \"/azureml-envs/azureml_8eff28b157f42edcd2424a5aae6c8074/lib/python3.6/site-packages/flask/app.py\", line 1832, in full_dispatch_request\n",
            "    rv = self.dispatch_request()\n",
            "  File \"/azureml-envs/azureml_8eff28b157f42edcd2424a5aae6c8074/lib/python3.6/site-packages/flask/app.py\", line 1818, in dispatch_request\n",
            "    return self.view_functions[rule.endpoint](**req.view_args)\n",
            "  File \"/var/azureml-server/app.py\", line 142, in score_realtime\n",
            "    return run_scoring(service_input, request.headers, request.environ.get('REQUEST_ID', '00000000-0000-0000-0000-000000000000'))\n",
            "  File \"/var/azureml-server/app.py\", line 252, in run_scoring\n",
            "    raise RunFunctionException(str(exc))\n",
            "run_function_exception.RunFunctionException\n",
            "\n",
            "Encountered Exception: Traceback (most recent call last):\n",
            "  File \"/var/azureml-server/app.py\", line 239, in run_scoring\n",
            "    response = invoke_user_with_timer(service_input, request_headers)\n",
            "  File \"/var/azureml-server/app.py\", line 309, in invoke_user_with_timer\n",
            "    result = user_main.run(**params)\n",
            "  File \"/azureml-envs/azureml_8eff28b157f42edcd2424a5aae6c8074/lib/python3.6/site-packages/wrapt/wrappers.py\", line 564, in __call__\n",
            "    args, kwargs)\n",
            "  File \"/azureml-envs/azureml_8eff28b157f42edcd2424a5aae6c8074/lib/python3.6/site-packages/inference_schema/schema_decorators.py\", line 57, in decorator_input\n",
            "    kwargs[param_name] = _deserialize_input_argument(kwargs[param_name], param_type, param_name)\n",
            "  File \"/azureml-envs/azureml_8eff28b157f42edcd2424a5aae6c8074/lib/python3.6/site-packages/inference_schema/schema_decorators.py\", line 285, in _deserialize_input_argument\n",
            "    input_data = param_type.deserialize_input(input_data)\n",
            "  File \"/azureml-envs/azureml_8eff28b157f42edcd2424a5aae6c8074/lib/python3.6/site-packages/inference_schema/parameter_types/pandas_parameter_type.py\", line 79, in deserialize_input\n",
            "    data_frame.shape[dim], dim, expected_shape[dim]))\n",
            "ValueError: Invalid input data frame: data frame has size 12 on dimension #1, while expected value is 13\n",
            "\n",
            "During handling of the above exception, another exception occurred:\n",
            "\n",
            "Traceback (most recent call last):\n",
            "  File \"/azureml-envs/azureml_8eff28b157f42edcd2424a5aae6c8074/lib/python3.6/site-packages/flask/app.py\", line 1832, in full_dispatch_request\n",
            "    rv = self.dispatch_request()\n",
            "  File \"/azureml-envs/azureml_8eff28b157f42edcd2424a5aae6c8074/lib/python3.6/site-packages/flask/app.py\", line 1818, in dispatch_request\n",
            "    return self.view_functions[rule.endpoint](**req.view_args)\n",
            "  File \"/var/azureml-server/app.py\", line 142, in score_realtime\n",
            "    return run_scoring(service_input, request.headers, request.environ.get('REQUEST_ID', '00000000-0000-0000-0000-000000000000'))\n",
            "  File \"/var/azureml-server/app.py\", line 252, in run_scoring\n",
            "    raise RunFunctionException(str(exc))\n",
            "run_function_exception.RunFunctionException\n",
            "\n",
            "2021-01-12 15:17:14,291 | root | INFO | 500\n",
            "500\n",
            "127.0.0.1 - - [12/Jan/2021:15:17:14 +0000] \"POST /score HTTP/1.0\" 500 92 \"-\" \"python-requests/2.25.0\"\n",
            "Exception in worker process\n",
            "Traceback (most recent call last):\n",
            "  File \"/azureml-envs/azureml_8eff28b157f42edcd2424a5aae6c8074/lib/python3.6/site-packages/gunicorn/arbiter.py\", line 583, in spawn_worker\n",
            "    worker.init_process()\n",
            "  File \"/azureml-envs/azureml_8eff28b157f42edcd2424a5aae6c8074/lib/python3.6/site-packages/gunicorn/workers/base.py\", line 134, in init_process\n",
            "    self.run()\n",
            "  File \"/azureml-envs/azureml_8eff28b157f42edcd2424a5aae6c8074/lib/python3.6/site-packages/gunicorn/workers/sync.py\", line 124, in run\n",
            "    self.run_for_one(timeout)\n",
            "  File \"/azureml-envs/azureml_8eff28b157f42edcd2424a5aae6c8074/lib/python3.6/site-packages/gunicorn/workers/sync.py\", line 83, in run_for_one\n",
            "    self.wait(timeout)\n",
            "  File \"/azureml-envs/azureml_8eff28b157f42edcd2424a5aae6c8074/lib/python3.6/site-packages/gunicorn/workers/sync.py\", line 35, in wait\n",
            "    ret = select.select(self.wait_fds, [], [], timeout)\n",
            "  File \"/var/azureml-server/app.py\", line 279, in alarm_handler\n",
            "    raise TimeoutException(error_message)\n",
            "timeout_exception.TimeoutException\n",
            "Worker exiting (pid: 304)\n",
            "worker timeout is set to 300\n",
            "Booting worker with pid: 337\n",
            "SPARK_HOME not set. Skipping PySpark Initialization.\n",
            "Initializing logger\n",
            "2021-01-12 15:18:16,932 | root | INFO | Starting up app insights client\n",
            "Starting up app insights client\n",
            "2021-01-12 15:18:16,933 | root | INFO | Starting up request id generator\n",
            "Starting up request id generator\n",
            "2021-01-12 15:18:16,933 | root | INFO | Starting up app insight hooks\n",
            "Starting up app insight hooks\n",
            "2021-01-12 15:18:16,933 | root | INFO | Invoking user's init function\n",
            "Invoking user's init function\n",
            "2021-01-12 15:18:19,779 | root | INFO | Users's init has completed successfully\n",
            "Users's init has completed successfully\n",
            "2021-01-12 15:18:19,785 | root | INFO | Skipping middleware: dbg_model_info as it's not enabled.\n",
            "Skipping middleware: dbg_model_info as it's not enabled.\n",
            "2021-01-12 15:18:19,785 | root | INFO | Skipping middleware: dbg_resource_usage as it's not enabled.\n",
            "Skipping middleware: dbg_resource_usage as it's not enabled.\n",
            "2021-01-12 15:18:19,789 | root | INFO | Scoring timeout is found from os.environ: 60000 ms\n",
            "Scoring timeout is found from os.environ: 60000 ms\n",
            "2021-01-12 15:28:06,646 | root | INFO | Validation Request Content-Type\n",
            "Validation Request Content-Type\n",
            "2021-01-12 15:28:06,647 | root | INFO | \tHost: localhost:5001\n",
            "\tHost: localhost:5001\n",
            "2021-01-12 15:28:06,648 | root | INFO | \tX-Real-Ip: 127.0.0.1\n",
            "\tX-Real-Ip: 127.0.0.1\n",
            "2021-01-12 15:28:06,651 | root | INFO | \tX-Forwarded-For: 127.0.0.1\n",
            "\tX-Forwarded-For: 127.0.0.1\n",
            "2021-01-12 15:28:06,652 | root | INFO | \tX-Forwarded-Proto: http\n",
            "\tX-Forwarded-Proto: http\n",
            "2021-01-12 15:28:06,652 | root | INFO | \tConnection: close\n",
            "\tConnection: close\n",
            "2021-01-12 15:28:06,653 | root | INFO | \tContent-Length: 1178\n",
            "\tContent-Length: 1178\n",
            "2021-01-12 15:28:06,653 | root | INFO | \tUser-Agent: python-requests/2.25.0\n",
            "\tUser-Agent: python-requests/2.25.0\n",
            "2021-01-12 15:28:06,653 | root | INFO | \tAccept: application/json\n",
            "\tAccept: application/json\n",
            "2021-01-12 15:28:06,654 | root | INFO | \tAccept-Encoding: gzip, deflate\n",
            "\tAccept-Encoding: gzip, deflate\n",
            "2021-01-12 15:28:06,654 | root | INFO | \tContent-Type: application/json\n",
            "\tContent-Type: application/json\n",
            "2021-01-12 15:28:06,655 | root | INFO | \tX-Ms-Request-Id: 70217195-349e-455b-97f6-acfacfe80ac1\n",
            "\tX-Ms-Request-Id: 70217195-349e-455b-97f6-acfacfe80ac1\n",
            "2021-01-12 15:28:06,656 | root | INFO | Scoring Timer is set to 60.0 seconds\n",
            "Scoring Timer is set to 60.0 seconds\n",
            "2021-01-12 15:28:06,661 | root | ERROR | Encountered Exception: Traceback (most recent call last):\n",
            "  File \"/var/azureml-server/app.py\", line 239, in run_scoring\n",
            "    response = invoke_user_with_timer(service_input, request_headers)\n",
            "  File \"/var/azureml-server/app.py\", line 309, in invoke_user_with_timer\n",
            "    result = user_main.run(**params)\n",
            "TypeError: FunctionWrapper object argument after ** must be a mapping, not list\n",
            "\n",
            "During handling of the above exception, another exception occurred:\n",
            "\n",
            "Traceback (most recent call last):\n",
            "  File \"/azureml-envs/azureml_8eff28b157f42edcd2424a5aae6c8074/lib/python3.6/site-packages/flask/app.py\", line 1832, in full_dispatch_request\n",
            "    rv = self.dispatch_request()\n",
            "  File \"/azureml-envs/azureml_8eff28b157f42edcd2424a5aae6c8074/lib/python3.6/site-packages/flask/app.py\", line 1818, in dispatch_request\n",
            "    return self.view_functions[rule.endpoint](**req.view_args)\n",
            "  File \"/var/azureml-server/app.py\", line 142, in score_realtime\n",
            "    return run_scoring(service_input, request.headers, request.environ.get('REQUEST_ID', '00000000-0000-0000-0000-000000000000'))\n",
            "  File \"/var/azureml-server/app.py\", line 252, in run_scoring\n",
            "    raise RunFunctionException(str(exc))\n",
            "run_function_exception.RunFunctionException\n",
            "\n",
            "Encountered Exception: Traceback (most recent call last):\n",
            "  File \"/var/azureml-server/app.py\", line 239, in run_scoring\n",
            "    response = invoke_user_with_timer(service_input, request_headers)\n",
            "  File \"/var/azureml-server/app.py\", line 309, in invoke_user_with_timer\n",
            "    result = user_main.run(**params)\n",
            "TypeError: FunctionWrapper object argument after ** must be a mapping, not list\n",
            "\n",
            "During handling of the above exception, another exception occurred:\n",
            "\n",
            "Traceback (most recent call last):\n",
            "  File \"/azureml-envs/azureml_8eff28b157f42edcd2424a5aae6c8074/lib/python3.6/site-packages/flask/app.py\", line 1832, in full_dispatch_request\n",
            "    rv = self.dispatch_request()\n",
            "  File \"/azureml-envs/azureml_8eff28b157f42edcd2424a5aae6c8074/lib/python3.6/site-packages/flask/app.py\", line 1818, in dispatch_request\n",
            "    return self.view_functions[rule.endpoint](**req.view_args)\n",
            "  File \"/var/azureml-server/app.py\", line 142, in score_realtime\n",
            "    return run_scoring(service_input, request.headers, request.environ.get('REQUEST_ID', '00000000-0000-0000-0000-000000000000'))\n",
            "  File \"/var/azureml-server/app.py\", line 252, in run_scoring\n",
            "    raise RunFunctionException(str(exc))\n",
            "run_function_exception.RunFunctionException\n",
            "\n",
            "2021-01-12 15:28:06,673 | root | INFO | 500\n",
            "500\n",
            "127.0.0.1 - - [12/Jan/2021:15:28:06 +0000] \"POST /score HTTP/1.0\" 500 68 \"-\" \"python-requests/2.25.0\"\n",
            "2021-01-12 15:28:06,694 | root | INFO | Validation Request Content-Type\n",
            "Validation Request Content-Type\n",
            "2021-01-12 15:28:06,694 | root | INFO | \tHost: localhost:5001\n",
            "\tHost: localhost:5001\n",
            "2021-01-12 15:28:06,695 | root | INFO | \tX-Real-Ip: 127.0.0.1\n",
            "\tX-Real-Ip: 127.0.0.1\n",
            "2021-01-12 15:28:06,695 | root | INFO | \tX-Forwarded-For: 127.0.0.1\n",
            "\tX-Forwarded-For: 127.0.0.1\n",
            "2021-01-12 15:28:06,695 | root | INFO | \tX-Forwarded-Proto: http\n",
            "\tX-Forwarded-Proto: http\n",
            "2021-01-12 15:28:06,695 | root | INFO | \tConnection: close\n",
            "\tConnection: close\n",
            "2021-01-12 15:28:06,695 | root | INFO | \tContent-Length: 1178\n",
            "\tContent-Length: 1178\n",
            "2021-01-12 15:28:06,700 | root | INFO | \tUser-Agent: python-requests/2.25.0\n",
            "\tUser-Agent: python-requests/2.25.0\n",
            "2021-01-12 15:28:06,700 | root | INFO | \tAccept: application/json\n",
            "\tAccept: application/json\n",
            "2021-01-12 15:28:06,700 | root | INFO | \tAccept-Encoding: gzip, deflate\n",
            "\tAccept-Encoding: gzip, deflate\n",
            "2021-01-12 15:28:06,700 | root | INFO | \tContent-Type: application/json\n",
            "\tContent-Type: application/json\n",
            "2021-01-12 15:28:06,701 | root | INFO | \tX-Ms-Request-Id: 1ac09b30-dd40-4eb8-8178-8e0cf119db5f\n",
            "\tX-Ms-Request-Id: 1ac09b30-dd40-4eb8-8178-8e0cf119db5f\n",
            "2021-01-12 15:28:06,701 | root | INFO | Scoring Timer is set to 60.0 seconds\n",
            "Scoring Timer is set to 60.0 seconds\n",
            "2021-01-12 15:28:06,702 | root | ERROR | Encountered Exception: Traceback (most recent call last):\n",
            "  File \"/var/azureml-server/app.py\", line 239, in run_scoring\n",
            "    response = invoke_user_with_timer(service_input, request_headers)\n",
            "  File \"/var/azureml-server/app.py\", line 309, in invoke_user_with_timer\n",
            "    result = user_main.run(**params)\n",
            "TypeError: FunctionWrapper object argument after ** must be a mapping, not list\n",
            "\n",
            "During handling of the above exception, another exception occurred:\n",
            "\n",
            "Traceback (most recent call last):\n",
            "  File \"/azureml-envs/azureml_8eff28b157f42edcd2424a5aae6c8074/lib/python3.6/site-packages/flask/app.py\", line 1832, in full_dispatch_request\n",
            "    rv = self.dispatch_request()\n",
            "  File \"/azureml-envs/azureml_8eff28b157f42edcd2424a5aae6c8074/lib/python3.6/site-packages/flask/app.py\", line 1818, in dispatch_request\n",
            "    return self.view_functions[rule.endpoint](**req.view_args)\n",
            "  File \"/var/azureml-server/app.py\", line 142, in score_realtime\n",
            "    return run_scoring(service_input, request.headers, request.environ.get('REQUEST_ID', '00000000-0000-0000-0000-000000000000'))\n",
            "  File \"/var/azureml-server/app.py\", line 252, in run_scoring\n",
            "    raise RunFunctionException(str(exc))\n",
            "run_function_exception.RunFunctionException\n",
            "\n",
            "Encountered Exception: Traceback (most recent call last):\n",
            "  File \"/var/azureml-server/app.py\", line 239, in run_scoring\n",
            "    response = invoke_user_with_timer(service_input, request_headers)\n",
            "  File \"/var/azureml-server/app.py\", line 309, in invoke_user_with_timer\n",
            "    result = user_main.run(**params)\n",
            "TypeError: FunctionWrapper object argument after ** must be a mapping, not list\n",
            "\n",
            "During handling of the above exception, another exception occurred:\n",
            "\n",
            "Traceback (most recent call last):\n",
            "  File \"/azureml-envs/azureml_8eff28b157f42edcd2424a5aae6c8074/lib/python3.6/site-packages/flask/app.py\", line 1832, in full_dispatch_request\n",
            "    rv = self.dispatch_request()\n",
            "  File \"/azureml-envs/azureml_8eff28b157f42edcd2424a5aae6c8074/lib/python3.6/site-packages/flask/app.py\", line 1818, in dispatch_request\n",
            "    return self.view_functions[rule.endpoint](**req.view_args)\n",
            "  File \"/var/azureml-server/app.py\", line 142, in score_realtime\n",
            "    return run_scoring(service_input, request.headers, request.environ.get('REQUEST_ID', '00000000-0000-0000-0000-000000000000'))\n",
            "  File \"/var/azureml-server/app.py\", line 252, in run_scoring\n",
            "    raise RunFunctionException(str(exc))\n",
            "run_function_exception.RunFunctionException\n",
            "\n",
            "2021-01-12 15:28:06,702 | root | INFO | 500\n",
            "500\n",
            "127.0.0.1 - - [12/Jan/2021:15:28:06 +0000] \"POST /score HTTP/1.0\" 500 68 \"-\" \"python-requests/2.25.0\"\n",
            "2021-01-12 15:28:07,711 | root | INFO | Validation Request Content-Type\n",
            "Validation Request Content-Type\n",
            "2021-01-12 15:28:07,712 | root | INFO | \tHost: localhost:5001\n",
            "\tHost: localhost:5001\n",
            "2021-01-12 15:28:07,712 | root | INFO | \tX-Real-Ip: 127.0.0.1\n",
            "\tX-Real-Ip: 127.0.0.1\n",
            "2021-01-12 15:28:07,712 | root | INFO | \tX-Forwarded-For: 127.0.0.1\n",
            "\tX-Forwarded-For: 127.0.0.1\n",
            "2021-01-12 15:28:07,712 | root | INFO | \tX-Forwarded-Proto: http\n",
            "\tX-Forwarded-Proto: http\n",
            "2021-01-12 15:28:07,714 | root | INFO | \tConnection: close\n",
            "\tConnection: close\n",
            "2021-01-12 15:28:07,714 | root | INFO | \tContent-Length: 1178\n",
            "\tContent-Length: 1178\n",
            "2021-01-12 15:28:07,715 | root | INFO | \tUser-Agent: python-requests/2.25.0\n",
            "\tUser-Agent: python-requests/2.25.0\n",
            "2021-01-12 15:28:07,715 | root | INFO | \tAccept: application/json\n",
            "\tAccept: application/json\n",
            "2021-01-12 15:28:07,716 | root | INFO | \tAccept-Encoding: gzip, deflate\n",
            "\tAccept-Encoding: gzip, deflate\n",
            "2021-01-12 15:28:07,716 | root | INFO | \tContent-Type: application/json\n",
            "\tContent-Type: application/json\n",
            "2021-01-12 15:28:07,716 | root | INFO | \tX-Ms-Request-Id: 67fb0f63-bdac-415d-8668-3a2189b6111d\n",
            "\tX-Ms-Request-Id: 67fb0f63-bdac-415d-8668-3a2189b6111d\n",
            "2021-01-12 15:28:07,719 | root | INFO | Scoring Timer is set to 60.0 seconds\n",
            "Scoring Timer is set to 60.0 seconds\n",
            "2021-01-12 15:28:07,721 | root | ERROR | Encountered Exception: Traceback (most recent call last):\n",
            "  File \"/var/azureml-server/app.py\", line 239, in run_scoring\n",
            "    response = invoke_user_with_timer(service_input, request_headers)\n",
            "  File \"/var/azureml-server/app.py\", line 309, in invoke_user_with_timer\n",
            "    result = user_main.run(**params)\n",
            "TypeError: FunctionWrapper object argument after ** must be a mapping, not list\n",
            "\n",
            "During handling of the above exception, another exception occurred:\n",
            "\n",
            "Traceback (most recent call last):\n",
            "  File \"/azureml-envs/azureml_8eff28b157f42edcd2424a5aae6c8074/lib/python3.6/site-packages/flask/app.py\", line 1832, in full_dispatch_request\n",
            "    rv = self.dispatch_request()\n",
            "  File \"/azureml-envs/azureml_8eff28b157f42edcd2424a5aae6c8074/lib/python3.6/site-packages/flask/app.py\", line 1818, in dispatch_request\n",
            "    return self.view_functions[rule.endpoint](**req.view_args)\n",
            "  File \"/var/azureml-server/app.py\", line 142, in score_realtime\n",
            "    return run_scoring(service_input, request.headers, request.environ.get('REQUEST_ID', '00000000-0000-0000-0000-000000000000'))\n",
            "  File \"/var/azureml-server/app.py\", line 252, in run_scoring\n",
            "    raise RunFunctionException(str(exc))\n",
            "run_function_exception.RunFunctionException\n",
            "\n",
            "Encountered Exception: Traceback (most recent call last):\n",
            "  File \"/var/azureml-server/app.py\", line 239, in run_scoring\n",
            "    response = invoke_user_with_timer(service_input, request_headers)\n",
            "  File \"/var/azureml-server/app.py\", line 309, in invoke_user_with_timer\n",
            "    result = user_main.run(**params)\n",
            "TypeError: FunctionWrapper object argument after ** must be a mapping, not list\n",
            "\n",
            "During handling of the above exception, another exception occurred:\n",
            "\n",
            "Traceback (most recent call last):\n",
            "  File \"/azureml-envs/azureml_8eff28b157f42edcd2424a5aae6c8074/lib/python3.6/site-packages/flask/app.py\", line 1832, in full_dispatch_request\n",
            "    rv = self.dispatch_request()\n",
            "  File \"/azureml-envs/azureml_8eff28b157f42edcd2424a5aae6c8074/lib/python3.6/site-packages/flask/app.py\", line 1818, in dispatch_request\n",
            "    return self.view_functions[rule.endpoint](**req.view_args)\n",
            "  File \"/var/azureml-server/app.py\", line 142, in score_realtime\n",
            "    return run_scoring(service_input, request.headers, request.environ.get('REQUEST_ID', '00000000-0000-0000-0000-000000000000'))\n",
            "  File \"/var/azureml-server/app.py\", line 252, in run_scoring\n",
            "    raise RunFunctionException(str(exc))\n",
            "run_function_exception.RunFunctionException\n",
            "\n",
            "2021-01-12 15:28:07,722 | root | INFO | 500\n",
            "500\n",
            "127.0.0.1 - - [12/Jan/2021:15:28:07 +0000] \"POST /score HTTP/1.0\" 500 68 \"-\" \"python-requests/2.25.0\"\n",
            "2021-01-12 15:28:09,732 | root | INFO | Validation Request Content-Type\n",
            "Validation Request Content-Type\n",
            "2021-01-12 15:28:09,733 | root | INFO | \tHost: localhost:5001\n",
            "\tHost: localhost:5001\n",
            "2021-01-12 15:28:09,733 | root | INFO | \tX-Real-Ip: 127.0.0.1\n",
            "\tX-Real-Ip: 127.0.0.1\n",
            "2021-01-12 15:28:09,733 | root | INFO | \tX-Forwarded-For: 127.0.0.1\n",
            "\tX-Forwarded-For: 127.0.0.1\n",
            "2021-01-12 15:28:09,733 | root | INFO | \tX-Forwarded-Proto: http\n",
            "\tX-Forwarded-Proto: http\n",
            "2021-01-12 15:28:09,733 | root | INFO | \tConnection: close\n",
            "\tConnection: close\n",
            "2021-01-12 15:28:09,734 | root | INFO | \tContent-Length: 1178\n",
            "\tContent-Length: 1178\n",
            "2021-01-12 15:28:09,734 | root | INFO | \tUser-Agent: python-requests/2.25.0\n",
            "\tUser-Agent: python-requests/2.25.0\n",
            "2021-01-12 15:28:09,734 | root | INFO | \tAccept: application/json\n",
            "\tAccept: application/json\n",
            "2021-01-12 15:28:09,734 | root | INFO | \tAccept-Encoding: gzip, deflate\n",
            "\tAccept-Encoding: gzip, deflate\n",
            "2021-01-12 15:28:09,734 | root | INFO | \tContent-Type: application/json\n",
            "\tContent-Type: application/json\n",
            "2021-01-12 15:28:09,734 | root | INFO | \tX-Ms-Request-Id: 01c5c44f-74ad-440c-bda2-936f91f92edc\n",
            "\tX-Ms-Request-Id: 01c5c44f-74ad-440c-bda2-936f91f92edc\n",
            "2021-01-12 15:28:09,735 | root | INFO | Scoring Timer is set to 60.0 seconds\n",
            "Scoring Timer is set to 60.0 seconds\n",
            "2021-01-12 15:28:09,735 | root | ERROR | Encountered Exception: Traceback (most recent call last):\n",
            "  File \"/var/azureml-server/app.py\", line 239, in run_scoring\n",
            "    response = invoke_user_with_timer(service_input, request_headers)\n",
            "  File \"/var/azureml-server/app.py\", line 309, in invoke_user_with_timer\n",
            "    result = user_main.run(**params)\n",
            "TypeError: FunctionWrapper object argument after ** must be a mapping, not list\n",
            "\n",
            "During handling of the above exception, another exception occurred:\n",
            "\n",
            "Traceback (most recent call last):\n",
            "  File \"/azureml-envs/azureml_8eff28b157f42edcd2424a5aae6c8074/lib/python3.6/site-packages/flask/app.py\", line 1832, in full_dispatch_request\n",
            "    rv = self.dispatch_request()\n",
            "  File \"/azureml-envs/azureml_8eff28b157f42edcd2424a5aae6c8074/lib/python3.6/site-packages/flask/app.py\", line 1818, in dispatch_request\n",
            "    return self.view_functions[rule.endpoint](**req.view_args)\n",
            "  File \"/var/azureml-server/app.py\", line 142, in score_realtime\n",
            "    return run_scoring(service_input, request.headers, request.environ.get('REQUEST_ID', '00000000-0000-0000-0000-000000000000'))\n",
            "  File \"/var/azureml-server/app.py\", line 252, in run_scoring\n",
            "    raise RunFunctionException(str(exc))\n",
            "run_function_exception.RunFunctionException\n",
            "\n",
            "Encountered Exception: Traceback (most recent call last):\n",
            "  File \"/var/azureml-server/app.py\", line 239, in run_scoring\n",
            "    response = invoke_user_with_timer(service_input, request_headers)\n",
            "  File \"/var/azureml-server/app.py\", line 309, in invoke_user_with_timer\n",
            "    result = user_main.run(**params)\n",
            "TypeError: FunctionWrapper object argument after ** must be a mapping, not list\n",
            "\n",
            "During handling of the above exception, another exception occurred:\n",
            "\n",
            "Traceback (most recent call last):\n",
            "  File \"/azureml-envs/azureml_8eff28b157f42edcd2424a5aae6c8074/lib/python3.6/site-packages/flask/app.py\", line 1832, in full_dispatch_request\n",
            "    rv = self.dispatch_request()\n",
            "  File \"/azureml-envs/azureml_8eff28b157f42edcd2424a5aae6c8074/lib/python3.6/site-packages/flask/app.py\", line 1818, in dispatch_request\n",
            "    return self.view_functions[rule.endpoint](**req.view_args)\n",
            "  File \"/var/azureml-server/app.py\", line 142, in score_realtime\n",
            "    return run_scoring(service_input, request.headers, request.environ.get('REQUEST_ID', '00000000-0000-0000-0000-000000000000'))\n",
            "  File \"/var/azureml-server/app.py\", line 252, in run_scoring\n",
            "    raise RunFunctionException(str(exc))\n",
            "run_function_exception.RunFunctionException\n",
            "\n",
            "2021-01-12 15:28:09,736 | root | INFO | 500\n",
            "500\n",
            "127.0.0.1 - - [12/Jan/2021:15:28:09 +0000] \"POST /score HTTP/1.0\" 500 68 \"-\" \"python-requests/2.25.0\"\n",
            "\n"
          ]
        }
      ],
      "execution_count": 40,
      "metadata": {
        "collapsed": true,
        "jupyter": {
          "source_hidden": false,
          "outputs_hidden": false
        },
        "nteract": {
          "transient": {
            "deleting": false
          }
        },
        "gather": {
          "logged": 1610465338228
        }
      }
    },
    {
      "cell_type": "code",
      "source": [
        "#Delete the service\r\n",
        "service.delete()"
      ],
      "outputs": [],
      "execution_count": null,
      "metadata": {
        "collapsed": true,
        "jupyter": {
          "source_hidden": false,
          "outputs_hidden": false
        },
        "nteract": {
          "transient": {
            "deleting": false
          }
        }
      }
    }
  ],
  "metadata": {
    "kernel_info": {
      "name": "python3"
    },
    "kernelspec": {
      "name": "python3",
      "language": "python",
      "display_name": "Python 3"
    },
    "language_info": {
      "name": "python",
      "version": "3.6.9",
      "mimetype": "text/x-python",
      "codemirror_mode": {
        "name": "ipython",
        "version": 3
      },
      "pygments_lexer": "ipython3",
      "nbconvert_exporter": "python",
      "file_extension": ".py"
    },
    "nteract": {
      "version": "nteract-front-end@1.0.0"
    }
  },
  "nbformat": 4,
  "nbformat_minor": 2
}