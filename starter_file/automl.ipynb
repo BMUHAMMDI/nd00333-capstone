{
  "cells": [
    {
      "cell_type": "markdown",
      "source": [
        "# Automated ML\n",
        "\n",
        "TODO: Import Dependencies. In the cell below, import all the dependencies that you will need to complete the project."
      ],
      "metadata": {}
    },
    {
      "cell_type": "code",
      "source": [
        "from azureml.core import Workspace, Experiment\n",
        "from azureml.core.compute import ComputeTarget, AmlCompute\n",
        "from azureml.core.compute_target import ComputeTargetException\n",
        "from azureml.widgets import RunDetails\n",
        "from azureml.train.hyperdrive.run import PrimaryMetricGoal\n",
        "import os\n",
        "import joblib\n",
        "from azureml.core.dataset import Dataset\n",
        "from azureml.train.automl import AutoMLConfig\n",
        "from azureml.core.model import Model\n",
        "from azureml.core.webservice import AciWebservice\n",
        "from azureml.core.environment import Environment\n",
        "from azureml.core.model import InferenceConfig\n",
        "import requests\n",
        "import json\n",
        "import sklearn\n",
        "from azureml.automl.runtime.onnx_convert import OnnxConverter\n",
        "import pandas as pd\n",
        "from pandas import DataFrame"
      ],
      "outputs": [],
      "execution_count": 13,
      "metadata": {
        "gather": {
          "logged": 1610299672180
        },
        "jupyter": {
          "outputs_hidden": false,
          "source_hidden": false
        },
        "nteract": {
          "transient": {
            "deleting": false
          }
        }
      }
    },
    {
      "cell_type": "markdown",
      "source": [
        "## Dataset\n",
        "\n",
        "### Overview\n",
        "TODO: In this markdown cell, give an overview of the dataset you are using. Also mention the task you will be performing.\n",
        "\n",
        "\n",
        "TODO: Get data. In the cell below, write code to access the data you will be using in this project. Remember that the dataset needs to be external."
      ],
      "metadata": {}
    },
    {
      "cell_type": "code",
      "source": [
        "ws = Workspace.from_config()\n",
        "\n",
        "# choose a name for experiment\n",
        "experiment_name = 'Heart-Disease-Predection'\n",
        "\n",
        "experiment=Experiment(ws, experiment_name)"
      ],
      "outputs": [],
      "execution_count": 14,
      "metadata": {
        "gather": {
          "logged": 1610299678500
        },
        "jupyter": {
          "outputs_hidden": false,
          "source_hidden": false
        },
        "nteract": {
          "transient": {
            "deleting": false
          }
        }
      }
    },
    {
      "cell_type": "code",
      "source": [
        "#Creating Compute\n",
        "from azureml.core.compute import ComputeTarget, AmlCompute\n",
        "from azureml.core.compute_target import ComputeTargetException\n",
        "#Create compute cluster\n",
        "\n",
        "\n",
        "# choose a name for your cluster\n",
        "cluster_name= \"cpu-cluster\"\n",
        "\n",
        "try:\n",
        "    compute_target = ComputeTarget(workspace=ws , name=cluster_name)\n",
        "    print('Found existing compute target')\n",
        "except ComputeTargetException:\n",
        "    print('Creating a new compute target ...')\n",
        "    compute_config = AmlCompute.provisioning_configuration(vm_size='Standard_D2_V2' , max_nodes=4)\n",
        "    #create the cluster\n",
        "    cpu_cluster=ComputeTarget.create(ws,cluster_name,compute_config)\n",
        "    print('cpu-cluster has been created')\n"
      ],
      "outputs": [
        {
          "output_type": "stream",
          "name": "stdout",
          "text": [
            "Found existing compute target\n"
          ]
        }
      ],
      "execution_count": 15,
      "metadata": {
        "gather": {
          "logged": 1610299682803
        }
      }
    },
    {
      "cell_type": "code",
      "source": [
        "ds = Dataset.get_by_name(ws, name='Heart Failure Dataset')\n",
        "data1 = ds.to_pandas_dataframe()\n",
        "data1.head()"
      ],
      "outputs": [
        {
          "output_type": "execute_result",
          "execution_count": 54,
          "data": {
            "text/plain": "    age  anaemia  creatinine_phosphokinase  diabetes  ejection_fraction  \\\n0 75.00        0                       582         0                 20   \n1 55.00        0                      7861         0                 38   \n2 65.00        0                       146         0                 20   \n3 50.00        1                       111         0                 20   \n4 65.00        1                       160         1                 20   \n\n   high_blood_pressure  platelets  serum_creatinine  serum_sodium  sex  \\\n0                    1  265000.00              1.90           130    1   \n1                    0  263358.03              1.10           136    1   \n2                    0  162000.00              1.30           129    1   \n3                    0  210000.00              1.90           137    1   \n4                    0  327000.00              2.70           116    0   \n\n   smoking  time  DEATH_EVENT  \n0        0     4            1  \n1        0     6            1  \n2        1     7            1  \n3        0     7            1  \n4        0     8            1  ",
            "text/html": "<div>\n<style scoped>\n    .dataframe tbody tr th:only-of-type {\n        vertical-align: middle;\n    }\n\n    .dataframe tbody tr th {\n        vertical-align: top;\n    }\n\n    .dataframe thead th {\n        text-align: right;\n    }\n</style>\n<table border=\"1\" class=\"dataframe\">\n  <thead>\n    <tr style=\"text-align: right;\">\n      <th></th>\n      <th>age</th>\n      <th>anaemia</th>\n      <th>creatinine_phosphokinase</th>\n      <th>diabetes</th>\n      <th>ejection_fraction</th>\n      <th>high_blood_pressure</th>\n      <th>platelets</th>\n      <th>serum_creatinine</th>\n      <th>serum_sodium</th>\n      <th>sex</th>\n      <th>smoking</th>\n      <th>time</th>\n      <th>DEATH_EVENT</th>\n    </tr>\n  </thead>\n  <tbody>\n    <tr>\n      <th>0</th>\n      <td>75.00</td>\n      <td>0</td>\n      <td>582</td>\n      <td>0</td>\n      <td>20</td>\n      <td>1</td>\n      <td>265000.00</td>\n      <td>1.90</td>\n      <td>130</td>\n      <td>1</td>\n      <td>0</td>\n      <td>4</td>\n      <td>1</td>\n    </tr>\n    <tr>\n      <th>1</th>\n      <td>55.00</td>\n      <td>0</td>\n      <td>7861</td>\n      <td>0</td>\n      <td>38</td>\n      <td>0</td>\n      <td>263358.03</td>\n      <td>1.10</td>\n      <td>136</td>\n      <td>1</td>\n      <td>0</td>\n      <td>6</td>\n      <td>1</td>\n    </tr>\n    <tr>\n      <th>2</th>\n      <td>65.00</td>\n      <td>0</td>\n      <td>146</td>\n      <td>0</td>\n      <td>20</td>\n      <td>0</td>\n      <td>162000.00</td>\n      <td>1.30</td>\n      <td>129</td>\n      <td>1</td>\n      <td>1</td>\n      <td>7</td>\n      <td>1</td>\n    </tr>\n    <tr>\n      <th>3</th>\n      <td>50.00</td>\n      <td>1</td>\n      <td>111</td>\n      <td>0</td>\n      <td>20</td>\n      <td>0</td>\n      <td>210000.00</td>\n      <td>1.90</td>\n      <td>137</td>\n      <td>1</td>\n      <td>0</td>\n      <td>7</td>\n      <td>1</td>\n    </tr>\n    <tr>\n      <th>4</th>\n      <td>65.00</td>\n      <td>1</td>\n      <td>160</td>\n      <td>1</td>\n      <td>20</td>\n      <td>0</td>\n      <td>327000.00</td>\n      <td>2.70</td>\n      <td>116</td>\n      <td>0</td>\n      <td>0</td>\n      <td>8</td>\n      <td>1</td>\n    </tr>\n  </tbody>\n</table>\n</div>"
          },
          "metadata": {}
        }
      ],
      "execution_count": 54,
      "metadata": {
        "gather": {
          "logged": 1610305670913
        }
      }
    },
    {
      "cell_type": "code",
      "source": [
        "from sklearn.model_selection import train_test_split\r\n",
        "\r\n",
        "training_data, test_data = train_test_split(data1, test_size=0.20,train_size=0.80)"
      ],
      "outputs": [],
      "execution_count": 56,
      "metadata": {
        "gather": {
          "logged": 1610305705588
        }
      }
    },
    {
      "cell_type": "code",
      "source": [
        "from azureml.data.dataset_factory import TabularDatasetFactory\r\n",
        "\r\n",
        "if not os.path.isdir(\"data\"):\r\n",
        "    os.mkdir(\"data\")\r\n",
        "\r\n",
        "pd.DataFrame(training_data).to_csv(\"data/train_data.csv\")\r\n",
        "df=ws.get_default_datastore()\r\n",
        "\r\n",
        "\r\n",
        "df.upload(src_dir='./data', target_path='Heart Failure Dataset', overwrite=True,show_progress=True)\r\n",
        "train_data=TabularDatasetFactory.from_delimited_files(path=df.path('Heart Failure Dataset/train_data.csv'))\r\n",
        "print(train_data.to_pandas_dataframe())\r\n"
      ],
      "outputs": [
        {
          "output_type": "stream",
          "name": "stdout",
          "text": [
            "Uploading an estimated of 2 files\n",
            "Uploading ./data/test_ds.csv\n",
            "Uploaded ./data/test_ds.csv, 1 files out of an estimated total of 2\n",
            "Uploading ./data/train_data.csv\n",
            "Uploaded ./data/train_data.csv, 2 files out of an estimated total of 2\n",
            "Uploaded 2 files\n",
            "     Column1   age  anaemia  creatinine_phosphokinase  diabetes  \\\n",
            "0        132 46.00        0                       719         0   \n",
            "1        167 59.00        0                        66         1   \n",
            "2         36 90.00        1                        60         1   \n",
            "3         67 72.00        1                       110         0   \n",
            "4        197 65.00        0                       167         0   \n",
            "..       ...   ...      ...                       ...       ...   \n",
            "234      145 50.00        0                       185         0   \n",
            "235      183 75.00        0                        99         0   \n",
            "236       53 70.00        1                        69         1   \n",
            "237      232 40.00        1                       129         0   \n",
            "238      228 65.00        0                        56         0   \n",
            "\n",
            "     ejection_fraction  high_blood_pressure  platelets  serum_creatinine  \\\n",
            "0                   40                    1  263358.03              1.18   \n",
            "1                   20                    0   70000.00              2.40   \n",
            "2                   50                    0  226000.00              1.00   \n",
            "3                   25                    0  274000.00              1.00   \n",
            "4                   30                    0  259000.00              0.80   \n",
            "..                 ...                  ...        ...               ...   \n",
            "234                 30                    0  266000.00              0.70   \n",
            "235                 38                    1  224000.00              2.50   \n",
            "236                 50                    1  351000.00              1.00   \n",
            "237                 35                    0  255000.00              0.90   \n",
            "238                 25                    0  237000.00              5.00   \n",
            "\n",
            "     serum_sodium  sex  smoking  time  DEATH_EVENT  \n",
            "0             137    0        0   107            0  \n",
            "1             134    1        0   135            1  \n",
            "2             134    1        0    30            1  \n",
            "3             140    1        1    65            1  \n",
            "4             138    0        0   186            0  \n",
            "..            ...  ...      ...   ...          ...  \n",
            "234           141    1        1   112            0  \n",
            "235           134    1        0   162            1  \n",
            "236           134    0        0    44            1  \n",
            "237           137    1        0   209            0  \n",
            "238           130    0        0   207            0  \n",
            "\n",
            "[239 rows x 14 columns]\n"
          ]
        }
      ],
      "execution_count": 78,
      "metadata": {
        "collapsed": true,
        "jupyter": {
          "source_hidden": false,
          "outputs_hidden": false
        },
        "nteract": {
          "transient": {
            "deleting": false
          }
        },
        "gather": {
          "logged": 1610307463309
        }
      }
    },
    {
      "cell_type": "code",
      "source": [
        "train_data.drop_columns('Column1')\r\n",
        "print(train_data.to_pandas_dataframe())"
      ],
      "outputs": [
        {
          "output_type": "stream",
          "name": "stdout",
          "text": [
            "     Column1   age  anaemia  creatinine_phosphokinase  diabetes  \\\n",
            "0        132 46.00        0                       719         0   \n",
            "1        167 59.00        0                        66         1   \n",
            "2         36 90.00        1                        60         1   \n",
            "3         67 72.00        1                       110         0   \n",
            "4        197 65.00        0                       167         0   \n",
            "..       ...   ...      ...                       ...       ...   \n",
            "234      145 50.00        0                       185         0   \n",
            "235      183 75.00        0                        99         0   \n",
            "236       53 70.00        1                        69         1   \n",
            "237      232 40.00        1                       129         0   \n",
            "238      228 65.00        0                        56         0   \n",
            "\n",
            "     ejection_fraction  high_blood_pressure  platelets  serum_creatinine  \\\n",
            "0                   40                    1  263358.03              1.18   \n",
            "1                   20                    0   70000.00              2.40   \n",
            "2                   50                    0  226000.00              1.00   \n",
            "3                   25                    0  274000.00              1.00   \n",
            "4                   30                    0  259000.00              0.80   \n",
            "..                 ...                  ...        ...               ...   \n",
            "234                 30                    0  266000.00              0.70   \n",
            "235                 38                    1  224000.00              2.50   \n",
            "236                 50                    1  351000.00              1.00   \n",
            "237                 35                    0  255000.00              0.90   \n",
            "238                 25                    0  237000.00              5.00   \n",
            "\n",
            "     serum_sodium  sex  smoking  time  DEATH_EVENT  \n",
            "0             137    0        0   107            0  \n",
            "1             134    1        0   135            1  \n",
            "2             134    1        0    30            1  \n",
            "3             140    1        1    65            1  \n",
            "4             138    0        0   186            0  \n",
            "..            ...  ...      ...   ...          ...  \n",
            "234           141    1        1   112            0  \n",
            "235           134    1        0   162            1  \n",
            "236           134    0        0    44            1  \n",
            "237           137    1        0   209            0  \n",
            "238           130    0        0   207            0  \n",
            "\n",
            "[239 rows x 14 columns]\n"
          ]
        }
      ],
      "execution_count": 82,
      "metadata": {
        "collapsed": true,
        "jupyter": {
          "source_hidden": false,
          "outputs_hidden": false
        },
        "nteract": {
          "transient": {
            "deleting": false
          }
        },
        "gather": {
          "logged": 1610307577868
        }
      }
    },
    {
      "cell_type": "markdown",
      "source": [
        "## AutoML Configuration\n",
        "\n",
        "TODO: Explain why you chose the automl settings and cofiguration you used below."
      ],
      "metadata": {}
    },
    {
      "cell_type": "code",
      "source": [
        "# TODO: Put your automl settings here\n",
        "automl_settings = {\"experiment_timeout_minutes\": 25,\n",
        "                    \"max_concurrent_iterations\": 4,\n",
        "                    \"n_cross_validations\": 5,\n",
        "                    \"primary_metric\": 'accuracy',\n",
        "                    \"iterations\": 10,\n",
        "                        \n",
        "}\n",
        "\n",
        "# TODO: Put your automl config here\n",
        "automl_config = AutoMLConfig(  \n",
        "    task='classification',\n",
        "    compute_target='cpu-cluster',\n",
        "    training_data= train_data,\n",
        "    label_column_name ='DEATH_EVENT',\n",
        "    enable_onnx_compatible_models=True,\n",
        "    **automl_settings\n",
        ")"
      ],
      "outputs": [],
      "execution_count": 19,
      "metadata": {
        "gather": {
          "logged": 1610299709030
        },
        "jupyter": {
          "outputs_hidden": false,
          "source_hidden": false
        },
        "nteract": {
          "transient": {
            "deleting": false
          }
        }
      }
    },
    {
      "cell_type": "code",
      "source": [
        "# TODO: Submit your experiment\n",
        "remote_run = experiment.submit(config=automl_config, show_output=True)"
      ],
      "outputs": [
        {
          "output_type": "stream",
          "name": "stdout",
          "text": [
            "Running on remote.\n",
            "No run_configuration provided, running on cpu-cluster with default configuration\n",
            "Running on remote compute: cpu-cluster\n",
            "Parent Run ID: AutoML_67f49fbd-8740-4cb0-a2db-8af8cf6e37b6\n",
            "\n",
            "Current status: FeaturesGeneration. Generating features for the dataset.\n",
            "Current status: ModelSelection. Beginning model selection.\n",
            "\n",
            "****************************************************************************************************\n",
            "DATA GUARDRAILS: \n",
            "\n",
            "TYPE:         Class balancing detection\n",
            "STATUS:       PASSED\n",
            "DESCRIPTION:  Your inputs were analyzed, and all classes are balanced in your training data.\n",
            "              Learn more about imbalanced data: https://aka.ms/AutomatedMLImbalancedData\n",
            "\n",
            "****************************************************************************************************\n",
            "\n",
            "TYPE:         High cardinality feature detection\n",
            "STATUS:       PASSED\n",
            "DESCRIPTION:  Your inputs were analyzed, and no high cardinality features were detected.\n",
            "              Learn more about high cardinality feature handling: https://aka.ms/AutomatedMLFeaturization\n",
            "\n",
            "****************************************************************************************************\n",
            "\n",
            "****************************************************************************************************\n",
            "ITERATION: The iteration being evaluated.\n",
            "PIPELINE: A summary description of the pipeline being evaluated.\n",
            "DURATION: Time taken for the current iteration.\n",
            "METRIC: The result of computing score on the fitted pipeline.\n",
            "BEST: The best observed score thus far.\n",
            "****************************************************************************************************\n",
            "\n",
            " ITERATION   PIPELINE                                       DURATION      METRIC      BEST\n",
            "         0   MaxAbsScaler LightGBM                          0:03:26       0.8454    0.8454\n",
            "         2   MinMaxScaler RandomForest                      0:01:00       0.8494    0.8494\n",
            "         1   MaxAbsScaler XGBoostClassifier                 0:00:37       0.8871    0.8871\n",
            "         3   MinMaxScaler RandomForest                      0:00:37       0.8748    0.8871\n",
            "         6   StandardScalerWrapper ExtremeRandomTrees       0:00:40       0.8579    0.8871\n",
            "         7   MinMaxScaler SVM                               0:00:37       0.7159    0.8871\n",
            "         8   SparseNormalizer XGBoostClassifier             0:00:42       0.8329    0.8871\n",
            "         4   MinMaxScaler RandomForest                      0:03:12       0.8496    0.8871\n",
            "         5   StandardScalerWrapper KNN                      0:03:15       0.7452    0.8871\n",
            "         9    VotingEnsemble                                0:00:54       0.8913    0.8913\n"
          ]
        }
      ],
      "execution_count": 20,
      "metadata": {
        "gather": {
          "logged": 1610300972103
        },
        "jupyter": {
          "outputs_hidden": false,
          "source_hidden": false
        },
        "nteract": {
          "transient": {
            "deleting": false
          }
        }
      }
    },
    {
      "cell_type": "markdown",
      "source": [
        "## Run Details\n",
        "\n",
        "OPTIONAL: Write about the different models trained and their performance. Why do you think some models did better than others?\n",
        "\n",
        "TODO: In the cell below, use the `RunDetails` widget to show the different experiments."
      ],
      "metadata": {}
    },
    {
      "cell_type": "code",
      "source": [
        "RunDetails(remote_run).show()"
      ],
      "outputs": [
        {
          "output_type": "display_data",
          "data": {
            "text/plain": "_AutoMLWidget(widget_settings={'childWidgetDisplay': 'popup', 'send_telemetry': False, 'log_level': 'INFO', 's…",
            "application/vnd.jupyter.widget-view+json": {
              "version_major": 2,
              "version_minor": 0,
              "model_id": "7334cfdbd36c41e493baab5abe56cba9"
            }
          },
          "metadata": {}
        },
        {
          "output_type": "display_data",
          "data": {
            "application/aml.mini.widget.v1": "{\"status\": \"Completed\", \"workbench_run_details_uri\": \"https://ml.azure.com/experiments/Heart-Disease-Predection/runs/AutoML_67f49fbd-8740-4cb0-a2db-8af8cf6e37b6?wsid=/subscriptions/cdbe0b43-92a0-4715-838a-f2648cc7ad21/resourcegroups/aml-quickstarts-134245/workspaces/quick-starts-ws-134245\", \"run_id\": \"AutoML_67f49fbd-8740-4cb0-a2db-8af8cf6e37b6\", \"run_properties\": {\"run_id\": \"AutoML_67f49fbd-8740-4cb0-a2db-8af8cf6e37b6\", \"created_utc\": \"2021-01-10T17:28:36.671668Z\", \"properties\": {\"num_iterations\": \"10\", \"training_type\": \"TrainFull\", \"acquisition_function\": \"EI\", \"primary_metric\": \"accuracy\", \"train_split\": \"0\", \"acquisition_parameter\": \"0\", \"num_cross_validation\": \"5\", \"target\": \"cpu-cluster\", \"AMLSettingsJsonString\": \"{\\\"path\\\":null,\\\"name\\\":\\\"Heart-Disease-Predection\\\",\\\"subscription_id\\\":\\\"cdbe0b43-92a0-4715-838a-f2648cc7ad21\\\",\\\"resource_group\\\":\\\"aml-quickstarts-134245\\\",\\\"workspace_name\\\":\\\"quick-starts-ws-134245\\\",\\\"region\\\":\\\"southcentralus\\\",\\\"compute_target\\\":\\\"cpu-cluster\\\",\\\"spark_service\\\":null,\\\"azure_service\\\":\\\"remote\\\",\\\"many_models\\\":false,\\\"pipeline_fetch_max_batch_size\\\":1,\\\"iterations\\\":10,\\\"primary_metric\\\":\\\"accuracy\\\",\\\"task_type\\\":\\\"classification\\\",\\\"data_script\\\":null,\\\"validation_size\\\":0.0,\\\"n_cross_validations\\\":5,\\\"y_min\\\":null,\\\"y_max\\\":null,\\\"num_classes\\\":null,\\\"featurization\\\":\\\"auto\\\",\\\"_ignore_package_version_incompatibilities\\\":false,\\\"is_timeseries\\\":false,\\\"max_cores_per_iteration\\\":1,\\\"max_concurrent_iterations\\\":4,\\\"iteration_timeout_minutes\\\":null,\\\"mem_in_mb\\\":null,\\\"enforce_time_on_windows\\\":false,\\\"experiment_timeout_minutes\\\":25,\\\"experiment_exit_score\\\":null,\\\"whitelist_models\\\":null,\\\"blacklist_algos\\\":[\\\"TensorFlowLinearClassifier\\\",\\\"TensorFlowDNN\\\"],\\\"supported_models\\\":[\\\"GradientBoosting\\\",\\\"LinearSVM\\\",\\\"RandomForest\\\",\\\"XGBoostClassifier\\\",\\\"AveragedPerceptronClassifier\\\",\\\"LogisticRegression\\\",\\\"MultinomialNaiveBayes\\\",\\\"TensorFlowLinearClassifier\\\",\\\"DecisionTree\\\",\\\"SGD\\\",\\\"TensorFlowDNN\\\",\\\"BernoulliNaiveBayes\\\",\\\"ExtremeRandomTrees\\\",\\\"SVM\\\",\\\"LightGBM\\\",\\\"KNN\\\"],\\\"auto_blacklist\\\":true,\\\"blacklist_samples_reached\\\":false,\\\"exclude_nan_labels\\\":true,\\\"verbosity\\\":20,\\\"_debug_log\\\":\\\"azureml_automl.log\\\",\\\"show_warnings\\\":false,\\\"model_explainability\\\":true,\\\"service_url\\\":null,\\\"sdk_url\\\":null,\\\"sdk_packages\\\":null,\\\"enable_onnx_compatible_models\\\":true,\\\"enable_split_onnx_featurizer_estimator_models\\\":false,\\\"vm_type\\\":\\\"STANDARD_D2_V2\\\",\\\"telemetry_verbosity\\\":20,\\\"send_telemetry\\\":true,\\\"enable_dnn\\\":false,\\\"scenario\\\":\\\"SDK-1.13.0\\\",\\\"environment_label\\\":null,\\\"force_text_dnn\\\":false,\\\"enable_feature_sweeping\\\":false,\\\"enable_early_stopping\\\":false,\\\"early_stopping_n_iters\\\":10,\\\"metrics\\\":null,\\\"enable_ensembling\\\":true,\\\"enable_stack_ensembling\\\":false,\\\"ensemble_iterations\\\":10,\\\"enable_tf\\\":false,\\\"enable_subsampling\\\":false,\\\"subsample_seed\\\":null,\\\"enable_nimbusml\\\":false,\\\"enable_streaming\\\":false,\\\"force_streaming\\\":false,\\\"track_child_runs\\\":true,\\\"allowed_private_models\\\":[],\\\"label_column_name\\\":\\\"DEATH_EVENT\\\",\\\"weight_column_name\\\":null,\\\"cv_split_column_names\\\":null,\\\"enable_local_managed\\\":false,\\\"_local_managed_run_id\\\":null,\\\"cost_mode\\\":1,\\\"lag_length\\\":0,\\\"metric_operation\\\":\\\"maximize\\\",\\\"preprocess\\\":true}\", \"DataPrepJsonString\": \"{\\\\\\\"training_data\\\\\\\": \\\\\\\"{\\\\\\\\\\\\\\\"blocks\\\\\\\\\\\\\\\": [{\\\\\\\\\\\\\\\"id\\\\\\\\\\\\\\\": \\\\\\\\\\\\\\\"c2ec2730-436d-4310-8da2-71c776eb8c70\\\\\\\\\\\\\\\", \\\\\\\\\\\\\\\"type\\\\\\\\\\\\\\\": \\\\\\\\\\\\\\\"Microsoft.DPrep.GetDatastoreFilesBlock\\\\\\\\\\\\\\\", \\\\\\\\\\\\\\\"arguments\\\\\\\\\\\\\\\": {\\\\\\\\\\\\\\\"datastores\\\\\\\\\\\\\\\": [{\\\\\\\\\\\\\\\"datastoreName\\\\\\\\\\\\\\\": \\\\\\\\\\\\\\\"workspaceblobstore\\\\\\\\\\\\\\\", \\\\\\\\\\\\\\\"path\\\\\\\\\\\\\\\": \\\\\\\\\\\\\\\"HeartDataset/train_data.csv\\\\\\\\\\\\\\\", \\\\\\\\\\\\\\\"resourceGroup\\\\\\\\\\\\\\\": \\\\\\\\\\\\\\\"aml-quickstarts-134245\\\\\\\\\\\\\\\", \\\\\\\\\\\\\\\"subscription\\\\\\\\\\\\\\\": \\\\\\\\\\\\\\\"cdbe0b43-92a0-4715-838a-f2648cc7ad21\\\\\\\\\\\\\\\", \\\\\\\\\\\\\\\"workspaceName\\\\\\\\\\\\\\\": \\\\\\\\\\\\\\\"quick-starts-ws-134245\\\\\\\\\\\\\\\"}]}, \\\\\\\\\\\\\\\"localData\\\\\\\\\\\\\\\": {}, \\\\\\\\\\\\\\\"isEnabled\\\\\\\\\\\\\\\": true, \\\\\\\\\\\\\\\"name\\\\\\\\\\\\\\\": null, \\\\\\\\\\\\\\\"annotation\\\\\\\\\\\\\\\": null}, {\\\\\\\\\\\\\\\"id\\\\\\\\\\\\\\\": \\\\\\\\\\\\\\\"47b5e60f-3f8b-4855-8f8b-083d85a014bc\\\\\\\\\\\\\\\", \\\\\\\\\\\\\\\"type\\\\\\\\\\\\\\\": \\\\\\\\\\\\\\\"Microsoft.DPrep.ParseDelimitedBlock\\\\\\\\\\\\\\\", \\\\\\\\\\\\\\\"arguments\\\\\\\\\\\\\\\": {\\\\\\\\\\\\\\\"columnHeadersMode\\\\\\\\\\\\\\\": 3, \\\\\\\\\\\\\\\"fileEncoding\\\\\\\\\\\\\\\": 0, \\\\\\\\\\\\\\\"handleQuotedLineBreaks\\\\\\\\\\\\\\\": false, \\\\\\\\\\\\\\\"preview\\\\\\\\\\\\\\\": false, \\\\\\\\\\\\\\\"separator\\\\\\\\\\\\\\\": \\\\\\\\\\\\\\\",\\\\\\\\\\\\\\\", \\\\\\\\\\\\\\\"skipRows\\\\\\\\\\\\\\\": 0, \\\\\\\\\\\\\\\"skipRowsMode\\\\\\\\\\\\\\\": 0}, \\\\\\\\\\\\\\\"localData\\\\\\\\\\\\\\\": {}, \\\\\\\\\\\\\\\"isEnabled\\\\\\\\\\\\\\\": true, \\\\\\\\\\\\\\\"name\\\\\\\\\\\\\\\": null, \\\\\\\\\\\\\\\"annotation\\\\\\\\\\\\\\\": null}, {\\\\\\\\\\\\\\\"id\\\\\\\\\\\\\\\": \\\\\\\\\\\\\\\"874ecba2-24f9-4242-9151-0578b1ca0657\\\\\\\\\\\\\\\", \\\\\\\\\\\\\\\"type\\\\\\\\\\\\\\\": \\\\\\\\\\\\\\\"Microsoft.DPrep.DropColumnsBlock\\\\\\\\\\\\\\\", \\\\\\\\\\\\\\\"arguments\\\\\\\\\\\\\\\": {\\\\\\\\\\\\\\\"columns\\\\\\\\\\\\\\\": {\\\\\\\\\\\\\\\"type\\\\\\\\\\\\\\\": 0, \\\\\\\\\\\\\\\"details\\\\\\\\\\\\\\\": {\\\\\\\\\\\\\\\"selectedColumns\\\\\\\\\\\\\\\": [\\\\\\\\\\\\\\\"Path\\\\\\\\\\\\\\\"]}}}, \\\\\\\\\\\\\\\"localData\\\\\\\\\\\\\\\": {}, \\\\\\\\\\\\\\\"isEnabled\\\\\\\\\\\\\\\": true, \\\\\\\\\\\\\\\"name\\\\\\\\\\\\\\\": null, \\\\\\\\\\\\\\\"annotation\\\\\\\\\\\\\\\": null}, {\\\\\\\\\\\\\\\"id\\\\\\\\\\\\\\\": \\\\\\\\\\\\\\\"137573ba-766d-493a-8f5d-2b6016024471\\\\\\\\\\\\\\\", \\\\\\\\\\\\\\\"type\\\\\\\\\\\\\\\": \\\\\\\\\\\\\\\"Microsoft.DPrep.SetColumnTypesBlock\\\\\\\\\\\\\\\", \\\\\\\\\\\\\\\"arguments\\\\\\\\\\\\\\\": {\\\\\\\\\\\\\\\"columnConversion\\\\\\\\\\\\\\\": [{\\\\\\\\\\\\\\\"column\\\\\\\\\\\\\\\": {\\\\\\\\\\\\\\\"type\\\\\\\\\\\\\\\": 2, \\\\\\\\\\\\\\\"details\\\\\\\\\\\\\\\": {\\\\\\\\\\\\\\\"selectedColumn\\\\\\\\\\\\\\\": \\\\\\\\\\\\\\\"Column1\\\\\\\\\\\\\\\"}}, \\\\\\\\\\\\\\\"typeProperty\\\\\\\\\\\\\\\": 2}, {\\\\\\\\\\\\\\\"column\\\\\\\\\\\\\\\": {\\\\\\\\\\\\\\\"type\\\\\\\\\\\\\\\": 2, \\\\\\\\\\\\\\\"details\\\\\\\\\\\\\\\": {\\\\\\\\\\\\\\\"selectedColumn\\\\\\\\\\\\\\\": \\\\\\\\\\\\\\\"age\\\\\\\\\\\\\\\"}}, \\\\\\\\\\\\\\\"typeProperty\\\\\\\\\\\\\\\": 3}, {\\\\\\\\\\\\\\\"column\\\\\\\\\\\\\\\": {\\\\\\\\\\\\\\\"type\\\\\\\\\\\\\\\": 2, \\\\\\\\\\\\\\\"details\\\\\\\\\\\\\\\": {\\\\\\\\\\\\\\\"selectedColumn\\\\\\\\\\\\\\\": \\\\\\\\\\\\\\\"anaemia\\\\\\\\\\\\\\\"}}, \\\\\\\\\\\\\\\"typeProperty\\\\\\\\\\\\\\\": 2}, {\\\\\\\\\\\\\\\"column\\\\\\\\\\\\\\\": {\\\\\\\\\\\\\\\"type\\\\\\\\\\\\\\\": 2, \\\\\\\\\\\\\\\"details\\\\\\\\\\\\\\\": {\\\\\\\\\\\\\\\"selectedColumn\\\\\\\\\\\\\\\": \\\\\\\\\\\\\\\"creatinine_phosphokinase\\\\\\\\\\\\\\\"}}, \\\\\\\\\\\\\\\"typeProperty\\\\\\\\\\\\\\\": 2}, {\\\\\\\\\\\\\\\"column\\\\\\\\\\\\\\\": {\\\\\\\\\\\\\\\"type\\\\\\\\\\\\\\\": 2, \\\\\\\\\\\\\\\"details\\\\\\\\\\\\\\\": {\\\\\\\\\\\\\\\"selectedColumn\\\\\\\\\\\\\\\": \\\\\\\\\\\\\\\"diabetes\\\\\\\\\\\\\\\"}}, \\\\\\\\\\\\\\\"typeProperty\\\\\\\\\\\\\\\": 2}, {\\\\\\\\\\\\\\\"column\\\\\\\\\\\\\\\": {\\\\\\\\\\\\\\\"type\\\\\\\\\\\\\\\": 2, \\\\\\\\\\\\\\\"details\\\\\\\\\\\\\\\": {\\\\\\\\\\\\\\\"selectedColumn\\\\\\\\\\\\\\\": \\\\\\\\\\\\\\\"ejection_fraction\\\\\\\\\\\\\\\"}}, \\\\\\\\\\\\\\\"typeProperty\\\\\\\\\\\\\\\": 2}, {\\\\\\\\\\\\\\\"column\\\\\\\\\\\\\\\": {\\\\\\\\\\\\\\\"type\\\\\\\\\\\\\\\": 2, \\\\\\\\\\\\\\\"details\\\\\\\\\\\\\\\": {\\\\\\\\\\\\\\\"selectedColumn\\\\\\\\\\\\\\\": \\\\\\\\\\\\\\\"high_blood_pressure\\\\\\\\\\\\\\\"}}, \\\\\\\\\\\\\\\"typeProperty\\\\\\\\\\\\\\\": 2}, {\\\\\\\\\\\\\\\"column\\\\\\\\\\\\\\\": {\\\\\\\\\\\\\\\"type\\\\\\\\\\\\\\\": 2, \\\\\\\\\\\\\\\"details\\\\\\\\\\\\\\\": {\\\\\\\\\\\\\\\"selectedColumn\\\\\\\\\\\\\\\": \\\\\\\\\\\\\\\"platelets\\\\\\\\\\\\\\\"}}, \\\\\\\\\\\\\\\"typeProperty\\\\\\\\\\\\\\\": 3}, {\\\\\\\\\\\\\\\"column\\\\\\\\\\\\\\\": {\\\\\\\\\\\\\\\"type\\\\\\\\\\\\\\\": 2, \\\\\\\\\\\\\\\"details\\\\\\\\\\\\\\\": {\\\\\\\\\\\\\\\"selectedColumn\\\\\\\\\\\\\\\": \\\\\\\\\\\\\\\"serum_creatinine\\\\\\\\\\\\\\\"}}, \\\\\\\\\\\\\\\"typeProperty\\\\\\\\\\\\\\\": 3}, {\\\\\\\\\\\\\\\"column\\\\\\\\\\\\\\\": {\\\\\\\\\\\\\\\"type\\\\\\\\\\\\\\\": 2, \\\\\\\\\\\\\\\"details\\\\\\\\\\\\\\\": {\\\\\\\\\\\\\\\"selectedColumn\\\\\\\\\\\\\\\": \\\\\\\\\\\\\\\"serum_sodium\\\\\\\\\\\\\\\"}}, \\\\\\\\\\\\\\\"typeProperty\\\\\\\\\\\\\\\": 2}, {\\\\\\\\\\\\\\\"column\\\\\\\\\\\\\\\": {\\\\\\\\\\\\\\\"type\\\\\\\\\\\\\\\": 2, \\\\\\\\\\\\\\\"details\\\\\\\\\\\\\\\": {\\\\\\\\\\\\\\\"selectedColumn\\\\\\\\\\\\\\\": \\\\\\\\\\\\\\\"sex\\\\\\\\\\\\\\\"}}, \\\\\\\\\\\\\\\"typeProperty\\\\\\\\\\\\\\\": 2}, {\\\\\\\\\\\\\\\"column\\\\\\\\\\\\\\\": {\\\\\\\\\\\\\\\"type\\\\\\\\\\\\\\\": 2, \\\\\\\\\\\\\\\"details\\\\\\\\\\\\\\\": {\\\\\\\\\\\\\\\"selectedColumn\\\\\\\\\\\\\\\": \\\\\\\\\\\\\\\"smoking\\\\\\\\\\\\\\\"}}, \\\\\\\\\\\\\\\"typeProperty\\\\\\\\\\\\\\\": 2}, {\\\\\\\\\\\\\\\"column\\\\\\\\\\\\\\\": {\\\\\\\\\\\\\\\"type\\\\\\\\\\\\\\\": 2, \\\\\\\\\\\\\\\"details\\\\\\\\\\\\\\\": {\\\\\\\\\\\\\\\"selectedColumn\\\\\\\\\\\\\\\": \\\\\\\\\\\\\\\"time\\\\\\\\\\\\\\\"}}, \\\\\\\\\\\\\\\"typeProperty\\\\\\\\\\\\\\\": 2}, {\\\\\\\\\\\\\\\"column\\\\\\\\\\\\\\\": {\\\\\\\\\\\\\\\"type\\\\\\\\\\\\\\\": 2, \\\\\\\\\\\\\\\"details\\\\\\\\\\\\\\\": {\\\\\\\\\\\\\\\"selectedColumn\\\\\\\\\\\\\\\": \\\\\\\\\\\\\\\"DEATH_EVENT\\\\\\\\\\\\\\\"}}, \\\\\\\\\\\\\\\"typeProperty\\\\\\\\\\\\\\\": 2}]}, \\\\\\\\\\\\\\\"localData\\\\\\\\\\\\\\\": {}, \\\\\\\\\\\\\\\"isEnabled\\\\\\\\\\\\\\\": true, \\\\\\\\\\\\\\\"name\\\\\\\\\\\\\\\": null, \\\\\\\\\\\\\\\"annotation\\\\\\\\\\\\\\\": null}], \\\\\\\\\\\\\\\"inspectors\\\\\\\\\\\\\\\": [], \\\\\\\\\\\\\\\"meta\\\\\\\\\\\\\\\": {\\\\\\\\\\\\\\\"savedDatasetId\\\\\\\\\\\\\\\": \\\\\\\\\\\\\\\"479b04ab-212c-4b9d-ac2d-afe92226a1db\\\\\\\\\\\\\\\", \\\\\\\\\\\\\\\"datasetType\\\\\\\\\\\\\\\": \\\\\\\\\\\\\\\"tabular\\\\\\\\\\\\\\\", \\\\\\\\\\\\\\\"subscriptionId\\\\\\\\\\\\\\\": \\\\\\\\\\\\\\\"cdbe0b43-92a0-4715-838a-f2648cc7ad21\\\\\\\\\\\\\\\", \\\\\\\\\\\\\\\"workspaceId\\\\\\\\\\\\\\\": \\\\\\\\\\\\\\\"cf3c986b-c566-4663-917a-7c05b98d3396\\\\\\\\\\\\\\\", \\\\\\\\\\\\\\\"workspaceLocation\\\\\\\\\\\\\\\": \\\\\\\\\\\\\\\"southcentralus\\\\\\\\\\\\\\\"}}\\\\\\\", \\\\\\\"activities\\\\\\\": 0}\", \"EnableSubsampling\": \"False\", \"runTemplate\": \"AutoML\", \"azureml.runsource\": \"automl\", \"display_task_type\": \"classification\", \"dependencies_versions\": \"{\\\"azureml-widgets\\\": \\\"1.19.0\\\", \\\"azureml-train\\\": \\\"1.19.0\\\", \\\"azureml-train-restclients-hyperdrive\\\": \\\"1.19.0\\\", \\\"azureml-train-core\\\": \\\"1.19.0\\\", \\\"azureml-train-automl\\\": \\\"1.19.0\\\", \\\"azureml-train-automl-runtime\\\": \\\"1.19.0\\\", \\\"azureml-train-automl-client\\\": \\\"1.19.0\\\", \\\"azureml-tensorboard\\\": \\\"1.19.0\\\", \\\"azureml-telemetry\\\": \\\"1.19.0\\\", \\\"azureml-sdk\\\": \\\"1.19.0\\\", \\\"azureml-samples\\\": \\\"0+unknown\\\", \\\"azureml-pipeline\\\": \\\"1.19.0\\\", \\\"azureml-pipeline-steps\\\": \\\"1.19.0\\\", \\\"azureml-pipeline-core\\\": \\\"1.19.0\\\", \\\"azureml-opendatasets\\\": \\\"1.19.0\\\", \\\"azureml-model-management-sdk\\\": \\\"1.0.1b6.post1\\\", \\\"azureml-mlflow\\\": \\\"1.19.0\\\", \\\"azureml-interpret\\\": \\\"1.19.0\\\", \\\"azureml-explain-model\\\": \\\"1.19.0\\\", \\\"azureml-defaults\\\": \\\"1.19.0\\\", \\\"azureml-dataset-runtime\\\": \\\"1.19.0\\\", \\\"azureml-dataprep\\\": \\\"2.6.1\\\", \\\"azureml-dataprep-rslex\\\": \\\"1.4.0\\\", \\\"azureml-dataprep-native\\\": \\\"26.0.0\\\", \\\"azureml-datadrift\\\": \\\"1.19.0\\\", \\\"azureml-core\\\": \\\"1.19.0\\\", \\\"azureml-contrib-services\\\": \\\"1.19.0\\\", \\\"azureml-contrib-server\\\": \\\"1.19.0\\\", \\\"azureml-contrib-reinforcementlearning\\\": \\\"1.19.0\\\", \\\"azureml-contrib-pipeline-steps\\\": \\\"1.19.0\\\", \\\"azureml-contrib-notebook\\\": \\\"1.19.0\\\", \\\"azureml-contrib-interpret\\\": \\\"1.19.0\\\", \\\"azureml-contrib-gbdt\\\": \\\"1.19.0\\\", \\\"azureml-contrib-fairness\\\": \\\"1.19.0\\\", \\\"azureml-contrib-dataset\\\": \\\"1.19.0\\\", \\\"azureml-cli-common\\\": \\\"1.19.0\\\", \\\"azureml-automl-runtime\\\": \\\"1.19.0\\\", \\\"azureml-automl-core\\\": \\\"1.19.0\\\", \\\"azureml-accel-models\\\": \\\"1.19.0\\\"}\", \"_aml_system_scenario_identification\": \"Remote.Parent\", \"ClientType\": \"SDK\", \"environment_cpu_name\": \"AzureML-AutoML\", \"environment_cpu_label\": \"prod\", \"environment_gpu_name\": \"AzureML-AutoML-GPU\", \"environment_gpu_label\": \"prod\", \"root_attribution\": \"automl\", \"attribution\": \"AutoML\", \"Orchestrator\": \"AutoML\", \"CancelUri\": \"https://southcentralus.experiments.azureml.net/jasmine/v1.0/subscriptions/cdbe0b43-92a0-4715-838a-f2648cc7ad21/resourceGroups/aml-quickstarts-134245/providers/Microsoft.MachineLearningServices/workspaces/quick-starts-ws-134245/experimentids/4a2ef554-b17d-4b05-badb-fea466c4c43f/cancel/AutoML_67f49fbd-8740-4cb0-a2db-8af8cf6e37b6\", \"ClientSdkVersion\": \"1.19.0\", \"snapshotId\": \"00000000-0000-0000-0000-000000000000\", \"SetupRunId\": \"AutoML_67f49fbd-8740-4cb0-a2db-8af8cf6e37b6_setup\", \"SetupRunContainerId\": \"dcid.AutoML_67f49fbd-8740-4cb0-a2db-8af8cf6e37b6_setup\", \"FeaturizationRunJsonPath\": \"featurizer_container.json\", \"FeaturizationRunId\": \"AutoML_67f49fbd-8740-4cb0-a2db-8af8cf6e37b6_featurize\", \"ProblemInfoJsonString\": \"{\\\"dataset_num_categorical\\\": 0, \\\"is_sparse\\\": false, \\\"subsampling\\\": false, \\\"dataset_classes\\\": 2, \\\"dataset_features\\\": 13, \\\"dataset_samples\\\": 239, \\\"single_frequency_class_detected\\\": false}\", \"ModelExplainRunId\": \"AutoML_67f49fbd-8740-4cb0-a2db-8af8cf6e37b6_ModelExplain\"}, \"tags\": {\"model_explain_run\": \"best_run\", \"_aml_system_azureml.automlComponent\": \"AutoML\", \"pipeline_id\": \"\", \"score\": \"\", \"predicted_cost\": \"\", \"fit_time\": \"\", \"training_percent\": \"\", \"iteration\": \"\", \"run_preprocessor\": \"\", \"run_algorithm\": \"\", \"automl_best_child_run_id\": \"AutoML_67f49fbd-8740-4cb0-a2db-8af8cf6e37b6_9\", \"model_explain_best_run_child_id\": \"AutoML_67f49fbd-8740-4cb0-a2db-8af8cf6e37b6_9\"}, \"end_time_utc\": \"2021-01-10T17:49:21.540814Z\", \"status\": \"Completed\", \"log_files\": {}, \"log_groups\": [], \"run_duration\": \"0:20:44\"}, \"child_runs\": [{\"run_id\": \"AutoML_67f49fbd-8740-4cb0-a2db-8af8cf6e37b6_0\", \"run_number\": 83, \"metric\": null, \"status\": \"Completed\", \"run_type\": \"azureml.scriptrun\", \"training_percent\": \"100\", \"start_time\": \"2021-01-10T17:40:51.492819Z\", \"end_time\": \"2021-01-10T17:44:17.575211Z\", \"created_time\": \"2021-01-10T17:38:52.708963Z\", \"created_time_dt\": \"2021-01-10T17:38:52.708963Z\", \"duration\": \"0:05:24\", \"iteration\": \"0\", \"goal\": \"accuracy_max\", \"run_name\": \"MaxAbsScaler, LightGBM\", \"run_properties\": \"copy=True\", \"primary_metric\": 0.84539007, \"best_metric\": 0.84539007}, {\"run_id\": \"AutoML_67f49fbd-8740-4cb0-a2db-8af8cf6e37b6_1\", \"run_number\": 84, \"metric\": null, \"status\": \"Completed\", \"run_type\": \"azureml.scriptrun\", \"training_percent\": \"100\", \"start_time\": \"2021-01-10T17:44:22.605269Z\", \"end_time\": \"2021-01-10T17:44:59.348727Z\", \"created_time\": \"2021-01-10T17:38:52.878948Z\", \"created_time_dt\": \"2021-01-10T17:38:52.878948Z\", \"duration\": \"0:06:06\", \"iteration\": \"1\", \"goal\": \"accuracy_max\", \"run_name\": \"MaxAbsScaler, XGBoostClassifier\", \"run_properties\": \"copy=True\", \"primary_metric\": 0.88714539, \"best_metric\": 0.88714539}, {\"run_id\": \"AutoML_67f49fbd-8740-4cb0-a2db-8af8cf6e37b6_2\", \"run_number\": 85, \"metric\": null, \"status\": \"Completed\", \"run_type\": \"azureml.scriptrun\", \"training_percent\": \"100\", \"start_time\": \"2021-01-10T17:43:24.00851Z\", \"end_time\": \"2021-01-10T17:44:23.548346Z\", \"created_time\": \"2021-01-10T17:38:52.887096Z\", \"created_time_dt\": \"2021-01-10T17:38:52.887096Z\", \"duration\": \"0:05:30\", \"iteration\": \"2\", \"goal\": \"accuracy_max\", \"run_name\": \"MinMaxScaler, RandomForest\", \"run_properties\": \"copy=True, feature_range=(0, 1\", \"primary_metric\": 0.84937943, \"best_metric\": 0.88714539}, {\"run_id\": \"AutoML_67f49fbd-8740-4cb0-a2db-8af8cf6e37b6_3\", \"run_number\": 86, \"metric\": null, \"status\": \"Completed\", \"run_type\": \"azureml.scriptrun\", \"training_percent\": \"100\", \"start_time\": \"2021-01-10T17:44:28.826994Z\", \"end_time\": \"2021-01-10T17:45:05.986874Z\", \"created_time\": \"2021-01-10T17:38:52.888821Z\", \"created_time_dt\": \"2021-01-10T17:38:52.888821Z\", \"duration\": \"0:06:13\", \"iteration\": \"3\", \"goal\": \"accuracy_max\", \"run_name\": \"MinMaxScaler, RandomForest\", \"run_properties\": \"copy=True, feature_range=(0, 1\", \"primary_metric\": 0.8748227, \"best_metric\": 0.88714539}, {\"run_id\": \"AutoML_67f49fbd-8740-4cb0-a2db-8af8cf6e37b6_4\", \"run_number\": 87, \"metric\": null, \"status\": \"Completed\", \"run_type\": \"azureml.scriptrun\", \"training_percent\": \"100\", \"start_time\": \"2021-01-10T17:44:49.722074Z\", \"end_time\": \"2021-01-10T17:48:01.428762Z\", \"created_time\": \"2021-01-10T17:44:20.212684Z\", \"created_time_dt\": \"2021-01-10T17:44:20.212684Z\", \"duration\": \"0:03:41\", \"iteration\": \"4\", \"goal\": \"accuracy_max\", \"run_name\": \"MinMaxScaler, RandomForest\", \"run_properties\": \"copy=True, feature_range=(0, 1\", \"primary_metric\": 0.84955674, \"best_metric\": 0.88714539}, {\"run_id\": \"AutoML_67f49fbd-8740-4cb0-a2db-8af8cf6e37b6_5\", \"run_number\": 88, \"metric\": null, \"status\": \"Completed\", \"run_type\": \"azureml.scriptrun\", \"training_percent\": \"100\", \"start_time\": \"2021-01-10T17:44:53.848817Z\", \"end_time\": \"2021-01-10T17:48:09.275958Z\", \"created_time\": \"2021-01-10T17:44:39.063312Z\", \"created_time_dt\": \"2021-01-10T17:44:39.063312Z\", \"duration\": \"0:03:30\", \"iteration\": \"5\", \"goal\": \"accuracy_max\", \"run_name\": \"StandardScalerWrapper, KNN\", \"run_properties\": \"<azureml.automl.runtime.shared.model_wrappers.StandardScalerWrapper object at 0x7effdbb97f60\", \"primary_metric\": 0.74521277, \"best_metric\": 0.88714539}, {\"run_id\": \"AutoML_67f49fbd-8740-4cb0-a2db-8af8cf6e37b6_6\", \"run_number\": 89, \"metric\": null, \"status\": \"Completed\", \"run_type\": \"azureml.scriptrun\", \"training_percent\": \"100\", \"start_time\": \"2021-01-10T17:45:15.664355Z\", \"end_time\": \"2021-01-10T17:45:55.548733Z\", \"created_time\": \"2021-01-10T17:45:02.712578Z\", \"created_time_dt\": \"2021-01-10T17:45:02.712578Z\", \"duration\": \"0:00:52\", \"iteration\": \"6\", \"goal\": \"accuracy_max\", \"run_name\": \"StandardScalerWrapper, ExtremeRandomTrees\", \"run_properties\": \"<azureml.automl.runtime.shared.model_wrappers.StandardScalerWrapper object at 0x7f4e9a302b38\", \"primary_metric\": 0.85789007, \"best_metric\": 0.88714539}, {\"run_id\": \"AutoML_67f49fbd-8740-4cb0-a2db-8af8cf6e37b6_7\", \"run_number\": 90, \"metric\": null, \"status\": \"Completed\", \"run_type\": \"azureml.scriptrun\", \"training_percent\": \"100\", \"start_time\": \"2021-01-10T17:45:20.420324Z\", \"end_time\": \"2021-01-10T17:45:57.448633Z\", \"created_time\": \"2021-01-10T17:45:08.64901Z\", \"created_time_dt\": \"2021-01-10T17:45:08.64901Z\", \"duration\": \"0:00:48\", \"iteration\": \"7\", \"goal\": \"accuracy_max\", \"run_name\": \"MinMaxScaler, SVM\", \"run_properties\": \"copy=True, feature_range=(0, 1\", \"primary_metric\": 0.71586879, \"best_metric\": 0.88714539}, {\"run_id\": \"AutoML_67f49fbd-8740-4cb0-a2db-8af8cf6e37b6_8\", \"run_number\": 91, \"metric\": null, \"status\": \"Completed\", \"run_type\": \"azureml.scriptrun\", \"training_percent\": \"100\", \"start_time\": \"2021-01-10T17:46:09.678205Z\", \"end_time\": \"2021-01-10T17:46:51.817179Z\", \"created_time\": \"2021-01-10T17:45:58.116528Z\", \"created_time_dt\": \"2021-01-10T17:45:58.116528Z\", \"duration\": \"0:00:53\", \"iteration\": \"8\", \"goal\": \"accuracy_max\", \"run_name\": \"SparseNormalizer, XGBoostClassifier\", \"run_properties\": \"<azureml.automl.runtime.shared.model_wrappers.SparseNormalizer object at 0x7fdff84657b8\", \"primary_metric\": 0.83289007, \"best_metric\": 0.88714539}, {\"run_id\": \"AutoML_67f49fbd-8740-4cb0-a2db-8af8cf6e37b6_9\", \"run_number\": 92, \"metric\": null, \"status\": \"Completed\", \"run_type\": \"azureml.scriptrun\", \"training_percent\": \"100\", \"start_time\": \"2021-01-10T17:48:22.419054Z\", \"end_time\": \"2021-01-10T17:49:15.985375Z\", \"created_time\": \"2021-01-10T17:48:10.504055Z\", \"created_time_dt\": \"2021-01-10T17:48:10.504055Z\", \"duration\": \"0:01:05\", \"iteration\": \"9\", \"goal\": \"accuracy_max\", \"run_name\": \"VotingEnsemble\", \"run_properties\": \"classification_labels=None,\\n                              estimators=[('1',\\n                                           Pipeline(memory=None,\\n                                                    steps=[('maxabsscaler',\\n                                                            MaxAbsScaler(copy=True\", \"primary_metric\": 0.89131206, \"best_metric\": 0.89131206}], \"children_metrics\": {\"categories\": [0], \"series\": {\"average_precision_score_micro\": [{\"categories\": [\"0\", \"1\", \"2\", \"3\", \"4\", \"5\", \"6\", \"7\", \"8\", \"9\"], \"mode\": \"markers\", \"name\": \"average_precision_score_micro\", \"stepped\": false, \"type\": \"scatter\", \"data\": [0.914869880293983, 0.9326132995798776, 0.9221532574270401, 0.9273862443815137, 0.9282464963768368, 0.8352925429375443, 0.9182871697510055, 0.7680476986631952, 0.9169526684358686, 0.9384981757831931]}, {\"categories\": [\"0\", \"1\", \"2\", \"3\", \"4\", \"5\", \"6\", \"7\", \"8\", \"9\"], \"mode\": \"lines\", \"name\": \"average_precision_score_micro_max\", \"stepped\": true, \"type\": \"scatter\", \"data\": [0.914869880293983, 0.9326132995798776, 0.9326132995798776, 0.9326132995798776, 0.9326132995798776, 0.9326132995798776, 0.9326132995798776, 0.9326132995798776, 0.9326132995798776, 0.9384981757831931]}], \"precision_score_macro\": [{\"categories\": [\"0\", \"1\", \"2\", \"3\", \"4\", \"5\", \"6\", \"7\", \"8\", \"9\"], \"mode\": \"markers\", \"name\": \"precision_score_macro\", \"stepped\": false, \"type\": \"scatter\", \"data\": [0.8407301304360129, 0.8805281279178339, 0.8386761366059033, 0.8807630300277358, 0.8422551133770299, 0.7426078255956304, 0.8503183320474591, 0.6977322068175728, 0.8243527216511088, 0.8843379529231047]}, {\"categories\": [\"0\", \"1\", \"2\", \"3\", \"4\", \"5\", \"6\", \"7\", \"8\", \"9\"], \"mode\": \"lines\", \"name\": \"precision_score_macro_max\", \"stepped\": true, \"type\": \"scatter\", \"data\": [0.8407301304360129, 0.8805281279178339, 0.8805281279178339, 0.8807630300277358, 0.8807630300277358, 0.8807630300277358, 0.8807630300277358, 0.8807630300277358, 0.8807630300277358, 0.8843379529231047]}], \"recall_score_weighted\": [{\"categories\": [\"0\", \"1\", \"2\", \"3\", \"4\", \"5\", \"6\", \"7\", \"8\", \"9\"], \"mode\": \"markers\", \"name\": \"recall_score_weighted\", \"stepped\": false, \"type\": \"scatter\", \"data\": [0.8453900709219859, 0.887145390070922, 0.8493794326241135, 0.874822695035461, 0.8495567375886525, 0.7452127659574468, 0.8578900709219859, 0.7158687943262411, 0.8328900709219857, 0.8913120567375886]}, {\"categories\": [\"0\", \"1\", \"2\", \"3\", \"4\", \"5\", \"6\", \"7\", \"8\", \"9\"], \"mode\": \"lines\", \"name\": \"recall_score_weighted_max\", \"stepped\": true, \"type\": \"scatter\", \"data\": [0.8453900709219859, 0.887145390070922, 0.887145390070922, 0.887145390070922, 0.887145390070922, 0.887145390070922, 0.887145390070922, 0.887145390070922, 0.887145390070922, 0.8913120567375886]}], \"balanced_accuracy\": [{\"categories\": [\"0\", \"1\", \"2\", \"3\", \"4\", \"5\", \"6\", \"7\", \"8\", \"9\"], \"mode\": \"markers\", \"name\": \"balanced_accuracy\", \"stepped\": false, \"type\": \"scatter\", \"data\": [0.8243060823528156, 0.8712627796180428, 0.8230780231313354, 0.8425751743719075, 0.8269808381525714, 0.6469676860999456, 0.8367970453371996, 0.6349958959169484, 0.7927634463489726, 0.8741199224751857]}, {\"categories\": [\"0\", \"1\", \"2\", \"3\", \"4\", \"5\", \"6\", \"7\", \"8\", \"9\"], \"mode\": \"lines\", \"name\": \"balanced_accuracy_max\", \"stepped\": true, \"type\": \"scatter\", \"data\": [0.8243060823528156, 0.8712627796180428, 0.8712627796180428, 0.8712627796180428, 0.8712627796180428, 0.8712627796180428, 0.8712627796180428, 0.8712627796180428, 0.8712627796180428, 0.8741199224751857]}], \"matthews_correlation\": [{\"categories\": [\"0\", \"1\", \"2\", \"3\", \"4\", \"5\", \"6\", \"7\", \"8\", \"9\"], \"mode\": \"markers\", \"name\": \"matthews_correlation\", \"stepped\": false, \"type\": \"scatter\", \"data\": [0.6633773323986686, 0.7508831773904034, 0.6604276959498374, 0.7210802588630016, 0.6677399729128657, 0.37585819426078426, 0.6858030665413528, 0.3231504118983914, 0.6154716619145083, 0.7576469822984113]}, {\"categories\": [\"0\", \"1\", \"2\", \"3\", \"4\", \"5\", \"6\", \"7\", \"8\", \"9\"], \"mode\": \"lines\", \"name\": \"matthews_correlation_max\", \"stepped\": true, \"type\": \"scatter\", \"data\": [0.6633773323986686, 0.7508831773904034, 0.7508831773904034, 0.7508831773904034, 0.7508831773904034, 0.7508831773904034, 0.7508831773904034, 0.7508831773904034, 0.7508831773904034, 0.7576469822984113]}], \"f1_score_weighted\": [{\"categories\": [\"0\", \"1\", \"2\", \"3\", \"4\", \"5\", \"6\", \"7\", \"8\", \"9\"], \"mode\": \"markers\", \"name\": \"f1_score_weighted\", \"stepped\": false, \"type\": \"scatter\", \"data\": [0.8442777465565108, 0.8876928934854581, 0.847901405802838, 0.871475781820281, 0.8485065683050059, 0.7120702388959688, 0.8568264668510228, 0.6909207394416276, 0.8283516617353477, 0.8914897955081665]}, {\"categories\": [\"0\", \"1\", \"2\", \"3\", \"4\", \"5\", \"6\", \"7\", \"8\", \"9\"], \"mode\": \"lines\", \"name\": \"f1_score_weighted_max\", \"stepped\": true, \"type\": \"scatter\", \"data\": [0.8442777465565108, 0.8876928934854581, 0.8876928934854581, 0.8876928934854581, 0.8876928934854581, 0.8876928934854581, 0.8876928934854581, 0.8876928934854581, 0.8876928934854581, 0.8914897955081665]}], \"accuracy\": [{\"categories\": [\"0\", \"1\", \"2\", \"3\", \"4\", \"5\", \"6\", \"7\", \"8\", \"9\"], \"mode\": \"markers\", \"name\": \"accuracy\", \"stepped\": false, \"type\": \"scatter\", \"data\": [0.8453900709219859, 0.887145390070922, 0.8493794326241135, 0.874822695035461, 0.8495567375886525, 0.7452127659574468, 0.8578900709219859, 0.7158687943262411, 0.8328900709219857, 0.8913120567375886]}, {\"categories\": [\"0\", \"1\", \"2\", \"3\", \"4\", \"5\", \"6\", \"7\", \"8\", \"9\"], \"mode\": \"lines\", \"name\": \"accuracy_max\", \"stepped\": true, \"type\": \"scatter\", \"data\": [0.8453900709219859, 0.887145390070922, 0.887145390070922, 0.887145390070922, 0.887145390070922, 0.887145390070922, 0.887145390070922, 0.887145390070922, 0.887145390070922, 0.8913120567375886]}], \"average_precision_score_weighted\": [{\"categories\": [\"0\", \"1\", \"2\", \"3\", \"4\", \"5\", \"6\", \"7\", \"8\", \"9\"], \"mode\": \"markers\", \"name\": \"average_precision_score_weighted\", \"stepped\": false, \"type\": \"scatter\", \"data\": [0.9160175614668935, 0.9318455235036461, 0.923711111102195, 0.9269738731364059, 0.9316018957715334, 0.8372200267179537, 0.9262037604400911, 0.7624724375619524, 0.9228117748580142, 0.9380311869662323]}, {\"categories\": [\"0\", \"1\", \"2\", \"3\", \"4\", \"5\", \"6\", \"7\", \"8\", \"9\"], \"mode\": \"lines\", \"name\": \"average_precision_score_weighted_max\", \"stepped\": true, \"type\": \"scatter\", \"data\": [0.9160175614668935, 0.9318455235036461, 0.9318455235036461, 0.9318455235036461, 0.9318455235036461, 0.9318455235036461, 0.9318455235036461, 0.9318455235036461, 0.9318455235036461, 0.9380311869662323]}], \"recall_score_macro\": [{\"categories\": [\"0\", \"1\", \"2\", \"3\", \"4\", \"5\", \"6\", \"7\", \"8\", \"9\"], \"mode\": \"markers\", \"name\": \"recall_score_macro\", \"stepped\": false, \"type\": \"scatter\", \"data\": [0.8243060823528156, 0.8712627796180428, 0.8230780231313354, 0.8425751743719075, 0.8269808381525714, 0.6469676860999456, 0.8367970453371996, 0.6349958959169484, 0.7927634463489726, 0.8741199224751857]}, {\"categories\": [\"0\", \"1\", \"2\", \"3\", \"4\", \"5\", \"6\", \"7\", \"8\", \"9\"], \"mode\": \"lines\", \"name\": \"recall_score_macro_max\", \"stepped\": true, \"type\": \"scatter\", \"data\": [0.8243060823528156, 0.8712627796180428, 0.8712627796180428, 0.8712627796180428, 0.8712627796180428, 0.8712627796180428, 0.8712627796180428, 0.8712627796180428, 0.8712627796180428, 0.8741199224751857]}], \"norm_macro_recall\": [{\"categories\": [\"0\", \"1\", \"2\", \"3\", \"4\", \"5\", \"6\", \"7\", \"8\", \"9\"], \"mode\": \"markers\", \"name\": \"norm_macro_recall\", \"stepped\": false, \"type\": \"scatter\", \"data\": [0.6486121647056311, 0.7425255592360854, 0.6461560462626706, 0.6851503487438151, 0.6539616763051428, 0.2939353721998913, 0.6735940906743991, 0.26999179183389704, 0.5855268926979453, 0.7482398449503713]}, {\"categories\": [\"0\", \"1\", \"2\", \"3\", \"4\", \"5\", \"6\", \"7\", \"8\", \"9\"], \"mode\": \"lines\", \"name\": \"norm_macro_recall_max\", \"stepped\": true, \"type\": \"scatter\", \"data\": [0.6486121647056311, 0.7425255592360854, 0.7425255592360854, 0.7425255592360854, 0.7425255592360854, 0.7425255592360854, 0.7425255592360854, 0.7425255592360854, 0.7425255592360854, 0.7482398449503713]}], \"precision_score_weighted\": [{\"categories\": [\"0\", \"1\", \"2\", \"3\", \"4\", \"5\", \"6\", \"7\", \"8\", \"9\"], \"mode\": \"markers\", \"name\": \"precision_score_weighted\", \"stepped\": false, \"type\": \"scatter\", \"data\": [0.8606332103190155, 0.8965883512831846, 0.8575433703920584, 0.8844757625068953, 0.8608220708635541, 0.750832330889901, 0.8676804669653089, 0.7214554611082569, 0.8380463430510616, 0.8988491391108605]}, {\"categories\": [\"0\", \"1\", \"2\", \"3\", \"4\", \"5\", \"6\", \"7\", \"8\", \"9\"], \"mode\": \"lines\", \"name\": \"precision_score_weighted_max\", \"stepped\": true, \"type\": \"scatter\", \"data\": [0.8606332103190155, 0.8965883512831846, 0.8965883512831846, 0.8965883512831846, 0.8965883512831846, 0.8965883512831846, 0.8965883512831846, 0.8965883512831846, 0.8965883512831846, 0.8988491391108605]}], \"AUC_macro\": [{\"categories\": [\"0\", \"1\", \"2\", \"3\", \"4\", \"5\", \"6\", \"7\", \"8\", \"9\"], \"mode\": \"markers\", \"name\": \"AUC_macro\", \"stepped\": false, \"type\": \"scatter\", \"data\": [0.9096922075370351, 0.9273694639869777, 0.9161223312380301, 0.9197932741285737, 0.9249748034616456, 0.8140938197381029, 0.9166216971843106, 0.723039085083096, 0.9186970776081484, 0.9320839866257289]}, {\"categories\": [\"0\", \"1\", \"2\", \"3\", \"4\", \"5\", \"6\", \"7\", \"8\", \"9\"], \"mode\": \"lines\", \"name\": \"AUC_macro_max\", \"stepped\": true, \"type\": \"scatter\", \"data\": [0.9096922075370351, 0.9273694639869777, 0.9273694639869777, 0.9273694639869777, 0.9273694639869777, 0.9273694639869777, 0.9273694639869777, 0.9273694639869777, 0.9273694639869777, 0.9320839866257289]}], \"log_loss\": [{\"categories\": [\"0\", \"1\", \"2\", \"3\", \"4\", \"5\", \"6\", \"7\", \"8\", \"9\"], \"mode\": \"markers\", \"name\": \"log_loss\", \"stepped\": false, \"type\": \"scatter\", \"data\": [0.4418712125215928, 0.3355842809891392, 0.3519769003149637, 0.34828475210611554, 0.34377451760706507, 0.6269132553740489, 0.37577258994143126, 0.5886292853697803, 0.3668117054459206, 0.3192638709890846]}, {\"categories\": [\"0\", \"1\", \"2\", \"3\", \"4\", \"5\", \"6\", \"7\", \"8\", \"9\"], \"mode\": \"lines\", \"name\": \"log_loss_min\", \"stepped\": true, \"type\": \"scatter\", \"data\": [0.4418712125215928, 0.3355842809891392, 0.3355842809891392, 0.3355842809891392, 0.3355842809891392, 0.3355842809891392, 0.3355842809891392, 0.3355842809891392, 0.3355842809891392, 0.3192638709890846]}], \"average_precision_score_macro\": [{\"categories\": [\"0\", \"1\", \"2\", \"3\", \"4\", \"5\", \"6\", \"7\", \"8\", \"9\"], \"mode\": \"markers\", \"name\": \"average_precision_score_macro\", \"stepped\": false, \"type\": \"scatter\", \"data\": [0.8889847677268996, 0.9073016436751062, 0.9033832190808025, 0.907493737139462, 0.9100272939721045, 0.8025637946442121, 0.905148298824346, 0.7237794005428967, 0.905580005904094, 0.9168864824429115]}, {\"categories\": [\"0\", \"1\", \"2\", \"3\", \"4\", \"5\", \"6\", \"7\", \"8\", \"9\"], \"mode\": \"lines\", \"name\": \"average_precision_score_macro_max\", \"stepped\": true, \"type\": \"scatter\", \"data\": [0.8889847677268996, 0.9073016436751062, 0.9073016436751062, 0.907493737139462, 0.9100272939721045, 0.9100272939721045, 0.9100272939721045, 0.9100272939721045, 0.9100272939721045, 0.9168864824429115]}], \"f1_score_macro\": [{\"categories\": [\"0\", \"1\", \"2\", \"3\", \"4\", \"5\", \"6\", \"7\", \"8\", \"9\"], \"mode\": \"markers\", \"name\": \"f1_score_macro\", \"stepped\": false, \"type\": \"scatter\", \"data\": [0.8217695139839204, 0.8707131011691702, 0.8240234194466762, 0.8516292039863835, 0.8264913075539262, 0.6494294189580232, 0.8364292624380326, 0.6329393734505296, 0.8002005469791234, 0.8748036342919615]}, {\"categories\": [\"0\", \"1\", \"2\", \"3\", \"4\", \"5\", \"6\", \"7\", \"8\", \"9\"], \"mode\": \"lines\", \"name\": \"f1_score_macro_max\", \"stepped\": true, \"type\": \"scatter\", \"data\": [0.8217695139839204, 0.8707131011691702, 0.8707131011691702, 0.8707131011691702, 0.8707131011691702, 0.8707131011691702, 0.8707131011691702, 0.8707131011691702, 0.8707131011691702, 0.8748036342919615]}], \"precision_score_micro\": [{\"categories\": [\"0\", \"1\", \"2\", \"3\", \"4\", \"5\", \"6\", \"7\", \"8\", \"9\"], \"mode\": \"markers\", \"name\": \"precision_score_micro\", \"stepped\": false, \"type\": \"scatter\", \"data\": [0.8453900709219859, 0.887145390070922, 0.8493794326241135, 0.874822695035461, 0.8495567375886525, 0.7452127659574468, 0.8578900709219859, 0.7158687943262411, 0.8328900709219857, 0.8913120567375886]}, {\"categories\": [\"0\", \"1\", \"2\", \"3\", \"4\", \"5\", \"6\", \"7\", \"8\", \"9\"], \"mode\": \"lines\", \"name\": \"precision_score_micro_max\", \"stepped\": true, \"type\": \"scatter\", \"data\": [0.8453900709219859, 0.887145390070922, 0.887145390070922, 0.887145390070922, 0.887145390070922, 0.887145390070922, 0.887145390070922, 0.887145390070922, 0.887145390070922, 0.8913120567375886]}], \"AUC_micro\": [{\"categories\": [\"0\", \"1\", \"2\", \"3\", \"4\", \"5\", \"6\", \"7\", \"8\", \"9\"], \"mode\": \"markers\", \"name\": \"AUC_micro\", \"stepped\": false, \"type\": \"scatter\", \"data\": [0.9122097574317187, 0.9295129850736885, 0.92131687446557, 0.9290266931995372, 0.927014289711282, 0.8341659829108193, 0.9191345930159448, 0.7730749718638399, 0.9216939618857201, 0.9356761795181328]}, {\"categories\": [\"0\", \"1\", \"2\", \"3\", \"4\", \"5\", \"6\", \"7\", \"8\", \"9\"], \"mode\": \"lines\", \"name\": \"AUC_micro_max\", \"stepped\": true, \"type\": \"scatter\", \"data\": [0.9122097574317187, 0.9295129850736885, 0.9295129850736885, 0.9295129850736885, 0.9295129850736885, 0.9295129850736885, 0.9295129850736885, 0.9295129850736885, 0.9295129850736885, 0.9356761795181328]}], \"AUC_weighted\": [{\"categories\": [\"0\", \"1\", \"2\", \"3\", \"4\", \"5\", \"6\", \"7\", \"8\", \"9\"], \"mode\": \"markers\", \"name\": \"AUC_weighted\", \"stepped\": false, \"type\": \"scatter\", \"data\": [0.9096922075370351, 0.9273694639869776, 0.9161223312380301, 0.9197932741285737, 0.9249748034616456, 0.8140938197381029, 0.9166216971843106, 0.7230390850830959, 0.9186970776081484, 0.9320839866257288]}, {\"categories\": [\"0\", \"1\", \"2\", \"3\", \"4\", \"5\", \"6\", \"7\", \"8\", \"9\"], \"mode\": \"lines\", \"name\": \"AUC_weighted_max\", \"stepped\": true, \"type\": \"scatter\", \"data\": [0.9096922075370351, 0.9273694639869776, 0.9273694639869776, 0.9273694639869776, 0.9273694639869776, 0.9273694639869776, 0.9273694639869776, 0.9273694639869776, 0.9273694639869776, 0.9320839866257288]}], \"f1_score_micro\": [{\"categories\": [\"0\", \"1\", \"2\", \"3\", \"4\", \"5\", \"6\", \"7\", \"8\", \"9\"], \"mode\": \"markers\", \"name\": \"f1_score_micro\", \"stepped\": false, \"type\": \"scatter\", \"data\": [0.8453900709219857, 0.887145390070922, 0.8493794326241133, 0.874822695035461, 0.8495567375886525, 0.7452127659574468, 0.8578900709219859, 0.7158687943262411, 0.8328900709219857, 0.8913120567375886]}, {\"categories\": [\"0\", \"1\", \"2\", \"3\", \"4\", \"5\", \"6\", \"7\", \"8\", \"9\"], \"mode\": \"lines\", \"name\": \"f1_score_micro_max\", \"stepped\": true, \"type\": \"scatter\", \"data\": [0.8453900709219857, 0.887145390070922, 0.887145390070922, 0.887145390070922, 0.887145390070922, 0.887145390070922, 0.887145390070922, 0.887145390070922, 0.887145390070922, 0.8913120567375886]}], \"recall_score_micro\": [{\"categories\": [\"0\", \"1\", \"2\", \"3\", \"4\", \"5\", \"6\", \"7\", \"8\", \"9\"], \"mode\": \"markers\", \"name\": \"recall_score_micro\", \"stepped\": false, \"type\": \"scatter\", \"data\": [0.8453900709219859, 0.887145390070922, 0.8493794326241135, 0.874822695035461, 0.8495567375886525, 0.7452127659574468, 0.8578900709219859, 0.7158687943262411, 0.8328900709219857, 0.8913120567375886]}, {\"categories\": [\"0\", \"1\", \"2\", \"3\", \"4\", \"5\", \"6\", \"7\", \"8\", \"9\"], \"mode\": \"lines\", \"name\": \"recall_score_micro_max\", \"stepped\": true, \"type\": \"scatter\", \"data\": [0.8453900709219859, 0.887145390070922, 0.887145390070922, 0.887145390070922, 0.887145390070922, 0.887145390070922, 0.887145390070922, 0.887145390070922, 0.887145390070922, 0.8913120567375886]}], \"weighted_accuracy\": [{\"categories\": [\"0\", \"1\", \"2\", \"3\", \"4\", \"5\", \"6\", \"7\", \"8\", \"9\"], \"mode\": \"markers\", \"name\": \"weighted_accuracy\", \"stepped\": false, \"type\": \"scatter\", \"data\": [0.8638557708523094, 0.9006172280097371, 0.8704039130855324, 0.9011732520458491, 0.8686534269708233, 0.820667789817694, 0.8757378315971367, 0.7786908224629986, 0.8643217309336452, 0.9056387488131804]}, {\"categories\": [\"0\", \"1\", \"2\", \"3\", \"4\", \"5\", \"6\", \"7\", \"8\", \"9\"], \"mode\": \"lines\", \"name\": \"weighted_accuracy_max\", \"stepped\": true, \"type\": \"scatter\", \"data\": [0.8638557708523094, 0.9006172280097371, 0.9006172280097371, 0.9011732520458491, 0.9011732520458491, 0.9011732520458491, 0.9011732520458491, 0.9011732520458491, 0.9011732520458491, 0.9056387488131804]}]}, \"metricName\": null, \"primaryMetricName\": \"accuracy\", \"showLegend\": false}, \"run_metrics\": [{\"name\": \"experiment_status\", \"run_id\": \"AutoML_67f49fbd-8740-4cb0-a2db-8af8cf6e37b6\", \"categories\": [0, 1, 2, 3, 4, 5, 6, 7, 8, 9, 10, 11, 12, 13], \"series\": [{\"data\": [\"DatasetEvaluation\", \"FeaturesGeneration\", \"DatasetFeaturization\", \"DatasetFeaturizationCompleted\", \"DatasetCrossValidationSplit\", \"ModelSelection\", \"BestRunExplainModel\", \"ModelExplanationDataSetSetup\", \"PickSurrogateModel\", \"EngineeredFeatureExplanations\", \"EngineeredFeatureExplanations\", \"RawFeaturesExplanations\", \"RawFeaturesExplanations\", \"BestRunExplainModel\"]}]}, {\"name\": \"experiment_status_description\", \"run_id\": \"AutoML_67f49fbd-8740-4cb0-a2db-8af8cf6e37b6\", \"categories\": [0, 1, 2, 3, 4, 5, 6, 7, 8, 9, 10, 11, 12, 13], \"series\": [{\"data\": [\"Gathering dataset statistics.\", \"Generating features for the dataset.\", \"Beginning to fit featurizers and featurize the dataset.\", \"Completed fit featurizers and featurizing the dataset.\", \"Generating individually featurized CV splits.\", \"Beginning model selection.\", \"Best run model explanations started\", \"Model explanations data setup completed\", \"Choosing LightGBM as the surrogate model for explanations\", \"Computation of engineered features started\", \"Computation of engineered features completed\", \"Computation of raw features started\", \"Computation of raw features completed\", \"Best run model explanations completed\"]}]}, {\"name\": \"f1_score_weighted\", \"run_id\": \"AutoML_67f49fbd-8740-4cb0-a2db-8af8cf6e37b6\", \"categories\": [0], \"series\": [{\"data\": [0.8914897955081665]}]}, {\"name\": \"AUC_micro\", \"run_id\": \"AutoML_67f49fbd-8740-4cb0-a2db-8af8cf6e37b6\", \"categories\": [0], \"series\": [{\"data\": [0.9356761795181328]}]}, {\"name\": \"f1_score_micro\", \"run_id\": \"AutoML_67f49fbd-8740-4cb0-a2db-8af8cf6e37b6\", \"categories\": [0], \"series\": [{\"data\": [0.8913120567375886]}]}, {\"name\": \"average_precision_score_weighted\", \"run_id\": \"AutoML_67f49fbd-8740-4cb0-a2db-8af8cf6e37b6\", \"categories\": [0], \"series\": [{\"data\": [0.9380311869662323]}]}, {\"name\": \"f1_score_macro\", \"run_id\": \"AutoML_67f49fbd-8740-4cb0-a2db-8af8cf6e37b6\", \"categories\": [0], \"series\": [{\"data\": [0.8748036342919615]}]}, {\"name\": \"weighted_accuracy\", \"run_id\": \"AutoML_67f49fbd-8740-4cb0-a2db-8af8cf6e37b6\", \"categories\": [0], \"series\": [{\"data\": [0.9056387488131804]}]}, {\"name\": \"average_precision_score_macro\", \"run_id\": \"AutoML_67f49fbd-8740-4cb0-a2db-8af8cf6e37b6\", \"categories\": [0], \"series\": [{\"data\": [0.9168864824429115]}]}, {\"name\": \"AUC_weighted\", \"run_id\": \"AutoML_67f49fbd-8740-4cb0-a2db-8af8cf6e37b6\", \"categories\": [0], \"series\": [{\"data\": [0.9320839866257288]}]}, {\"name\": \"precision_score_weighted\", \"run_id\": \"AutoML_67f49fbd-8740-4cb0-a2db-8af8cf6e37b6\", \"categories\": [0], \"series\": [{\"data\": [0.8988491391108605]}]}, {\"name\": \"AUC_macro\", \"run_id\": \"AutoML_67f49fbd-8740-4cb0-a2db-8af8cf6e37b6\", \"categories\": [0], \"series\": [{\"data\": [0.9320839866257289]}]}, {\"name\": \"recall_score_micro\", \"run_id\": \"AutoML_67f49fbd-8740-4cb0-a2db-8af8cf6e37b6\", \"categories\": [0], \"series\": [{\"data\": [0.8913120567375886]}]}, {\"name\": \"precision_score_micro\", \"run_id\": \"AutoML_67f49fbd-8740-4cb0-a2db-8af8cf6e37b6\", \"categories\": [0], \"series\": [{\"data\": [0.8913120567375886]}]}, {\"name\": \"balanced_accuracy\", \"run_id\": \"AutoML_67f49fbd-8740-4cb0-a2db-8af8cf6e37b6\", \"categories\": [0], \"series\": [{\"data\": [0.8741199224751857]}]}, {\"name\": \"average_precision_score_micro\", \"run_id\": \"AutoML_67f49fbd-8740-4cb0-a2db-8af8cf6e37b6\", \"categories\": [0], \"series\": [{\"data\": [0.9384981757831931]}]}, {\"name\": \"recall_score_weighted\", \"run_id\": \"AutoML_67f49fbd-8740-4cb0-a2db-8af8cf6e37b6\", \"categories\": [0], \"series\": [{\"data\": [0.8913120567375886]}]}, {\"name\": \"precision_score_macro\", \"run_id\": \"AutoML_67f49fbd-8740-4cb0-a2db-8af8cf6e37b6\", \"categories\": [0], \"series\": [{\"data\": [0.8843379529231047]}]}, {\"name\": \"norm_macro_recall\", \"run_id\": \"AutoML_67f49fbd-8740-4cb0-a2db-8af8cf6e37b6\", \"categories\": [0], \"series\": [{\"data\": [0.7482398449503713]}]}, {\"name\": \"accuracy\", \"run_id\": \"AutoML_67f49fbd-8740-4cb0-a2db-8af8cf6e37b6\", \"categories\": [0], \"series\": [{\"data\": [0.8913120567375886]}]}, {\"name\": \"recall_score_macro\", \"run_id\": \"AutoML_67f49fbd-8740-4cb0-a2db-8af8cf6e37b6\", \"categories\": [0], \"series\": [{\"data\": [0.8741199224751857]}]}, {\"name\": \"matthews_correlation\", \"run_id\": \"AutoML_67f49fbd-8740-4cb0-a2db-8af8cf6e37b6\", \"categories\": [0], \"series\": [{\"data\": [0.7576469822984113]}]}, {\"name\": \"log_loss\", \"run_id\": \"AutoML_67f49fbd-8740-4cb0-a2db-8af8cf6e37b6\", \"categories\": [0], \"series\": [{\"data\": [0.3192638709890846]}]}], \"run_logs\": \"\\nRun is completed.\", \"graph\": {}, \"widget_settings\": {\"childWidgetDisplay\": \"popup\", \"send_telemetry\": false, \"log_level\": \"INFO\", \"sdk_version\": \"1.19.0\"}, \"loading\": false}"
          },
          "metadata": {}
        }
      ],
      "execution_count": 21,
      "metadata": {
        "gather": {
          "logged": 1610300989114
        },
        "jupyter": {
          "outputs_hidden": false,
          "source_hidden": false
        },
        "nteract": {
          "transient": {
            "deleting": false
          }
        }
      }
    },
    {
      "cell_type": "markdown",
      "source": [
        "## Best Model\n",
        "\n",
        "TODO: In the cell below, get the best model from the automl experiments and display all the properties of the model.\n",
        "\n"
      ],
      "metadata": {}
    },
    {
      "cell_type": "code",
      "source": [
        "best_automl_run,fitted_model = remote_run.get_output()"
      ],
      "outputs": [],
      "execution_count": 22,
      "metadata": {
        "gather": {
          "logged": 1610301006140
        },
        "jupyter": {
          "outputs_hidden": false,
          "source_hidden": false
        },
        "nteract": {
          "transient": {
            "deleting": false
          }
        }
      }
    },
    {
      "cell_type": "code",
      "source": [
        "best_automl_run"
      ],
      "outputs": [
        {
          "output_type": "execute_result",
          "execution_count": 23,
          "data": {
            "text/plain": "Run(Experiment: Heart-Disease-Predection,\nId: AutoML_67f49fbd-8740-4cb0-a2db-8af8cf6e37b6_9,\nType: azureml.scriptrun,\nStatus: Completed)",
            "text/html": "<table style=\"width:100%\"><tr><th>Experiment</th><th>Id</th><th>Type</th><th>Status</th><th>Details Page</th><th>Docs Page</th></tr><tr><td>Heart-Disease-Predection</td><td>AutoML_67f49fbd-8740-4cb0-a2db-8af8cf6e37b6_9</td><td>azureml.scriptrun</td><td>Completed</td><td><a href=\"https://ml.azure.com/experiments/Heart-Disease-Predection/runs/AutoML_67f49fbd-8740-4cb0-a2db-8af8cf6e37b6_9?wsid=/subscriptions/cdbe0b43-92a0-4715-838a-f2648cc7ad21/resourcegroups/aml-quickstarts-134245/workspaces/quick-starts-ws-134245\" target=\"_blank\" rel=\"noopener\">Link to Azure Machine Learning studio</a></td><td><a href=\"https://docs.microsoft.com/en-us/python/api/azureml-core/azureml.core.run.Run?view=azure-ml-py\" target=\"_blank\" rel=\"noopener\">Link to Documentation</a></td></tr></table>"
          },
          "metadata": {}
        }
      ],
      "execution_count": 23,
      "metadata": {
        "collapsed": true,
        "jupyter": {
          "source_hidden": false,
          "outputs_hidden": false
        },
        "nteract": {
          "transient": {
            "deleting": false
          }
        },
        "gather": {
          "logged": 1610301011160
        }
      }
    },
    {
      "cell_type": "code",
      "source": [
        "best_automl_run.get_metrics()"
      ],
      "outputs": [
        {
          "output_type": "execute_result",
          "execution_count": 24,
          "data": {
            "text/plain": "{'log_loss': 0.3192638709890846,\n 'matthews_correlation': 0.7576469822984113,\n 'recall_score_micro': 0.8913120567375886,\n 'precision_score_weighted': 0.8988491391108605,\n 'AUC_macro': 0.9320839866257289,\n 'f1_score_micro': 0.8913120567375886,\n 'average_precision_score_macro': 0.9168864824429115,\n 'AUC_weighted': 0.9320839866257288,\n 'accuracy': 0.8913120567375886,\n 'average_precision_score_weighted': 0.9380311869662323,\n 'f1_score_macro': 0.8748036342919615,\n 'f1_score_weighted': 0.8914897955081665,\n 'norm_macro_recall': 0.7482398449503713,\n 'AUC_micro': 0.9356761795181328,\n 'average_precision_score_micro': 0.9384981757831931,\n 'weighted_accuracy': 0.9056387488131804,\n 'recall_score_macro': 0.8741199224751857,\n 'precision_score_macro': 0.8843379529231047,\n 'recall_score_weighted': 0.8913120567375886,\n 'precision_score_micro': 0.8913120567375886,\n 'balanced_accuracy': 0.8741199224751857,\n 'confusion_matrix': 'aml://artifactId/ExperimentRun/dcid.AutoML_67f49fbd-8740-4cb0-a2db-8af8cf6e37b6_9/confusion_matrix',\n 'accuracy_table': 'aml://artifactId/ExperimentRun/dcid.AutoML_67f49fbd-8740-4cb0-a2db-8af8cf6e37b6_9/accuracy_table'}"
          },
          "metadata": {}
        }
      ],
      "execution_count": 24,
      "metadata": {
        "collapsed": true,
        "jupyter": {
          "source_hidden": false,
          "outputs_hidden": false
        },
        "nteract": {
          "transient": {
            "deleting": false
          }
        },
        "gather": {
          "logged": 1610301025427
        }
      }
    },
    {
      "cell_type": "code",
      "source": [
        "#TODO: Save the best model\r\n",
        "best_automl_run,onnx_model =remote_run.get_output(return_onnx_model=True)\r\n",
        "OnnxConverter.save_onnx_model(onnx_model,file_path=\"./automl_model.onnx\")"
      ],
      "outputs": [],
      "execution_count": 25,
      "metadata": {
        "gather": {
          "logged": 1610301045557
        },
        "jupyter": {
          "outputs_hidden": false,
          "source_hidden": false
        },
        "nteract": {
          "transient": {
            "deleting": false
          }
        }
      }
    },
    {
      "cell_type": "markdown",
      "source": [
        "## Model Deployment\n",
        "\n",
        "Remember you have to deploy only one of the two models you trained.. Perform the steps in the rest of this notebook only if you wish to deploy this model.\n",
        "\n",
        "TODO: In the cell below, register the model, create an inference config and deploy the model as a web service."
      ],
      "metadata": {}
    },
    {
      "cell_type": "code",
      "source": [
        "#Register the best automl model,\r\n",
        "automl_model =remote_run.register_model(model_name = 'automl_best_model')"
      ],
      "outputs": [],
      "execution_count": 26,
      "metadata": {
        "gather": {
          "logged": 1610301052514
        },
        "jupyter": {
          "outputs_hidden": false,
          "source_hidden": false
        },
        "nteract": {
          "transient": {
            "deleting": false
          }
        }
      }
    },
    {
      "cell_type": "code",
      "source": [
        "script_file_name ='inference/sscore.py'\r\n",
        "best_automl_run.download_file('outputs/scoring_file_v_1_0_0.py','inference/sscore.py')"
      ],
      "outputs": [],
      "execution_count": 27,
      "metadata": {
        "collapsed": true,
        "jupyter": {
          "source_hidden": false,
          "outputs_hidden": false
        },
        "nteract": {
          "transient": {
            "deleting": false
          }
        },
        "gather": {
          "logged": 1610301060026
        }
      }
    },
    {
      "cell_type": "code",
      "source": [
        "inference_config = InferenceConfig(entry_script=script_file_name, environment=best_automl_run.get_environment())"
      ],
      "outputs": [],
      "execution_count": 28,
      "metadata": {
        "collapsed": true,
        "jupyter": {
          "source_hidden": false,
          "outputs_hidden": false
        },
        "nteract": {
          "transient": {
            "deleting": false
          }
        },
        "gather": {
          "logged": 1610301064189
        }
      }
    },
    {
      "cell_type": "code",
      "source": [
        "\r\n",
        "#Local Deployment\r\n",
        "from azureml.core.webservice import LocalWebservice\r\n",
        "local_config = LocalWebservice.deploy_configuration(port=9001)\r\n",
        "local_service = Model.deploy(ws, \"test\", [automl_model], inference_config, local_config)\r\n",
        "local_service.wait_for_deployment(show_output=True)\r\n",
        "\r\n",
        "#Set up the deployment_config as webservice\r\n",
        "aci_config = AciWebservice.deploy_configuration(cpu_cores=1, memory_gb=1, enable_app_insights=True)\r\n",
        "\r\n",
        "#Deploy the model\r\n",
        "service = Model.deploy(\r\n",
        "    workspace = ws,\r\n",
        "    name = \"heart-failure-model\",\r\n",
        "    models = [automl_model],\r\n",
        "    inference_config = inference_config,\r\n",
        "    deployment_config = aci_config, overwrite=True)\r\n",
        "\r\n",
        "#wait until deployment is complete\r\n",
        "service.wait_for_deployment(show_output = True)"
      ],
      "outputs": [
        {
          "output_type": "stream",
          "name": "stdout",
          "text": [
            "Downloading model automl_best_model:1 to /tmp/azureml__ak_c38t/automl_best_model/1\n",
            "Generating Docker build context.\n",
            "Package creation Succeeded\n",
            "Logging into Docker registry viennaglobal.azurecr.io\n",
            "Logging into Docker registry viennaglobal.azurecr.io\n",
            "Building Docker image from Dockerfile...\n",
            "Step 1/5 : FROM viennaglobal.azurecr.io/azureml/azureml_4f3cee89203e005745d1830c04fe722a\n",
            " ---> c354c32ff2d1\n",
            "Step 2/5 : COPY azureml-app /var/azureml-app\n",
            " ---> 3360e28dfab1\n",
            "Step 3/5 : RUN mkdir -p '/var/azureml-app' && echo eyJhY2NvdW50Q29udGV4dCI6eyJzdWJzY3JpcHRpb25JZCI6ImNkYmUwYjQzLTkyYTAtNDcxNS04MzhhLWYyNjQ4Y2M3YWQyMSIsInJlc291cmNlR3JvdXBOYW1lIjoiYW1sLXF1aWNrc3RhcnRzLTEzNDI0NSIsImFjY291bnROYW1lIjoicXVpY2stc3RhcnRzLXdzLTEzNDI0NSIsIndvcmtzcGFjZUlkIjoiY2YzYzk4NmItYzU2Ni00NjYzLTkxN2EtN2MwNWI5OGQzMzk2In0sIm1vZGVscyI6e30sIm1vZGVsc0luZm8iOnt9fQ== | base64 --decode > /var/azureml-app/model_config_map.json\n",
            " ---> Running in e6f5e53e1453\n",
            " ---> 72ea4d4ee159\n",
            "Step 4/5 : RUN mv '/var/azureml-app/tmpc5d9ruuh.py' /var/azureml-app/main.py\n",
            " ---> Running in 0f936624e979\n",
            " ---> aee189ad273b\n",
            "Step 5/5 : CMD [\"runsvdir\",\"/var/runit\"]\n",
            " ---> Running in e1382469f1fb\n",
            " ---> 543c8e2ad7c4\n",
            "Successfully built 543c8e2ad7c4\n",
            "Successfully tagged test:latest\n",
            "Starting Docker container...\n",
            "Docker container running.\n",
            "Checking container health...\n",
            "Local webservice is running at http://localhost:9001\n",
            "Tips: You can try get_logs(): https://aka.ms/debugimage#dockerlog or local deployment: https://aka.ms/debugimage#debug-locally to debug if deployment takes longer than 10 minutes.\n",
            "Running.............\n",
            "Succeeded\n",
            "ACI service creation operation finished, operation \"Succeeded\"\n"
          ]
        }
      ],
      "execution_count": 29,
      "metadata": {
        "collapsed": true,
        "jupyter": {
          "source_hidden": false,
          "outputs_hidden": false
        },
        "nteract": {
          "transient": {
            "deleting": false
          }
        },
        "gather": {
          "logged": 1610301292563
        }
      }
    },
    {
      "cell_type": "markdown",
      "source": [
        "TODO: In the cell below, send a request to the web service you deployed to test it."
      ],
      "metadata": {
        "collapsed": true,
        "gather": {
          "logged": 1598431657736
        },
        "jupyter": {
          "outputs_hidden": false,
          "source_hidden": false
        },
        "nteract": {
          "transient": {
            "deleting": false
          }
        }
      }
    },
    {
      "cell_type": "code",
      "source": [
        "\r\n",
        "pd.DataFrame(test_data).to_csv(\"data/test_ds.csv\")\r\n",
        "test_ds=pd.read_csv(\"data/test_ds.csv\")\r\n",
        "test_ds.drop(test_ds.columns[0],axis=1,inplace=True)\r\n",
        "test_ds.drop(test_ds.columns[12],axis=1,inplace=True)\r\n",
        "test_ds\r\n",
        "\r\n"
      ],
      "outputs": [
        {
          "output_type": "execute_result",
          "execution_count": 86,
          "data": {
            "text/plain": "     age  anaemia  creatinine_phosphokinase  diabetes  ejection_fraction  \\\n0  70.00        0                      1202         0                 50   \n1  65.00        0                       157         0                 65   \n2  65.00        1                       258         1                 25   \n3  70.00        0                       571         1                 45   \n4  87.00        1                       149         0                 38   \n5  60.00        1                       260         1                 38   \n6  49.00        1                        69         0                 50   \n7  50.00        0                       582         1                 38   \n8  46.00        0                       168         1                 17   \n9  60.00        1                       588         1                 60   \n10 65.00        0                       113         1                 25   \n11 62.00        0                       281         1                 35   \n12 75.00        0                       119         0                 50   \n13 45.00        0                       582         0                 38   \n14 45.00        0                       582         0                 20   \n15 45.00        0                      2413         0                 38   \n16 60.00        1                        95         0                 60   \n17 50.00        0                       318         0                 40   \n18 56.00        1                       135         1                 38   \n19 80.00        1                       123         0                 35   \n20 80.00        0                       776         1                 38   \n21 52.00        0                       190         1                 38   \n22 90.00        1                        47         0                 40   \n23 40.00        0                       244         0                 45   \n24 82.00        0                        70         1                 30   \n25 45.00        0                       582         1                 38   \n26 55.00        0                       748         0                 45   \n27 60.00        1                      1082         1                 45   \n28 55.00        1                      2794         0                 35   \n29 59.00        1                       129         0                 45   \n30 69.00        0                       582         0                 20   \n31 65.00        1                       335         0                 35   \n32 55.00        0                      1199         0                 20   \n33 49.00        0                       972         1                 35   \n34 58.00        0                       582         1                 35   \n35 48.00        1                       131         1                 30   \n36 49.00        0                       789         0                 20   \n37 55.00        0                       582         1                 35   \n38 70.00        0                        97         0                 60   \n39 58.00        1                       200         1                 60   \n40 50.00        1                       249         1                 35   \n41 75.00        0                       582         1                 30   \n42 55.00        0                       336         0                 45   \n43 73.00        0                       582         0                 35   \n44 60.00        0                       166         0                 30   \n45 53.00        0                       196         0                 60   \n46 55.00        0                      7861         0                 38   \n47 60.00        0                      1211         1                 35   \n48 60.00        1                       754         1                 40   \n49 60.00        0                       320         0                 35   \n50 60.00        0                      3964         1                 62   \n51 45.00        0                      2060         1                 60   \n52 65.00        1                       128         1                 30   \n53 78.00        0                       224         0                 50   \n54 50.00        0                       482         1                 30   \n55 85.00        1                       910         0                 50   \n56 50.00        0                      1548         0                 30   \n57 53.00        1                      1808         0                 60   \n58 86.00        0                       582         0                 38   \n59 42.00        1                       250         1                 15   \n\n    high_blood_pressure  platelets  serum_creatinine  serum_sodium  sex  \\\n0                     1  358000.00              0.90           141    0   \n1                     0  263358.03              1.50           138    0   \n2                     0  198000.00              1.40           129    1   \n3                     1  185000.00              1.20           139    1   \n4                     0  262000.00              0.90           140    1   \n5                     0  255000.00              2.20           132    0   \n6                     0  132000.00              1.00           140    0   \n7                     0  310000.00              1.90           135    1   \n8                     1  271000.00              2.10           124    0   \n9                     0  194000.00              1.10           142    0   \n10                    0  497000.00              1.83           135    1   \n11                    0  221000.00              1.00           136    0   \n12                    1  248000.00              1.10           148    1   \n13                    1  422000.00              0.80           137    0   \n14                    1  126000.00              1.60           135    1   \n15                    0  140000.00              1.40           140    1   \n16                    0  337000.00              1.00           138    1   \n17                    1  216000.00              2.30           131    0   \n18                    0  133000.00              1.70           140    1   \n19                    1  388000.00              9.40           133    1   \n20                    1  192000.00              1.30           135    0   \n21                    0  382000.00              1.00           140    1   \n22                    1  204000.00              2.10           132    1   \n23                    1  275000.00              0.90           140    0   \n24                    0  200000.00              1.20           132    1   \n25                    0  302000.00              0.90           140    0   \n26                    0  263000.00              1.30           137    1   \n27                    0  250000.00              6.10           131    1   \n28                    1  141000.00              1.00           140    1   \n29                    1  362000.00              1.10           139    1   \n30                    0  266000.00              1.20           134    1   \n31                    1  235000.00              0.80           136    0   \n32                    0  263358.03              1.83           134    1   \n33                    1  268000.00              0.80           130    0   \n34                    0  122000.00              0.90           139    1   \n35                    1  244000.00              1.60           130    0   \n36                    1  319000.00              1.10           136    1   \n37                    1  371000.00              0.70           140    0   \n38                    1  220000.00              0.90           138    1   \n39                    0  300000.00              0.80           137    0   \n40                    1  319000.00              1.00           128    0   \n41                    1  263358.03              1.83           134    0   \n42                    1  324000.00              0.90           140    0   \n43                    1  203000.00              1.30           134    1   \n44                    0   62000.00              1.70           127    0   \n45                    0  220000.00              0.70           133    1   \n46                    0  263358.03              1.10           136    1   \n47                    0  263358.03              1.80           113    1   \n48                    1  328000.00              1.20           126    1   \n49                    0  133000.00              1.40           139    1   \n50                    0  263358.03              6.80           146    0   \n51                    0  742000.00              0.80           138    0   \n52                    1  297000.00              1.60           136    0   \n53                    0  481000.00              1.40           138    1   \n54                    0  329000.00              0.90           132    0   \n55                    0  235000.00              1.30           134    1   \n56                    1  211000.00              0.80           138    1   \n57                    1  249000.00              0.70           138    1   \n58                    0  263358.03              1.83           134    0   \n59                    0  213000.00              1.30           136    0   \n\n    smoking  time  \n0         0   196  \n1         0    10  \n2         0   235  \n3         1    33  \n4         0    14  \n5         1    45  \n6         0   147  \n7         1    35  \n8         0   100  \n9         0    33  \n10        0    67  \n11        0   108  \n12        0   209  \n13        0   245  \n14        0   180  \n15        1   280  \n16        1   146  \n17        0    60  \n18        0   244  \n19        1    10  \n20        0   130  \n21        1   258  \n22        1     8  \n23        0   174  \n24        1    26  \n25        0   244  \n26        0    88  \n27        0   107  \n28        0   206  \n29        1   121  \n30        1    73  \n31        0   120  \n32        1   241  \n33        0   187  \n34        1    71  \n35        0   193  \n36        1    55  \n37        0   197  \n38        0   186  \n39        0   104  \n40        0    28  \n41        0    23  \n42        0    74  \n43        0   195  \n44        0   207  \n45        1   134  \n46        0     6  \n47        1   186  \n48        0    91  \n49        0   258  \n50        0    43  \n51        0   278  \n52        0    20  \n53        1   192  \n54        0   109  \n55        0   121  \n56        0   108  \n57        1   106  \n58        0    95  \n59        0    65  ",
            "text/html": "<div>\n<style scoped>\n    .dataframe tbody tr th:only-of-type {\n        vertical-align: middle;\n    }\n\n    .dataframe tbody tr th {\n        vertical-align: top;\n    }\n\n    .dataframe thead th {\n        text-align: right;\n    }\n</style>\n<table border=\"1\" class=\"dataframe\">\n  <thead>\n    <tr style=\"text-align: right;\">\n      <th></th>\n      <th>age</th>\n      <th>anaemia</th>\n      <th>creatinine_phosphokinase</th>\n      <th>diabetes</th>\n      <th>ejection_fraction</th>\n      <th>high_blood_pressure</th>\n      <th>platelets</th>\n      <th>serum_creatinine</th>\n      <th>serum_sodium</th>\n      <th>sex</th>\n      <th>smoking</th>\n      <th>time</th>\n    </tr>\n  </thead>\n  <tbody>\n    <tr>\n      <th>0</th>\n      <td>70.00</td>\n      <td>0</td>\n      <td>1202</td>\n      <td>0</td>\n      <td>50</td>\n      <td>1</td>\n      <td>358000.00</td>\n      <td>0.90</td>\n      <td>141</td>\n      <td>0</td>\n      <td>0</td>\n      <td>196</td>\n    </tr>\n    <tr>\n      <th>1</th>\n      <td>65.00</td>\n      <td>0</td>\n      <td>157</td>\n      <td>0</td>\n      <td>65</td>\n      <td>0</td>\n      <td>263358.03</td>\n      <td>1.50</td>\n      <td>138</td>\n      <td>0</td>\n      <td>0</td>\n      <td>10</td>\n    </tr>\n    <tr>\n      <th>2</th>\n      <td>65.00</td>\n      <td>1</td>\n      <td>258</td>\n      <td>1</td>\n      <td>25</td>\n      <td>0</td>\n      <td>198000.00</td>\n      <td>1.40</td>\n      <td>129</td>\n      <td>1</td>\n      <td>0</td>\n      <td>235</td>\n    </tr>\n    <tr>\n      <th>3</th>\n      <td>70.00</td>\n      <td>0</td>\n      <td>571</td>\n      <td>1</td>\n      <td>45</td>\n      <td>1</td>\n      <td>185000.00</td>\n      <td>1.20</td>\n      <td>139</td>\n      <td>1</td>\n      <td>1</td>\n      <td>33</td>\n    </tr>\n    <tr>\n      <th>4</th>\n      <td>87.00</td>\n      <td>1</td>\n      <td>149</td>\n      <td>0</td>\n      <td>38</td>\n      <td>0</td>\n      <td>262000.00</td>\n      <td>0.90</td>\n      <td>140</td>\n      <td>1</td>\n      <td>0</td>\n      <td>14</td>\n    </tr>\n    <tr>\n      <th>5</th>\n      <td>60.00</td>\n      <td>1</td>\n      <td>260</td>\n      <td>1</td>\n      <td>38</td>\n      <td>0</td>\n      <td>255000.00</td>\n      <td>2.20</td>\n      <td>132</td>\n      <td>0</td>\n      <td>1</td>\n      <td>45</td>\n    </tr>\n    <tr>\n      <th>6</th>\n      <td>49.00</td>\n      <td>1</td>\n      <td>69</td>\n      <td>0</td>\n      <td>50</td>\n      <td>0</td>\n      <td>132000.00</td>\n      <td>1.00</td>\n      <td>140</td>\n      <td>0</td>\n      <td>0</td>\n      <td>147</td>\n    </tr>\n    <tr>\n      <th>7</th>\n      <td>50.00</td>\n      <td>0</td>\n      <td>582</td>\n      <td>1</td>\n      <td>38</td>\n      <td>0</td>\n      <td>310000.00</td>\n      <td>1.90</td>\n      <td>135</td>\n      <td>1</td>\n      <td>1</td>\n      <td>35</td>\n    </tr>\n    <tr>\n      <th>8</th>\n      <td>46.00</td>\n      <td>0</td>\n      <td>168</td>\n      <td>1</td>\n      <td>17</td>\n      <td>1</td>\n      <td>271000.00</td>\n      <td>2.10</td>\n      <td>124</td>\n      <td>0</td>\n      <td>0</td>\n      <td>100</td>\n    </tr>\n    <tr>\n      <th>9</th>\n      <td>60.00</td>\n      <td>1</td>\n      <td>588</td>\n      <td>1</td>\n      <td>60</td>\n      <td>0</td>\n      <td>194000.00</td>\n      <td>1.10</td>\n      <td>142</td>\n      <td>0</td>\n      <td>0</td>\n      <td>33</td>\n    </tr>\n    <tr>\n      <th>10</th>\n      <td>65.00</td>\n      <td>0</td>\n      <td>113</td>\n      <td>1</td>\n      <td>25</td>\n      <td>0</td>\n      <td>497000.00</td>\n      <td>1.83</td>\n      <td>135</td>\n      <td>1</td>\n      <td>0</td>\n      <td>67</td>\n    </tr>\n    <tr>\n      <th>11</th>\n      <td>62.00</td>\n      <td>0</td>\n      <td>281</td>\n      <td>1</td>\n      <td>35</td>\n      <td>0</td>\n      <td>221000.00</td>\n      <td>1.00</td>\n      <td>136</td>\n      <td>0</td>\n      <td>0</td>\n      <td>108</td>\n    </tr>\n    <tr>\n      <th>12</th>\n      <td>75.00</td>\n      <td>0</td>\n      <td>119</td>\n      <td>0</td>\n      <td>50</td>\n      <td>1</td>\n      <td>248000.00</td>\n      <td>1.10</td>\n      <td>148</td>\n      <td>1</td>\n      <td>0</td>\n      <td>209</td>\n    </tr>\n    <tr>\n      <th>13</th>\n      <td>45.00</td>\n      <td>0</td>\n      <td>582</td>\n      <td>0</td>\n      <td>38</td>\n      <td>1</td>\n      <td>422000.00</td>\n      <td>0.80</td>\n      <td>137</td>\n      <td>0</td>\n      <td>0</td>\n      <td>245</td>\n    </tr>\n    <tr>\n      <th>14</th>\n      <td>45.00</td>\n      <td>0</td>\n      <td>582</td>\n      <td>0</td>\n      <td>20</td>\n      <td>1</td>\n      <td>126000.00</td>\n      <td>1.60</td>\n      <td>135</td>\n      <td>1</td>\n      <td>0</td>\n      <td>180</td>\n    </tr>\n    <tr>\n      <th>15</th>\n      <td>45.00</td>\n      <td>0</td>\n      <td>2413</td>\n      <td>0</td>\n      <td>38</td>\n      <td>0</td>\n      <td>140000.00</td>\n      <td>1.40</td>\n      <td>140</td>\n      <td>1</td>\n      <td>1</td>\n      <td>280</td>\n    </tr>\n    <tr>\n      <th>16</th>\n      <td>60.00</td>\n      <td>1</td>\n      <td>95</td>\n      <td>0</td>\n      <td>60</td>\n      <td>0</td>\n      <td>337000.00</td>\n      <td>1.00</td>\n      <td>138</td>\n      <td>1</td>\n      <td>1</td>\n      <td>146</td>\n    </tr>\n    <tr>\n      <th>17</th>\n      <td>50.00</td>\n      <td>0</td>\n      <td>318</td>\n      <td>0</td>\n      <td>40</td>\n      <td>1</td>\n      <td>216000.00</td>\n      <td>2.30</td>\n      <td>131</td>\n      <td>0</td>\n      <td>0</td>\n      <td>60</td>\n    </tr>\n    <tr>\n      <th>18</th>\n      <td>56.00</td>\n      <td>1</td>\n      <td>135</td>\n      <td>1</td>\n      <td>38</td>\n      <td>0</td>\n      <td>133000.00</td>\n      <td>1.70</td>\n      <td>140</td>\n      <td>1</td>\n      <td>0</td>\n      <td>244</td>\n    </tr>\n    <tr>\n      <th>19</th>\n      <td>80.00</td>\n      <td>1</td>\n      <td>123</td>\n      <td>0</td>\n      <td>35</td>\n      <td>1</td>\n      <td>388000.00</td>\n      <td>9.40</td>\n      <td>133</td>\n      <td>1</td>\n      <td>1</td>\n      <td>10</td>\n    </tr>\n    <tr>\n      <th>20</th>\n      <td>80.00</td>\n      <td>0</td>\n      <td>776</td>\n      <td>1</td>\n      <td>38</td>\n      <td>1</td>\n      <td>192000.00</td>\n      <td>1.30</td>\n      <td>135</td>\n      <td>0</td>\n      <td>0</td>\n      <td>130</td>\n    </tr>\n    <tr>\n      <th>21</th>\n      <td>52.00</td>\n      <td>0</td>\n      <td>190</td>\n      <td>1</td>\n      <td>38</td>\n      <td>0</td>\n      <td>382000.00</td>\n      <td>1.00</td>\n      <td>140</td>\n      <td>1</td>\n      <td>1</td>\n      <td>258</td>\n    </tr>\n    <tr>\n      <th>22</th>\n      <td>90.00</td>\n      <td>1</td>\n      <td>47</td>\n      <td>0</td>\n      <td>40</td>\n      <td>1</td>\n      <td>204000.00</td>\n      <td>2.10</td>\n      <td>132</td>\n      <td>1</td>\n      <td>1</td>\n      <td>8</td>\n    </tr>\n    <tr>\n      <th>23</th>\n      <td>40.00</td>\n      <td>0</td>\n      <td>244</td>\n      <td>0</td>\n      <td>45</td>\n      <td>1</td>\n      <td>275000.00</td>\n      <td>0.90</td>\n      <td>140</td>\n      <td>0</td>\n      <td>0</td>\n      <td>174</td>\n    </tr>\n    <tr>\n      <th>24</th>\n      <td>82.00</td>\n      <td>0</td>\n      <td>70</td>\n      <td>1</td>\n      <td>30</td>\n      <td>0</td>\n      <td>200000.00</td>\n      <td>1.20</td>\n      <td>132</td>\n      <td>1</td>\n      <td>1</td>\n      <td>26</td>\n    </tr>\n    <tr>\n      <th>25</th>\n      <td>45.00</td>\n      <td>0</td>\n      <td>582</td>\n      <td>1</td>\n      <td>38</td>\n      <td>0</td>\n      <td>302000.00</td>\n      <td>0.90</td>\n      <td>140</td>\n      <td>0</td>\n      <td>0</td>\n      <td>244</td>\n    </tr>\n    <tr>\n      <th>26</th>\n      <td>55.00</td>\n      <td>0</td>\n      <td>748</td>\n      <td>0</td>\n      <td>45</td>\n      <td>0</td>\n      <td>263000.00</td>\n      <td>1.30</td>\n      <td>137</td>\n      <td>1</td>\n      <td>0</td>\n      <td>88</td>\n    </tr>\n    <tr>\n      <th>27</th>\n      <td>60.00</td>\n      <td>1</td>\n      <td>1082</td>\n      <td>1</td>\n      <td>45</td>\n      <td>0</td>\n      <td>250000.00</td>\n      <td>6.10</td>\n      <td>131</td>\n      <td>1</td>\n      <td>0</td>\n      <td>107</td>\n    </tr>\n    <tr>\n      <th>28</th>\n      <td>55.00</td>\n      <td>1</td>\n      <td>2794</td>\n      <td>0</td>\n      <td>35</td>\n      <td>1</td>\n      <td>141000.00</td>\n      <td>1.00</td>\n      <td>140</td>\n      <td>1</td>\n      <td>0</td>\n      <td>206</td>\n    </tr>\n    <tr>\n      <th>29</th>\n      <td>59.00</td>\n      <td>1</td>\n      <td>129</td>\n      <td>0</td>\n      <td>45</td>\n      <td>1</td>\n      <td>362000.00</td>\n      <td>1.10</td>\n      <td>139</td>\n      <td>1</td>\n      <td>1</td>\n      <td>121</td>\n    </tr>\n    <tr>\n      <th>30</th>\n      <td>69.00</td>\n      <td>0</td>\n      <td>582</td>\n      <td>0</td>\n      <td>20</td>\n      <td>0</td>\n      <td>266000.00</td>\n      <td>1.20</td>\n      <td>134</td>\n      <td>1</td>\n      <td>1</td>\n      <td>73</td>\n    </tr>\n    <tr>\n      <th>31</th>\n      <td>65.00</td>\n      <td>1</td>\n      <td>335</td>\n      <td>0</td>\n      <td>35</td>\n      <td>1</td>\n      <td>235000.00</td>\n      <td>0.80</td>\n      <td>136</td>\n      <td>0</td>\n      <td>0</td>\n      <td>120</td>\n    </tr>\n    <tr>\n      <th>32</th>\n      <td>55.00</td>\n      <td>0</td>\n      <td>1199</td>\n      <td>0</td>\n      <td>20</td>\n      <td>0</td>\n      <td>263358.03</td>\n      <td>1.83</td>\n      <td>134</td>\n      <td>1</td>\n      <td>1</td>\n      <td>241</td>\n    </tr>\n    <tr>\n      <th>33</th>\n      <td>49.00</td>\n      <td>0</td>\n      <td>972</td>\n      <td>1</td>\n      <td>35</td>\n      <td>1</td>\n      <td>268000.00</td>\n      <td>0.80</td>\n      <td>130</td>\n      <td>0</td>\n      <td>0</td>\n      <td>187</td>\n    </tr>\n    <tr>\n      <th>34</th>\n      <td>58.00</td>\n      <td>0</td>\n      <td>582</td>\n      <td>1</td>\n      <td>35</td>\n      <td>0</td>\n      <td>122000.00</td>\n      <td>0.90</td>\n      <td>139</td>\n      <td>1</td>\n      <td>1</td>\n      <td>71</td>\n    </tr>\n    <tr>\n      <th>35</th>\n      <td>48.00</td>\n      <td>1</td>\n      <td>131</td>\n      <td>1</td>\n      <td>30</td>\n      <td>1</td>\n      <td>244000.00</td>\n      <td>1.60</td>\n      <td>130</td>\n      <td>0</td>\n      <td>0</td>\n      <td>193</td>\n    </tr>\n    <tr>\n      <th>36</th>\n      <td>49.00</td>\n      <td>0</td>\n      <td>789</td>\n      <td>0</td>\n      <td>20</td>\n      <td>1</td>\n      <td>319000.00</td>\n      <td>1.10</td>\n      <td>136</td>\n      <td>1</td>\n      <td>1</td>\n      <td>55</td>\n    </tr>\n    <tr>\n      <th>37</th>\n      <td>55.00</td>\n      <td>0</td>\n      <td>582</td>\n      <td>1</td>\n      <td>35</td>\n      <td>1</td>\n      <td>371000.00</td>\n      <td>0.70</td>\n      <td>140</td>\n      <td>0</td>\n      <td>0</td>\n      <td>197</td>\n    </tr>\n    <tr>\n      <th>38</th>\n      <td>70.00</td>\n      <td>0</td>\n      <td>97</td>\n      <td>0</td>\n      <td>60</td>\n      <td>1</td>\n      <td>220000.00</td>\n      <td>0.90</td>\n      <td>138</td>\n      <td>1</td>\n      <td>0</td>\n      <td>186</td>\n    </tr>\n    <tr>\n      <th>39</th>\n      <td>58.00</td>\n      <td>1</td>\n      <td>200</td>\n      <td>1</td>\n      <td>60</td>\n      <td>0</td>\n      <td>300000.00</td>\n      <td>0.80</td>\n      <td>137</td>\n      <td>0</td>\n      <td>0</td>\n      <td>104</td>\n    </tr>\n    <tr>\n      <th>40</th>\n      <td>50.00</td>\n      <td>1</td>\n      <td>249</td>\n      <td>1</td>\n      <td>35</td>\n      <td>1</td>\n      <td>319000.00</td>\n      <td>1.00</td>\n      <td>128</td>\n      <td>0</td>\n      <td>0</td>\n      <td>28</td>\n    </tr>\n    <tr>\n      <th>41</th>\n      <td>75.00</td>\n      <td>0</td>\n      <td>582</td>\n      <td>1</td>\n      <td>30</td>\n      <td>1</td>\n      <td>263358.03</td>\n      <td>1.83</td>\n      <td>134</td>\n      <td>0</td>\n      <td>0</td>\n      <td>23</td>\n    </tr>\n    <tr>\n      <th>42</th>\n      <td>55.00</td>\n      <td>0</td>\n      <td>336</td>\n      <td>0</td>\n      <td>45</td>\n      <td>1</td>\n      <td>324000.00</td>\n      <td>0.90</td>\n      <td>140</td>\n      <td>0</td>\n      <td>0</td>\n      <td>74</td>\n    </tr>\n    <tr>\n      <th>43</th>\n      <td>73.00</td>\n      <td>0</td>\n      <td>582</td>\n      <td>0</td>\n      <td>35</td>\n      <td>1</td>\n      <td>203000.00</td>\n      <td>1.30</td>\n      <td>134</td>\n      <td>1</td>\n      <td>0</td>\n      <td>195</td>\n    </tr>\n    <tr>\n      <th>44</th>\n      <td>60.00</td>\n      <td>0</td>\n      <td>166</td>\n      <td>0</td>\n      <td>30</td>\n      <td>0</td>\n      <td>62000.00</td>\n      <td>1.70</td>\n      <td>127</td>\n      <td>0</td>\n      <td>0</td>\n      <td>207</td>\n    </tr>\n    <tr>\n      <th>45</th>\n      <td>53.00</td>\n      <td>0</td>\n      <td>196</td>\n      <td>0</td>\n      <td>60</td>\n      <td>0</td>\n      <td>220000.00</td>\n      <td>0.70</td>\n      <td>133</td>\n      <td>1</td>\n      <td>1</td>\n      <td>134</td>\n    </tr>\n    <tr>\n      <th>46</th>\n      <td>55.00</td>\n      <td>0</td>\n      <td>7861</td>\n      <td>0</td>\n      <td>38</td>\n      <td>0</td>\n      <td>263358.03</td>\n      <td>1.10</td>\n      <td>136</td>\n      <td>1</td>\n      <td>0</td>\n      <td>6</td>\n    </tr>\n    <tr>\n      <th>47</th>\n      <td>60.00</td>\n      <td>0</td>\n      <td>1211</td>\n      <td>1</td>\n      <td>35</td>\n      <td>0</td>\n      <td>263358.03</td>\n      <td>1.80</td>\n      <td>113</td>\n      <td>1</td>\n      <td>1</td>\n      <td>186</td>\n    </tr>\n    <tr>\n      <th>48</th>\n      <td>60.00</td>\n      <td>1</td>\n      <td>754</td>\n      <td>1</td>\n      <td>40</td>\n      <td>1</td>\n      <td>328000.00</td>\n      <td>1.20</td>\n      <td>126</td>\n      <td>1</td>\n      <td>0</td>\n      <td>91</td>\n    </tr>\n    <tr>\n      <th>49</th>\n      <td>60.00</td>\n      <td>0</td>\n      <td>320</td>\n      <td>0</td>\n      <td>35</td>\n      <td>0</td>\n      <td>133000.00</td>\n      <td>1.40</td>\n      <td>139</td>\n      <td>1</td>\n      <td>0</td>\n      <td>258</td>\n    </tr>\n    <tr>\n      <th>50</th>\n      <td>60.00</td>\n      <td>0</td>\n      <td>3964</td>\n      <td>1</td>\n      <td>62</td>\n      <td>0</td>\n      <td>263358.03</td>\n      <td>6.80</td>\n      <td>146</td>\n      <td>0</td>\n      <td>0</td>\n      <td>43</td>\n    </tr>\n    <tr>\n      <th>51</th>\n      <td>45.00</td>\n      <td>0</td>\n      <td>2060</td>\n      <td>1</td>\n      <td>60</td>\n      <td>0</td>\n      <td>742000.00</td>\n      <td>0.80</td>\n      <td>138</td>\n      <td>0</td>\n      <td>0</td>\n      <td>278</td>\n    </tr>\n    <tr>\n      <th>52</th>\n      <td>65.00</td>\n      <td>1</td>\n      <td>128</td>\n      <td>1</td>\n      <td>30</td>\n      <td>1</td>\n      <td>297000.00</td>\n      <td>1.60</td>\n      <td>136</td>\n      <td>0</td>\n      <td>0</td>\n      <td>20</td>\n    </tr>\n    <tr>\n      <th>53</th>\n      <td>78.00</td>\n      <td>0</td>\n      <td>224</td>\n      <td>0</td>\n      <td>50</td>\n      <td>0</td>\n      <td>481000.00</td>\n      <td>1.40</td>\n      <td>138</td>\n      <td>1</td>\n      <td>1</td>\n      <td>192</td>\n    </tr>\n    <tr>\n      <th>54</th>\n      <td>50.00</td>\n      <td>0</td>\n      <td>482</td>\n      <td>1</td>\n      <td>30</td>\n      <td>0</td>\n      <td>329000.00</td>\n      <td>0.90</td>\n      <td>132</td>\n      <td>0</td>\n      <td>0</td>\n      <td>109</td>\n    </tr>\n    <tr>\n      <th>55</th>\n      <td>85.00</td>\n      <td>1</td>\n      <td>910</td>\n      <td>0</td>\n      <td>50</td>\n      <td>0</td>\n      <td>235000.00</td>\n      <td>1.30</td>\n      <td>134</td>\n      <td>1</td>\n      <td>0</td>\n      <td>121</td>\n    </tr>\n    <tr>\n      <th>56</th>\n      <td>50.00</td>\n      <td>0</td>\n      <td>1548</td>\n      <td>0</td>\n      <td>30</td>\n      <td>1</td>\n      <td>211000.00</td>\n      <td>0.80</td>\n      <td>138</td>\n      <td>1</td>\n      <td>0</td>\n      <td>108</td>\n    </tr>\n    <tr>\n      <th>57</th>\n      <td>53.00</td>\n      <td>1</td>\n      <td>1808</td>\n      <td>0</td>\n      <td>60</td>\n      <td>1</td>\n      <td>249000.00</td>\n      <td>0.70</td>\n      <td>138</td>\n      <td>1</td>\n      <td>1</td>\n      <td>106</td>\n    </tr>\n    <tr>\n      <th>58</th>\n      <td>86.00</td>\n      <td>0</td>\n      <td>582</td>\n      <td>0</td>\n      <td>38</td>\n      <td>0</td>\n      <td>263358.03</td>\n      <td>1.83</td>\n      <td>134</td>\n      <td>0</td>\n      <td>0</td>\n      <td>95</td>\n    </tr>\n    <tr>\n      <th>59</th>\n      <td>42.00</td>\n      <td>1</td>\n      <td>250</td>\n      <td>1</td>\n      <td>15</td>\n      <td>0</td>\n      <td>213000.00</td>\n      <td>1.30</td>\n      <td>136</td>\n      <td>0</td>\n      <td>0</td>\n      <td>65</td>\n    </tr>\n  </tbody>\n</table>\n</div>"
          },
          "metadata": {}
        }
      ],
      "execution_count": 86,
      "metadata": {
        "collapsed": true,
        "jupyter": {
          "source_hidden": false,
          "outputs_hidden": false
        },
        "nteract": {
          "transient": {
            "deleting": false
          }
        },
        "gather": {
          "logged": 1610308154391
        }
      }
    },
    {
      "cell_type": "code",
      "source": [
        "data=({'data':test_ds[0:3].to_dict(orient='records')})\r\n",
        "test_sample=json.dumps(data)\r\n",
        "output=service.run(test_sample)\r\n",
        "print(output)"
      ],
      "outputs": [
        {
          "output_type": "stream",
          "name": "stderr",
          "text": [
            "ERROR:azureml.core.webservice.aci:Received bad response from service. More information can be found by calling `.get_logs()` on the webservice object.\n",
            "Response Code: 502\n",
            "Headers: {'Connection': 'keep-alive', 'Content-Length': '92', 'Content-Type': 'text/html; charset=utf-8', 'Date': 'Sun, 10 Jan 2021 19:49:30 GMT', 'Server': 'nginx/1.10.3 (Ubuntu)', 'X-Ms-Request-Id': '40e51fc0-5c6d-4143-b416-d42fca6ada79', 'X-Ms-Run-Function-Failed': 'True'}\n",
            "Content: b'Invalid input data frame: data frame has size 12 on dimension #1, while expected value is 13'\n",
            "\n"
          ]
        },
        {
          "output_type": "error",
          "ename": "WebserviceException",
          "evalue": "WebserviceException:\n\tMessage: Received bad response from service. More information can be found by calling `.get_logs()` on the webservice object.\nResponse Code: 502\nHeaders: {'Connection': 'keep-alive', 'Content-Length': '92', 'Content-Type': 'text/html; charset=utf-8', 'Date': 'Sun, 10 Jan 2021 19:49:30 GMT', 'Server': 'nginx/1.10.3 (Ubuntu)', 'X-Ms-Request-Id': '40e51fc0-5c6d-4143-b416-d42fca6ada79', 'X-Ms-Run-Function-Failed': 'True'}\nContent: b'Invalid input data frame: data frame has size 12 on dimension #1, while expected value is 13'\n\tInnerException None\n\tErrorResponse \n{\n    \"error\": {\n        \"message\": \"Received bad response from service. More information can be found by calling `.get_logs()` on the webservice object.\\nResponse Code: 502\\nHeaders: {'Connection': 'keep-alive', 'Content-Length': '92', 'Content-Type': 'text/html; charset=utf-8', 'Date': 'Sun, 10 Jan 2021 19:49:30 GMT', 'Server': 'nginx/1.10.3 (Ubuntu)', 'X-Ms-Request-Id': '40e51fc0-5c6d-4143-b416-d42fca6ada79', 'X-Ms-Run-Function-Failed': 'True'}\\nContent: b'Invalid input data frame: data frame has size 12 on dimension #1, while expected value is 13'\"\n    }\n}",
          "traceback": [
            "\u001b[0;31m---------------------------------------------------------------------------\u001b[0m",
            "\u001b[0;31mWebserviceException\u001b[0m                       Traceback (most recent call last)",
            "\u001b[0;32m<ipython-input-87-e48dd3bfcd0e>\u001b[0m in \u001b[0;36m<module>\u001b[0;34m\u001b[0m\n\u001b[1;32m      1\u001b[0m \u001b[0mdata\u001b[0m\u001b[0;34m=\u001b[0m\u001b[0;34m(\u001b[0m\u001b[0;34m{\u001b[0m\u001b[0;34m'data'\u001b[0m\u001b[0;34m:\u001b[0m\u001b[0mtest_ds\u001b[0m\u001b[0;34m[\u001b[0m\u001b[0;36m0\u001b[0m\u001b[0;34m:\u001b[0m\u001b[0;36m3\u001b[0m\u001b[0;34m]\u001b[0m\u001b[0;34m.\u001b[0m\u001b[0mto_dict\u001b[0m\u001b[0;34m(\u001b[0m\u001b[0morient\u001b[0m\u001b[0;34m=\u001b[0m\u001b[0;34m'records'\u001b[0m\u001b[0;34m)\u001b[0m\u001b[0;34m}\u001b[0m\u001b[0;34m)\u001b[0m\u001b[0;34m\u001b[0m\u001b[0;34m\u001b[0m\u001b[0m\n\u001b[1;32m      2\u001b[0m \u001b[0mtest_sample\u001b[0m\u001b[0;34m=\u001b[0m\u001b[0mjson\u001b[0m\u001b[0;34m.\u001b[0m\u001b[0mdumps\u001b[0m\u001b[0;34m(\u001b[0m\u001b[0mdata\u001b[0m\u001b[0;34m)\u001b[0m\u001b[0;34m\u001b[0m\u001b[0;34m\u001b[0m\u001b[0m\n\u001b[0;32m----> 3\u001b[0;31m \u001b[0moutput\u001b[0m\u001b[0;34m=\u001b[0m\u001b[0mservice\u001b[0m\u001b[0;34m.\u001b[0m\u001b[0mrun\u001b[0m\u001b[0;34m(\u001b[0m\u001b[0mtest_sample\u001b[0m\u001b[0;34m)\u001b[0m\u001b[0;34m\u001b[0m\u001b[0;34m\u001b[0m\u001b[0m\n\u001b[0m\u001b[1;32m      4\u001b[0m \u001b[0mprint\u001b[0m\u001b[0;34m(\u001b[0m\u001b[0moutput\u001b[0m\u001b[0;34m)\u001b[0m\u001b[0;34m\u001b[0m\u001b[0;34m\u001b[0m\u001b[0m\n",
            "\u001b[0;32m/anaconda/envs/azureml_py36/lib/python3.6/site-packages/azureml/core/webservice/aci.py\u001b[0m in \u001b[0;36mrun\u001b[0;34m(self, input_data)\u001b[0m\n\u001b[1;32m    403\u001b[0m                                       \u001b[0;34m'Headers: {}\\n'\u001b[0m\u001b[0;34m\u001b[0m\u001b[0;34m\u001b[0m\u001b[0m\n\u001b[1;32m    404\u001b[0m                                       \u001b[0;34m'Content: {}'\u001b[0m\u001b[0;34m.\u001b[0m\u001b[0mformat\u001b[0m\u001b[0;34m(\u001b[0m\u001b[0mresp\u001b[0m\u001b[0;34m.\u001b[0m\u001b[0mstatus_code\u001b[0m\u001b[0;34m,\u001b[0m \u001b[0mresp\u001b[0m\u001b[0;34m.\u001b[0m\u001b[0mheaders\u001b[0m\u001b[0;34m,\u001b[0m \u001b[0mresp\u001b[0m\u001b[0;34m.\u001b[0m\u001b[0mcontent\u001b[0m\u001b[0;34m)\u001b[0m\u001b[0;34m,\u001b[0m\u001b[0;34m\u001b[0m\u001b[0;34m\u001b[0m\u001b[0m\n\u001b[0;32m--> 405\u001b[0;31m                                       logger=module_logger)\n\u001b[0m\u001b[1;32m    406\u001b[0m \u001b[0;34m\u001b[0m\u001b[0m\n\u001b[1;32m    407\u001b[0m     def update(self, image=None, tags=None, properties=None, description=None, auth_enabled=None, ssl_enabled=None,\n",
            "\u001b[0;31mWebserviceException\u001b[0m: WebserviceException:\n\tMessage: Received bad response from service. More information can be found by calling `.get_logs()` on the webservice object.\nResponse Code: 502\nHeaders: {'Connection': 'keep-alive', 'Content-Length': '92', 'Content-Type': 'text/html; charset=utf-8', 'Date': 'Sun, 10 Jan 2021 19:49:30 GMT', 'Server': 'nginx/1.10.3 (Ubuntu)', 'X-Ms-Request-Id': '40e51fc0-5c6d-4143-b416-d42fca6ada79', 'X-Ms-Run-Function-Failed': 'True'}\nContent: b'Invalid input data frame: data frame has size 12 on dimension #1, while expected value is 13'\n\tInnerException None\n\tErrorResponse \n{\n    \"error\": {\n        \"message\": \"Received bad response from service. More information can be found by calling `.get_logs()` on the webservice object.\\nResponse Code: 502\\nHeaders: {'Connection': 'keep-alive', 'Content-Length': '92', 'Content-Type': 'text/html; charset=utf-8', 'Date': 'Sun, 10 Jan 2021 19:49:30 GMT', 'Server': 'nginx/1.10.3 (Ubuntu)', 'X-Ms-Request-Id': '40e51fc0-5c6d-4143-b416-d42fca6ada79', 'X-Ms-Run-Function-Failed': 'True'}\\nContent: b'Invalid input data frame: data frame has size 12 on dimension #1, while expected value is 13'\"\n    }\n}"
          ]
        }
      ],
      "execution_count": 87,
      "metadata": {
        "collapsed": true,
        "jupyter": {
          "source_hidden": false,
          "outputs_hidden": false
        },
        "nteract": {
          "transient": {
            "deleting": false
          }
        },
        "gather": {
          "logged": 1610307994044
        }
      }
    },
    {
      "cell_type": "code",
      "source": [
        "scoring_uri='http://d35af499-e49a-4ae5-a422-46c73d8c448f.southcentralus.azurecontainer.io/score'\r\n",
        "key=''\r\n",
        "headers = {'Content-Type': 'application/json'}\r\n",
        "# If authentication is enabled, set the authorization header\r\n",
        "#headers['Authorization'] = f'Bearer {key}'\r\n",
        "data = {\"data\":\r\n",
        "        [\r\n",
        "          {\r\n",
        "            \"age\": 52,\r\n",
        "            \"sex\": 1,\r\n",
        "            \"anaemia\": 1,\r\n",
        "            \"creatinine_phosphokinase\": 142,\r\n",
        "            \"diabetes\": 0,\r\n",
        "            \"ejection_fraction\": 40,\r\n",
        "            \"high_blood_pressure\": 0,\r\n",
        "            \"platelets\": 200000,\r\n",
        "            \"serum_creatinine\": 1.3,\r\n",
        "            \"serum_sodium\": 136,\r\n",
        "            \"smoking\": 0,\r\n",
        "            \"time\": 8,\r\n",
        "          }\r\n",
        "      ]\r\n",
        "    }\r\n",
        "test_sample = json.dumps(data)\r\n",
        "\r\n",
        "\r\n",
        "resp = requests.post(scoring_uri, test_sample, headers=headers)\r\n",
        "print(resp.json())\r\n"
      ],
      "outputs": [
        {
          "output_type": "error",
          "ename": "JSONDecodeError",
          "evalue": "Expecting value: line 1 column 1 (char 0)",
          "traceback": [
            "\u001b[0;31m---------------------------------------------------------------------------\u001b[0m",
            "\u001b[0;31mJSONDecodeError\u001b[0m                           Traceback (most recent call last)",
            "\u001b[0;32m<ipython-input-33-ab20ee8fafcb>\u001b[0m in \u001b[0;36m<module>\u001b[0;34m\u001b[0m\n\u001b[1;32m     26\u001b[0m \u001b[0;34m\u001b[0m\u001b[0m\n\u001b[1;32m     27\u001b[0m \u001b[0mresp\u001b[0m \u001b[0;34m=\u001b[0m \u001b[0mrequests\u001b[0m\u001b[0;34m.\u001b[0m\u001b[0mpost\u001b[0m\u001b[0;34m(\u001b[0m\u001b[0mscoring_uri\u001b[0m\u001b[0;34m,\u001b[0m \u001b[0mtest_sample\u001b[0m\u001b[0;34m,\u001b[0m \u001b[0mheaders\u001b[0m\u001b[0;34m=\u001b[0m\u001b[0mheaders\u001b[0m\u001b[0;34m)\u001b[0m\u001b[0;34m\u001b[0m\u001b[0;34m\u001b[0m\u001b[0m\n\u001b[0;32m---> 28\u001b[0;31m \u001b[0mprint\u001b[0m\u001b[0;34m(\u001b[0m\u001b[0mresp\u001b[0m\u001b[0;34m.\u001b[0m\u001b[0mjson\u001b[0m\u001b[0;34m(\u001b[0m\u001b[0;34m)\u001b[0m\u001b[0;34m)\u001b[0m\u001b[0;34m\u001b[0m\u001b[0;34m\u001b[0m\u001b[0m\n\u001b[0m",
            "\u001b[0;32m/anaconda/envs/azureml_py36/lib/python3.6/site-packages/requests/models.py\u001b[0m in \u001b[0;36mjson\u001b[0;34m(self, **kwargs)\u001b[0m\n\u001b[1;32m    898\u001b[0m                     \u001b[0;31m# used.\u001b[0m\u001b[0;34m\u001b[0m\u001b[0;34m\u001b[0m\u001b[0;34m\u001b[0m\u001b[0m\n\u001b[1;32m    899\u001b[0m                     \u001b[0;32mpass\u001b[0m\u001b[0;34m\u001b[0m\u001b[0;34m\u001b[0m\u001b[0m\n\u001b[0;32m--> 900\u001b[0;31m         \u001b[0;32mreturn\u001b[0m \u001b[0mcomplexjson\u001b[0m\u001b[0;34m.\u001b[0m\u001b[0mloads\u001b[0m\u001b[0;34m(\u001b[0m\u001b[0mself\u001b[0m\u001b[0;34m.\u001b[0m\u001b[0mtext\u001b[0m\u001b[0;34m,\u001b[0m \u001b[0;34m**\u001b[0m\u001b[0mkwargs\u001b[0m\u001b[0;34m)\u001b[0m\u001b[0;34m\u001b[0m\u001b[0;34m\u001b[0m\u001b[0m\n\u001b[0m\u001b[1;32m    901\u001b[0m \u001b[0;34m\u001b[0m\u001b[0m\n\u001b[1;32m    902\u001b[0m     \u001b[0;34m@\u001b[0m\u001b[0mproperty\u001b[0m\u001b[0;34m\u001b[0m\u001b[0;34m\u001b[0m\u001b[0m\n",
            "\u001b[0;32m/anaconda/envs/azureml_py36/lib/python3.6/json/__init__.py\u001b[0m in \u001b[0;36mloads\u001b[0;34m(s, encoding, cls, object_hook, parse_float, parse_int, parse_constant, object_pairs_hook, **kw)\u001b[0m\n\u001b[1;32m    352\u001b[0m             \u001b[0mparse_int\u001b[0m \u001b[0;32mis\u001b[0m \u001b[0;32mNone\u001b[0m \u001b[0;32mand\u001b[0m \u001b[0mparse_float\u001b[0m \u001b[0;32mis\u001b[0m \u001b[0;32mNone\u001b[0m \u001b[0;32mand\u001b[0m\u001b[0;34m\u001b[0m\u001b[0;34m\u001b[0m\u001b[0m\n\u001b[1;32m    353\u001b[0m             parse_constant is None and object_pairs_hook is None and not kw):\n\u001b[0;32m--> 354\u001b[0;31m         \u001b[0;32mreturn\u001b[0m \u001b[0m_default_decoder\u001b[0m\u001b[0;34m.\u001b[0m\u001b[0mdecode\u001b[0m\u001b[0;34m(\u001b[0m\u001b[0ms\u001b[0m\u001b[0;34m)\u001b[0m\u001b[0;34m\u001b[0m\u001b[0;34m\u001b[0m\u001b[0m\n\u001b[0m\u001b[1;32m    355\u001b[0m     \u001b[0;32mif\u001b[0m \u001b[0mcls\u001b[0m \u001b[0;32mis\u001b[0m \u001b[0;32mNone\u001b[0m\u001b[0;34m:\u001b[0m\u001b[0;34m\u001b[0m\u001b[0;34m\u001b[0m\u001b[0m\n\u001b[1;32m    356\u001b[0m         \u001b[0mcls\u001b[0m \u001b[0;34m=\u001b[0m \u001b[0mJSONDecoder\u001b[0m\u001b[0;34m\u001b[0m\u001b[0;34m\u001b[0m\u001b[0m\n",
            "\u001b[0;32m/anaconda/envs/azureml_py36/lib/python3.6/json/decoder.py\u001b[0m in \u001b[0;36mdecode\u001b[0;34m(self, s, _w)\u001b[0m\n\u001b[1;32m    337\u001b[0m \u001b[0;34m\u001b[0m\u001b[0m\n\u001b[1;32m    338\u001b[0m         \"\"\"\n\u001b[0;32m--> 339\u001b[0;31m         \u001b[0mobj\u001b[0m\u001b[0;34m,\u001b[0m \u001b[0mend\u001b[0m \u001b[0;34m=\u001b[0m \u001b[0mself\u001b[0m\u001b[0;34m.\u001b[0m\u001b[0mraw_decode\u001b[0m\u001b[0;34m(\u001b[0m\u001b[0ms\u001b[0m\u001b[0;34m,\u001b[0m \u001b[0midx\u001b[0m\u001b[0;34m=\u001b[0m\u001b[0m_w\u001b[0m\u001b[0;34m(\u001b[0m\u001b[0ms\u001b[0m\u001b[0;34m,\u001b[0m \u001b[0;36m0\u001b[0m\u001b[0;34m)\u001b[0m\u001b[0;34m.\u001b[0m\u001b[0mend\u001b[0m\u001b[0;34m(\u001b[0m\u001b[0;34m)\u001b[0m\u001b[0;34m)\u001b[0m\u001b[0;34m\u001b[0m\u001b[0;34m\u001b[0m\u001b[0m\n\u001b[0m\u001b[1;32m    340\u001b[0m         \u001b[0mend\u001b[0m \u001b[0;34m=\u001b[0m \u001b[0m_w\u001b[0m\u001b[0;34m(\u001b[0m\u001b[0ms\u001b[0m\u001b[0;34m,\u001b[0m \u001b[0mend\u001b[0m\u001b[0;34m)\u001b[0m\u001b[0;34m.\u001b[0m\u001b[0mend\u001b[0m\u001b[0;34m(\u001b[0m\u001b[0;34m)\u001b[0m\u001b[0;34m\u001b[0m\u001b[0;34m\u001b[0m\u001b[0m\n\u001b[1;32m    341\u001b[0m         \u001b[0;32mif\u001b[0m \u001b[0mend\u001b[0m \u001b[0;34m!=\u001b[0m \u001b[0mlen\u001b[0m\u001b[0;34m(\u001b[0m\u001b[0ms\u001b[0m\u001b[0;34m)\u001b[0m\u001b[0;34m:\u001b[0m\u001b[0;34m\u001b[0m\u001b[0;34m\u001b[0m\u001b[0m\n",
            "\u001b[0;32m/anaconda/envs/azureml_py36/lib/python3.6/json/decoder.py\u001b[0m in \u001b[0;36mraw_decode\u001b[0;34m(self, s, idx)\u001b[0m\n\u001b[1;32m    355\u001b[0m             \u001b[0mobj\u001b[0m\u001b[0;34m,\u001b[0m \u001b[0mend\u001b[0m \u001b[0;34m=\u001b[0m \u001b[0mself\u001b[0m\u001b[0;34m.\u001b[0m\u001b[0mscan_once\u001b[0m\u001b[0;34m(\u001b[0m\u001b[0ms\u001b[0m\u001b[0;34m,\u001b[0m \u001b[0midx\u001b[0m\u001b[0;34m)\u001b[0m\u001b[0;34m\u001b[0m\u001b[0;34m\u001b[0m\u001b[0m\n\u001b[1;32m    356\u001b[0m         \u001b[0;32mexcept\u001b[0m \u001b[0mStopIteration\u001b[0m \u001b[0;32mas\u001b[0m \u001b[0merr\u001b[0m\u001b[0;34m:\u001b[0m\u001b[0;34m\u001b[0m\u001b[0;34m\u001b[0m\u001b[0m\n\u001b[0;32m--> 357\u001b[0;31m             \u001b[0;32mraise\u001b[0m \u001b[0mJSONDecodeError\u001b[0m\u001b[0;34m(\u001b[0m\u001b[0;34m\"Expecting value\"\u001b[0m\u001b[0;34m,\u001b[0m \u001b[0ms\u001b[0m\u001b[0;34m,\u001b[0m \u001b[0merr\u001b[0m\u001b[0;34m.\u001b[0m\u001b[0mvalue\u001b[0m\u001b[0;34m)\u001b[0m \u001b[0;32mfrom\u001b[0m \u001b[0;32mNone\u001b[0m\u001b[0;34m\u001b[0m\u001b[0;34m\u001b[0m\u001b[0m\n\u001b[0m\u001b[1;32m    358\u001b[0m         \u001b[0;32mreturn\u001b[0m \u001b[0mobj\u001b[0m\u001b[0;34m,\u001b[0m \u001b[0mend\u001b[0m\u001b[0;34m\u001b[0m\u001b[0;34m\u001b[0m\u001b[0m\n",
            "\u001b[0;31mJSONDecodeError\u001b[0m: Expecting value: line 1 column 1 (char 0)"
          ]
        }
      ],
      "execution_count": 33,
      "metadata": {
        "gather": {
          "logged": 1610215841901
        },
        "jupyter": {
          "outputs_hidden": false,
          "source_hidden": false
        },
        "nteract": {
          "transient": {
            "deleting": false
          }
        }
      }
    },
    {
      "cell_type": "markdown",
      "source": [
        "TODO: In the cell below, print the logs of the web service and delete the service"
      ],
      "metadata": {
        "collapsed": true,
        "gather": {
          "logged": 1598432765711
        },
        "jupyter": {
          "outputs_hidden": false,
          "source_hidden": false
        },
        "nteract": {
          "transient": {
            "deleting": false
          }
        }
      }
    },
    {
      "cell_type": "code",
      "source": [
        "#Print the webservice logs\r\n",
        "print(service.get_logs())"
      ],
      "outputs": [],
      "execution_count": null,
      "metadata": {
        "collapsed": true,
        "jupyter": {
          "source_hidden": false,
          "outputs_hidden": false
        },
        "nteract": {
          "transient": {
            "deleting": false
          }
        }
      }
    },
    {
      "cell_type": "code",
      "source": [
        "#Delete the service\r\n",
        "service.delete()"
      ],
      "outputs": [],
      "execution_count": null,
      "metadata": {
        "collapsed": true,
        "jupyter": {
          "source_hidden": false,
          "outputs_hidden": false
        },
        "nteract": {
          "transient": {
            "deleting": false
          }
        }
      }
    }
  ],
  "metadata": {
    "kernel_info": {
      "name": "python3"
    },
    "kernelspec": {
      "name": "python3",
      "language": "python",
      "display_name": "Python 3"
    },
    "language_info": {
      "name": "python",
      "version": "3.6.9",
      "mimetype": "text/x-python",
      "codemirror_mode": {
        "name": "ipython",
        "version": 3
      },
      "pygments_lexer": "ipython3",
      "nbconvert_exporter": "python",
      "file_extension": ".py"
    },
    "nteract": {
      "version": "nteract-front-end@1.0.0"
    }
  },
  "nbformat": 4,
  "nbformat_minor": 2
}