{
  "cells": [
    {
      "cell_type": "markdown",
      "source": [
        "# Automated ML\n",
        "\n",
        "TODO: Import Dependencies. In the cell below, import all the dependencies that you will need to complete the project."
      ],
      "metadata": {}
    },
    {
      "cell_type": "code",
      "source": [
        "from azureml.core import Workspace, Experiment\n",
        "from azureml.core.compute import ComputeTarget, AmlCompute\n",
        "from azureml.core.compute_target import ComputeTargetException\n",
        "from azureml.widgets import RunDetails\n",
        "from azureml.train.hyperdrive.run import PrimaryMetricGoal\n",
        "import os\n",
        "import joblib\n",
        "from azureml.core.dataset import Dataset\n",
        "from azureml.train.automl import AutoMLConfig\n",
        "from azureml.core.model import Model\n",
        "from azureml.core.webservice import AciWebservice\n",
        "from azureml.core.environment import Environment\n",
        "from azureml.core.model import InferenceConfig\n",
        "import requests\n",
        "import json\n",
        "import sklearn\n",
        "from azureml.automl.runtime.onnx_convert import OnnxConverter\n",
        "import pandas as pd\n",
        "from pandas import DataFrame"
      ],
      "outputs": [],
      "execution_count": 1,
      "metadata": {
        "gather": {
          "logged": 1610719938071
        },
        "jupyter": {
          "outputs_hidden": false,
          "source_hidden": false
        },
        "nteract": {
          "transient": {
            "deleting": false
          }
        }
      }
    },
    {
      "cell_type": "markdown",
      "source": [
        "## Dataset\n",
        "\n",
        "### Overview\n",
        "TODO: In this markdown cell, give an overview of the dataset you are using. Also mention the task you will be performing.\n",
        "\n",
        "\n",
        "TODO: Get data. In the cell below, write code to access the data you will be using in this project. Remember that the dataset needs to be external."
      ],
      "metadata": {}
    },
    {
      "cell_type": "code",
      "source": [
        "ws = Workspace.from_config()\n",
        "\n",
        "# choose a name for experiment\n",
        "experiment_name = 'Heart-Disease-Predection'\n",
        "\n",
        "experiment=Experiment(ws, experiment_name)"
      ],
      "outputs": [
        {
          "output_type": "stream",
          "name": "stdout",
          "text": [
            "Performing interactive authentication. Please follow the instructions on the terminal.\n",
            "To sign in, use a web browser to open the page https://microsoft.com/devicelogin and enter the code RBDDCWTNF to authenticate.\n",
            "You have logged in. Now let us find all the subscriptions to which you have access...\n",
            "Interactive authentication successfully completed.\n"
          ]
        }
      ],
      "execution_count": 2,
      "metadata": {
        "gather": {
          "logged": 1610719973245
        },
        "jupyter": {
          "outputs_hidden": false,
          "source_hidden": false
        },
        "nteract": {
          "transient": {
            "deleting": false
          }
        }
      }
    },
    {
      "cell_type": "code",
      "source": [
        "#Creating Compute\n",
        "from azureml.core.compute import ComputeTarget, AmlCompute\n",
        "from azureml.core.compute_target import ComputeTargetException\n",
        "#Create compute cluster\n",
        "\n",
        "\n",
        "# choose a name for your cluster\n",
        "cluster_name= \"cpu-cluster\"\n",
        "\n",
        "try:\n",
        "    compute_target = ComputeTarget(workspace=ws , name=cluster_name)\n",
        "    print('Found existing compute target')\n",
        "except ComputeTargetException:\n",
        "    print('Creating a new compute target ...')\n",
        "    compute_config = AmlCompute.provisioning_configuration(vm_size='Standard_D2_V2' , max_nodes=4)\n",
        "    #create the cluster\n",
        "    cpu_cluster=ComputeTarget.create(ws,cluster_name,compute_config)\n",
        "    print('cpu-cluster has been created')\n"
      ],
      "outputs": [
        {
          "output_type": "stream",
          "name": "stdout",
          "text": [
            "Creating a new compute target ...\n",
            "cpu-cluster has been created\n"
          ]
        }
      ],
      "execution_count": 3,
      "metadata": {
        "gather": {
          "logged": 1610719981286
        }
      }
    },
    {
      "cell_type": "code",
      "source": [
        "#Try to load the dataset from the Workspace. Otherwise, create it from the file\r\n",
        "# NOTE: update the key to match the dataset name\r\n",
        "found = False\r\n",
        "key = \"Heart Failure Dataset\"\r\n",
        "\r\n",
        "if key in ws.datasets.keys(): \r\n",
        "        found = True\r\n",
        "        dataset = ws.datasets[key] \r\n",
        "        print(\"Found\")\r\n",
        "\r\n",
        "if not found:\r\n",
        "        # Create AML Dataset and register it into Workspace\r\n",
        "        example_data = 'https://raw.githubusercontent.com/BMUHAMMDI/nd00333-capstone/master/starter_file/heart_failure_clinical_records_dataset.csv'\r\n",
        "        dataset = Dataset.Tabular.from_delimited_files(example_data)        \r\n",
        "        #Register Dataset in Workspace\r\n",
        "        dataset = dataset.register(workspace=ws,\r\n",
        "                                   name=key)\r\n",
        "\r\n",
        "\r\n",
        "df = dataset.to_pandas_dataframe()\r\n",
        "df.describe()"
      ],
      "outputs": [
        {
          "output_type": "stream",
          "name": "stdout",
          "text": [
            "Found\n"
          ]
        },
        {
          "output_type": "execute_result",
          "execution_count": 4,
          "data": {
            "text/plain": "         age  anaemia  creatinine_phosphokinase  diabetes  ejection_fraction  \\\ncount 299.00   299.00                    299.00    299.00             299.00   \nmean   60.83     0.43                    581.84      0.42              38.08   \nstd    11.89     0.50                    970.29      0.49              11.83   \nmin    40.00     0.00                     23.00      0.00              14.00   \n25%    51.00     0.00                    116.50      0.00              30.00   \n50%    60.00     0.00                    250.00      0.00              38.00   \n75%    70.00     1.00                    582.00      1.00              45.00   \nmax    95.00     1.00                   7861.00      1.00              80.00   \n\n       high_blood_pressure  platelets  serum_creatinine  serum_sodium    sex  \\\ncount               299.00     299.00            299.00        299.00 299.00   \nmean                  0.35  263358.03              1.39        136.63   0.65   \nstd                   0.48   97804.24              1.03          4.41   0.48   \nmin                   0.00   25100.00              0.50        113.00   0.00   \n25%                   0.00  212500.00              0.90        134.00   0.00   \n50%                   0.00  262000.00              1.10        137.00   1.00   \n75%                   1.00  303500.00              1.40        140.00   1.00   \nmax                   1.00  850000.00              9.40        148.00   1.00   \n\n       smoking   time  DEATH_EVENT  \ncount   299.00 299.00       299.00  \nmean      0.32 130.26         0.32  \nstd       0.47  77.61         0.47  \nmin       0.00   4.00         0.00  \n25%       0.00  73.00         0.00  \n50%       0.00 115.00         0.00  \n75%       1.00 203.00         1.00  \nmax       1.00 285.00         1.00  ",
            "text/html": "<div>\n<style scoped>\n    .dataframe tbody tr th:only-of-type {\n        vertical-align: middle;\n    }\n\n    .dataframe tbody tr th {\n        vertical-align: top;\n    }\n\n    .dataframe thead th {\n        text-align: right;\n    }\n</style>\n<table border=\"1\" class=\"dataframe\">\n  <thead>\n    <tr style=\"text-align: right;\">\n      <th></th>\n      <th>age</th>\n      <th>anaemia</th>\n      <th>creatinine_phosphokinase</th>\n      <th>diabetes</th>\n      <th>ejection_fraction</th>\n      <th>high_blood_pressure</th>\n      <th>platelets</th>\n      <th>serum_creatinine</th>\n      <th>serum_sodium</th>\n      <th>sex</th>\n      <th>smoking</th>\n      <th>time</th>\n      <th>DEATH_EVENT</th>\n    </tr>\n  </thead>\n  <tbody>\n    <tr>\n      <th>count</th>\n      <td>299.00</td>\n      <td>299.00</td>\n      <td>299.00</td>\n      <td>299.00</td>\n      <td>299.00</td>\n      <td>299.00</td>\n      <td>299.00</td>\n      <td>299.00</td>\n      <td>299.00</td>\n      <td>299.00</td>\n      <td>299.00</td>\n      <td>299.00</td>\n      <td>299.00</td>\n    </tr>\n    <tr>\n      <th>mean</th>\n      <td>60.83</td>\n      <td>0.43</td>\n      <td>581.84</td>\n      <td>0.42</td>\n      <td>38.08</td>\n      <td>0.35</td>\n      <td>263358.03</td>\n      <td>1.39</td>\n      <td>136.63</td>\n      <td>0.65</td>\n      <td>0.32</td>\n      <td>130.26</td>\n      <td>0.32</td>\n    </tr>\n    <tr>\n      <th>std</th>\n      <td>11.89</td>\n      <td>0.50</td>\n      <td>970.29</td>\n      <td>0.49</td>\n      <td>11.83</td>\n      <td>0.48</td>\n      <td>97804.24</td>\n      <td>1.03</td>\n      <td>4.41</td>\n      <td>0.48</td>\n      <td>0.47</td>\n      <td>77.61</td>\n      <td>0.47</td>\n    </tr>\n    <tr>\n      <th>min</th>\n      <td>40.00</td>\n      <td>0.00</td>\n      <td>23.00</td>\n      <td>0.00</td>\n      <td>14.00</td>\n      <td>0.00</td>\n      <td>25100.00</td>\n      <td>0.50</td>\n      <td>113.00</td>\n      <td>0.00</td>\n      <td>0.00</td>\n      <td>4.00</td>\n      <td>0.00</td>\n    </tr>\n    <tr>\n      <th>25%</th>\n      <td>51.00</td>\n      <td>0.00</td>\n      <td>116.50</td>\n      <td>0.00</td>\n      <td>30.00</td>\n      <td>0.00</td>\n      <td>212500.00</td>\n      <td>0.90</td>\n      <td>134.00</td>\n      <td>0.00</td>\n      <td>0.00</td>\n      <td>73.00</td>\n      <td>0.00</td>\n    </tr>\n    <tr>\n      <th>50%</th>\n      <td>60.00</td>\n      <td>0.00</td>\n      <td>250.00</td>\n      <td>0.00</td>\n      <td>38.00</td>\n      <td>0.00</td>\n      <td>262000.00</td>\n      <td>1.10</td>\n      <td>137.00</td>\n      <td>1.00</td>\n      <td>0.00</td>\n      <td>115.00</td>\n      <td>0.00</td>\n    </tr>\n    <tr>\n      <th>75%</th>\n      <td>70.00</td>\n      <td>1.00</td>\n      <td>582.00</td>\n      <td>1.00</td>\n      <td>45.00</td>\n      <td>1.00</td>\n      <td>303500.00</td>\n      <td>1.40</td>\n      <td>140.00</td>\n      <td>1.00</td>\n      <td>1.00</td>\n      <td>203.00</td>\n      <td>1.00</td>\n    </tr>\n    <tr>\n      <th>max</th>\n      <td>95.00</td>\n      <td>1.00</td>\n      <td>7861.00</td>\n      <td>1.00</td>\n      <td>80.00</td>\n      <td>1.00</td>\n      <td>850000.00</td>\n      <td>9.40</td>\n      <td>148.00</td>\n      <td>1.00</td>\n      <td>1.00</td>\n      <td>285.00</td>\n      <td>1.00</td>\n    </tr>\n  </tbody>\n</table>\n</div>"
          },
          "metadata": {}
        }
      ],
      "execution_count": 4,
      "metadata": {
        "collapsed": true,
        "jupyter": {
          "source_hidden": false,
          "outputs_hidden": false
        },
        "nteract": {
          "transient": {
            "deleting": false
          }
        },
        "gather": {
          "logged": 1610719991867
        }
      }
    },
    {
      "cell_type": "code",
      "source": [
        "from sklearn.model_selection import train_test_split\r\n",
        "\r\n",
        "training_data, test_data = train_test_split(df)"
      ],
      "outputs": [],
      "execution_count": 5,
      "metadata": {
        "gather": {
          "logged": 1610720009644
        }
      }
    },
    {
      "cell_type": "markdown",
      "source": [
        "## AutoML Configuration\n",
        "\n",
        "TODO: Explain why you chose the automl settings and cofiguration you used below."
      ],
      "metadata": {}
    },
    {
      "cell_type": "code",
      "source": [
        "from azureml.data.dataset_factory import TabularDatasetFactory\r\n",
        "if not os.path.isdir(\"data\"):\r\n",
        "    os.mkdir(\"data\")\r\n",
        "\r\n",
        "pd.DataFrame(training_data).to_csv(\"data/train_data.csv\", index=False)\r\n",
        "ds=ws.get_default_datastore()\r\n",
        "ds.upload(src_dir='./data', target_path='HeartDataset', overwrite=True,show_progress=True)\r\n",
        "train_data=TabularDatasetFactory.from_delimited_files(path=ds.path('HeartDataset/train_data.csv'))\r\n",
        "print(train_data.to_pandas_dataframe())"
      ],
      "outputs": [
        {
          "output_type": "stream",
          "name": "stdout",
          "text": [
            "Uploading an estimated of 1 files\n",
            "Uploading ./data/train_data.csv\n",
            "Uploaded ./data/train_data.csv, 1 files out of an estimated total of 1\n",
            "Uploaded 1 files\n",
            "      age  anaemia  creatinine_phosphokinase  diabetes  ejection_fraction  \\\n",
            "0   75.00        0                       582         0                 20   \n",
            "1   72.00        0                       364         1                 20   \n",
            "2   60.00        1                        96         1                 60   \n",
            "3   50.00        0                       196         0                 45   \n",
            "4   45.00        1                       130         0                 35   \n",
            "..    ...      ...                       ...       ...                ...   \n",
            "219 51.00        1                       582         1                 35   \n",
            "220 70.00        1                        75         0                 35   \n",
            "221 68.00        1                       220         0                 35   \n",
            "222 70.00        0                        69         0                 40   \n",
            "223 55.00        0                      1199         0                 20   \n",
            "\n",
            "     high_blood_pressure  platelets  serum_creatinine  serum_sodium  sex  \\\n",
            "0                      1  265000.00              1.90           130    1   \n",
            "1                      1  254000.00              1.30           136    1   \n",
            "2                      1  271000.00              0.70           136    0   \n",
            "3                      0  395000.00              1.60           136    1   \n",
            "4                      0  174000.00              0.80           139    1   \n",
            "..                   ...        ...               ...           ...  ...   \n",
            "219                    0  263358.03              1.50           136    1   \n",
            "220                    0  223000.00              2.70           138    1   \n",
            "221                    1  289000.00              0.90           140    1   \n",
            "222                    0  293000.00              1.70           136    0   \n",
            "223                    0  263358.03              1.83           134    1   \n",
            "\n",
            "     smoking  time  DEATH_EVENT  \n",
            "0          0     4            1  \n",
            "1          1    59            1  \n",
            "2          0    94            0  \n",
            "3          1   285            0  \n",
            "4          1   121            0  \n",
            "..       ...   ...          ...  \n",
            "219        1   145            0  \n",
            "220        1    54            0  \n",
            "221        1    20            1  \n",
            "222        0    75            0  \n",
            "223        1   241            1  \n",
            "\n",
            "[224 rows x 13 columns]\n"
          ]
        }
      ],
      "execution_count": 6,
      "metadata": {
        "collapsed": true,
        "jupyter": {
          "source_hidden": false,
          "outputs_hidden": false
        },
        "nteract": {
          "transient": {
            "deleting": false
          }
        },
        "gather": {
          "logged": 1610720027557
        }
      }
    },
    {
      "cell_type": "code",
      "source": [
        "# TODO: Put your automl settings here\n",
        "automl_settings = {\"experiment_timeout_minutes\": 25,\n",
        "                    \"max_concurrent_iterations\":4,\n",
        "                    \"iterations\": 20,                     \n",
        "}\n",
        "\n",
        "# TODO: Put your automl config here\n",
        "automl_config = AutoMLConfig(  \n",
        "    task='classification',\n",
        "    compute_target='cpu-cluster',\n",
        "    primary_metric = 'accuracy',\n",
        "    training_data= train_data,\n",
        "    label_column_name ='DEATH_EVENT',\n",
        "    enable_onnx_compatible_models=True,\n",
        "    featurization='auto',\n",
        "    enable_early_stopping= True,\n",
        "    **automl_settings\n",
        ")"
      ],
      "outputs": [],
      "execution_count": 8,
      "metadata": {
        "gather": {
          "logged": 1610720069344
        },
        "jupyter": {
          "outputs_hidden": false,
          "source_hidden": false
        },
        "nteract": {
          "transient": {
            "deleting": false
          }
        }
      }
    },
    {
      "cell_type": "code",
      "source": [
        "# TODO: Submit your experiment\n",
        "remote_run = experiment.submit(config=automl_config, show_output=True)"
      ],
      "outputs": [
        {
          "output_type": "stream",
          "name": "stdout",
          "text": [
            "Running on remote.\n",
            "No run_configuration provided, running on cpu-cluster with default configuration\n",
            "Running on remote compute: cpu-cluster\n",
            "Parent Run ID: AutoML_0f6b24f8-c742-4dec-8fb8-606c34a7e53a\n",
            "\n",
            "Current status: FeaturesGeneration. Generating features for the dataset.\n",
            "Current status: DatasetCrossValidationSplit. Generating individually featurized CV splits.\n",
            "Current status: ModelSelection. Beginning model selection.\n",
            "\n",
            "****************************************************************************************************\n",
            "DATA GUARDRAILS: \n",
            "\n",
            "TYPE:         Cross validation\n",
            "STATUS:       DONE\n",
            "DESCRIPTION:  Each iteration of the trained model was validated through cross-validation.\n",
            "              \n",
            "DETAILS:      \n",
            "+---------------------------------+\n",
            "|Number of folds                  |\n",
            "+=================================+\n",
            "|10                               |\n",
            "+---------------------------------+\n",
            "\n",
            "****************************************************************************************************\n",
            "\n",
            "TYPE:         Class balancing detection\n",
            "STATUS:       PASSED\n",
            "DESCRIPTION:  Your inputs were analyzed, and all classes are balanced in your training data.\n",
            "              Learn more about imbalanced data: https://aka.ms/AutomatedMLImbalancedData\n",
            "\n",
            "****************************************************************************************************\n",
            "\n",
            "TYPE:         High cardinality feature detection\n",
            "STATUS:       PASSED\n",
            "DESCRIPTION:  Your inputs were analyzed, and no high cardinality features were detected.\n",
            "              Learn more about high cardinality feature handling: https://aka.ms/AutomatedMLFeaturization\n",
            "\n",
            "****************************************************************************************************\n",
            "\n",
            "****************************************************************************************************\n",
            "ITERATION: The iteration being evaluated.\n",
            "PIPELINE: A summary description of the pipeline being evaluated.\n",
            "DURATION: Time taken for the current iteration.\n",
            "METRIC: The result of computing score on the fitted pipeline.\n",
            "BEST: The best observed score thus far.\n",
            "****************************************************************************************************\n",
            "\n",
            " ITERATION   PIPELINE                                       DURATION      METRIC      BEST\n",
            "         0   MaxAbsScaler LightGBM                          0:00:45       0.8532    0.8532\n",
            "         1   MaxAbsScaler XGBoostClassifier                 0:00:49       0.8619    0.8619\n",
            "         3   MinMaxScaler RandomForest                      0:00:50       0.8753    0.8753\n",
            "         6   SparseNormalizer XGBoostClassifier             0:00:47       0.8443    0.8753\n",
            "         7   MinMaxScaler SVM                               0:00:43       0.7233    0.8753\n",
            "         2   MinMaxScaler RandomForest                      0:03:27       0.8798    0.8798\n",
            "         8   RobustScaler RandomForest                      0:00:43       0.8619    0.8798\n",
            "         4   MinMaxScaler RandomForest                      0:03:28       0.8757    0.8798\n",
            "         5   StandardScalerWrapper RandomForest             0:03:45       0.8439    0.8798\n",
            "         9   SparseNormalizer LightGBM                      0:00:45       0.8215    0.8798\n",
            "        10   SparseNormalizer XGBoostClassifier             0:00:46       0.8486    0.8798\n",
            "        11   SparseNormalizer LightGBM                      0:00:39       0.7806    0.8798\n",
            "        12   StandardScalerWrapper LightGBM                 0:00:45       0.8569    0.8798\n",
            "        13   StandardScalerWrapper ExtremeRandomTrees       0:00:45       0.7727    0.8798\n",
            "        14   MaxAbsScaler LightGBM                          0:00:49       0.8437    0.8798\n",
            "        15   MinMaxScaler LightGBM                          0:00:48       0.8389    0.8798\n",
            "        16   StandardScalerWrapper LightGBM                 0:00:39       0.7907    0.8798\n",
            "        17   StandardScalerWrapper LightGBM                 0:00:45       0.8391    0.8798\n",
            "        18   MaxAbsScaler LightGBM                          0:00:43       0.8794    0.8798\n",
            "        19    VotingEnsemble                                0:01:36       0.9022    0.9022\n"
          ]
        }
      ],
      "execution_count": 9,
      "metadata": {
        "gather": {
          "logged": 1610721219226
        },
        "jupyter": {
          "outputs_hidden": false,
          "source_hidden": false
        },
        "nteract": {
          "transient": {
            "deleting": false
          }
        }
      }
    },
    {
      "cell_type": "markdown",
      "source": [
        "## Run Details\n",
        "\n",
        "OPTIONAL: Write about the different models trained and their performance. Why do you think some models did better than others?\n",
        "\n",
        "TODO: In the cell below, use the `RunDetails` widget to show the different experiments."
      ],
      "metadata": {}
    },
    {
      "cell_type": "code",
      "source": [
        "RunDetails(remote_run).show()"
      ],
      "outputs": [
        {
          "output_type": "display_data",
          "data": {
            "text/plain": "_AutoMLWidget(widget_settings={'childWidgetDisplay': 'popup', 'send_telemetry': False, 'log_level': 'INFO', 's…",
            "application/vnd.jupyter.widget-view+json": {
              "version_major": 2,
              "version_minor": 0,
              "model_id": "5e6d3baaa9e44eb585e660b1a0ab56b0"
            }
          },
          "metadata": {}
        },
        {
          "output_type": "display_data",
          "data": {
            "application/aml.mini.widget.v1": "{\"status\": \"Completed\", \"workbench_run_details_uri\": \"https://ml.azure.com/experiments/Heart-Disease-Predection/runs/AutoML_0f6b24f8-c742-4dec-8fb8-606c34a7e53a?wsid=/subscriptions/f9d5a085-54dc-4215-9ba6-dad5d86e60a0/resourcegroups/aml-quickstarts-134767/workspaces/quick-starts-ws-134767\", \"run_id\": \"AutoML_0f6b24f8-c742-4dec-8fb8-606c34a7e53a\", \"run_properties\": {\"run_id\": \"AutoML_0f6b24f8-c742-4dec-8fb8-606c34a7e53a\", \"created_utc\": \"2021-01-15T14:14:36.246187Z\", \"properties\": {\"num_iterations\": \"20\", \"training_type\": \"TrainFull\", \"acquisition_function\": \"EI\", \"primary_metric\": \"accuracy\", \"train_split\": \"0\", \"acquisition_parameter\": \"0\", \"num_cross_validation\": null, \"target\": \"cpu-cluster\", \"AMLSettingsJsonString\": \"{\\\"path\\\":null,\\\"name\\\":\\\"Heart-Disease-Predection\\\",\\\"subscription_id\\\":\\\"f9d5a085-54dc-4215-9ba6-dad5d86e60a0\\\",\\\"resource_group\\\":\\\"aml-quickstarts-134767\\\",\\\"workspace_name\\\":\\\"quick-starts-ws-134767\\\",\\\"region\\\":\\\"southcentralus\\\",\\\"compute_target\\\":\\\"cpu-cluster\\\",\\\"spark_service\\\":null,\\\"azure_service\\\":\\\"remote\\\",\\\"many_models\\\":false,\\\"pipeline_fetch_max_batch_size\\\":1,\\\"iterations\\\":20,\\\"primary_metric\\\":\\\"accuracy\\\",\\\"task_type\\\":\\\"classification\\\",\\\"data_script\\\":null,\\\"validation_size\\\":0.0,\\\"n_cross_validations\\\":null,\\\"y_min\\\":null,\\\"y_max\\\":null,\\\"num_classes\\\":null,\\\"featurization\\\":\\\"auto\\\",\\\"_ignore_package_version_incompatibilities\\\":false,\\\"is_timeseries\\\":false,\\\"max_cores_per_iteration\\\":1,\\\"max_concurrent_iterations\\\":4,\\\"iteration_timeout_minutes\\\":null,\\\"mem_in_mb\\\":null,\\\"enforce_time_on_windows\\\":false,\\\"experiment_timeout_minutes\\\":25,\\\"experiment_exit_score\\\":null,\\\"whitelist_models\\\":null,\\\"blacklist_algos\\\":[\\\"TensorFlowLinearClassifier\\\",\\\"TensorFlowDNN\\\"],\\\"supported_models\\\":[\\\"KNN\\\",\\\"TensorFlowLinearClassifier\\\",\\\"GradientBoosting\\\",\\\"LightGBM\\\",\\\"ExtremeRandomTrees\\\",\\\"AveragedPerceptronClassifier\\\",\\\"SVM\\\",\\\"DecisionTree\\\",\\\"BernoulliNaiveBayes\\\",\\\"LinearSVM\\\",\\\"TensorFlowDNN\\\",\\\"XGBoostClassifier\\\",\\\"RandomForest\\\",\\\"SGD\\\",\\\"LogisticRegression\\\",\\\"MultinomialNaiveBayes\\\"],\\\"auto_blacklist\\\":true,\\\"blacklist_samples_reached\\\":false,\\\"exclude_nan_labels\\\":true,\\\"verbosity\\\":20,\\\"_debug_log\\\":\\\"azureml_automl.log\\\",\\\"show_warnings\\\":false,\\\"model_explainability\\\":true,\\\"service_url\\\":null,\\\"sdk_url\\\":null,\\\"sdk_packages\\\":null,\\\"enable_onnx_compatible_models\\\":true,\\\"enable_split_onnx_featurizer_estimator_models\\\":false,\\\"vm_type\\\":\\\"STANDARD_D2_V2\\\",\\\"telemetry_verbosity\\\":20,\\\"send_telemetry\\\":true,\\\"enable_dnn\\\":false,\\\"scenario\\\":\\\"SDK-1.13.0\\\",\\\"environment_label\\\":null,\\\"force_text_dnn\\\":false,\\\"enable_feature_sweeping\\\":false,\\\"enable_early_stopping\\\":true,\\\"early_stopping_n_iters\\\":10,\\\"metrics\\\":null,\\\"enable_ensembling\\\":true,\\\"enable_stack_ensembling\\\":false,\\\"ensemble_iterations\\\":15,\\\"enable_tf\\\":false,\\\"enable_subsampling\\\":false,\\\"subsample_seed\\\":null,\\\"enable_nimbusml\\\":false,\\\"enable_streaming\\\":false,\\\"force_streaming\\\":false,\\\"track_child_runs\\\":true,\\\"allowed_private_models\\\":[],\\\"label_column_name\\\":\\\"DEATH_EVENT\\\",\\\"weight_column_name\\\":null,\\\"cv_split_column_names\\\":null,\\\"enable_local_managed\\\":false,\\\"_local_managed_run_id\\\":null,\\\"cost_mode\\\":1,\\\"lag_length\\\":0,\\\"metric_operation\\\":\\\"maximize\\\",\\\"preprocess\\\":true}\", \"DataPrepJsonString\": \"{\\\\\\\"training_data\\\\\\\": \\\\\\\"{\\\\\\\\\\\\\\\"blocks\\\\\\\\\\\\\\\": [{\\\\\\\\\\\\\\\"id\\\\\\\\\\\\\\\": \\\\\\\\\\\\\\\"dd6586ba-e17e-4851-9b80-d6ea37fa0cbc\\\\\\\\\\\\\\\", \\\\\\\\\\\\\\\"type\\\\\\\\\\\\\\\": \\\\\\\\\\\\\\\"Microsoft.DPrep.GetDatastoreFilesBlock\\\\\\\\\\\\\\\", \\\\\\\\\\\\\\\"arguments\\\\\\\\\\\\\\\": {\\\\\\\\\\\\\\\"datastores\\\\\\\\\\\\\\\": [{\\\\\\\\\\\\\\\"datastoreName\\\\\\\\\\\\\\\": \\\\\\\\\\\\\\\"workspaceblobstore\\\\\\\\\\\\\\\", \\\\\\\\\\\\\\\"path\\\\\\\\\\\\\\\": \\\\\\\\\\\\\\\"HeartDataset/train_data.csv\\\\\\\\\\\\\\\", \\\\\\\\\\\\\\\"resourceGroup\\\\\\\\\\\\\\\": \\\\\\\\\\\\\\\"aml-quickstarts-134767\\\\\\\\\\\\\\\", \\\\\\\\\\\\\\\"subscription\\\\\\\\\\\\\\\": \\\\\\\\\\\\\\\"f9d5a085-54dc-4215-9ba6-dad5d86e60a0\\\\\\\\\\\\\\\", \\\\\\\\\\\\\\\"workspaceName\\\\\\\\\\\\\\\": \\\\\\\\\\\\\\\"quick-starts-ws-134767\\\\\\\\\\\\\\\"}]}, \\\\\\\\\\\\\\\"localData\\\\\\\\\\\\\\\": {}, \\\\\\\\\\\\\\\"isEnabled\\\\\\\\\\\\\\\": true, \\\\\\\\\\\\\\\"name\\\\\\\\\\\\\\\": null, \\\\\\\\\\\\\\\"annotation\\\\\\\\\\\\\\\": null}, {\\\\\\\\\\\\\\\"id\\\\\\\\\\\\\\\": \\\\\\\\\\\\\\\"fed89f34-23e4-4ba1-8b78-0846f07aa914\\\\\\\\\\\\\\\", \\\\\\\\\\\\\\\"type\\\\\\\\\\\\\\\": \\\\\\\\\\\\\\\"Microsoft.DPrep.ParseDelimitedBlock\\\\\\\\\\\\\\\", \\\\\\\\\\\\\\\"arguments\\\\\\\\\\\\\\\": {\\\\\\\\\\\\\\\"columnHeadersMode\\\\\\\\\\\\\\\": 3, \\\\\\\\\\\\\\\"fileEncoding\\\\\\\\\\\\\\\": 0, \\\\\\\\\\\\\\\"handleQuotedLineBreaks\\\\\\\\\\\\\\\": false, \\\\\\\\\\\\\\\"preview\\\\\\\\\\\\\\\": false, \\\\\\\\\\\\\\\"separator\\\\\\\\\\\\\\\": \\\\\\\\\\\\\\\",\\\\\\\\\\\\\\\", \\\\\\\\\\\\\\\"skipRows\\\\\\\\\\\\\\\": 0, \\\\\\\\\\\\\\\"skipRowsMode\\\\\\\\\\\\\\\": 0}, \\\\\\\\\\\\\\\"localData\\\\\\\\\\\\\\\": {}, \\\\\\\\\\\\\\\"isEnabled\\\\\\\\\\\\\\\": true, \\\\\\\\\\\\\\\"name\\\\\\\\\\\\\\\": null, \\\\\\\\\\\\\\\"annotation\\\\\\\\\\\\\\\": null}, {\\\\\\\\\\\\\\\"id\\\\\\\\\\\\\\\": \\\\\\\\\\\\\\\"f2fc728a-5eb0-47c3-8200-c60df4ec5182\\\\\\\\\\\\\\\", \\\\\\\\\\\\\\\"type\\\\\\\\\\\\\\\": \\\\\\\\\\\\\\\"Microsoft.DPrep.DropColumnsBlock\\\\\\\\\\\\\\\", \\\\\\\\\\\\\\\"arguments\\\\\\\\\\\\\\\": {\\\\\\\\\\\\\\\"columns\\\\\\\\\\\\\\\": {\\\\\\\\\\\\\\\"type\\\\\\\\\\\\\\\": 0, \\\\\\\\\\\\\\\"details\\\\\\\\\\\\\\\": {\\\\\\\\\\\\\\\"selectedColumns\\\\\\\\\\\\\\\": [\\\\\\\\\\\\\\\"Path\\\\\\\\\\\\\\\"]}}}, \\\\\\\\\\\\\\\"localData\\\\\\\\\\\\\\\": {}, \\\\\\\\\\\\\\\"isEnabled\\\\\\\\\\\\\\\": true, \\\\\\\\\\\\\\\"name\\\\\\\\\\\\\\\": null, \\\\\\\\\\\\\\\"annotation\\\\\\\\\\\\\\\": null}, {\\\\\\\\\\\\\\\"id\\\\\\\\\\\\\\\": \\\\\\\\\\\\\\\"8b16c81b-7a0b-48b1-bb24-92e53528d7ca\\\\\\\\\\\\\\\", \\\\\\\\\\\\\\\"type\\\\\\\\\\\\\\\": \\\\\\\\\\\\\\\"Microsoft.DPrep.SetColumnTypesBlock\\\\\\\\\\\\\\\", \\\\\\\\\\\\\\\"arguments\\\\\\\\\\\\\\\": {\\\\\\\\\\\\\\\"columnConversion\\\\\\\\\\\\\\\": [{\\\\\\\\\\\\\\\"column\\\\\\\\\\\\\\\": {\\\\\\\\\\\\\\\"type\\\\\\\\\\\\\\\": 2, \\\\\\\\\\\\\\\"details\\\\\\\\\\\\\\\": {\\\\\\\\\\\\\\\"selectedColumn\\\\\\\\\\\\\\\": \\\\\\\\\\\\\\\"age\\\\\\\\\\\\\\\"}}, \\\\\\\\\\\\\\\"typeProperty\\\\\\\\\\\\\\\": 3}, {\\\\\\\\\\\\\\\"column\\\\\\\\\\\\\\\": {\\\\\\\\\\\\\\\"type\\\\\\\\\\\\\\\": 2, \\\\\\\\\\\\\\\"details\\\\\\\\\\\\\\\": {\\\\\\\\\\\\\\\"selectedColumn\\\\\\\\\\\\\\\": \\\\\\\\\\\\\\\"anaemia\\\\\\\\\\\\\\\"}}, \\\\\\\\\\\\\\\"typeProperty\\\\\\\\\\\\\\\": 2}, {\\\\\\\\\\\\\\\"column\\\\\\\\\\\\\\\": {\\\\\\\\\\\\\\\"type\\\\\\\\\\\\\\\": 2, \\\\\\\\\\\\\\\"details\\\\\\\\\\\\\\\": {\\\\\\\\\\\\\\\"selectedColumn\\\\\\\\\\\\\\\": \\\\\\\\\\\\\\\"creatinine_phosphokinase\\\\\\\\\\\\\\\"}}, \\\\\\\\\\\\\\\"typeProperty\\\\\\\\\\\\\\\": 2}, {\\\\\\\\\\\\\\\"column\\\\\\\\\\\\\\\": {\\\\\\\\\\\\\\\"type\\\\\\\\\\\\\\\": 2, \\\\\\\\\\\\\\\"details\\\\\\\\\\\\\\\": {\\\\\\\\\\\\\\\"selectedColumn\\\\\\\\\\\\\\\": \\\\\\\\\\\\\\\"diabetes\\\\\\\\\\\\\\\"}}, \\\\\\\\\\\\\\\"typeProperty\\\\\\\\\\\\\\\": 2}, {\\\\\\\\\\\\\\\"column\\\\\\\\\\\\\\\": {\\\\\\\\\\\\\\\"type\\\\\\\\\\\\\\\": 2, \\\\\\\\\\\\\\\"details\\\\\\\\\\\\\\\": {\\\\\\\\\\\\\\\"selectedColumn\\\\\\\\\\\\\\\": \\\\\\\\\\\\\\\"ejection_fraction\\\\\\\\\\\\\\\"}}, \\\\\\\\\\\\\\\"typeProperty\\\\\\\\\\\\\\\": 2}, {\\\\\\\\\\\\\\\"column\\\\\\\\\\\\\\\": {\\\\\\\\\\\\\\\"type\\\\\\\\\\\\\\\": 2, \\\\\\\\\\\\\\\"details\\\\\\\\\\\\\\\": {\\\\\\\\\\\\\\\"selectedColumn\\\\\\\\\\\\\\\": \\\\\\\\\\\\\\\"high_blood_pressure\\\\\\\\\\\\\\\"}}, \\\\\\\\\\\\\\\"typeProperty\\\\\\\\\\\\\\\": 2}, {\\\\\\\\\\\\\\\"column\\\\\\\\\\\\\\\": {\\\\\\\\\\\\\\\"type\\\\\\\\\\\\\\\": 2, \\\\\\\\\\\\\\\"details\\\\\\\\\\\\\\\": {\\\\\\\\\\\\\\\"selectedColumn\\\\\\\\\\\\\\\": \\\\\\\\\\\\\\\"platelets\\\\\\\\\\\\\\\"}}, \\\\\\\\\\\\\\\"typeProperty\\\\\\\\\\\\\\\": 3}, {\\\\\\\\\\\\\\\"column\\\\\\\\\\\\\\\": {\\\\\\\\\\\\\\\"type\\\\\\\\\\\\\\\": 2, \\\\\\\\\\\\\\\"details\\\\\\\\\\\\\\\": {\\\\\\\\\\\\\\\"selectedColumn\\\\\\\\\\\\\\\": \\\\\\\\\\\\\\\"serum_creatinine\\\\\\\\\\\\\\\"}}, \\\\\\\\\\\\\\\"typeProperty\\\\\\\\\\\\\\\": 3}, {\\\\\\\\\\\\\\\"column\\\\\\\\\\\\\\\": {\\\\\\\\\\\\\\\"type\\\\\\\\\\\\\\\": 2, \\\\\\\\\\\\\\\"details\\\\\\\\\\\\\\\": {\\\\\\\\\\\\\\\"selectedColumn\\\\\\\\\\\\\\\": \\\\\\\\\\\\\\\"serum_sodium\\\\\\\\\\\\\\\"}}, \\\\\\\\\\\\\\\"typeProperty\\\\\\\\\\\\\\\": 2}, {\\\\\\\\\\\\\\\"column\\\\\\\\\\\\\\\": {\\\\\\\\\\\\\\\"type\\\\\\\\\\\\\\\": 2, \\\\\\\\\\\\\\\"details\\\\\\\\\\\\\\\": {\\\\\\\\\\\\\\\"selectedColumn\\\\\\\\\\\\\\\": \\\\\\\\\\\\\\\"sex\\\\\\\\\\\\\\\"}}, \\\\\\\\\\\\\\\"typeProperty\\\\\\\\\\\\\\\": 2}, {\\\\\\\\\\\\\\\"column\\\\\\\\\\\\\\\": {\\\\\\\\\\\\\\\"type\\\\\\\\\\\\\\\": 2, \\\\\\\\\\\\\\\"details\\\\\\\\\\\\\\\": {\\\\\\\\\\\\\\\"selectedColumn\\\\\\\\\\\\\\\": \\\\\\\\\\\\\\\"smoking\\\\\\\\\\\\\\\"}}, \\\\\\\\\\\\\\\"typeProperty\\\\\\\\\\\\\\\": 2}, {\\\\\\\\\\\\\\\"column\\\\\\\\\\\\\\\": {\\\\\\\\\\\\\\\"type\\\\\\\\\\\\\\\": 2, \\\\\\\\\\\\\\\"details\\\\\\\\\\\\\\\": {\\\\\\\\\\\\\\\"selectedColumn\\\\\\\\\\\\\\\": \\\\\\\\\\\\\\\"time\\\\\\\\\\\\\\\"}}, \\\\\\\\\\\\\\\"typeProperty\\\\\\\\\\\\\\\": 2}, {\\\\\\\\\\\\\\\"column\\\\\\\\\\\\\\\": {\\\\\\\\\\\\\\\"type\\\\\\\\\\\\\\\": 2, \\\\\\\\\\\\\\\"details\\\\\\\\\\\\\\\": {\\\\\\\\\\\\\\\"selectedColumn\\\\\\\\\\\\\\\": \\\\\\\\\\\\\\\"DEATH_EVENT\\\\\\\\\\\\\\\"}}, \\\\\\\\\\\\\\\"typeProperty\\\\\\\\\\\\\\\": 2}]}, \\\\\\\\\\\\\\\"localData\\\\\\\\\\\\\\\": {}, \\\\\\\\\\\\\\\"isEnabled\\\\\\\\\\\\\\\": true, \\\\\\\\\\\\\\\"name\\\\\\\\\\\\\\\": null, \\\\\\\\\\\\\\\"annotation\\\\\\\\\\\\\\\": null}], \\\\\\\\\\\\\\\"inspectors\\\\\\\\\\\\\\\": [], \\\\\\\\\\\\\\\"meta\\\\\\\\\\\\\\\": {\\\\\\\\\\\\\\\"savedDatasetId\\\\\\\\\\\\\\\": \\\\\\\\\\\\\\\"4d22a2ce-bdc6-4774-865e-eed5021ae622\\\\\\\\\\\\\\\", \\\\\\\\\\\\\\\"datasetType\\\\\\\\\\\\\\\": \\\\\\\\\\\\\\\"tabular\\\\\\\\\\\\\\\", \\\\\\\\\\\\\\\"subscriptionId\\\\\\\\\\\\\\\": \\\\\\\\\\\\\\\"f9d5a085-54dc-4215-9ba6-dad5d86e60a0\\\\\\\\\\\\\\\", \\\\\\\\\\\\\\\"workspaceId\\\\\\\\\\\\\\\": \\\\\\\\\\\\\\\"5d15bbc0-6dfc-4888-aced-4e48c67ddf94\\\\\\\\\\\\\\\", \\\\\\\\\\\\\\\"workspaceLocation\\\\\\\\\\\\\\\": \\\\\\\\\\\\\\\"southcentralus\\\\\\\\\\\\\\\"}}\\\\\\\", \\\\\\\"activities\\\\\\\": 0}\", \"EnableSubsampling\": \"False\", \"runTemplate\": \"AutoML\", \"azureml.runsource\": \"automl\", \"display_task_type\": \"classification\", \"dependencies_versions\": \"{\\\"azureml-widgets\\\": \\\"1.19.0\\\", \\\"azureml-train\\\": \\\"1.19.0\\\", \\\"azureml-train-restclients-hyperdrive\\\": \\\"1.19.0\\\", \\\"azureml-train-core\\\": \\\"1.19.0\\\", \\\"azureml-train-automl\\\": \\\"1.19.0\\\", \\\"azureml-train-automl-runtime\\\": \\\"1.19.0\\\", \\\"azureml-train-automl-client\\\": \\\"1.19.0\\\", \\\"azureml-tensorboard\\\": \\\"1.19.0\\\", \\\"azureml-telemetry\\\": \\\"1.19.0\\\", \\\"azureml-sdk\\\": \\\"1.19.0\\\", \\\"azureml-samples\\\": \\\"0+unknown\\\", \\\"azureml-pipeline\\\": \\\"1.19.0\\\", \\\"azureml-pipeline-steps\\\": \\\"1.19.0\\\", \\\"azureml-pipeline-core\\\": \\\"1.19.0\\\", \\\"azureml-opendatasets\\\": \\\"1.19.0\\\", \\\"azureml-model-management-sdk\\\": \\\"1.0.1b6.post1\\\", \\\"azureml-mlflow\\\": \\\"1.19.0\\\", \\\"azureml-interpret\\\": \\\"1.19.0\\\", \\\"azureml-explain-model\\\": \\\"1.19.0\\\", \\\"azureml-defaults\\\": \\\"1.19.0\\\", \\\"azureml-dataset-runtime\\\": \\\"1.19.0.post1\\\", \\\"azureml-dataprep\\\": \\\"2.6.1\\\", \\\"azureml-dataprep-rslex\\\": \\\"1.4.0\\\", \\\"azureml-dataprep-native\\\": \\\"26.0.0\\\", \\\"azureml-datadrift\\\": \\\"1.19.0\\\", \\\"azureml-core\\\": \\\"1.19.0\\\", \\\"azureml-contrib-services\\\": \\\"1.19.0\\\", \\\"azureml-contrib-server\\\": \\\"1.19.0\\\", \\\"azureml-contrib-reinforcementlearning\\\": \\\"1.19.0\\\", \\\"azureml-contrib-pipeline-steps\\\": \\\"1.19.0\\\", \\\"azureml-contrib-notebook\\\": \\\"1.19.0\\\", \\\"azureml-contrib-interpret\\\": \\\"1.19.0\\\", \\\"azureml-contrib-gbdt\\\": \\\"1.19.0\\\", \\\"azureml-contrib-fairness\\\": \\\"1.19.0\\\", \\\"azureml-contrib-dataset\\\": \\\"1.19.0\\\", \\\"azureml-cli-common\\\": \\\"1.19.0\\\", \\\"azureml-automl-runtime\\\": \\\"1.19.0\\\", \\\"azureml-automl-core\\\": \\\"1.19.0\\\", \\\"azureml-accel-models\\\": \\\"1.19.0\\\"}\", \"_aml_system_scenario_identification\": \"Remote.Parent\", \"ClientType\": \"SDK\", \"environment_cpu_name\": \"AzureML-AutoML\", \"environment_cpu_label\": \"prod\", \"environment_gpu_name\": \"AzureML-AutoML-GPU\", \"environment_gpu_label\": \"prod\", \"root_attribution\": \"automl\", \"attribution\": \"AutoML\", \"Orchestrator\": \"AutoML\", \"CancelUri\": \"https://southcentralus.experiments.azureml.net/jasmine/v1.0/subscriptions/f9d5a085-54dc-4215-9ba6-dad5d86e60a0/resourceGroups/aml-quickstarts-134767/providers/Microsoft.MachineLearningServices/workspaces/quick-starts-ws-134767/experimentids/622edf36-a49b-469c-9f4c-dfecd012adab/cancel/AutoML_0f6b24f8-c742-4dec-8fb8-606c34a7e53a\", \"ClientSdkVersion\": \"1.19.0\", \"snapshotId\": \"00000000-0000-0000-0000-000000000000\", \"SetupRunId\": \"AutoML_0f6b24f8-c742-4dec-8fb8-606c34a7e53a_setup\", \"SetupRunContainerId\": \"dcid.AutoML_0f6b24f8-c742-4dec-8fb8-606c34a7e53a_setup\", \"FeaturizationRunJsonPath\": \"featurizer_container.json\", \"FeaturizationRunId\": \"AutoML_0f6b24f8-c742-4dec-8fb8-606c34a7e53a_featurize\", \"ProblemInfoJsonString\": \"{\\\"dataset_num_categorical\\\": 0, \\\"is_sparse\\\": false, \\\"subsampling\\\": false, \\\"dataset_classes\\\": 2, \\\"dataset_features\\\": 12, \\\"dataset_samples\\\": 224, \\\"single_frequency_class_detected\\\": false}\", \"ModelExplainRunId\": \"AutoML_0f6b24f8-c742-4dec-8fb8-606c34a7e53a_ModelExplain\"}, \"tags\": {\"model_explain_run\": \"best_run\", \"_aml_system_azureml.automlComponent\": \"AutoML\", \"pipeline_id\": \"\", \"score\": \"\", \"predicted_cost\": \"\", \"fit_time\": \"\", \"training_percent\": \"\", \"iteration\": \"\", \"run_preprocessor\": \"\", \"run_algorithm\": \"\", \"automl_best_child_run_id\": \"AutoML_0f6b24f8-c742-4dec-8fb8-606c34a7e53a_19\", \"model_explain_best_run_child_id\": \"AutoML_0f6b24f8-c742-4dec-8fb8-606c34a7e53a_19\"}, \"end_time_utc\": \"2021-01-15T14:33:30.303908Z\", \"status\": \"Completed\", \"log_files\": {}, \"log_groups\": [], \"run_duration\": \"0:18:54\"}, \"child_runs\": [{\"run_id\": \"AutoML_0f6b24f8-c742-4dec-8fb8-606c34a7e53a_1\", \"run_number\": 5, \"metric\": null, \"status\": \"Completed\", \"run_type\": \"azureml.scriptrun\", \"training_percent\": \"100\", \"start_time\": \"2021-01-15T14:23:27.685099Z\", \"end_time\": \"2021-01-15T14:24:17.124583Z\", \"created_time\": \"2021-01-15T14:22:27.993445Z\", \"created_time_dt\": \"2021-01-15T14:22:27.993445Z\", \"duration\": \"0:01:49\", \"iteration\": \"1\", \"goal\": \"accuracy_max\", \"run_name\": \"MaxAbsScaler, XGBoostClassifier\", \"run_properties\": \"copy=True\", \"primary_metric\": 0.86185771, \"best_metric\": 0.86185771}, {\"run_id\": \"AutoML_0f6b24f8-c742-4dec-8fb8-606c34a7e53a_2\", \"run_number\": 6, \"metric\": null, \"status\": \"Completed\", \"run_type\": \"azureml.scriptrun\", \"training_percent\": \"100\", \"start_time\": \"2021-01-15T14:24:47.582112Z\", \"end_time\": \"2021-01-15T14:28:14.440937Z\", \"created_time\": \"2021-01-15T14:22:27.995886Z\", \"created_time_dt\": \"2021-01-15T14:22:27.995886Z\", \"duration\": \"0:05:46\", \"iteration\": \"2\", \"goal\": \"accuracy_max\", \"run_name\": \"MinMaxScaler, RandomForest\", \"run_properties\": \"copy=True, feature_range=(0, 1\", \"primary_metric\": 0.8798419, \"best_metric\": 0.8798419}, {\"run_id\": \"AutoML_0f6b24f8-c742-4dec-8fb8-606c34a7e53a_3\", \"run_number\": 7, \"metric\": null, \"status\": \"Completed\", \"run_type\": \"azureml.scriptrun\", \"training_percent\": \"100\", \"start_time\": \"2021-01-15T14:24:22.318652Z\", \"end_time\": \"2021-01-15T14:25:12.229467Z\", \"created_time\": \"2021-01-15T14:22:28.013364Z\", \"created_time_dt\": \"2021-01-15T14:22:28.013364Z\", \"duration\": \"0:02:44\", \"iteration\": \"3\", \"goal\": \"accuracy_max\", \"run_name\": \"MinMaxScaler, RandomForest\", \"run_properties\": \"copy=True, feature_range=(0, 1\", \"primary_metric\": 0.87529644, \"best_metric\": 0.8798419}, {\"run_id\": \"AutoML_0f6b24f8-c742-4dec-8fb8-606c34a7e53a_0\", \"run_number\": 8, \"metric\": null, \"status\": \"Completed\", \"run_type\": \"azureml.scriptrun\", \"training_percent\": \"100\", \"start_time\": \"2021-01-15T14:22:38.957687Z\", \"end_time\": \"2021-01-15T14:23:23.580489Z\", \"created_time\": \"2021-01-15T14:22:28.065175Z\", \"created_time_dt\": \"2021-01-15T14:22:28.065175Z\", \"duration\": \"0:00:55\", \"iteration\": \"0\", \"goal\": \"accuracy_max\", \"run_name\": \"MaxAbsScaler, LightGBM\", \"run_properties\": \"copy=True\", \"primary_metric\": 0.85316206, \"best_metric\": 0.85316206}, {\"run_id\": \"AutoML_0f6b24f8-c742-4dec-8fb8-606c34a7e53a_4\", \"run_number\": 9, \"metric\": null, \"status\": \"Completed\", \"run_type\": \"azureml.scriptrun\", \"training_percent\": \"100\", \"start_time\": \"2021-01-15T14:24:52.699058Z\", \"end_time\": \"2021-01-15T14:28:20.916024Z\", \"created_time\": \"2021-01-15T14:23:26.464935Z\", \"created_time_dt\": \"2021-01-15T14:23:26.464935Z\", \"duration\": \"0:04:54\", \"iteration\": \"4\", \"goal\": \"accuracy_max\", \"run_name\": \"MinMaxScaler, RandomForest\", \"run_properties\": \"copy=True, feature_range=(0, 1\", \"primary_metric\": 0.8756917, \"best_metric\": 0.8798419}, {\"run_id\": \"AutoML_0f6b24f8-c742-4dec-8fb8-606c34a7e53a_5\", \"run_number\": 10, \"metric\": null, \"status\": \"Completed\", \"run_type\": \"azureml.scriptrun\", \"training_percent\": \"100\", \"start_time\": \"2021-01-15T14:24:50.032215Z\", \"end_time\": \"2021-01-15T14:28:35.059554Z\", \"created_time\": \"2021-01-15T14:24:19.626138Z\", \"created_time_dt\": \"2021-01-15T14:24:19.626138Z\", \"duration\": \"0:04:15\", \"iteration\": \"5\", \"goal\": \"accuracy_max\", \"run_name\": \"StandardScalerWrapper, RandomForest\", \"run_properties\": \"<azureml.automl.runtime.shared.model_wrappers.StandardScalerWrapper object at 0x7fa00d38c898\", \"primary_metric\": 0.84387352, \"best_metric\": 0.8798419}, {\"run_id\": \"AutoML_0f6b24f8-c742-4dec-8fb8-606c34a7e53a_6\", \"run_number\": 11, \"metric\": null, \"status\": \"Completed\", \"run_type\": \"azureml.scriptrun\", \"training_percent\": \"100\", \"start_time\": \"2021-01-15T14:25:27.005285Z\", \"end_time\": \"2021-01-15T14:26:14.329117Z\", \"created_time\": \"2021-01-15T14:25:15.437317Z\", \"created_time_dt\": \"2021-01-15T14:25:15.437317Z\", \"duration\": \"0:00:58\", \"iteration\": \"6\", \"goal\": \"accuracy_max\", \"run_name\": \"SparseNormalizer, XGBoostClassifier\", \"run_properties\": \"<azureml.automl.runtime.shared.model_wrappers.SparseNormalizer object at 0x7fba8c1f3f60\", \"primary_metric\": 0.84426877, \"best_metric\": 0.8798419}, {\"run_id\": \"AutoML_0f6b24f8-c742-4dec-8fb8-606c34a7e53a_7\", \"run_number\": 12, \"metric\": null, \"status\": \"Completed\", \"run_type\": \"azureml.scriptrun\", \"training_percent\": \"100\", \"start_time\": \"2021-01-15T14:26:29.938959Z\", \"end_time\": \"2021-01-15T14:27:13.33219Z\", \"created_time\": \"2021-01-15T14:26:17.363051Z\", \"created_time_dt\": \"2021-01-15T14:26:17.363051Z\", \"duration\": \"0:00:55\", \"iteration\": \"7\", \"goal\": \"accuracy_max\", \"run_name\": \"MinMaxScaler, SVM\", \"run_properties\": \"copy=True, feature_range=(0, 1\", \"primary_metric\": 0.72332016, \"best_metric\": 0.8798419}, {\"run_id\": \"AutoML_0f6b24f8-c742-4dec-8fb8-606c34a7e53a_8\", \"run_number\": 13, \"metric\": null, \"status\": \"Completed\", \"run_type\": \"azureml.scriptrun\", \"training_percent\": \"100\", \"start_time\": \"2021-01-15T14:27:29.644495Z\", \"end_time\": \"2021-01-15T14:28:12.715477Z\", \"created_time\": \"2021-01-15T14:27:16.102386Z\", \"created_time_dt\": \"2021-01-15T14:27:16.102386Z\", \"duration\": \"0:00:56\", \"iteration\": \"8\", \"goal\": \"accuracy_max\", \"run_name\": \"RobustScaler, RandomForest\", \"run_properties\": \"copy=True, quantile_range=[10, 90], with_centering=True,\\n             with_scaling=True\", \"primary_metric\": 0.86185771, \"best_metric\": 0.8798419}, {\"run_id\": \"AutoML_0f6b24f8-c742-4dec-8fb8-606c34a7e53a_9\", \"run_number\": 14, \"metric\": null, \"status\": \"Completed\", \"run_type\": \"azureml.scriptrun\", \"training_percent\": \"100\", \"start_time\": \"2021-01-15T14:28:27.523581Z\", \"end_time\": \"2021-01-15T14:29:12.176016Z\", \"created_time\": \"2021-01-15T14:28:15.63482Z\", \"created_time_dt\": \"2021-01-15T14:28:15.63482Z\", \"duration\": \"0:00:56\", \"iteration\": \"9\", \"goal\": \"accuracy_max\", \"run_name\": \"SparseNormalizer, LightGBM\", \"run_properties\": \"<azureml.automl.runtime.shared.model_wrappers.SparseNormalizer object at 0x7f81999e3f98\", \"primary_metric\": 0.8215415, \"best_metric\": 0.8798419}, {\"run_id\": \"AutoML_0f6b24f8-c742-4dec-8fb8-606c34a7e53a_10\", \"run_number\": 15, \"metric\": null, \"status\": \"Completed\", \"run_type\": \"azureml.scriptrun\", \"training_percent\": \"100\", \"start_time\": \"2021-01-15T14:28:33.237712Z\", \"end_time\": \"2021-01-15T14:29:19.49447Z\", \"created_time\": \"2021-01-15T14:28:21.318054Z\", \"created_time_dt\": \"2021-01-15T14:28:21.318054Z\", \"duration\": \"0:00:58\", \"iteration\": \"10\", \"goal\": \"accuracy_max\", \"run_name\": \"SparseNormalizer, XGBoostClassifier\", \"run_properties\": \"<azureml.automl.runtime.shared.model_wrappers.SparseNormalizer object at 0x7fa5db21c780\", \"primary_metric\": 0.8486166, \"best_metric\": 0.8798419}, {\"run_id\": \"AutoML_0f6b24f8-c742-4dec-8fb8-606c34a7e53a_11\", \"run_number\": 16, \"metric\": null, \"status\": \"Completed\", \"run_type\": \"azureml.scriptrun\", \"training_percent\": \"100\", \"start_time\": \"2021-01-15T14:28:38.160321Z\", \"end_time\": \"2021-01-15T14:29:17.335506Z\", \"created_time\": \"2021-01-15T14:28:26.165398Z\", \"created_time_dt\": \"2021-01-15T14:28:26.165398Z\", \"duration\": \"0:00:51\", \"iteration\": \"11\", \"goal\": \"accuracy_max\", \"run_name\": \"SparseNormalizer, LightGBM\", \"run_properties\": \"<azureml.automl.runtime.shared.model_wrappers.SparseNormalizer object at 0x7f33cda3ffd0\", \"primary_metric\": 0.78063241, \"best_metric\": 0.8798419}, {\"run_id\": \"AutoML_0f6b24f8-c742-4dec-8fb8-606c34a7e53a_12\", \"run_number\": 17, \"metric\": null, \"status\": \"Completed\", \"run_type\": \"azureml.scriptrun\", \"training_percent\": \"100\", \"start_time\": \"2021-01-15T14:28:52.608082Z\", \"end_time\": \"2021-01-15T14:29:37.231804Z\", \"created_time\": \"2021-01-15T14:28:37.24039Z\", \"created_time_dt\": \"2021-01-15T14:28:37.24039Z\", \"duration\": \"0:00:59\", \"iteration\": \"12\", \"goal\": \"accuracy_max\", \"run_name\": \"StandardScalerWrapper, LightGBM\", \"run_properties\": \"<azureml.automl.runtime.shared.model_wrappers.StandardScalerWrapper object at 0x7f235c0fff98\", \"primary_metric\": 0.856917, \"best_metric\": 0.8798419}, {\"run_id\": \"AutoML_0f6b24f8-c742-4dec-8fb8-606c34a7e53a_13\", \"run_number\": 18, \"metric\": null, \"status\": \"Completed\", \"run_type\": \"azureml.scriptrun\", \"training_percent\": \"100\", \"start_time\": \"2021-01-15T14:29:25.487491Z\", \"end_time\": \"2021-01-15T14:30:10.172467Z\", \"created_time\": \"2021-01-15T14:29:14.561428Z\", \"created_time_dt\": \"2021-01-15T14:29:14.561428Z\", \"duration\": \"0:00:55\", \"iteration\": \"13\", \"goal\": \"accuracy_max\", \"run_name\": \"StandardScalerWrapper, ExtremeRandomTrees\", \"run_properties\": \"<azureml.automl.runtime.shared.model_wrappers.StandardScalerWrapper object at 0x7f15d0233d30\", \"primary_metric\": 0.77272727, \"best_metric\": 0.8798419}, {\"run_id\": \"AutoML_0f6b24f8-c742-4dec-8fb8-606c34a7e53a_14\", \"run_number\": 19, \"metric\": null, \"status\": \"Completed\", \"run_type\": \"azureml.scriptrun\", \"training_percent\": \"100\", \"start_time\": \"2021-01-15T14:29:32.060681Z\", \"end_time\": \"2021-01-15T14:30:21.264208Z\", \"created_time\": \"2021-01-15T14:29:19.598071Z\", \"created_time_dt\": \"2021-01-15T14:29:19.598071Z\", \"duration\": \"0:01:01\", \"iteration\": \"14\", \"goal\": \"accuracy_max\", \"run_name\": \"MaxAbsScaler, LightGBM\", \"run_properties\": \"copy=True\", \"primary_metric\": 0.84367589, \"best_metric\": 0.8798419}, {\"run_id\": \"AutoML_0f6b24f8-c742-4dec-8fb8-606c34a7e53a_15\", \"run_number\": 20, \"metric\": null, \"status\": \"Completed\", \"run_type\": \"azureml.scriptrun\", \"training_percent\": \"100\", \"start_time\": \"2021-01-15T14:29:37.156381Z\", \"end_time\": \"2021-01-15T14:30:25.625546Z\", \"created_time\": \"2021-01-15T14:29:24.277065Z\", \"created_time_dt\": \"2021-01-15T14:29:24.277065Z\", \"duration\": \"0:01:01\", \"iteration\": \"15\", \"goal\": \"accuracy_max\", \"run_name\": \"MinMaxScaler, LightGBM\", \"run_properties\": \"copy=True, feature_range=(0, 1\", \"primary_metric\": 0.83893281, \"best_metric\": 0.8798419}, {\"run_id\": \"AutoML_0f6b24f8-c742-4dec-8fb8-606c34a7e53a_16\", \"run_number\": 21, \"metric\": null, \"status\": \"Completed\", \"run_type\": \"azureml.scriptrun\", \"training_percent\": \"100\", \"start_time\": \"2021-01-15T14:29:50.621309Z\", \"end_time\": \"2021-01-15T14:30:29.660029Z\", \"created_time\": \"2021-01-15T14:29:39.710098Z\", \"created_time_dt\": \"2021-01-15T14:29:39.710098Z\", \"duration\": \"0:00:49\", \"iteration\": \"16\", \"goal\": \"accuracy_max\", \"run_name\": \"StandardScalerWrapper, LightGBM\", \"run_properties\": \"<azureml.automl.runtime.shared.model_wrappers.StandardScalerWrapper object at 0x7ff6241e2f98\", \"primary_metric\": 0.79071146, \"best_metric\": 0.8798419}, {\"run_id\": \"AutoML_0f6b24f8-c742-4dec-8fb8-606c34a7e53a_17\", \"run_number\": 22, \"metric\": null, \"status\": \"Completed\", \"run_type\": \"azureml.scriptrun\", \"training_percent\": \"100\", \"start_time\": \"2021-01-15T14:30:29.195947Z\", \"end_time\": \"2021-01-15T14:31:13.832206Z\", \"created_time\": \"2021-01-15T14:30:12.3539Z\", \"created_time_dt\": \"2021-01-15T14:30:12.3539Z\", \"duration\": \"0:01:01\", \"iteration\": \"17\", \"goal\": \"accuracy_max\", \"run_name\": \"StandardScalerWrapper, LightGBM\", \"run_properties\": \"<azureml.automl.runtime.shared.model_wrappers.StandardScalerWrapper object at 0x7f7598e6eef0\", \"primary_metric\": 0.83913043, \"best_metric\": 0.8798419}, {\"run_id\": \"AutoML_0f6b24f8-c742-4dec-8fb8-606c34a7e53a_18\", \"run_number\": 23, \"metric\": null, \"status\": \"Completed\", \"run_type\": \"azureml.scriptrun\", \"training_percent\": \"100\", \"start_time\": \"2021-01-15T14:30:41.541477Z\", \"end_time\": \"2021-01-15T14:31:24.280217Z\", \"created_time\": \"2021-01-15T14:30:23.452646Z\", \"created_time_dt\": \"2021-01-15T14:30:23.452646Z\", \"duration\": \"0:01:00\", \"iteration\": \"18\", \"goal\": \"accuracy_max\", \"run_name\": \"MaxAbsScaler, LightGBM\", \"run_properties\": \"copy=True\", \"primary_metric\": 0.87944664, \"best_metric\": 0.8798419}, {\"run_id\": \"AutoML_0f6b24f8-c742-4dec-8fb8-606c34a7e53a_19\", \"run_number\": 24, \"metric\": null, \"status\": \"Completed\", \"run_type\": \"azureml.scriptrun\", \"training_percent\": \"100\", \"start_time\": \"2021-01-15T14:31:43.00686Z\", \"end_time\": \"2021-01-15T14:33:19.397431Z\", \"created_time\": \"2021-01-15T14:31:25.888893Z\", \"created_time_dt\": \"2021-01-15T14:31:25.888893Z\", \"duration\": \"0:01:53\", \"iteration\": \"19\", \"goal\": \"accuracy_max\", \"run_name\": \"VotingEnsemble\", \"run_properties\": \"classification_labels=None,\\n                              estimators=[('2',\\n                                           Pipeline(memory=None,\\n                                                    steps=[('minmaxscaler',\\n                                                            MinMaxScaler(copy=True,\\n                                                                         feature_range=(0,\\n                                                                                        1\", \"primary_metric\": 0.90217391, \"best_metric\": 0.90217391}], \"children_metrics\": {\"categories\": [0], \"series\": {\"AUC_macro\": [{\"categories\": [\"0\", \"1\", \"2\", \"3\", \"4\", \"5\", \"6\", \"7\", \"8\", \"9\", \"10\", \"11\", \"12\", \"13\", \"14\", \"15\", \"16\", \"17\", \"18\", \"19\"], \"mode\": \"markers\", \"name\": \"AUC_macro\", \"stepped\": false, \"type\": \"scatter\", \"data\": [0.8853195630869427, 0.8947690351834738, 0.9226792601709046, 0.8913920857069254, 0.872887148131132, 0.8893855420426275, 0.8711883782438594, 0.7071625099499432, 0.8880379706449224, 0.8645860716081304, 0.8787077068059688, 0.8640790185008098, 0.9017315820691489, 0.8739965274624366, 0.910544023712473, 0.8905703858678458, 0.8529570652164236, 0.9009104965889725, 0.9171112666299834, 0.9136935405651982]}, {\"categories\": [\"0\", \"1\", \"2\", \"3\", \"4\", \"5\", \"6\", \"7\", \"8\", \"9\", \"10\", \"11\", \"12\", \"13\", \"14\", \"15\", \"16\", \"17\", \"18\", \"19\"], \"mode\": \"lines\", \"name\": \"AUC_macro_max\", \"stepped\": true, \"type\": \"scatter\", \"data\": [0.8853195630869427, 0.8947690351834738, 0.9226792601709046, 0.9226792601709046, 0.9226792601709046, 0.9226792601709046, 0.9226792601709046, 0.9226792601709046, 0.9226792601709046, 0.9226792601709046, 0.9226792601709046, 0.9226792601709046, 0.9226792601709046, 0.9226792601709046, 0.9226792601709046, 0.9226792601709046, 0.9226792601709046, 0.9226792601709046, 0.9226792601709046, 0.9226792601709046]}], \"f1_score_weighted\": [{\"categories\": [\"0\", \"1\", \"2\", \"3\", \"4\", \"5\", \"6\", \"7\", \"8\", \"9\", \"10\", \"11\", \"12\", \"13\", \"14\", \"15\", \"16\", \"17\", \"18\", \"19\"], \"mode\": \"markers\", \"name\": \"f1_score_weighted\", \"stepped\": false, \"type\": \"scatter\", \"data\": [0.8481762608424044, 0.8609210433845315, 0.8737407936058611, 0.8693459378939448, 0.8749667612192178, 0.8427784899991126, 0.8332735809329564, 0.6777876997558276, 0.851558994038478, 0.8090088628833534, 0.8394039140778272, 0.7386600934748797, 0.8471156207353246, 0.7120263163251686, 0.8332457658991099, 0.8208852597232973, 0.757235331343624, 0.8223903030086701, 0.8715094502051024, 0.8965596381638361]}, {\"categories\": [\"0\", \"1\", \"2\", \"3\", \"4\", \"5\", \"6\", \"7\", \"8\", \"9\", \"10\", \"11\", \"12\", \"13\", \"14\", \"15\", \"16\", \"17\", \"18\", \"19\"], \"mode\": \"lines\", \"name\": \"f1_score_weighted_max\", \"stepped\": true, \"type\": \"scatter\", \"data\": [0.8481762608424044, 0.8609210433845315, 0.8737407936058611, 0.8737407936058611, 0.8749667612192178, 0.8749667612192178, 0.8749667612192178, 0.8749667612192178, 0.8749667612192178, 0.8749667612192178, 0.8749667612192178, 0.8749667612192178, 0.8749667612192178, 0.8749667612192178, 0.8749667612192178, 0.8749667612192178, 0.8749667612192178, 0.8749667612192178, 0.8749667612192178, 0.8965596381638361]}], \"recall_score_macro\": [{\"categories\": [\"0\", \"1\", \"2\", \"3\", \"4\", \"5\", \"6\", \"7\", \"8\", \"9\", \"10\", \"11\", \"12\", \"13\", \"14\", \"15\", \"16\", \"17\", \"18\", \"19\"], \"mode\": \"markers\", \"name\": \"recall_score_macro\", \"stepped\": false, \"type\": \"scatter\", \"data\": [0.8014198464933759, 0.8319130134571312, 0.8344794870162516, 0.8304679430047077, 0.8501892919172331, 0.8146744799318328, 0.7828339103706751, 0.5804567246479011, 0.8065186569965981, 0.7614486289853937, 0.7968687440010969, 0.6549442714148596, 0.8007955116778647, 0.6198247177658942, 0.773822366359131, 0.7548458077869842, 0.6721903382565146, 0.7590474884592531, 0.8284693860061507, 0.8612471637839285]}, {\"categories\": [\"0\", \"1\", \"2\", \"3\", \"4\", \"5\", \"6\", \"7\", \"8\", \"9\", \"10\", \"11\", \"12\", \"13\", \"14\", \"15\", \"16\", \"17\", \"18\", \"19\"], \"mode\": \"lines\", \"name\": \"recall_score_macro_max\", \"stepped\": true, \"type\": \"scatter\", \"data\": [0.8014198464933759, 0.8319130134571312, 0.8344794870162516, 0.8344794870162516, 0.8501892919172331, 0.8501892919172331, 0.8501892919172331, 0.8501892919172331, 0.8501892919172331, 0.8501892919172331, 0.8501892919172331, 0.8501892919172331, 0.8501892919172331, 0.8501892919172331, 0.8501892919172331, 0.8501892919172331, 0.8501892919172331, 0.8501892919172331, 0.8501892919172331, 0.8612471637839285]}], \"weighted_accuracy\": [{\"categories\": [\"0\", \"1\", \"2\", \"3\", \"4\", \"5\", \"6\", \"7\", \"8\", \"9\", \"10\", \"11\", \"12\", \"13\", \"14\", \"15\", \"16\", \"17\", \"18\", \"19\"], \"mode\": \"markers\", \"name\": \"weighted_accuracy\", \"stepped\": false, \"type\": \"scatter\", \"data\": [0.8860621875676294, 0.8817413506655793, 0.9093601595969331, 0.9038317383336743, 0.8907465026397444, 0.8612167100537451, 0.8821809424625766, 0.812479694235795, 0.8963488239568445, 0.8598597733251294, 0.8808655969708301, 0.859433677066912, 0.8932446982179758, 0.8693772686815453, 0.8865277029215985, 0.8922840905576983, 0.8629986661933412, 0.8896080658524765, 0.9117642057719267, 0.9281093611117506]}, {\"categories\": [\"0\", \"1\", \"2\", \"3\", \"4\", \"5\", \"6\", \"7\", \"8\", \"9\", \"10\", \"11\", \"12\", \"13\", \"14\", \"15\", \"16\", \"17\", \"18\", \"19\"], \"mode\": \"lines\", \"name\": \"weighted_accuracy_max\", \"stepped\": true, \"type\": \"scatter\", \"data\": [0.8860621875676294, 0.8860621875676294, 0.9093601595969331, 0.9093601595969331, 0.9093601595969331, 0.9093601595969331, 0.9093601595969331, 0.9093601595969331, 0.9093601595969331, 0.9093601595969331, 0.9093601595969331, 0.9093601595969331, 0.9093601595969331, 0.9093601595969331, 0.9093601595969331, 0.9093601595969331, 0.9093601595969331, 0.9093601595969331, 0.9117642057719267, 0.9281093611117506]}], \"accuracy\": [{\"categories\": [\"0\", \"1\", \"2\", \"3\", \"4\", \"5\", \"6\", \"7\", \"8\", \"9\", \"10\", \"11\", \"12\", \"13\", \"14\", \"15\", \"16\", \"17\", \"18\", \"19\"], \"mode\": \"markers\", \"name\": \"accuracy\", \"stepped\": false, \"type\": \"scatter\", \"data\": [0.8531620553359683, 0.8618577075098814, 0.8798418972332016, 0.8752964426877471, 0.875691699604743, 0.8438735177865613, 0.8442687747035572, 0.7233201581027668, 0.8618577075098814, 0.8215415019762844, 0.8486166007905138, 0.7806324110671937, 0.8569169960474309, 0.7727272727272727, 0.8436758893280631, 0.8389328063241107, 0.7907114624505928, 0.8391304347826087, 0.8794466403162055, 0.9021739130434782]}, {\"categories\": [\"0\", \"1\", \"2\", \"3\", \"4\", \"5\", \"6\", \"7\", \"8\", \"9\", \"10\", \"11\", \"12\", \"13\", \"14\", \"15\", \"16\", \"17\", \"18\", \"19\"], \"mode\": \"lines\", \"name\": \"accuracy_max\", \"stepped\": true, \"type\": \"scatter\", \"data\": [0.8531620553359683, 0.8618577075098814, 0.8798418972332016, 0.8798418972332016, 0.8798418972332016, 0.8798418972332016, 0.8798418972332016, 0.8798418972332016, 0.8798418972332016, 0.8798418972332016, 0.8798418972332016, 0.8798418972332016, 0.8798418972332016, 0.8798418972332016, 0.8798418972332016, 0.8798418972332016, 0.8798418972332016, 0.8798418972332016, 0.8798418972332016, 0.9021739130434782]}], \"recall_score_weighted\": [{\"categories\": [\"0\", \"1\", \"2\", \"3\", \"4\", \"5\", \"6\", \"7\", \"8\", \"9\", \"10\", \"11\", \"12\", \"13\", \"14\", \"15\", \"16\", \"17\", \"18\", \"19\"], \"mode\": \"markers\", \"name\": \"recall_score_weighted\", \"stepped\": false, \"type\": \"scatter\", \"data\": [0.8531620553359683, 0.8618577075098814, 0.8798418972332016, 0.8752964426877471, 0.875691699604743, 0.8438735177865613, 0.8442687747035572, 0.7233201581027668, 0.8618577075098814, 0.8215415019762844, 0.8486166007905138, 0.7806324110671937, 0.8569169960474309, 0.7727272727272727, 0.8436758893280631, 0.8389328063241107, 0.7907114624505928, 0.8391304347826087, 0.8794466403162055, 0.9021739130434782]}, {\"categories\": [\"0\", \"1\", \"2\", \"3\", \"4\", \"5\", \"6\", \"7\", \"8\", \"9\", \"10\", \"11\", \"12\", \"13\", \"14\", \"15\", \"16\", \"17\", \"18\", \"19\"], \"mode\": \"lines\", \"name\": \"recall_score_weighted_max\", \"stepped\": true, \"type\": \"scatter\", \"data\": [0.8531620553359683, 0.8618577075098814, 0.8798418972332016, 0.8798418972332016, 0.8798418972332016, 0.8798418972332016, 0.8798418972332016, 0.8798418972332016, 0.8798418972332016, 0.8798418972332016, 0.8798418972332016, 0.8798418972332016, 0.8798418972332016, 0.8798418972332016, 0.8798418972332016, 0.8798418972332016, 0.8798418972332016, 0.8798418972332016, 0.8798418972332016, 0.9021739130434782]}], \"precision_score_micro\": [{\"categories\": [\"0\", \"1\", \"2\", \"3\", \"4\", \"5\", \"6\", \"7\", \"8\", \"9\", \"10\", \"11\", \"12\", \"13\", \"14\", \"15\", \"16\", \"17\", \"18\", \"19\"], \"mode\": \"markers\", \"name\": \"precision_score_micro\", \"stepped\": false, \"type\": \"scatter\", \"data\": [0.8531620553359683, 0.8618577075098814, 0.8798418972332016, 0.8752964426877471, 0.875691699604743, 0.8438735177865613, 0.8442687747035572, 0.7233201581027668, 0.8618577075098814, 0.8215415019762844, 0.8486166007905138, 0.7806324110671937, 0.8569169960474309, 0.7727272727272727, 0.8436758893280631, 0.8389328063241107, 0.7907114624505928, 0.8391304347826087, 0.8794466403162055, 0.9021739130434782]}, {\"categories\": [\"0\", \"1\", \"2\", \"3\", \"4\", \"5\", \"6\", \"7\", \"8\", \"9\", \"10\", \"11\", \"12\", \"13\", \"14\", \"15\", \"16\", \"17\", \"18\", \"19\"], \"mode\": \"lines\", \"name\": \"precision_score_micro_max\", \"stepped\": true, \"type\": \"scatter\", \"data\": [0.8531620553359683, 0.8618577075098814, 0.8798418972332016, 0.8798418972332016, 0.8798418972332016, 0.8798418972332016, 0.8798418972332016, 0.8798418972332016, 0.8798418972332016, 0.8798418972332016, 0.8798418972332016, 0.8798418972332016, 0.8798418972332016, 0.8798418972332016, 0.8798418972332016, 0.8798418972332016, 0.8798418972332016, 0.8798418972332016, 0.8798418972332016, 0.9021739130434782]}], \"average_precision_score_weighted\": [{\"categories\": [\"0\", \"1\", \"2\", \"3\", \"4\", \"5\", \"6\", \"7\", \"8\", \"9\", \"10\", \"11\", \"12\", \"13\", \"14\", \"15\", \"16\", \"17\", \"18\", \"19\"], \"mode\": \"markers\", \"name\": \"average_precision_score_weighted\", \"stepped\": false, \"type\": \"scatter\", \"data\": [0.9076190007520264, 0.9167718856370592, 0.9423250297588732, 0.9090167694720701, 0.9009923726185187, 0.9142767323208913, 0.9006490307263613, 0.7818979857547104, 0.9038809794274616, 0.8981100574578147, 0.9022102846845257, 0.8906272170974937, 0.9241252046660902, 0.90307576494818, 0.9287026783032379, 0.9171780837909125, 0.8918272479993592, 0.924489364234344, 0.9367777729324998, 0.9329526651243603]}, {\"categories\": [\"0\", \"1\", \"2\", \"3\", \"4\", \"5\", \"6\", \"7\", \"8\", \"9\", \"10\", \"11\", \"12\", \"13\", \"14\", \"15\", \"16\", \"17\", \"18\", \"19\"], \"mode\": \"lines\", \"name\": \"average_precision_score_weighted_max\", \"stepped\": true, \"type\": \"scatter\", \"data\": [0.9076190007520264, 0.9167718856370592, 0.9423250297588732, 0.9423250297588732, 0.9423250297588732, 0.9423250297588732, 0.9423250297588732, 0.9423250297588732, 0.9423250297588732, 0.9423250297588732, 0.9423250297588732, 0.9423250297588732, 0.9423250297588732, 0.9423250297588732, 0.9423250297588732, 0.9423250297588732, 0.9423250297588732, 0.9423250297588732, 0.9423250297588732, 0.9423250297588732]}], \"balanced_accuracy\": [{\"categories\": [\"0\", \"1\", \"2\", \"3\", \"4\", \"5\", \"6\", \"7\", \"8\", \"9\", \"10\", \"11\", \"12\", \"13\", \"14\", \"15\", \"16\", \"17\", \"18\", \"19\"], \"mode\": \"markers\", \"name\": \"balanced_accuracy\", \"stepped\": false, \"type\": \"scatter\", \"data\": [0.8014198464933759, 0.8319130134571312, 0.8344794870162516, 0.8304679430047077, 0.8501892919172331, 0.8146744799318328, 0.7828339103706751, 0.5804567246479011, 0.8065186569965981, 0.7614486289853937, 0.7968687440010969, 0.6549442714148596, 0.8007955116778647, 0.6198247177658942, 0.773822366359131, 0.7548458077869842, 0.6721903382565146, 0.7590474884592531, 0.8284693860061507, 0.8612471637839285]}, {\"categories\": [\"0\", \"1\", \"2\", \"3\", \"4\", \"5\", \"6\", \"7\", \"8\", \"9\", \"10\", \"11\", \"12\", \"13\", \"14\", \"15\", \"16\", \"17\", \"18\", \"19\"], \"mode\": \"lines\", \"name\": \"balanced_accuracy_max\", \"stepped\": true, \"type\": \"scatter\", \"data\": [0.8014198464933759, 0.8319130134571312, 0.8344794870162516, 0.8344794870162516, 0.8501892919172331, 0.8501892919172331, 0.8501892919172331, 0.8501892919172331, 0.8501892919172331, 0.8501892919172331, 0.8501892919172331, 0.8501892919172331, 0.8501892919172331, 0.8501892919172331, 0.8501892919172331, 0.8501892919172331, 0.8501892919172331, 0.8501892919172331, 0.8501892919172331, 0.8612471637839285]}], \"recall_score_micro\": [{\"categories\": [\"0\", \"1\", \"2\", \"3\", \"4\", \"5\", \"6\", \"7\", \"8\", \"9\", \"10\", \"11\", \"12\", \"13\", \"14\", \"15\", \"16\", \"17\", \"18\", \"19\"], \"mode\": \"markers\", \"name\": \"recall_score_micro\", \"stepped\": false, \"type\": \"scatter\", \"data\": [0.8531620553359683, 0.8618577075098814, 0.8798418972332016, 0.8752964426877471, 0.875691699604743, 0.8438735177865613, 0.8442687747035572, 0.7233201581027668, 0.8618577075098814, 0.8215415019762844, 0.8486166007905138, 0.7806324110671937, 0.8569169960474309, 0.7727272727272727, 0.8436758893280631, 0.8389328063241107, 0.7907114624505928, 0.8391304347826087, 0.8794466403162055, 0.9021739130434782]}, {\"categories\": [\"0\", \"1\", \"2\", \"3\", \"4\", \"5\", \"6\", \"7\", \"8\", \"9\", \"10\", \"11\", \"12\", \"13\", \"14\", \"15\", \"16\", \"17\", \"18\", \"19\"], \"mode\": \"lines\", \"name\": \"recall_score_micro_max\", \"stepped\": true, \"type\": \"scatter\", \"data\": [0.8531620553359683, 0.8618577075098814, 0.8798418972332016, 0.8798418972332016, 0.8798418972332016, 0.8798418972332016, 0.8798418972332016, 0.8798418972332016, 0.8798418972332016, 0.8798418972332016, 0.8798418972332016, 0.8798418972332016, 0.8798418972332016, 0.8798418972332016, 0.8798418972332016, 0.8798418972332016, 0.8798418972332016, 0.8798418972332016, 0.8798418972332016, 0.9021739130434782]}], \"f1_score_micro\": [{\"categories\": [\"0\", \"1\", \"2\", \"3\", \"4\", \"5\", \"6\", \"7\", \"8\", \"9\", \"10\", \"11\", \"12\", \"13\", \"14\", \"15\", \"16\", \"17\", \"18\", \"19\"], \"mode\": \"markers\", \"name\": \"f1_score_micro\", \"stepped\": false, \"type\": \"scatter\", \"data\": [0.8531620553359683, 0.8618577075098814, 0.8798418972332016, 0.8752964426877471, 0.875691699604743, 0.8438735177865613, 0.8442687747035572, 0.7233201581027668, 0.8618577075098814, 0.8215415019762844, 0.8486166007905138, 0.7806324110671937, 0.8569169960474309, 0.7727272727272727, 0.8436758893280631, 0.8389328063241107, 0.7907114624505928, 0.8391304347826087, 0.8794466403162055, 0.9021739130434782]}, {\"categories\": [\"0\", \"1\", \"2\", \"3\", \"4\", \"5\", \"6\", \"7\", \"8\", \"9\", \"10\", \"11\", \"12\", \"13\", \"14\", \"15\", \"16\", \"17\", \"18\", \"19\"], \"mode\": \"lines\", \"name\": \"f1_score_micro_max\", \"stepped\": true, \"type\": \"scatter\", \"data\": [0.8531620553359683, 0.8618577075098814, 0.8798418972332016, 0.8798418972332016, 0.8798418972332016, 0.8798418972332016, 0.8798418972332016, 0.8798418972332016, 0.8798418972332016, 0.8798418972332016, 0.8798418972332016, 0.8798418972332016, 0.8798418972332016, 0.8798418972332016, 0.8798418972332016, 0.8798418972332016, 0.8798418972332016, 0.8798418972332016, 0.8798418972332016, 0.9021739130434782]}], \"average_precision_score_macro\": [{\"categories\": [\"0\", \"1\", \"2\", \"3\", \"4\", \"5\", \"6\", \"7\", \"8\", \"9\", \"10\", \"11\", \"12\", \"13\", \"14\", \"15\", \"16\", \"17\", \"18\", \"19\"], \"mode\": \"markers\", \"name\": \"average_precision_score_macro\", \"stepped\": false, \"type\": \"scatter\", \"data\": [0.8731686941203674, 0.8856954927565704, 0.9228300557860715, 0.8801914972368872, 0.8720642255922655, 0.8835038866938032, 0.8646594647656635, 0.7283187779584568, 0.8731050103107199, 0.8644467646543325, 0.8676785127517836, 0.8563895057101991, 0.8956121736291202, 0.8657585122652998, 0.9010961679069627, 0.8884194426986154, 0.8469167442450735, 0.8959398696108177, 0.9146209698187795, 0.9099145117143029]}, {\"categories\": [\"0\", \"1\", \"2\", \"3\", \"4\", \"5\", \"6\", \"7\", \"8\", \"9\", \"10\", \"11\", \"12\", \"13\", \"14\", \"15\", \"16\", \"17\", \"18\", \"19\"], \"mode\": \"lines\", \"name\": \"average_precision_score_macro_max\", \"stepped\": true, \"type\": \"scatter\", \"data\": [0.8731686941203674, 0.8856954927565704, 0.9228300557860715, 0.9228300557860715, 0.9228300557860715, 0.9228300557860715, 0.9228300557860715, 0.9228300557860715, 0.9228300557860715, 0.9228300557860715, 0.9228300557860715, 0.9228300557860715, 0.9228300557860715, 0.9228300557860715, 0.9228300557860715, 0.9228300557860715, 0.9228300557860715, 0.9228300557860715, 0.9228300557860715, 0.9228300557860715]}], \"log_loss\": [{\"categories\": [\"0\", \"1\", \"2\", \"3\", \"4\", \"5\", \"6\", \"7\", \"8\", \"9\", \"10\", \"11\", \"12\", \"13\", \"14\", \"15\", \"16\", \"17\", \"18\", \"19\"], \"mode\": \"markers\", \"name\": \"log_loss\", \"stepped\": false, \"type\": \"scatter\", \"data\": [0.5048419807340847, 0.4181528380937786, 0.35450092475845596, 0.3888789654423621, 0.3893284816408738, 0.5523536616580718, 0.3903716582238538, 0.5720326781579834, 0.9053307622338972, 0.3946510463156191, 0.3995242119627419, 0.4725894152034075, 0.36251480092434285, 0.47597015334153425, 0.401568220801222, 0.4063670998005978, 0.4777031069706178, 0.3940005586775774, 0.3392079979224385, 0.3681620550791397]}, {\"categories\": [\"0\", \"1\", \"2\", \"3\", \"4\", \"5\", \"6\", \"7\", \"8\", \"9\", \"10\", \"11\", \"12\", \"13\", \"14\", \"15\", \"16\", \"17\", \"18\", \"19\"], \"mode\": \"lines\", \"name\": \"log_loss_min\", \"stepped\": true, \"type\": \"scatter\", \"data\": [0.5048419807340847, 0.4181528380937786, 0.35450092475845596, 0.35450092475845596, 0.35450092475845596, 0.35450092475845596, 0.35450092475845596, 0.35450092475845596, 0.35450092475845596, 0.35450092475845596, 0.35450092475845596, 0.35450092475845596, 0.35450092475845596, 0.35450092475845596, 0.35450092475845596, 0.35450092475845596, 0.35450092475845596, 0.35450092475845596, 0.3392079979224385, 0.3392079979224385]}], \"average_precision_score_micro\": [{\"categories\": [\"0\", \"1\", \"2\", \"3\", \"4\", \"5\", \"6\", \"7\", \"8\", \"9\", \"10\", \"11\", \"12\", \"13\", \"14\", \"15\", \"16\", \"17\", \"18\", \"19\"], \"mode\": \"markers\", \"name\": \"average_precision_score_micro\", \"stepped\": false, \"type\": \"scatter\", \"data\": [0.9115438111918351, 0.9180692008188507, 0.9399440830966718, 0.9204019646556001, 0.9057760412057874, 0.9236566443903778, 0.906931581544756, 0.7841984118049712, 0.9046427950265894, 0.9033841755453462, 0.9108397227614322, 0.8764263607235006, 0.9282243459295085, 0.8843578547164583, 0.9283303414194769, 0.9135623474505172, 0.8825582306563604, 0.9233471944530793, 0.9369290479611724, 0.9381393483274991]}, {\"categories\": [\"0\", \"1\", \"2\", \"3\", \"4\", \"5\", \"6\", \"7\", \"8\", \"9\", \"10\", \"11\", \"12\", \"13\", \"14\", \"15\", \"16\", \"17\", \"18\", \"19\"], \"mode\": \"lines\", \"name\": \"average_precision_score_micro_max\", \"stepped\": true, \"type\": \"scatter\", \"data\": [0.9115438111918351, 0.9180692008188507, 0.9399440830966718, 0.9399440830966718, 0.9399440830966718, 0.9399440830966718, 0.9399440830966718, 0.9399440830966718, 0.9399440830966718, 0.9399440830966718, 0.9399440830966718, 0.9399440830966718, 0.9399440830966718, 0.9399440830966718, 0.9399440830966718, 0.9399440830966718, 0.9399440830966718, 0.9399440830966718, 0.9399440830966718, 0.9399440830966718]}], \"norm_macro_recall\": [{\"categories\": [\"0\", \"1\", \"2\", \"3\", \"4\", \"5\", \"6\", \"7\", \"8\", \"9\", \"10\", \"11\", \"12\", \"13\", \"14\", \"15\", \"16\", \"17\", \"18\", \"19\"], \"mode\": \"markers\", \"name\": \"norm_macro_recall\", \"stepped\": false, \"type\": \"scatter\", \"data\": [0.6028396929867518, 0.6638260269142623, 0.6689589740325034, 0.6609358860094156, 0.7003785838344662, 0.6293489598636659, 0.5656678207413501, 0.16646900485135774, 0.6130373139931964, 0.5228972579707873, 0.5937374880021938, 0.3098885428297193, 0.6015910233557293, 0.23964943553178847, 0.5476447327182621, 0.5096916155739686, 0.34438067651302945, 0.5180949769185064, 0.6569387720123014, 0.722494327567857]}, {\"categories\": [\"0\", \"1\", \"2\", \"3\", \"4\", \"5\", \"6\", \"7\", \"8\", \"9\", \"10\", \"11\", \"12\", \"13\", \"14\", \"15\", \"16\", \"17\", \"18\", \"19\"], \"mode\": \"lines\", \"name\": \"norm_macro_recall_max\", \"stepped\": true, \"type\": \"scatter\", \"data\": [0.6028396929867518, 0.6638260269142623, 0.6689589740325034, 0.6689589740325034, 0.7003785838344662, 0.7003785838344662, 0.7003785838344662, 0.7003785838344662, 0.7003785838344662, 0.7003785838344662, 0.7003785838344662, 0.7003785838344662, 0.7003785838344662, 0.7003785838344662, 0.7003785838344662, 0.7003785838344662, 0.7003785838344662, 0.7003785838344662, 0.7003785838344662, 0.722494327567857]}], \"precision_score_weighted\": [{\"categories\": [\"0\", \"1\", \"2\", \"3\", \"4\", \"5\", \"6\", \"7\", \"8\", \"9\", \"10\", \"11\", \"12\", \"13\", \"14\", \"15\", \"16\", \"17\", \"18\", \"19\"], \"mode\": \"markers\", \"name\": \"precision_score_weighted\", \"stepped\": false, \"type\": \"scatter\", \"data\": [0.8596929308614092, 0.8730198437463883, 0.8841537143253391, 0.8797446264661737, 0.8884702445891705, 0.8525998315185959, 0.85284515827422, 0.6829435313865571, 0.8705608883869754, 0.8412523966221699, 0.8474337339497522, 0.7928407773836316, 0.8702633126789305, 0.739932669657405, 0.8580694943881442, 0.8592687036849271, 0.7923160772556356, 0.8595555547300398, 0.885659848986508, 0.9079351540907605]}, {\"categories\": [\"0\", \"1\", \"2\", \"3\", \"4\", \"5\", \"6\", \"7\", \"8\", \"9\", \"10\", \"11\", \"12\", \"13\", \"14\", \"15\", \"16\", \"17\", \"18\", \"19\"], \"mode\": \"lines\", \"name\": \"precision_score_weighted_max\", \"stepped\": true, \"type\": \"scatter\", \"data\": [0.8596929308614092, 0.8730198437463883, 0.8841537143253391, 0.8841537143253391, 0.8884702445891705, 0.8884702445891705, 0.8884702445891705, 0.8884702445891705, 0.8884702445891705, 0.8884702445891705, 0.8884702445891705, 0.8884702445891705, 0.8884702445891705, 0.8884702445891705, 0.8884702445891705, 0.8884702445891705, 0.8884702445891705, 0.8884702445891705, 0.8884702445891705, 0.9079351540907605]}], \"AUC_micro\": [{\"categories\": [\"0\", \"1\", \"2\", \"3\", \"4\", \"5\", \"6\", \"7\", \"8\", \"9\", \"10\", \"11\", \"12\", \"13\", \"14\", \"15\", \"16\", \"17\", \"18\", \"19\"], \"mode\": \"markers\", \"name\": \"AUC_micro\", \"stepped\": false, \"type\": \"scatter\", \"data\": [0.9101747410520395, 0.9187032292333891, 0.9348872814760425, 0.9180572263275476, 0.9104996953553407, 0.9227913262197504, 0.9018927025886985, 0.7914920167476447, 0.9131157337249449, 0.9005870268243527, 0.9099946882469652, 0.8697401927853896, 0.9236841694136763, 0.8777671889890485, 0.9218246652814448, 0.9064955709353372, 0.8730901123279539, 0.916281304191598, 0.9347665953225329, 0.9345775594057084]}, {\"categories\": [\"0\", \"1\", \"2\", \"3\", \"4\", \"5\", \"6\", \"7\", \"8\", \"9\", \"10\", \"11\", \"12\", \"13\", \"14\", \"15\", \"16\", \"17\", \"18\", \"19\"], \"mode\": \"lines\", \"name\": \"AUC_micro_max\", \"stepped\": true, \"type\": \"scatter\", \"data\": [0.9101747410520395, 0.9187032292333891, 0.9348872814760425, 0.9348872814760425, 0.9348872814760425, 0.9348872814760425, 0.9348872814760425, 0.9348872814760425, 0.9348872814760425, 0.9348872814760425, 0.9348872814760425, 0.9348872814760425, 0.9348872814760425, 0.9348872814760425, 0.9348872814760425, 0.9348872814760425, 0.9348872814760425, 0.9348872814760425, 0.9348872814760425, 0.9348872814760425]}], \"matthews_correlation\": [{\"categories\": [\"0\", \"1\", \"2\", \"3\", \"4\", \"5\", \"6\", \"7\", \"8\", \"9\", \"10\", \"11\", \"12\", \"13\", \"14\", \"15\", \"16\", \"17\", \"18\", \"19\"], \"mode\": \"markers\", \"name\": \"matthews_correlation\", \"stepped\": false, \"type\": \"scatter\", \"data\": [0.634376603448959, 0.6712028770737757, 0.7040333874004009, 0.6946649250694045, 0.7080649616509126, 0.6235546782572776, 0.6112252001786544, 0.20926914324153892, 0.6466187042871319, 0.5640761758303404, 0.6091736819993978, 0.42489380486698647, 0.6502439500987963, 0.32537184071772646, 0.6226129712560915, 0.6011833259274881, 0.42830631536935526, 0.6031492706794264, 0.699143957025513, 0.758838088161985]}, {\"categories\": [\"0\", \"1\", \"2\", \"3\", \"4\", \"5\", \"6\", \"7\", \"8\", \"9\", \"10\", \"11\", \"12\", \"13\", \"14\", \"15\", \"16\", \"17\", \"18\", \"19\"], \"mode\": \"lines\", \"name\": \"matthews_correlation_max\", \"stepped\": true, \"type\": \"scatter\", \"data\": [0.634376603448959, 0.6712028770737757, 0.7040333874004009, 0.7040333874004009, 0.7080649616509126, 0.7080649616509126, 0.7080649616509126, 0.7080649616509126, 0.7080649616509126, 0.7080649616509126, 0.7080649616509126, 0.7080649616509126, 0.7080649616509126, 0.7080649616509126, 0.7080649616509126, 0.7080649616509126, 0.7080649616509126, 0.7080649616509126, 0.7080649616509126, 0.758838088161985]}], \"AUC_weighted\": [{\"categories\": [\"0\", \"1\", \"2\", \"3\", \"4\", \"5\", \"6\", \"7\", \"8\", \"9\", \"10\", \"11\", \"12\", \"13\", \"14\", \"15\", \"16\", \"17\", \"18\", \"19\"], \"mode\": \"markers\", \"name\": \"AUC_weighted\", \"stepped\": false, \"type\": \"scatter\", \"data\": [0.8853195630869427, 0.8947690351834738, 0.9225919154504076, 0.8913920857069254, 0.8728871481311321, 0.8893855420426275, 0.8711883782438594, 0.7071625099499432, 0.8880379706449224, 0.8645860716081304, 0.8787077068059688, 0.86407901850081, 0.9017315820691488, 0.8739965274624366, 0.910544023712473, 0.8905703858678459, 0.8529570652164236, 0.9009104965889725, 0.9171112666299832, 0.9136935405651985]}, {\"categories\": [\"0\", \"1\", \"2\", \"3\", \"4\", \"5\", \"6\", \"7\", \"8\", \"9\", \"10\", \"11\", \"12\", \"13\", \"14\", \"15\", \"16\", \"17\", \"18\", \"19\"], \"mode\": \"lines\", \"name\": \"AUC_weighted_max\", \"stepped\": true, \"type\": \"scatter\", \"data\": [0.8853195630869427, 0.8947690351834738, 0.9225919154504076, 0.9225919154504076, 0.9225919154504076, 0.9225919154504076, 0.9225919154504076, 0.9225919154504076, 0.9225919154504076, 0.9225919154504076, 0.9225919154504076, 0.9225919154504076, 0.9225919154504076, 0.9225919154504076, 0.9225919154504076, 0.9225919154504076, 0.9225919154504076, 0.9225919154504076, 0.9225919154504076, 0.9225919154504076]}], \"precision_score_macro\": [{\"categories\": [\"0\", \"1\", \"2\", \"3\", \"4\", \"5\", \"6\", \"7\", \"8\", \"9\", \"10\", \"11\", \"12\", \"13\", \"14\", \"15\", \"16\", \"17\", \"18\", \"19\"], \"mode\": \"markers\", \"name\": \"precision_score_macro\", \"stepped\": false, \"type\": \"scatter\", \"data\": [0.8400465792377556, 0.8429260651629071, 0.8749138945849472, 0.8702525048480931, 0.8614923148746678, 0.8112943014587751, 0.8383708469892681, 0.6223804302422723, 0.8541435933347697, 0.8204145306447937, 0.815832931688195, 0.7927460697197539, 0.8617653508771929, 0.6970891320955259, 0.860438596491228, 0.8693698400412796, 0.764995096436744, 0.8665423976608186, 0.8782815612749824, 0.9033207216759847]}, {\"categories\": [\"0\", \"1\", \"2\", \"3\", \"4\", \"5\", \"6\", \"7\", \"8\", \"9\", \"10\", \"11\", \"12\", \"13\", \"14\", \"15\", \"16\", \"17\", \"18\", \"19\"], \"mode\": \"lines\", \"name\": \"precision_score_macro_max\", \"stepped\": true, \"type\": \"scatter\", \"data\": [0.8400465792377556, 0.8429260651629071, 0.8749138945849472, 0.8749138945849472, 0.8749138945849472, 0.8749138945849472, 0.8749138945849472, 0.8749138945849472, 0.8749138945849472, 0.8749138945849472, 0.8749138945849472, 0.8749138945849472, 0.8749138945849472, 0.8749138945849472, 0.8749138945849472, 0.8749138945849472, 0.8749138945849472, 0.8749138945849472, 0.8782815612749824, 0.9033207216759847]}], \"f1_score_macro\": [{\"categories\": [\"0\", \"1\", \"2\", \"3\", \"4\", \"5\", \"6\", \"7\", \"8\", \"9\", \"10\", \"11\", \"12\", \"13\", \"14\", \"15\", \"16\", \"17\", \"18\", \"19\"], \"mode\": \"markers\", \"name\": \"f1_score_macro\", \"stepped\": false, \"type\": \"scatter\", \"data\": [0.8070023547176781, 0.8274259051652517, 0.8419460233253337, 0.8371952413734132, 0.8449120902205435, 0.8049600276357406, 0.7870927339325172, 0.5683125004959637, 0.8063375022226342, 0.7567751985882623, 0.7941314803814804, 0.653777689461051, 0.8061755453475252, 0.5979219431038788, 0.7900910668024669, 0.7682830264742162, 0.6713569110822226, 0.7707974542507409, 0.8364204205508553, 0.8688648981246432]}, {\"categories\": [\"0\", \"1\", \"2\", \"3\", \"4\", \"5\", \"6\", \"7\", \"8\", \"9\", \"10\", \"11\", \"12\", \"13\", \"14\", \"15\", \"16\", \"17\", \"18\", \"19\"], \"mode\": \"lines\", \"name\": \"f1_score_macro_max\", \"stepped\": true, \"type\": \"scatter\", \"data\": [0.8070023547176781, 0.8274259051652517, 0.8419460233253337, 0.8419460233253337, 0.8449120902205435, 0.8449120902205435, 0.8449120902205435, 0.8449120902205435, 0.8449120902205435, 0.8449120902205435, 0.8449120902205435, 0.8449120902205435, 0.8449120902205435, 0.8449120902205435, 0.8449120902205435, 0.8449120902205435, 0.8449120902205435, 0.8449120902205435, 0.8449120902205435, 0.8688648981246432]}]}, \"metricName\": null, \"primaryMetricName\": \"accuracy\", \"showLegend\": false}, \"run_metrics\": [{\"name\": \"experiment_status\", \"run_id\": \"AutoML_0f6b24f8-c742-4dec-8fb8-606c34a7e53a\", \"categories\": [0, 1, 2, 3, 4, 5, 6, 7, 8, 9, 10, 11, 12, 13], \"series\": [{\"data\": [\"DatasetEvaluation\", \"FeaturesGeneration\", \"DatasetFeaturization\", \"DatasetFeaturizationCompleted\", \"DatasetCrossValidationSplit\", \"ModelSelection\", \"BestRunExplainModel\", \"ModelExplanationDataSetSetup\", \"PickSurrogateModel\", \"EngineeredFeatureExplanations\", \"EngineeredFeatureExplanations\", \"RawFeaturesExplanations\", \"RawFeaturesExplanations\", \"BestRunExplainModel\"]}]}, {\"name\": \"experiment_status_description\", \"run_id\": \"AutoML_0f6b24f8-c742-4dec-8fb8-606c34a7e53a\", \"categories\": [0, 1, 2, 3, 4, 5, 6, 7, 8, 9, 10, 11, 12, 13], \"series\": [{\"data\": [\"Gathering dataset statistics.\", \"Generating features for the dataset.\", \"Beginning to fit featurizers and featurize the dataset.\", \"Completed fit featurizers and featurizing the dataset.\", \"Generating individually featurized CV splits.\", \"Beginning model selection.\", \"Best run model explanations started\", \"Model explanations data setup completed\", \"Choosing LightGBM as the surrogate model for explanations\", \"Computation of engineered features started\", \"Computation of engineered features completed\", \"Computation of raw features started\", \"Computation of raw features completed\", \"Best run model explanations completed\"]}]}, {\"name\": \"precision_score_micro\", \"run_id\": \"AutoML_0f6b24f8-c742-4dec-8fb8-606c34a7e53a\", \"categories\": [0], \"series\": [{\"data\": [0.9021739130434782]}]}, {\"name\": \"recall_score_micro\", \"run_id\": \"AutoML_0f6b24f8-c742-4dec-8fb8-606c34a7e53a\", \"categories\": [0], \"series\": [{\"data\": [0.9021739130434782]}]}, {\"name\": \"recall_score_weighted\", \"run_id\": \"AutoML_0f6b24f8-c742-4dec-8fb8-606c34a7e53a\", \"categories\": [0], \"series\": [{\"data\": [0.9021739130434782]}]}, {\"name\": \"average_precision_score_micro\", \"run_id\": \"AutoML_0f6b24f8-c742-4dec-8fb8-606c34a7e53a\", \"categories\": [0], \"series\": [{\"data\": [0.9381393483274991]}]}, {\"name\": \"average_precision_score_macro\", \"run_id\": \"AutoML_0f6b24f8-c742-4dec-8fb8-606c34a7e53a\", \"categories\": [0], \"series\": [{\"data\": [0.9099145117143029]}]}, {\"name\": \"average_precision_score_weighted\", \"run_id\": \"AutoML_0f6b24f8-c742-4dec-8fb8-606c34a7e53a\", \"categories\": [0], \"series\": [{\"data\": [0.9329526651243603]}]}, {\"name\": \"recall_score_macro\", \"run_id\": \"AutoML_0f6b24f8-c742-4dec-8fb8-606c34a7e53a\", \"categories\": [0], \"series\": [{\"data\": [0.8612471637839285]}]}, {\"name\": \"matthews_correlation\", \"run_id\": \"AutoML_0f6b24f8-c742-4dec-8fb8-606c34a7e53a\", \"categories\": [0], \"series\": [{\"data\": [0.758838088161985]}]}, {\"name\": \"precision_score_macro\", \"run_id\": \"AutoML_0f6b24f8-c742-4dec-8fb8-606c34a7e53a\", \"categories\": [0], \"series\": [{\"data\": [0.9033207216759847]}]}, {\"name\": \"norm_macro_recall\", \"run_id\": \"AutoML_0f6b24f8-c742-4dec-8fb8-606c34a7e53a\", \"categories\": [0], \"series\": [{\"data\": [0.722494327567857]}]}, {\"name\": \"AUC_micro\", \"run_id\": \"AutoML_0f6b24f8-c742-4dec-8fb8-606c34a7e53a\", \"categories\": [0], \"series\": [{\"data\": [0.9345775594057084]}]}, {\"name\": \"precision_score_weighted\", \"run_id\": \"AutoML_0f6b24f8-c742-4dec-8fb8-606c34a7e53a\", \"categories\": [0], \"series\": [{\"data\": [0.9079351540907605]}]}, {\"name\": \"f1_score_weighted\", \"run_id\": \"AutoML_0f6b24f8-c742-4dec-8fb8-606c34a7e53a\", \"categories\": [0], \"series\": [{\"data\": [0.8965596381638361]}]}, {\"name\": \"log_loss\", \"run_id\": \"AutoML_0f6b24f8-c742-4dec-8fb8-606c34a7e53a\", \"categories\": [0], \"series\": [{\"data\": [0.3681620550791397]}]}, {\"name\": \"AUC_macro\", \"run_id\": \"AutoML_0f6b24f8-c742-4dec-8fb8-606c34a7e53a\", \"categories\": [0], \"series\": [{\"data\": [0.9136935405651982]}]}, {\"name\": \"f1_score_micro\", \"run_id\": \"AutoML_0f6b24f8-c742-4dec-8fb8-606c34a7e53a\", \"categories\": [0], \"series\": [{\"data\": [0.9021739130434782]}]}, {\"name\": \"AUC_weighted\", \"run_id\": \"AutoML_0f6b24f8-c742-4dec-8fb8-606c34a7e53a\", \"categories\": [0], \"series\": [{\"data\": [0.9136935405651985]}]}, {\"name\": \"accuracy\", \"run_id\": \"AutoML_0f6b24f8-c742-4dec-8fb8-606c34a7e53a\", \"categories\": [0], \"series\": [{\"data\": [0.9021739130434782]}]}, {\"name\": \"weighted_accuracy\", \"run_id\": \"AutoML_0f6b24f8-c742-4dec-8fb8-606c34a7e53a\", \"categories\": [0], \"series\": [{\"data\": [0.9281093611117506]}]}, {\"name\": \"f1_score_macro\", \"run_id\": \"AutoML_0f6b24f8-c742-4dec-8fb8-606c34a7e53a\", \"categories\": [0], \"series\": [{\"data\": [0.8688648981246432]}]}, {\"name\": \"balanced_accuracy\", \"run_id\": \"AutoML_0f6b24f8-c742-4dec-8fb8-606c34a7e53a\", \"categories\": [0], \"series\": [{\"data\": [0.8612471637839285]}]}], \"run_logs\": \"\\nRun is completed.\", \"graph\": {}, \"widget_settings\": {\"childWidgetDisplay\": \"popup\", \"send_telemetry\": false, \"log_level\": \"INFO\", \"sdk_version\": \"1.19.0\"}, \"loading\": false}"
          },
          "metadata": {}
        }
      ],
      "execution_count": 10,
      "metadata": {
        "gather": {
          "logged": 1610721281542
        },
        "jupyter": {
          "outputs_hidden": false,
          "source_hidden": false
        },
        "nteract": {
          "transient": {
            "deleting": false
          }
        }
      }
    },
    {
      "cell_type": "markdown",
      "source": [
        "## Best Model\n",
        "\n",
        "TODO: In the cell below, get the best model from the automl experiments and display all the properties of the model.\n",
        "\n"
      ],
      "metadata": {}
    },
    {
      "cell_type": "code",
      "source": [
        "best_automl_run,fitted_model = remote_run.get_output()\r\n",
        "print(best_automl_run)\r\n",
        "print(fitted_model)"
      ],
      "outputs": [
        {
          "output_type": "stream",
          "name": "stdout",
          "text": [
            "Run(Experiment: Heart-Disease-Predection,\n",
            "Id: AutoML_0f6b24f8-c742-4dec-8fb8-606c34a7e53a_19,\n",
            "Type: azureml.scriptrun,\n",
            "Status: Completed)\n",
            "Pipeline(memory=None,\n",
            "         steps=[('datatransformer',\n",
            "                 DataTransformer(enable_dnn=None, enable_feature_sweeping=None,\n",
            "                                 feature_sweeping_config=None,\n",
            "                                 feature_sweeping_timeout=None,\n",
            "                                 featurization_config=None, force_text_dnn=None,\n",
            "                                 is_cross_validation=None,\n",
            "                                 is_onnx_compatible=None, logger=None,\n",
            "                                 observer=None, task=None, working_dir=None)),\n",
            "                ('prefittedsoftvotingclassifier',...\n",
            "                                                                                                min_child_weight=0,\n",
            "                                                                                                min_split_gain=0.42105263157894735,\n",
            "                                                                                                n_estimators=25,\n",
            "                                                                                                n_jobs=1,\n",
            "                                                                                                num_leaves=191,\n",
            "                                                                                                objective=None,\n",
            "                                                                                                random_state=None,\n",
            "                                                                                                reg_alpha=0.15789473684210525,\n",
            "                                                                                                reg_lambda=0,\n",
            "                                                                                                silent=True,\n",
            "                                                                                                subsample=1,\n",
            "                                                                                                subsample_for_bin=200000,\n",
            "                                                                                                subsample_freq=0,\n",
            "                                                                                                verbose=-10))],\n",
            "                                                                     verbose=False))],\n",
            "                                               flatten_transform=None,\n",
            "                                               weights=[0.125, 0.125, 0.125,\n",
            "                                                        0.25, 0.125, 0.125,\n",
            "                                                        0.125]))],\n",
            "         verbose=False)\n"
          ]
        }
      ],
      "execution_count": 11,
      "metadata": {
        "gather": {
          "logged": 1610721288068
        },
        "jupyter": {
          "outputs_hidden": false,
          "source_hidden": false
        },
        "nteract": {
          "transient": {
            "deleting": false
          }
        }
      }
    },
    {
      "cell_type": "code",
      "source": [
        "best_automl_run"
      ],
      "outputs": [
        {
          "output_type": "execute_result",
          "execution_count": 12,
          "data": {
            "text/plain": "Run(Experiment: Heart-Disease-Predection,\nId: AutoML_0f6b24f8-c742-4dec-8fb8-606c34a7e53a_19,\nType: azureml.scriptrun,\nStatus: Completed)",
            "text/html": "<table style=\"width:100%\"><tr><th>Experiment</th><th>Id</th><th>Type</th><th>Status</th><th>Details Page</th><th>Docs Page</th></tr><tr><td>Heart-Disease-Predection</td><td>AutoML_0f6b24f8-c742-4dec-8fb8-606c34a7e53a_19</td><td>azureml.scriptrun</td><td>Completed</td><td><a href=\"https://ml.azure.com/experiments/Heart-Disease-Predection/runs/AutoML_0f6b24f8-c742-4dec-8fb8-606c34a7e53a_19?wsid=/subscriptions/f9d5a085-54dc-4215-9ba6-dad5d86e60a0/resourcegroups/aml-quickstarts-134767/workspaces/quick-starts-ws-134767\" target=\"_blank\" rel=\"noopener\">Link to Azure Machine Learning studio</a></td><td><a href=\"https://docs.microsoft.com/en-us/python/api/azureml-core/azureml.core.run.Run?view=azure-ml-py\" target=\"_blank\" rel=\"noopener\">Link to Documentation</a></td></tr></table>"
          },
          "metadata": {}
        }
      ],
      "execution_count": 12,
      "metadata": {
        "collapsed": true,
        "jupyter": {
          "source_hidden": false,
          "outputs_hidden": false
        },
        "nteract": {
          "transient": {
            "deleting": false
          }
        },
        "gather": {
          "logged": 1610721450007
        }
      }
    },
    {
      "cell_type": "code",
      "source": [
        "best_automl_run.get_metrics()"
      ],
      "outputs": [
        {
          "output_type": "execute_result",
          "execution_count": 13,
          "data": {
            "text/plain": "{'precision_score_micro': 0.9021739130434782,\n 'balanced_accuracy': 0.8612471637839285,\n 'average_precision_score_micro': 0.9381393483274991,\n 'AUC_weighted': 0.9136935405651985,\n 'weighted_accuracy': 0.9281093611117506,\n 'AUC_micro': 0.9345775594057084,\n 'recall_score_macro': 0.8612471637839285,\n 'recall_score_weighted': 0.9021739130434782,\n 'precision_score_weighted': 0.9079351540907605,\n 'AUC_macro': 0.9136935405651982,\n 'matthews_correlation': 0.758838088161985,\n 'norm_macro_recall': 0.722494327567857,\n 'recall_score_micro': 0.9021739130434782,\n 'accuracy': 0.9021739130434782,\n 'average_precision_score_macro': 0.9099145117143029,\n 'precision_score_macro': 0.9033207216759847,\n 'average_precision_score_weighted': 0.9329526651243603,\n 'f1_score_macro': 0.8688648981246432,\n 'log_loss': 0.3681620550791397,\n 'f1_score_weighted': 0.8965596381638361,\n 'f1_score_micro': 0.9021739130434782,\n 'confusion_matrix': 'aml://artifactId/ExperimentRun/dcid.AutoML_0f6b24f8-c742-4dec-8fb8-606c34a7e53a_19/confusion_matrix',\n 'accuracy_table': 'aml://artifactId/ExperimentRun/dcid.AutoML_0f6b24f8-c742-4dec-8fb8-606c34a7e53a_19/accuracy_table'}"
          },
          "metadata": {}
        }
      ],
      "execution_count": 13,
      "metadata": {
        "collapsed": true,
        "jupyter": {
          "source_hidden": false,
          "outputs_hidden": false
        },
        "nteract": {
          "transient": {
            "deleting": false
          }
        },
        "gather": {
          "logged": 1610721461628
        }
      }
    },
    {
      "cell_type": "code",
      "source": [
        "best_automl_run.tags"
      ],
      "outputs": [
        {
          "output_type": "execute_result",
          "execution_count": 30,
          "data": {
            "text/plain": "{'_aml_system_azureml.automlComponent': 'AutoML',\n '_aml_system_ComputeTargetStatus': '{\"AllocationState\":\"steady\",\"PreparingNodeCount\":0,\"RunningNodeCount\":2,\"CurrentNodeCount\":4}',\n 'ensembled_iterations': '[2, 18, 4, 3, 8, 15, 16]',\n 'ensembled_algorithms': \"['RandomForest', 'LightGBM', 'RandomForest', 'RandomForest', 'RandomForest', 'LightGBM', 'LightGBM']\",\n 'ensemble_weights': '[0.125, 0.125, 0.125, 0.25, 0.125, 0.125, 0.125]',\n 'best_individual_pipeline_score': '0.8798418972332016',\n 'best_individual_iteration': '2',\n '_aml_system_automl_is_child_run_end_telemetry_event_logged': 'True'}"
          },
          "metadata": {}
        }
      ],
      "execution_count": 30,
      "metadata": {
        "collapsed": true,
        "jupyter": {
          "source_hidden": false,
          "outputs_hidden": false
        },
        "nteract": {
          "transient": {
            "deleting": false
          }
        },
        "gather": {
          "logged": 1610723726577
        }
      }
    },
    {
      "cell_type": "code",
      "source": [
        "#TODO: Save the best model\r\n",
        "best_automl_run,onnx_model =remote_run.get_output(return_onnx_model=True)\r\n",
        "OnnxConverter.save_onnx_model(onnx_model,file_path=\"./automl_model.onnx\")"
      ],
      "outputs": [],
      "execution_count": 15,
      "metadata": {
        "gather": {
          "logged": 1610722547241
        },
        "jupyter": {
          "outputs_hidden": false,
          "source_hidden": false
        },
        "nteract": {
          "transient": {
            "deleting": false
          }
        }
      }
    },
    {
      "cell_type": "markdown",
      "source": [
        "## Model Deployment\n",
        "\n",
        "Remember you have to deploy only one of the two models you trained.. Perform the steps in the rest of this notebook only if you wish to deploy this model.\n",
        "\n",
        "TODO: In the cell below, register the model, create an inference config and deploy the model as a web service."
      ],
      "metadata": {}
    },
    {
      "cell_type": "code",
      "source": [
        "#Register the best automl model,\r\n",
        "automl_model =remote_run.register_model(model_name = 'automl_best_model')"
      ],
      "outputs": [],
      "execution_count": 16,
      "metadata": {
        "gather": {
          "logged": 1610722553759
        },
        "jupyter": {
          "outputs_hidden": false,
          "source_hidden": false
        },
        "nteract": {
          "transient": {
            "deleting": false
          }
        }
      }
    },
    {
      "cell_type": "code",
      "source": [
        "script_file_name ='inference/sscore.py'\r\n",
        "best_automl_run.download_file('outputs/scoring_file_v_1_0_0.py','inference/sscore.py')"
      ],
      "outputs": [],
      "execution_count": 17,
      "metadata": {
        "collapsed": true,
        "jupyter": {
          "source_hidden": false,
          "outputs_hidden": false
        },
        "nteract": {
          "transient": {
            "deleting": false
          }
        },
        "gather": {
          "logged": 1610722560399
        }
      }
    },
    {
      "cell_type": "code",
      "source": [
        "inference_config = InferenceConfig(entry_script=script_file_name, environment=best_automl_run.get_environment())"
      ],
      "outputs": [],
      "execution_count": 18,
      "metadata": {
        "collapsed": true,
        "jupyter": {
          "source_hidden": false,
          "outputs_hidden": false
        },
        "nteract": {
          "transient": {
            "deleting": false
          }
        },
        "gather": {
          "logged": 1610722565276
        }
      }
    },
    {
      "cell_type": "code",
      "source": [
        "#Local Deployment\r\n",
        "from azureml.core.webservice import LocalWebservice\r\n",
        "local_config = LocalWebservice.deploy_configuration(port=9001)\r\n",
        "local_service = Model.deploy(ws, \"test\", [automl_model], inference_config, local_config)\r\n",
        "local_service.wait_for_deployment(show_output=True)\r\n",
        "\r\n",
        "#Set up the deployment_config as webservice\r\n",
        "aci_config = AciWebservice.deploy_configuration(cpu_cores=1, memory_gb=1, enable_app_insights=True)\r\n",
        "\r\n",
        "#Deploy the model\r\n",
        "service = Model.deploy(\r\n",
        "    workspace = ws,\r\n",
        "    name = \"heart-failure-model\",\r\n",
        "    models = [automl_model],\r\n",
        "    inference_config = inference_config,\r\n",
        "    deployment_config = aci_config, overwrite=True)\r\n",
        "\r\n",
        "#wait until deployment is complete\r\n",
        "service.wait_for_deployment(show_output = True)"
      ],
      "outputs": [
        {
          "output_type": "stream",
          "name": "stdout",
          "text": [
            "Downloading model automl_best_model:1 to /tmp/azureml_lso5x4f3/automl_best_model/1\n",
            "Generating Docker build context.\n",
            "Package creation Succeeded\n",
            "Logging into Docker registry viennaglobal.azurecr.io\n",
            "Logging into Docker registry viennaglobal.azurecr.io\n",
            "Building Docker image from Dockerfile...\n",
            "Step 1/5 : FROM viennaglobal.azurecr.io/azureml/azureml_4f3cee89203e005745d1830c04fe722a\n",
            " ---> c354c32ff2d1\n",
            "Step 2/5 : COPY azureml-app /var/azureml-app\n",
            " ---> 84682dfe70b6\n",
            "Step 3/5 : RUN mkdir -p '/var/azureml-app' && echo eyJhY2NvdW50Q29udGV4dCI6eyJzdWJzY3JpcHRpb25JZCI6ImY5ZDVhMDg1LTU0ZGMtNDIxNS05YmE2LWRhZDVkODZlNjBhMCIsInJlc291cmNlR3JvdXBOYW1lIjoiYW1sLXF1aWNrc3RhcnRzLTEzNDc2NyIsImFjY291bnROYW1lIjoicXVpY2stc3RhcnRzLXdzLTEzNDc2NyIsIndvcmtzcGFjZUlkIjoiNWQxNWJiYzAtNmRmYy00ODg4LWFjZWQtNGU0OGM2N2RkZjk0In0sIm1vZGVscyI6e30sIm1vZGVsc0luZm8iOnt9fQ== | base64 --decode > /var/azureml-app/model_config_map.json\n",
            " ---> Running in 851ebd0d5871\n",
            " ---> cb05ac954e09\n",
            "Step 4/5 : RUN mv '/var/azureml-app/tmpc70l7slt.py' /var/azureml-app/main.py\n",
            " ---> Running in 2d9394cf1fee\n",
            " ---> 3075d4b8a9d6\n",
            "Step 5/5 : CMD [\"runsvdir\",\"/var/runit\"]\n",
            " ---> Running in 872e35be043b\n",
            " ---> 8278e96b156c\n",
            "Successfully built 8278e96b156c\n",
            "Successfully tagged test:latest\n",
            "Container has been successfully cleaned up.\n",
            "Image sha256:dbce539fcc5eadc7c7e9b7b2ee56432f637751bb8f526059f89ab715a1270cf6 successfully removed.\n",
            "Starting Docker container...\n",
            "Docker container running.\n",
            "Checking container health...\n",
            "Local webservice is running at http://localhost:9001\n",
            "Tips: You can try get_logs(): https://aka.ms/debugimage#dockerlog or local deployment: https://aka.ms/debugimage#debug-locally to debug if deployment takes longer than 10 minutes.\n",
            "Running.............................................\n",
            "Succeeded\n",
            "ACI service creation operation finished, operation \"Succeeded\"\n"
          ]
        }
      ],
      "execution_count": 31,
      "metadata": {
        "collapsed": true,
        "jupyter": {
          "source_hidden": false,
          "outputs_hidden": false
        },
        "nteract": {
          "transient": {
            "deleting": false
          }
        },
        "gather": {
          "logged": 1610724267346
        }
      }
    },
    {
      "cell_type": "code",
      "source": [
        "print(\"Scoring uri:\" , service.scoring_uri)"
      ],
      "outputs": [
        {
          "output_type": "stream",
          "name": "stdout",
          "text": [
            "Scoring uri: http://0534fc25-0720-4538-8e65-22b6c2ae6564.southcentralus.azurecontainer.io/score\n"
          ]
        }
      ],
      "execution_count": 32,
      "metadata": {
        "collapsed": true,
        "jupyter": {
          "source_hidden": false,
          "outputs_hidden": false
        },
        "nteract": {
          "transient": {
            "deleting": false
          }
        },
        "gather": {
          "logged": 1610724322195
        }
      }
    },
    {
      "cell_type": "markdown",
      "source": [
        "TODO: In the cell below, send a request to the web service you deployed to test it."
      ],
      "metadata": {
        "collapsed": true,
        "gather": {
          "logged": 1598431657736
        },
        "jupyter": {
          "outputs_hidden": false,
          "source_hidden": false
        },
        "nteract": {
          "transient": {
            "deleting": false
          }
        }
      }
    },
    {
      "cell_type": "code",
      "source": [
        "scoring_uri = 'http://0534fc25-0720-4538-8e65-22b6c2ae6564.southcentralus.azurecontainer.io/score'\r\n",
        "headers = {'Content-Type':'application/json'}\r\n",
        "\r\n",
        "input_data = json.dumps({'data':[{\r\n",
        "    'age':75,\r\n",
        "    'anaemia':0,\r\n",
        "    'creatinine_phosphokinase':582,\r\n",
        "    'diabetes':0,\r\n",
        "    'ejection_fraction':20,\r\n",
        "    'high_blood_pressure':1,\r\n",
        "    'platelets':265000,\r\n",
        "    'serum_creatinine':1.9,\r\n",
        "    'serum_sodium':130,\r\n",
        "    'sex':1,\r\n",
        "    'smoking':0,\r\n",
        "    'time':4}\r\n",
        "    ]\r\n",
        "        })\r\n",
        "\r\n",
        "input_data2 = json.dumps({'data':[{\r\n",
        "    'age':40,\r\n",
        "    'anaemia':0,\r\n",
        "    'creatinine_phosphokinase':321,\r\n",
        "    'diabetes':0,\r\n",
        "    'ejection_fraction':35,\r\n",
        "    'high_blood_pressure':0,\r\n",
        "    'platelets':265000,\r\n",
        "    'serum_creatinine':1,\r\n",
        "    'serum_sodium':130,\r\n",
        "    'sex':1,\r\n",
        "    'smoking':0,\r\n",
        "    'time':198}\r\n",
        "    ]\r\n",
        "        })\r\n",
        "\r\n",
        "\r\n",
        "response = requests.post(scoring_uri, data=input_data, headers=headers)\r\n",
        "\r\n",
        "print(\"Result:\",response.text)"
      ],
      "outputs": [
        {
          "output_type": "stream",
          "name": "stdout",
          "text": [
            "Result: \"{\\\"result\\\": [1]}\"\n"
          ]
        }
      ],
      "execution_count": 33,
      "metadata": {
        "collapsed": true,
        "jupyter": {
          "source_hidden": false,
          "outputs_hidden": false
        },
        "nteract": {
          "transient": {
            "deleting": false
          }
        },
        "gather": {
          "logged": 1610724361016
        }
      }
    },
    {
      "cell_type": "markdown",
      "source": [
        "TODO: In the cell below, print the logs of the web service and delete the service"
      ],
      "metadata": {
        "collapsed": true,
        "gather": {
          "logged": 1598432765711
        },
        "jupyter": {
          "outputs_hidden": false,
          "source_hidden": false
        },
        "nteract": {
          "transient": {
            "deleting": false
          }
        }
      }
    },
    {
      "cell_type": "code",
      "source": [
        "#Print the webservice logs\r\n",
        "print(service.get_logs())"
      ],
      "outputs": [
        {
          "output_type": "stream",
          "name": "stdout",
          "text": [
            "2021-01-15T15:24:10,073655519+00:00 - rsyslog/run \n",
            "2021-01-15T15:24:10,073877616+00:00 - gunicorn/run \n",
            "2021-01-15T15:24:10,073877716+00:00 - iot-server/run \n",
            "2021-01-15T15:24:10,161732106+00:00 - nginx/run \n",
            "/usr/sbin/nginx: /azureml-envs/azureml_8eff28b157f42edcd2424a5aae6c8074/lib/libcrypto.so.1.0.0: no version information available (required by /usr/sbin/nginx)\n",
            "/usr/sbin/nginx: /azureml-envs/azureml_8eff28b157f42edcd2424a5aae6c8074/lib/libcrypto.so.1.0.0: no version information available (required by /usr/sbin/nginx)\n",
            "/usr/sbin/nginx: /azureml-envs/azureml_8eff28b157f42edcd2424a5aae6c8074/lib/libssl.so.1.0.0: no version information available (required by /usr/sbin/nginx)\n",
            "/usr/sbin/nginx: /azureml-envs/azureml_8eff28b157f42edcd2424a5aae6c8074/lib/libssl.so.1.0.0: no version information available (required by /usr/sbin/nginx)\n",
            "/usr/sbin/nginx: /azureml-envs/azureml_8eff28b157f42edcd2424a5aae6c8074/lib/libssl.so.1.0.0: no version information available (required by /usr/sbin/nginx)\n",
            "EdgeHubConnectionString and IOTEDGE_IOTHUBHOSTNAME are not set. Exiting...\n",
            "rsyslogd: /azureml-envs/azureml_8eff28b157f42edcd2424a5aae6c8074/lib/libuuid.so.1: no version information available (required by rsyslogd)\n",
            "2021-01-15T15:24:10,351855486+00:00 - iot-server/finish 1 0\n",
            "2021-01-15T15:24:10,353023969+00:00 - Exit code 1 is normal. Not restarting iot-server.\n",
            "Starting gunicorn 19.9.0\n",
            "Listening at: http://127.0.0.1:31311 (13)\n",
            "Using worker: sync\n",
            "worker timeout is set to 300\n",
            "Booting worker with pid: 42\n",
            "SPARK_HOME not set. Skipping PySpark Initialization.\n",
            "Generating new fontManager, this may take some time...\n",
            "Initializing logger\n",
            "2021-01-15 15:24:11,994 | root | INFO | Starting up app insights client\n",
            "Starting up app insights client\n",
            "2021-01-15 15:24:11,995 | root | INFO | Starting up request id generator\n",
            "Starting up request id generator\n",
            "2021-01-15 15:24:11,995 | root | INFO | Starting up app insight hooks\n",
            "Starting up app insight hooks\n",
            "2021-01-15 15:24:11,995 | root | INFO | Invoking user's init function\n",
            "Invoking user's init function\n",
            "2021-01-15 15:24:16,418 | root | INFO | Users's init has completed successfully\n",
            "Users's init has completed successfully\n",
            "2021-01-15 15:24:16,422 | root | INFO | Skipping middleware: dbg_model_info as it's not enabled.\n",
            "Skipping middleware: dbg_model_info as it's not enabled.\n",
            "2021-01-15 15:24:16,423 | root | INFO | Skipping middleware: dbg_resource_usage as it's not enabled.\n",
            "Skipping middleware: dbg_resource_usage as it's not enabled.\n",
            "2021-01-15 15:24:16,425 | root | INFO | Scoring timeout is found from os.environ: 60000 ms\n",
            "Scoring timeout is found from os.environ: 60000 ms\n",
            "2021-01-15 15:24:23,311 | root | INFO | 200\n",
            "200\n",
            "127.0.0.1 - - [15/Jan/2021:15:24:23 +0000] \"GET /swagger.json HTTP/1.0\" 200 2868 \"-\" \"Go-http-client/1.1\"\n",
            "2021-01-15 15:24:27,084 | root | INFO | 200\n",
            "200\n",
            "127.0.0.1 - - [15/Jan/2021:15:24:27 +0000] \"GET /swagger.json HTTP/1.0\" 200 2868 \"-\" \"Go-http-client/1.1\"\n",
            "2021-01-15 15:26:00,810 | root | INFO | Validation Request Content-Type\n",
            "Validation Request Content-Type\n",
            "2021-01-15 15:26:00,811 | root | INFO | \tHost: localhost:5001\n",
            "\tHost: localhost:5001\n",
            "2021-01-15 15:26:00,811 | root | INFO | \tX-Real-Ip: 127.0.0.1\n",
            "\tX-Real-Ip: 127.0.0.1\n",
            "2021-01-15 15:26:00,811 | root | INFO | \tX-Forwarded-For: 127.0.0.1\n",
            "\tX-Forwarded-For: 127.0.0.1\n",
            "2021-01-15 15:26:00,811 | root | INFO | \tX-Forwarded-Proto: http\n",
            "\tX-Forwarded-Proto: http\n",
            "2021-01-15 15:26:00,812 | root | INFO | \tConnection: close\n",
            "\tConnection: close\n",
            "2021-01-15 15:26:00,812 | root | INFO | \tContent-Length: 238\n",
            "\tContent-Length: 238\n",
            "2021-01-15 15:26:00,812 | root | INFO | \tUser-Agent: python-requests/2.25.0\n",
            "\tUser-Agent: python-requests/2.25.0\n",
            "2021-01-15 15:26:00,812 | root | INFO | \tAccept: */*\n",
            "\tAccept: */*\n",
            "2021-01-15 15:26:00,812 | root | INFO | \tAccept-Encoding: gzip, deflate\n",
            "\tAccept-Encoding: gzip, deflate\n",
            "2021-01-15 15:26:00,812 | root | INFO | \tContent-Type: application/json\n",
            "\tContent-Type: application/json\n",
            "2021-01-15 15:26:00,812 | root | INFO | \tX-Ms-Request-Id: 4af9629f-208c-4995-a047-a00e0e4df7c3\n",
            "\tX-Ms-Request-Id: 4af9629f-208c-4995-a047-a00e0e4df7c3\n",
            "2021-01-15 15:26:00,812 | root | INFO | Scoring Timer is set to 60.0 seconds\n",
            "Scoring Timer is set to 60.0 seconds\n",
            "2021-01-15 15:26:00,862 | root | INFO | 200\n",
            "200\n",
            "127.0.0.1 - - [15/Jan/2021:15:26:00 +0000] \"POST /score HTTP/1.0\" 200 19 \"-\" \"python-requests/2.25.0\"\n",
            "\n"
          ]
        }
      ],
      "execution_count": 34,
      "metadata": {
        "collapsed": true,
        "jupyter": {
          "source_hidden": false,
          "outputs_hidden": false
        },
        "nteract": {
          "transient": {
            "deleting": false
          }
        },
        "gather": {
          "logged": 1610724371064
        }
      }
    },
    {
      "cell_type": "code",
      "source": [
        "#Delete the service\r\n",
        "service.delete()"
      ],
      "outputs": [],
      "execution_count": 35,
      "metadata": {
        "collapsed": true,
        "jupyter": {
          "source_hidden": false,
          "outputs_hidden": false
        },
        "nteract": {
          "transient": {
            "deleting": false
          }
        },
        "gather": {
          "logged": 1610724483830
        }
      }
    }
  ],
  "metadata": {
    "kernel_info": {
      "name": "python3"
    },
    "kernelspec": {
      "name": "python3",
      "language": "python",
      "display_name": "Python 3"
    },
    "language_info": {
      "name": "python",
      "version": "3.6.9",
      "mimetype": "text/x-python",
      "codemirror_mode": {
        "name": "ipython",
        "version": 3
      },
      "pygments_lexer": "ipython3",
      "nbconvert_exporter": "python",
      "file_extension": ".py"
    },
    "nteract": {
      "version": "nteract-front-end@1.0.0"
    }
  },
  "nbformat": 4,
  "nbformat_minor": 2
}